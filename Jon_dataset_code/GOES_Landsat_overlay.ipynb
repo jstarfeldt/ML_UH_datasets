{
 "cells": [
  {
   "cell_type": "code",
   "execution_count": 1,
   "id": "4c7aa4d0-6a8e-4854-a14e-8c8277d11491",
   "metadata": {},
   "outputs": [],
   "source": [
    "import xarray as xr\n",
    "import pandas as pd\n",
    "import numpy as np\n",
    "import ee\n",
    "import geemap\n",
    "import geetools\n",
    "from datetime import datetime\n",
    "import pytz"
   ]
  },
  {
   "cell_type": "code",
   "execution_count": 2,
   "id": "99e606c7-ad3d-4713-b320-d0cb0c8b9db1",
   "metadata": {},
   "outputs": [
    {
     "data": {
      "text/html": [
       "\n",
       "            <style>\n",
       "                .geemap-dark {\n",
       "                    --jp-widgets-color: white;\n",
       "                    --jp-widgets-label-color: white;\n",
       "                    --jp-ui-font-color1: white;\n",
       "                    --jp-layout-color2: #454545;\n",
       "                    background-color: #383838;\n",
       "                }\n",
       "\n",
       "                .geemap-dark .jupyter-button {\n",
       "                    --jp-layout-color3: #383838;\n",
       "                }\n",
       "\n",
       "                .geemap-colab {\n",
       "                    background-color: var(--colab-primary-surface-color, white);\n",
       "                }\n",
       "\n",
       "                .geemap-colab .jupyter-button {\n",
       "                    --jp-layout-color3: var(--colab-primary-surface-color, white);\n",
       "                }\n",
       "            </style>\n",
       "            "
      ],
      "text/plain": [
       "<IPython.core.display.HTML object>"
      ]
     },
     "metadata": {},
     "output_type": "display_data"
    }
   ],
   "source": [
    "ee.Initialize(project='ee-jonstar')"
   ]
  },
  {
   "cell_type": "code",
   "execution_count": 3,
   "id": "0098fa98-fd5d-47e6-92b6-0974cf57e583",
   "metadata": {},
   "outputs": [
    {
     "data": {
      "text/html": [
       "\n",
       "            <style>\n",
       "                .geemap-dark {\n",
       "                    --jp-widgets-color: white;\n",
       "                    --jp-widgets-label-color: white;\n",
       "                    --jp-ui-font-color1: white;\n",
       "                    --jp-layout-color2: #454545;\n",
       "                    background-color: #383838;\n",
       "                }\n",
       "\n",
       "                .geemap-dark .jupyter-button {\n",
       "                    --jp-layout-color3: #383838;\n",
       "                }\n",
       "\n",
       "                .geemap-colab {\n",
       "                    background-color: var(--colab-primary-surface-color, white);\n",
       "                }\n",
       "\n",
       "                .geemap-colab .jupyter-button {\n",
       "                    --jp-layout-color3: var(--colab-primary-surface-color, white);\n",
       "                }\n",
       "            </style>\n",
       "            "
      ],
      "text/plain": [
       "<IPython.core.display.HTML object>"
      ]
     },
     "metadata": {},
     "output_type": "display_data"
    }
   ],
   "source": [
    "#ee.Initialize(opt_url='https://earthengine-highvolume.googleapis.com')"
   ]
  },
  {
   "cell_type": "code",
   "execution_count": 4,
   "id": "30746ed2-1246-4a0a-a48d-62a8e7b100fc",
   "metadata": {},
   "outputs": [
    {
     "data": {
      "text/html": [
       "\n",
       "            <style>\n",
       "                .geemap-dark {\n",
       "                    --jp-widgets-color: white;\n",
       "                    --jp-widgets-label-color: white;\n",
       "                    --jp-ui-font-color1: white;\n",
       "                    --jp-layout-color2: #454545;\n",
       "                    background-color: #383838;\n",
       "                }\n",
       "\n",
       "                .geemap-dark .jupyter-button {\n",
       "                    --jp-layout-color3: #383838;\n",
       "                }\n",
       "\n",
       "                .geemap-colab {\n",
       "                    background-color: var(--colab-primary-surface-color, white);\n",
       "                }\n",
       "\n",
       "                .geemap-colab .jupyter-button {\n",
       "                    --jp-layout-color3: var(--colab-primary-surface-color, white);\n",
       "                }\n",
       "            </style>\n",
       "            "
      ],
      "text/plain": [
       "<IPython.core.display.HTML object>"
      ]
     },
     "metadata": {},
     "output_type": "display_data"
    }
   ],
   "source": [
    "edt = pytz.timezone('US/Eastern')\n",
    "#mdt = pytz.timezone('US/Mountain')\n",
    "az = pytz.timezone('US/Arizona')\n",
    "\n",
    "\"\"\"\n",
    "Convert datetimes from your current timezone to a desired timezone.\n",
    "\n",
    "dt (datetime): python datetime object\n",
    "to_timezone (pytz timezone): timezone to convert to\n",
    "local_timezone (pytz timezone): the timezone you are currently in. Python uses your computer's internal clock, so whatever your computer is on.\n",
    "\"\"\"\n",
    "def toTimezone(dt, to_timezone, local_timezone=edt):\n",
    "    return local_timezone.normalize(local_timezone.localize(dt)).astimezone(to_timezone)"
   ]
  },
  {
   "cell_type": "markdown",
   "id": "06bf5ed4-7e65-47ec-b7e4-ff83f435a617",
   "metadata": {},
   "source": [
    "## CONUS Geometry"
   ]
  },
  {
   "cell_type": "code",
   "execution_count": 5,
   "id": "75d11fe2-a4fd-44a8-8535-c2bdcded6813",
   "metadata": {},
   "outputs": [
    {
     "data": {
      "text/html": [
       "\n",
       "            <style>\n",
       "                .geemap-dark {\n",
       "                    --jp-widgets-color: white;\n",
       "                    --jp-widgets-label-color: white;\n",
       "                    --jp-ui-font-color1: white;\n",
       "                    --jp-layout-color2: #454545;\n",
       "                    background-color: #383838;\n",
       "                }\n",
       "\n",
       "                .geemap-dark .jupyter-button {\n",
       "                    --jp-layout-color3: #383838;\n",
       "                }\n",
       "\n",
       "                .geemap-colab {\n",
       "                    background-color: var(--colab-primary-surface-color, white);\n",
       "                }\n",
       "\n",
       "                .geemap-colab .jupyter-button {\n",
       "                    --jp-layout-color3: var(--colab-primary-surface-color, white);\n",
       "                }\n",
       "            </style>\n",
       "            "
      ],
      "text/plain": [
       "<IPython.core.display.HTML object>"
      ]
     },
     "metadata": {},
     "output_type": "display_data"
    }
   ],
   "source": [
    "conus = ee.ImageCollection(\"GRIDMET/DROUGHT\").filterDate('2000-01-01', '2001-01-01')\n",
    "geometry = conus.geometry();"
   ]
  },
  {
   "cell_type": "code",
   "execution_count": 41,
   "id": "9dcdea5d-4da1-41ba-81fe-c89540ba9992",
   "metadata": {},
   "outputs": [
    {
     "data": {
      "text/html": [
       "\n",
       "            <style>\n",
       "                .geemap-dark {\n",
       "                    --jp-widgets-color: white;\n",
       "                    --jp-widgets-label-color: white;\n",
       "                    --jp-ui-font-color1: white;\n",
       "                    --jp-layout-color2: #454545;\n",
       "                    background-color: #383838;\n",
       "                }\n",
       "\n",
       "                .geemap-dark .jupyter-button {\n",
       "                    --jp-layout-color3: #383838;\n",
       "                }\n",
       "\n",
       "                .geemap-colab {\n",
       "                    background-color: var(--colab-primary-surface-color, white);\n",
       "                }\n",
       "\n",
       "                .geemap-colab .jupyter-button {\n",
       "                    --jp-layout-color3: var(--colab-primary-surface-color, white);\n",
       "                }\n",
       "            </style>\n",
       "            "
      ],
      "text/plain": [
       "<IPython.core.display.HTML object>"
      ]
     },
     "metadata": {},
     "output_type": "display_data"
    }
   ],
   "source": [
    "\"\"\"\n",
    "Points of interest for each urban area.\n",
    "KEY:\n",
    "First and second points = Landsat\n",
    "Third point = Sentinel\n",
    "If the second point is zero, then there is only one Landsat image needed to cover that city and its surrounding area\n",
    "The third point is defined near the city center. A circular region of 200 km is created around the third point\n",
    "to filter Sentinel-1 images, ensuring all of the necessary images will be present.\n",
    "\"\"\"\n",
    "city_points = {\n",
    "    'DMV':[ee.Geometry.Point(-76.6122, 39.2904), 0, ee.Geometry.Point(-76.863, 39.063)],\n",
    "    'NYC':[ee.Geometry.Point(-73.274, 40.688), 0, ee.Geometry.Point(-73.979, 40.751)],\n",
    "    'Atlanta':[ee.Geometry.Point(-84.039, 34.155), ee.Geometry.Point(-84.485, 33.641), ee.Geometry.Point(-84.38, 33.748)],\n",
    "    'Miami':[ee.Geometry.Point(-80.96, 26.358), 0, ee.Geometry.Point(-80.267, 25.818)],\n",
    "    'Chicago':[ee.Geometry.Point(-88.037, 41.826), 0, ee.Geometry.Point(-87.74, 41.78)],\n",
    "    'Phoenix':[ee.Geometry.Point(-112.02, 33.46), 0, ee.Geometry.Point(-112.064, 33.487)],\n",
    "    'Denver':[ee.Geometry.Point(-104.6, 39.6696), 0, ee.Geometry.Point(-104.985, 39.729)],\n",
    "    'Seattle':[ee.Geometry.Point(-121.952, 47.546), 0, ee.Geometry.Point(-122.322, 47.59)],\n",
    "    'San_Francisco':[ee.Geometry.Point(-122.179, 37.745), 0, ee.Geometry.Point(-122.365, 37.745)],\n",
    "    'Los_Angeles':[ee.Geometry.Point(-118.365, 34.279), ee.Geometry.Point(-118.744, 33.383), ee.Geometry.Point(-122.365, 37.745)],\n",
    "    'Toronto':[ee.Geometry.Point(-80.273, 43.289), ee.Geometry.Point(-79.609, 44.187), ee.Geometry.Point(-79.46, 43.616)],\n",
    "    'Mexico_City':[ee.Geometry.Point(-99.101, 19.012), ee.Geometry.Point(-99.187, 20.084), ee.Geometry.Point(-99.129, 19.422)],\n",
    "    'Las_Vegas':[ee.Geometry.Point(-115.162, 36.154), 0, ee.Geometry.Point(-115.161, 36.154)],\n",
    "    'Salt_Lake_City':[ee.Geometry.Point(-111.896, 40.752), ee.Geometry.Point(-111.57, 41.37), ee.Geometry.Point(-111.896, 40.752)],\n",
    "    'Dallas':[ee.Geometry.Point(-96.858, 32.789), 0, ee.Geometry.Point(-96.968, 32.794)],\n",
    "    'Houston':[ee.Geometry.Point(-94.816, 30.034), ee.Geometry.Point(-95.356, 29.399), ee.Geometry.Point(-95.376, 29.758)],\n",
    "    'New_Orleans':[ee.Geometry.Point(-90.102, 29.947), 0, ee.Geometry.Point(-90.102, 29.947)],\n",
    "    'St_Louis':[ee.Geometry.Point(-90.505, 38.644), 0, ee.Geometry.Point(-90.205, 38.624)],\n",
    "    'Minneapolis':[ee.Geometry.Point(-93.248, 44.969), 0, ee.Geometry.Point(-93.248, 44.969)],\n",
    "    'Jacksonville':[ee.Geometry.Point(-81.357, 30.292), 0, ee.Geometry.Point(-81.651, 30.327)],\n",
    "    'Charlotte':[ee.Geometry.Point(-80.797, 35.028), ee.Geometry.Point(-80.573, 35.63), ee.Geometry.Point(-80.842, 35.218)],\n",
    "    'Philadelphia':[ee.Geometry.Point(-75.133, 39.938), 0, ee.Geometry.Point(-75.154, 39.939)],\n",
    "    'San_Diego':[ee.Geometry.Point(-117.088, 32.647), 0, ee.Geometry.Point(-117.093, 32.578)],\n",
    "    'San_Juan':[ee.Geometry.Point(-66.157, 18.392), 0, ee.Geometry.Point(-66.066, 18.407)],\n",
    "    'Montreal':[ee.Geometry.Point(-73.589, 45.523), 0, ee.Geometry.Point(-73.59, 45.52)],\n",
    "    'Guadalajara':[ee.Geometry.Point(-103.35, 20.663), 0, ee.Geometry.Point(-103.35, 20.663)],\n",
    "    'Monterrey':[ee.Geometry.Point(-100.17, 25.897), 0, ee.Geometry.Point(-100.318, 25.711)],\n",
    "    'Cancun':[ee.Geometry.Point(-86.592, 21.402), ee.Geometry.Point(-86.725, 20.709), ee.Geometry.Point(-86.85, 21.161)],\n",
    "    'Billings':[ee.Geometry.Point(-108.5, 45.78), 0, ee.Geometry.Point(-108.504, 45.781)],\n",
    "    'Guatemala_City':[ee.Geometry.Point(-90.527, 14.623), 0, ee.Geometry.Point(-90.527, 14.623)],\n",
    "    'San_Jose':[ee.Geometry.Point(-84.082, 9.937), 0, ee.Geometry.Point(-84.082, 9.937)],\n",
    "    'Havana':[ee.Geometry.Point(-82.36, 23.128), 0, ee.Geometry.Point(-82.36, 23.128)],\n",
    "    'Santo_Domingo':[ee.Geometry.Point(-69.822, 18.681), 0, ee.Geometry.Point(-69.932, 18.468)],\n",
    "    'Tegucigalpa':[ee.Geometry.Point(-87.206, 14.171), 0, ee.Geometry.Point(-87.197, 14.057)],\n",
    "    'Managua':[ee.Geometry.Point(-86.269, 12.017), ee.Geometry.Point(-86.145, 12.349), ee.Geometry.Point(-86.239, 12.097)],\n",
    "    'Panama_City':[ee.Geometry.Point(-79.522, 8.98), 0, ee.Geometry.Point(-79.522, 8.98)],\n",
    "    'Bogota':[ee.Geometry.Point(-74.074, 4.697), 0, ee.Geometry.Point(-74.074, 4.697)],\n",
    "    'Lima':[ee.Geometry.Point(-76.887, -11.835), ee.Geometry.Point(-76.99, -12.383), ee.Geometry.Point(-77.065, -12.066)],\n",
    "    'Quito':[ee.Geometry.Point(-78.507, -.232), 0, ee.Geometry.Point(-78.507, -0.232)],\n",
    "    'Santiago':[ee.Geometry.Point(-70.667, -33.46), 0, ee.Geometry.Point(-70.667, -33.46)],\n",
    "    'Buenos_Aires':[ee.Geometry.Point(-58.543, -34.621), 0, ee.Geometry.Point(-58.458, -34.666)],\n",
    "    'Sao_Paulo':[ee.Geometry.Point(-46.644, -23.564), 0, ee.Geometry.Point(-46.644, -23.564)],\n",
    "    'Manaus':[ee.Geometry.Point(-60.037, -3.089), 0, ee.Geometry.Point(-60.037, -3.089)],\n",
    "    'Punta_Arenas':[ee.Geometry.Point(-70.184, -53.342), 0, ee.Geometry.Point(-70.909, -53.157)],\n",
    "    'La_Paz':[ee.Geometry.Point(-67.885, -17.004), ee.Geometry.Point(-67.965, -16.125), ee.Geometry.Point(-68.143, -16.522)],\n",
    "    'Montevideo':[ee.Geometry.Point(-56.175, -34.902), 0, ee.Geometry.Point(-56.175, -34.902)],\n",
    "    'Brasilia':[ee.Geometry.Point(-47.890, -15.799), 0, ee.Geometry.Point(-47.89, -15.799)],\n",
    "    'Caracas':[ee.Geometry.Point(-66.898, 10.475), 0, ee.Geometry.Point(-66.907, 10.474)]\n",
    "}"
   ]
  },
  {
   "cell_type": "code",
   "execution_count": 11,
   "id": "10fc0c36-8825-4bc2-85f2-2bdd11245e80",
   "metadata": {},
   "outputs": [
    {
     "data": {
      "text/html": [
       "\n",
       "            <style>\n",
       "                .geemap-dark {\n",
       "                    --jp-widgets-color: white;\n",
       "                    --jp-widgets-label-color: white;\n",
       "                    --jp-ui-font-color1: white;\n",
       "                    --jp-layout-color2: #454545;\n",
       "                    background-color: #383838;\n",
       "                }\n",
       "\n",
       "                .geemap-dark .jupyter-button {\n",
       "                    --jp-layout-color3: #383838;\n",
       "                }\n",
       "\n",
       "                .geemap-colab {\n",
       "                    background-color: var(--colab-primary-surface-color, white);\n",
       "                }\n",
       "\n",
       "                .geemap-colab .jupyter-button {\n",
       "                    --jp-layout-color3: var(--colab-primary-surface-color, white);\n",
       "                }\n",
       "            </style>\n",
       "            "
      ],
      "text/plain": [
       "<IPython.core.display.HTML object>"
      ]
     },
     "metadata": {},
     "output_type": "display_data"
    }
   ],
   "source": [
    "# Pull points to make data for a specific city (look above for options)\n",
    "city = 'Punta_Arenas'\n",
    "points = city_points[city]"
   ]
  },
  {
   "cell_type": "markdown",
   "id": "a66c0658-4cd8-4b10-b8e6-e233a9d71007",
   "metadata": {},
   "source": [
    "## Landsat Initialization"
   ]
  },
  {
   "cell_type": "code",
   "execution_count": 24,
   "id": "f1d1e568-5e3a-4e14-910c-ce0075e38b57",
   "metadata": {},
   "outputs": [
    {
     "data": {
      "text/html": [
       "\n",
       "            <style>\n",
       "                .geemap-dark {\n",
       "                    --jp-widgets-color: white;\n",
       "                    --jp-widgets-label-color: white;\n",
       "                    --jp-ui-font-color1: white;\n",
       "                    --jp-layout-color2: #454545;\n",
       "                    background-color: #383838;\n",
       "                }\n",
       "\n",
       "                .geemap-dark .jupyter-button {\n",
       "                    --jp-layout-color3: #383838;\n",
       "                }\n",
       "\n",
       "                .geemap-colab {\n",
       "                    background-color: var(--colab-primary-surface-color, white);\n",
       "                }\n",
       "\n",
       "                .geemap-colab .jupyter-button {\n",
       "                    --jp-layout-color3: var(--colab-primary-surface-color, white);\n",
       "                }\n",
       "            </style>\n",
       "            "
      ],
      "text/plain": [
       "<IPython.core.display.HTML object>"
      ]
     },
     "metadata": {},
     "output_type": "display_data"
    }
   ],
   "source": [
    "landsat = ee.ImageCollection(\"LANDSAT/LC08/C02/T1_L2\")"
   ]
  },
  {
   "cell_type": "code",
   "execution_count": 25,
   "id": "8e7cb361-7fd4-43f3-a846-0273ef2dee8a",
   "metadata": {},
   "outputs": [
    {
     "data": {
      "text/html": [
       "\n",
       "            <style>\n",
       "                .geemap-dark {\n",
       "                    --jp-widgets-color: white;\n",
       "                    --jp-widgets-label-color: white;\n",
       "                    --jp-ui-font-color1: white;\n",
       "                    --jp-layout-color2: #454545;\n",
       "                    background-color: #383838;\n",
       "                }\n",
       "\n",
       "                .geemap-dark .jupyter-button {\n",
       "                    --jp-layout-color3: #383838;\n",
       "                }\n",
       "\n",
       "                .geemap-colab {\n",
       "                    background-color: var(--colab-primary-surface-color, white);\n",
       "                }\n",
       "\n",
       "                .geemap-colab .jupyter-button {\n",
       "                    --jp-layout-color3: var(--colab-primary-surface-color, white);\n",
       "                }\n",
       "            </style>\n",
       "            "
      ],
      "text/plain": [
       "<IPython.core.display.HTML object>"
      ]
     },
     "metadata": {},
     "output_type": "display_data"
    }
   ],
   "source": [
    "landsat = landsat.filterDate('2022-01-01', '2024-01-01')\n",
    "landsat_US = landsat.filterBounds(points[0])\n",
    "if points[1] != 0:\n",
    "    #pt1_filt = ee.Filter.bounds(points[0])\n",
    "    #pt2_filt = ee.Filter.bounds(points[1])\n",
    "    #Landsat_pts_filt = ee.Filter.Or(pt1_filt, pt2_filt)\n",
    "    #landsat_US = landsat.filter(Landsat_pts_filt)\n",
    "    landsat_US2 = landsat.filterBounds(points[1])\n",
    "    print('Combine Landsat')\n",
    "elif points[0] == 0:\n",
    "    raise Exception('Points not formatted correctly')"
   ]
  },
  {
   "cell_type": "code",
   "execution_count": 26,
   "id": "e363ac74-03b8-4aa5-903e-c11413dfc1ca",
   "metadata": {},
   "outputs": [
    {
     "data": {
      "text/html": [
       "\n",
       "            <style>\n",
       "                .geemap-dark {\n",
       "                    --jp-widgets-color: white;\n",
       "                    --jp-widgets-label-color: white;\n",
       "                    --jp-ui-font-color1: white;\n",
       "                    --jp-layout-color2: #454545;\n",
       "                    background-color: #383838;\n",
       "                }\n",
       "\n",
       "                .geemap-dark .jupyter-button {\n",
       "                    --jp-layout-color3: #383838;\n",
       "                }\n",
       "\n",
       "                .geemap-colab {\n",
       "                    background-color: var(--colab-primary-surface-color, white);\n",
       "                }\n",
       "\n",
       "                .geemap-colab .jupyter-button {\n",
       "                    --jp-layout-color3: var(--colab-primary-surface-color, white);\n",
       "                }\n",
       "            </style>\n",
       "            "
      ],
      "text/plain": [
       "<IPython.core.display.HTML object>"
      ]
     },
     "metadata": {},
     "output_type": "display_data"
    },
    {
     "data": {
      "text/plain": [
       "{'type': 'Projection',\n",
       " 'crs': 'EPSG:32619',\n",
       " 'transform': [30, 0, 601785, 0, -30, 1234815]}"
      ]
     },
     "execution_count": 26,
     "metadata": {},
     "output_type": "execute_result"
    }
   ],
   "source": [
    "landsat_US.first().projection().getInfo()"
   ]
  },
  {
   "cell_type": "code",
   "execution_count": 27,
   "id": "73ba9699-2f1a-4904-ae0f-560f033228a1",
   "metadata": {},
   "outputs": [
    {
     "data": {
      "text/html": [
       "\n",
       "            <style>\n",
       "                .geemap-dark {\n",
       "                    --jp-widgets-color: white;\n",
       "                    --jp-widgets-label-color: white;\n",
       "                    --jp-ui-font-color1: white;\n",
       "                    --jp-layout-color2: #454545;\n",
       "                    background-color: #383838;\n",
       "                }\n",
       "\n",
       "                .geemap-dark .jupyter-button {\n",
       "                    --jp-layout-color3: #383838;\n",
       "                }\n",
       "\n",
       "                .geemap-colab {\n",
       "                    background-color: var(--colab-primary-surface-color, white);\n",
       "                }\n",
       "\n",
       "                .geemap-colab .jupyter-button {\n",
       "                    --jp-layout-color3: var(--colab-primary-surface-color, white);\n",
       "                }\n",
       "            </style>\n",
       "            "
      ],
      "text/plain": [
       "<IPython.core.display.HTML object>"
      ]
     },
     "metadata": {},
     "output_type": "display_data"
    }
   ],
   "source": [
    "# Preprocessing function\n",
    "def process_multiple_Landsat(image):\n",
    "    ######################################\n",
    "    # Combines Landsat images matched by time into one image\n",
    "    \n",
    "    match = ee.Image(image.get('matched_img'))\n",
    "    median_image = ee.ImageCollection([image, match]).median()\n",
    "\n",
    "    ######################################\n",
    "    # Timestamp portion\n",
    "    \n",
    "    # Function to get time from Landsat image\n",
    "    def get_Landsat_time(f):\n",
    "        Landsat_time = ee.Number(image.get('system:time_start'))       \n",
    "        return f.set('system:time_start', Landsat_time)\n",
    "\n",
    "    # Add timestamp back in\n",
    "    median_image = get_Landsat_time(median_image)\n",
    "    \n",
    "    return median_image"
   ]
  },
  {
   "cell_type": "code",
   "execution_count": 28,
   "id": "a8d4ab86-eddf-417f-a2f1-809f0b17c965",
   "metadata": {},
   "outputs": [
    {
     "data": {
      "text/html": [
       "\n",
       "            <style>\n",
       "                .geemap-dark {\n",
       "                    --jp-widgets-color: white;\n",
       "                    --jp-widgets-label-color: white;\n",
       "                    --jp-ui-font-color1: white;\n",
       "                    --jp-layout-color2: #454545;\n",
       "                    background-color: #383838;\n",
       "                }\n",
       "\n",
       "                .geemap-dark .jupyter-button {\n",
       "                    --jp-layout-color3: #383838;\n",
       "                }\n",
       "\n",
       "                .geemap-colab {\n",
       "                    background-color: var(--colab-primary-surface-color, white);\n",
       "                }\n",
       "\n",
       "                .geemap-colab .jupyter-button {\n",
       "                    --jp-layout-color3: var(--colab-primary-surface-color, white);\n",
       "                }\n",
       "            </style>\n",
       "            "
      ],
      "text/plain": [
       "<IPython.core.display.HTML object>"
      ]
     },
     "metadata": {},
     "output_type": "display_data"
    }
   ],
   "source": [
    "# Join sequential Landsat images\n",
    "if points[1] != 0:\n",
    "    best_join = ee.Join.saveBest(matchKey='matched_img', measureKey='time_diff', outer=False)\n",
    "    # Difference value is equal to 1 minute (for sequential Landsat images)\n",
    "    timeFiltLandsat = ee.Filter.maxDifference(difference=60e3, leftField='system:time_start', rightField='system:time_start')\n",
    "    Landsat_near = ee.ImageCollection(best_join.apply(landsat_US, landsat_US2, timeFiltLandsat))\n",
    "    landsat_US = Landsat_near.map(process_multiple_Landsat)\n",
    "    print('Landsat join')"
   ]
  },
  {
   "cell_type": "code",
   "execution_count": 29,
   "id": "cc49e5b9-3d55-4bcc-880a-8c19fc2f9cc6",
   "metadata": {},
   "outputs": [
    {
     "data": {
      "text/html": [
       "\n",
       "            <style>\n",
       "                .geemap-dark {\n",
       "                    --jp-widgets-color: white;\n",
       "                    --jp-widgets-label-color: white;\n",
       "                    --jp-ui-font-color1: white;\n",
       "                    --jp-layout-color2: #454545;\n",
       "                    background-color: #383838;\n",
       "                }\n",
       "\n",
       "                .geemap-dark .jupyter-button {\n",
       "                    --jp-layout-color3: #383838;\n",
       "                }\n",
       "\n",
       "                .geemap-colab {\n",
       "                    background-color: var(--colab-primary-surface-color, white);\n",
       "                }\n",
       "\n",
       "                .geemap-colab .jupyter-button {\n",
       "                    --jp-layout-color3: var(--colab-primary-surface-color, white);\n",
       "                }\n",
       "            </style>\n",
       "            "
      ],
      "text/plain": [
       "<IPython.core.display.HTML object>"
      ]
     },
     "metadata": {},
     "output_type": "display_data"
    },
    {
     "name": "stdout",
     "output_type": "stream",
     "text": [
      "42\n"
     ]
    }
   ],
   "source": [
    "print(landsat_US.size().getInfo())"
   ]
  },
  {
   "cell_type": "markdown",
   "id": "b65c6dd9-6bf6-428b-bca4-67669ad17e9b",
   "metadata": {},
   "source": [
    "## GOES Initialization"
   ]
  },
  {
   "cell_type": "code",
   "execution_count": 14,
   "id": "00db00af-1f7a-4641-86d8-2a8a074754a1",
   "metadata": {},
   "outputs": [
    {
     "data": {
      "text/html": [
       "\n",
       "            <style>\n",
       "                .geemap-dark {\n",
       "                    --jp-widgets-color: white;\n",
       "                    --jp-widgets-label-color: white;\n",
       "                    --jp-ui-font-color1: white;\n",
       "                    --jp-layout-color2: #454545;\n",
       "                    background-color: #383838;\n",
       "                }\n",
       "\n",
       "                .geemap-dark .jupyter-button {\n",
       "                    --jp-layout-color3: #383838;\n",
       "                }\n",
       "\n",
       "                .geemap-colab {\n",
       "                    background-color: var(--colab-primary-surface-color, white);\n",
       "                }\n",
       "\n",
       "                .geemap-colab .jupyter-button {\n",
       "                    --jp-layout-color3: var(--colab-primary-surface-color, white);\n",
       "                }\n",
       "            </style>\n",
       "            "
      ],
      "text/plain": [
       "<IPython.core.display.HTML object>"
      ]
     },
     "metadata": {},
     "output_type": "display_data"
    }
   ],
   "source": [
    "# Landsat images over Baltimore regularly taken around 15:47 every 16 days\n",
    "hour_filt1 = ee.Filter.calendarRange(15, 15, 'hour')\n",
    "minute_filt_DMV = ee.Filter.calendarRange(45, 49, 'minute') # MUST FIGURE OUT WHEN OTHER LANDSAT IMAGES ARE TAKEN\n",
    "time_filt1 = ee.Filter.And(hour_filt1, minute_filt_DMV)\n",
    "\n",
    "hour_filt2 = ee.Filter.calendarRange(3, 3, 'hour')\n",
    "time_filt2 = ee.Filter.And(hour_filt2, minute_filt_DMV)\n",
    "\n",
    "time_filt = ee.Filter.Or(time_filt1, time_filt2)"
   ]
  },
  {
   "cell_type": "code",
   "execution_count": 30,
   "id": "8451093f-22d5-400d-bc6e-93309ab4ea7c",
   "metadata": {},
   "outputs": [
    {
     "data": {
      "text/html": [
       "\n",
       "            <style>\n",
       "                .geemap-dark {\n",
       "                    --jp-widgets-color: white;\n",
       "                    --jp-widgets-label-color: white;\n",
       "                    --jp-ui-font-color1: white;\n",
       "                    --jp-layout-color2: #454545;\n",
       "                    background-color: #383838;\n",
       "                }\n",
       "\n",
       "                .geemap-dark .jupyter-button {\n",
       "                    --jp-layout-color3: #383838;\n",
       "                }\n",
       "\n",
       "                .geemap-colab {\n",
       "                    background-color: var(--colab-primary-surface-color, white);\n",
       "                }\n",
       "\n",
       "                .geemap-colab .jupyter-button {\n",
       "                    --jp-layout-color3: var(--colab-primary-surface-color, white);\n",
       "                }\n",
       "            </style>\n",
       "            "
      ],
      "text/plain": [
       "<IPython.core.display.HTML object>"
      ]
     },
     "metadata": {},
     "output_type": "display_data"
    }
   ],
   "source": [
    "GOES = ee.ImageCollection(\"NOAA/GOES/16/MCMIPF\").filterDate('2022-01-01', '2024-01-01')#.filter(minute_filt_DMV)"
   ]
  },
  {
   "cell_type": "code",
   "execution_count": 50,
   "id": "4643d9e6-0c4f-4b5d-be03-9ff9025978de",
   "metadata": {},
   "outputs": [
    {
     "data": {
      "text/html": [
       "\n",
       "            <style>\n",
       "                .geemap-dark {\n",
       "                    --jp-widgets-color: white;\n",
       "                    --jp-widgets-label-color: white;\n",
       "                    --jp-ui-font-color1: white;\n",
       "                    --jp-layout-color2: #454545;\n",
       "                    background-color: #383838;\n",
       "                }\n",
       "\n",
       "                .geemap-dark .jupyter-button {\n",
       "                    --jp-layout-color3: #383838;\n",
       "                }\n",
       "\n",
       "                .geemap-colab {\n",
       "                    background-color: var(--colab-primary-surface-color, white);\n",
       "                }\n",
       "\n",
       "                .geemap-colab .jupyter-button {\n",
       "                    --jp-layout-color3: var(--colab-primary-surface-color, white);\n",
       "                }\n",
       "            </style>\n",
       "            "
      ],
      "text/plain": [
       "<IPython.core.display.HTML object>"
      ]
     },
     "metadata": {},
     "output_type": "display_data"
    }
   ],
   "source": [
    "gList = GOES.toList(8)"
   ]
  },
  {
   "cell_type": "code",
   "execution_count": 51,
   "id": "045b401f-86f5-4088-a59f-9ddd1b5e3916",
   "metadata": {},
   "outputs": [
    {
     "data": {
      "text/html": [
       "\n",
       "            <style>\n",
       "                .geemap-dark {\n",
       "                    --jp-widgets-color: white;\n",
       "                    --jp-widgets-label-color: white;\n",
       "                    --jp-ui-font-color1: white;\n",
       "                    --jp-layout-color2: #454545;\n",
       "                    background-color: #383838;\n",
       "                }\n",
       "\n",
       "                .geemap-dark .jupyter-button {\n",
       "                    --jp-layout-color3: #383838;\n",
       "                }\n",
       "\n",
       "                .geemap-colab {\n",
       "                    background-color: var(--colab-primary-surface-color, white);\n",
       "                }\n",
       "\n",
       "                .geemap-colab .jupyter-button {\n",
       "                    --jp-layout-color3: var(--colab-primary-surface-color, white);\n",
       "                }\n",
       "            </style>\n",
       "            "
      ],
      "text/plain": [
       "<IPython.core.display.HTML object>"
      ]
     },
     "metadata": {},
     "output_type": "display_data"
    },
    {
     "data": {
      "text/plain": [
       "{'type': 'Date', 'value': 1640995220500}"
      ]
     },
     "execution_count": 51,
     "metadata": {},
     "output_type": "execute_result"
    }
   ],
   "source": [
    "ee.Image(gList.get(0)).date().getInfo()"
   ]
  },
  {
   "cell_type": "code",
   "execution_count": 52,
   "id": "ae516c81-a637-486b-889d-311721ab92b7",
   "metadata": {},
   "outputs": [
    {
     "data": {
      "text/html": [
       "\n",
       "            <style>\n",
       "                .geemap-dark {\n",
       "                    --jp-widgets-color: white;\n",
       "                    --jp-widgets-label-color: white;\n",
       "                    --jp-ui-font-color1: white;\n",
       "                    --jp-layout-color2: #454545;\n",
       "                    background-color: #383838;\n",
       "                }\n",
       "\n",
       "                .geemap-dark .jupyter-button {\n",
       "                    --jp-layout-color3: #383838;\n",
       "                }\n",
       "\n",
       "                .geemap-colab {\n",
       "                    background-color: var(--colab-primary-surface-color, white);\n",
       "                }\n",
       "\n",
       "                .geemap-colab .jupyter-button {\n",
       "                    --jp-layout-color3: var(--colab-primary-surface-color, white);\n",
       "                }\n",
       "            </style>\n",
       "            "
      ],
      "text/plain": [
       "<IPython.core.display.HTML object>"
      ]
     },
     "metadata": {},
     "output_type": "display_data"
    },
    {
     "data": {
      "text/plain": [
       "datetime.datetime(2021, 12, 31, 19, 0, 20, 500000)"
      ]
     },
     "execution_count": 52,
     "metadata": {},
     "output_type": "execute_result"
    }
   ],
   "source": [
    "datetime.fromtimestamp(1640995220500/1000)"
   ]
  },
  {
   "cell_type": "markdown",
   "id": "ea20c471-9129-48eb-b6d6-7592fccadf46",
   "metadata": {},
   "source": [
    "## Sentinel-1 SAR Initialization"
   ]
  },
  {
   "cell_type": "code",
   "execution_count": 35,
   "id": "7da93cc9-2a15-49fe-961f-3bc764fbf4a1",
   "metadata": {},
   "outputs": [
    {
     "data": {
      "text/html": [
       "\n",
       "            <style>\n",
       "                .geemap-dark {\n",
       "                    --jp-widgets-color: white;\n",
       "                    --jp-widgets-label-color: white;\n",
       "                    --jp-ui-font-color1: white;\n",
       "                    --jp-layout-color2: #454545;\n",
       "                    background-color: #383838;\n",
       "                }\n",
       "\n",
       "                .geemap-dark .jupyter-button {\n",
       "                    --jp-layout-color3: #383838;\n",
       "                }\n",
       "\n",
       "                .geemap-colab {\n",
       "                    background-color: var(--colab-primary-surface-color, white);\n",
       "                }\n",
       "\n",
       "                .geemap-colab .jupyter-button {\n",
       "                    --jp-layout-color3: var(--colab-primary-surface-color, white);\n",
       "                }\n",
       "            </style>\n",
       "            "
      ],
      "text/plain": [
       "<IPython.core.display.HTML object>"
      ]
     },
     "metadata": {},
     "output_type": "display_data"
    }
   ],
   "source": [
    "sentinel = ee.ImageCollection(\"COPERNICUS/S1_GRD\").filterDate('2022-01-01', '2024-01-01')"
   ]
  },
  {
   "cell_type": "code",
   "execution_count": 36,
   "id": "8f322ac0-9079-4283-8f0a-f5ba00bc5d86",
   "metadata": {},
   "outputs": [
    {
     "data": {
      "text/html": [
       "\n",
       "            <style>\n",
       "                .geemap-dark {\n",
       "                    --jp-widgets-color: white;\n",
       "                    --jp-widgets-label-color: white;\n",
       "                    --jp-ui-font-color1: white;\n",
       "                    --jp-layout-color2: #454545;\n",
       "                    background-color: #383838;\n",
       "                }\n",
       "\n",
       "                .geemap-dark .jupyter-button {\n",
       "                    --jp-layout-color3: #383838;\n",
       "                }\n",
       "\n",
       "                .geemap-colab {\n",
       "                    background-color: var(--colab-primary-surface-color, white);\n",
       "                }\n",
       "\n",
       "                .geemap-colab .jupyter-button {\n",
       "                    --jp-layout-color3: var(--colab-primary-surface-color, white);\n",
       "                }\n",
       "            </style>\n",
       "            "
      ],
      "text/plain": [
       "<IPython.core.display.HTML object>"
      ]
     },
     "metadata": {},
     "output_type": "display_data"
    }
   ],
   "source": [
    "sentinel = sentinel.filterBounds(points[2].buffer(2e5))"
   ]
  },
  {
   "cell_type": "code",
   "execution_count": 34,
   "id": "fa89c17e-4437-4943-8bb1-2501accaa4ba",
   "metadata": {},
   "outputs": [
    {
     "data": {
      "text/html": [
       "\n",
       "            <style>\n",
       "                .geemap-dark {\n",
       "                    --jp-widgets-color: white;\n",
       "                    --jp-widgets-label-color: white;\n",
       "                    --jp-ui-font-color1: white;\n",
       "                    --jp-layout-color2: #454545;\n",
       "                    background-color: #383838;\n",
       "                }\n",
       "\n",
       "                .geemap-dark .jupyter-button {\n",
       "                    --jp-layout-color3: #383838;\n",
       "                }\n",
       "\n",
       "                .geemap-colab {\n",
       "                    background-color: var(--colab-primary-surface-color, white);\n",
       "                }\n",
       "\n",
       "                .geemap-colab .jupyter-button {\n",
       "                    --jp-layout-color3: var(--colab-primary-surface-color, white);\n",
       "                }\n",
       "            </style>\n",
       "            "
      ],
      "text/plain": [
       "<IPython.core.display.HTML object>"
      ]
     },
     "metadata": {},
     "output_type": "display_data"
    },
    {
     "name": "stdout",
     "output_type": "stream",
     "text": [
      "65\n"
     ]
    }
   ],
   "source": [
    "print(sentinel.size().getInfo())"
   ]
  },
  {
   "cell_type": "code",
   "execution_count": 37,
   "id": "21257395-5e13-417e-b467-67550d85bf30",
   "metadata": {
    "scrolled": true
   },
   "outputs": [
    {
     "data": {
      "text/html": [
       "\n",
       "            <style>\n",
       "                .geemap-dark {\n",
       "                    --jp-widgets-color: white;\n",
       "                    --jp-widgets-label-color: white;\n",
       "                    --jp-ui-font-color1: white;\n",
       "                    --jp-layout-color2: #454545;\n",
       "                    background-color: #383838;\n",
       "                }\n",
       "\n",
       "                .geemap-dark .jupyter-button {\n",
       "                    --jp-layout-color3: #383838;\n",
       "                }\n",
       "\n",
       "                .geemap-colab {\n",
       "                    background-color: var(--colab-primary-surface-color, white);\n",
       "                }\n",
       "\n",
       "                .geemap-colab .jupyter-button {\n",
       "                    --jp-layout-color3: var(--colab-primary-surface-color, white);\n",
       "                }\n",
       "            </style>\n",
       "            "
      ],
      "text/plain": [
       "<IPython.core.display.HTML object>"
      ]
     },
     "metadata": {},
     "output_type": "display_data"
    },
    {
     "data": {
      "text/plain": [
       "{'type': 'Image',\n",
       " 'bands': [{'id': 'VV',\n",
       "   'data_type': {'type': 'PixelType', 'precision': 'double'},\n",
       "   'dimensions': [28444, 23200],\n",
       "   'crs': 'EPSG:32619',\n",
       "   'crs_transform': [10, 0, 381431.2080160701, 0, -10, 1435146.4311094424]},\n",
       "  {'id': 'VH',\n",
       "   'data_type': {'type': 'PixelType', 'precision': 'double'},\n",
       "   'dimensions': [28444, 23200],\n",
       "   'crs': 'EPSG:32619',\n",
       "   'crs_transform': [10, 0, 381431.2080160701, 0, -10, 1435146.4311094424]},\n",
       "  {'id': 'angle',\n",
       "   'data_type': {'type': 'PixelType', 'precision': 'float'},\n",
       "   'dimensions': [21, 11],\n",
       "   'crs': 'EPSG:32619',\n",
       "   'crs_transform': [-12363.661044607405,\n",
       "    -3941.567629011115,\n",
       "    664897.1641446773,\n",
       "    2423.296665806789,\n",
       "    -20101.69813628611,\n",
       "    1386332.355583024]}],\n",
       " 'version': 1741489105472822,\n",
       " 'id': 'COPERNICUS/S1_GRD/S1A_IW_GRDH_1SDV_20220103T102446_20220103T102513_041295_04E89E_8DC2',\n",
       " 'properties': {'SNAP_Graph_Processing_Framework_GPF_vers': '8.0.3',\n",
       "  'SLC_Processing_facility_org': 'ESA',\n",
       "  'SLC_Processing_facility_country': 'France',\n",
       "  'GRD_Post_Processing_facility_org': 'ESA',\n",
       "  'transmitterReceiverPolarisation': ['VV', 'VH'],\n",
       "  'GRD_Post_Processing_start': 1641209465662,\n",
       "  'sliceNumber': 8,\n",
       "  'GRD_Post_Processing_facility_name': 'Copernicus S1 Core Ground Segment - TLS',\n",
       "  'resolution': 'H',\n",
       "  'SLC_Processing_facility_name': 'Copernicus S1 Core Ground Segment - TLS',\n",
       "  'system:footprint': {'type': 'LinearRing',\n",
       "   'coordinates': [[-67.79567714757579, 11.008912949804712],\n",
       "    [-67.78921200931406, 11.040192166694803],\n",
       "    [-67.75618344635826, 11.200976973793207],\n",
       "    [-67.72100989402654, 11.37226091305826],\n",
       "    [-67.68288965872655, 11.557853241740622],\n",
       "    [-67.64553723943264, 11.739677463462082],\n",
       "    [-67.6163479510466, 11.881709362241587],\n",
       "    [-67.58442648467246, 12.036959047591504],\n",
       "    [-67.55509337095664, 12.179563286174675],\n",
       "    [-67.52443208569557, 12.328592008053265],\n",
       "    [-67.48164776238926, 12.536488686361542],\n",
       "    [-67.73625431786083, 12.58688756079529],\n",
       "    [-68.54971070320387, 12.74614685694935],\n",
       "    [-69.75164065824842, 12.97651043568411],\n",
       "    [-69.85482736559105, 12.458584499774988],\n",
       "    [-69.95758256916858, 11.941076922169943],\n",
       "    [-70.07678385665031, 11.330529686649655],\n",
       "    [-70.07611061182754, 11.330200587262352],\n",
       "    [-70.01138431353849, 11.317662562989117],\n",
       "    [-69.36694371203255, 11.192475706236118],\n",
       "    [-67.79567714757579, 11.008912949804712]]},\n",
       "  'familyName': 'SENTINEL-1',\n",
       "  'segmentStartTime': 1641205307601,\n",
       "  'missionDataTakeID': 321694,\n",
       "  'GRD_Post_Processing_facility_country': 'France',\n",
       "  'nssdcIdentifier': '2014-016A',\n",
       "  'productClass': 'S',\n",
       "  'phaseIdentifier': 1,\n",
       "  'orbitProperties_pass': 'DESCENDING',\n",
       "  'relativeOrbitNumber_stop': 98,\n",
       "  'system:time_end': 1641205486000,\n",
       "  'platformHeading': -167.9559115901917,\n",
       "  'SLC_Processing_facility_site': 'Airbus Defence and Space-Toulouse',\n",
       "  'GRD_Post_Processing_stop': 1641210140000,\n",
       "  'system:time_start': 1641205486000,\n",
       "  'instrumentMode': 'IW',\n",
       "  'totalSlices': 8,\n",
       "  'SLC_Processing_stop': 1641209868000,\n",
       "  'startTimeANX': 2761941,\n",
       "  'SLC_Processing_start': 1641209577000,\n",
       "  'resolution_meters': 10,\n",
       "  'instrumentSwath': 'IW',\n",
       "  'relativeOrbitNumber_start': 98,\n",
       "  'productTimelinessCategory': 'NRT-3h',\n",
       "  'SLC_Processing_software_name': 'Sentinel-1 IPF',\n",
       "  'sliceProductFlag': 'true',\n",
       "  'S1TBX_Calibration_vers': '8.0.3',\n",
       "  'orbitNumber_start': 41295,\n",
       "  'GRD_Post_Processing_facility_site': 'Airbus Defence and Space-Toulouse',\n",
       "  'instrument': 'Synthetic Aperture Radar',\n",
       "  'GRD_Post_Processing_software_name': 'Sentinel-1 IPF',\n",
       "  'platform_number': 'A',\n",
       "  'S1TBX_SAR_Processing_vers': '8.0.3',\n",
       "  'productType': 'GRD',\n",
       "  'orbitProperties_ascendingNodeTime': 1641202724360,\n",
       "  'stopTimeANX': 2789262,\n",
       "  'productComposition': 'Slice',\n",
       "  'productClassDescription': 'SAR Standard L1 Product',\n",
       "  'GRD_Post_Processing_software_version': '003.40',\n",
       "  'SLC_Processing_software_version': '003.40',\n",
       "  'orbitNumber_stop': 41295,\n",
       "  'instrumentConfigurationID': 7,\n",
       "  'system:asset_size': 4228414335,\n",
       "  'cycleNumber': 250,\n",
       "  'system:index': 'S1A_IW_GRDH_1SDV_20220103T102446_20220103T102513_041295_04E89E_8DC2'}}"
      ]
     },
     "execution_count": 37,
     "metadata": {},
     "output_type": "execute_result"
    }
   ],
   "source": [
    "sentinel.first().getInfo()"
   ]
  },
  {
   "cell_type": "markdown",
   "id": "f2d73511-20a0-46e5-892a-dc7565b9ae75",
   "metadata": {},
   "source": [
    "## Filtering images by time"
   ]
  },
  {
   "cell_type": "code",
   "execution_count": 38,
   "id": "ace12340-8543-493c-b8dc-d7d695bcf05b",
   "metadata": {},
   "outputs": [
    {
     "data": {
      "text/html": [
       "\n",
       "            <style>\n",
       "                .geemap-dark {\n",
       "                    --jp-widgets-color: white;\n",
       "                    --jp-widgets-label-color: white;\n",
       "                    --jp-ui-font-color1: white;\n",
       "                    --jp-layout-color2: #454545;\n",
       "                    background-color: #383838;\n",
       "                }\n",
       "\n",
       "                .geemap-dark .jupyter-button {\n",
       "                    --jp-layout-color3: #383838;\n",
       "                }\n",
       "\n",
       "                .geemap-colab {\n",
       "                    background-color: var(--colab-primary-surface-color, white);\n",
       "                }\n",
       "\n",
       "                .geemap-colab .jupyter-button {\n",
       "                    --jp-layout-color3: var(--colab-primary-surface-color, white);\n",
       "                }\n",
       "            </style>\n",
       "            "
      ],
      "text/plain": [
       "<IPython.core.display.HTML object>"
      ]
     },
     "metadata": {},
     "output_type": "display_data"
    }
   ],
   "source": [
    "# Join Landsat and Sentinel images\n",
    "all_join_LS = ee.Join.saveAll(matchesKey='matched_img', measureKey='time_diff', outer=True)\n",
    "# Difference value is equal to 3 days (Half of Sentinel-1 orbital period) in milliseconds\n",
    "timeFiltLandsatSentinel = ee.Filter.maxDifference(difference=2592e5, leftField='system:time_start', rightField='system:time_start')\n",
    "LandsatSentinel_near = ee.ImageCollection(all_join_LS.apply(landsat_US, sentinel, timeFiltLandsatSentinel))"
   ]
  },
  {
   "cell_type": "code",
   "execution_count": 39,
   "id": "a09a2e38-9798-486f-bdcf-0fa8122b390e",
   "metadata": {},
   "outputs": [
    {
     "data": {
      "text/html": [
       "\n",
       "            <style>\n",
       "                .geemap-dark {\n",
       "                    --jp-widgets-color: white;\n",
       "                    --jp-widgets-label-color: white;\n",
       "                    --jp-ui-font-color1: white;\n",
       "                    --jp-layout-color2: #454545;\n",
       "                    background-color: #383838;\n",
       "                }\n",
       "\n",
       "                .geemap-dark .jupyter-button {\n",
       "                    --jp-layout-color3: #383838;\n",
       "                }\n",
       "\n",
       "                .geemap-colab {\n",
       "                    background-color: var(--colab-primary-surface-color, white);\n",
       "                }\n",
       "\n",
       "                .geemap-colab .jupyter-button {\n",
       "                    --jp-layout-color3: var(--colab-primary-surface-color, white);\n",
       "                }\n",
       "            </style>\n",
       "            "
      ],
      "text/plain": [
       "<IPython.core.display.HTML object>"
      ]
     },
     "metadata": {},
     "output_type": "display_data"
    },
    {
     "data": {
      "text/plain": [
       "42"
      ]
     },
     "execution_count": 39,
     "metadata": {},
     "output_type": "execute_result"
    }
   ],
   "source": [
    "landsat_US.size().getInfo()"
   ]
  },
  {
   "cell_type": "code",
   "execution_count": 40,
   "id": "cc0e1b57-f80a-4a54-94ee-2bbc297f1591",
   "metadata": {},
   "outputs": [
    {
     "data": {
      "text/html": [
       "\n",
       "            <style>\n",
       "                .geemap-dark {\n",
       "                    --jp-widgets-color: white;\n",
       "                    --jp-widgets-label-color: white;\n",
       "                    --jp-ui-font-color1: white;\n",
       "                    --jp-layout-color2: #454545;\n",
       "                    background-color: #383838;\n",
       "                }\n",
       "\n",
       "                .geemap-dark .jupyter-button {\n",
       "                    --jp-layout-color3: #383838;\n",
       "                }\n",
       "\n",
       "                .geemap-colab {\n",
       "                    background-color: var(--colab-primary-surface-color, white);\n",
       "                }\n",
       "\n",
       "                .geemap-colab .jupyter-button {\n",
       "                    --jp-layout-color3: var(--colab-primary-surface-color, white);\n",
       "                }\n",
       "            </style>\n",
       "            "
      ],
      "text/plain": [
       "<IPython.core.display.HTML object>"
      ]
     },
     "metadata": {},
     "output_type": "display_data"
    },
    {
     "data": {
      "text/plain": [
       "42"
      ]
     },
     "execution_count": 40,
     "metadata": {},
     "output_type": "execute_result"
    }
   ],
   "source": [
    "LandsatSentinel_near.size().getInfo()"
   ]
  },
  {
   "cell_type": "code",
   "execution_count": 11,
   "id": "1f41eb09-6b23-4f5f-926c-63fd218573b8",
   "metadata": {},
   "outputs": [
    {
     "data": {
      "text/html": [
       "\n",
       "            <style>\n",
       "                .geemap-dark {\n",
       "                    --jp-widgets-color: white;\n",
       "                    --jp-widgets-label-color: white;\n",
       "                    --jp-ui-font-color1: white;\n",
       "                    --jp-layout-color2: #454545;\n",
       "                    background-color: #383838;\n",
       "                }\n",
       "\n",
       "                .geemap-dark .jupyter-button {\n",
       "                    --jp-layout-color3: #383838;\n",
       "                }\n",
       "\n",
       "                .geemap-colab {\n",
       "                    background-color: var(--colab-primary-surface-color, white);\n",
       "                }\n",
       "\n",
       "                .geemap-colab .jupyter-button {\n",
       "                    --jp-layout-color3: var(--colab-primary-surface-color, white);\n",
       "                }\n",
       "            </style>\n",
       "            "
      ],
      "text/plain": [
       "<IPython.core.display.HTML object>"
      ]
     },
     "metadata": {},
     "output_type": "display_data"
    },
    {
     "data": {
      "text/plain": [
       "696"
      ]
     },
     "execution_count": 11,
     "metadata": {},
     "output_type": "execute_result"
    }
   ],
   "source": [
    "GOES.size().getInfo()"
   ]
  },
  {
   "cell_type": "markdown",
   "id": "5909058d-64fd-4876-8bbe-b832359b8ab9",
   "metadata": {},
   "source": [
    "## Helper Functions"
   ]
  },
  {
   "cell_type": "code",
   "execution_count": 18,
   "id": "9f09742c-51d6-4034-ace3-2709a517e924",
   "metadata": {},
   "outputs": [
    {
     "data": {
      "text/html": [
       "\n",
       "            <style>\n",
       "                .geemap-dark {\n",
       "                    --jp-widgets-color: white;\n",
       "                    --jp-widgets-label-color: white;\n",
       "                    --jp-ui-font-color1: white;\n",
       "                    --jp-layout-color2: #454545;\n",
       "                    background-color: #383838;\n",
       "                }\n",
       "\n",
       "                .geemap-dark .jupyter-button {\n",
       "                    --jp-layout-color3: #383838;\n",
       "                }\n",
       "\n",
       "                .geemap-colab {\n",
       "                    background-color: var(--colab-primary-surface-color, white);\n",
       "                }\n",
       "\n",
       "                .geemap-colab .jupyter-button {\n",
       "                    --jp-layout-color3: var(--colab-primary-surface-color, white);\n",
       "                }\n",
       "            </style>\n",
       "            "
      ],
      "text/plain": [
       "<IPython.core.display.HTML object>"
      ]
     },
     "metadata": {},
     "output_type": "display_data"
    }
   ],
   "source": [
    "# Applies scale and offset factors for Landsat bands\n",
    "def scale_and_offset_Landsat(image):\n",
    "    reflect_weight = 0.0000275\n",
    "    reflect_bias = -0.2\n",
    "    reflect_image = image.select(['SR_B2', 'SR_B3', 'SR_B4', 'SR_B5', 'SR_B6', 'SR_B7']).multiply(reflect_weight).add(reflect_bias)\n",
    "\n",
    "    LST_weight = 0.00341802\n",
    "    LST_bias = 149\n",
    "    LST_image = image.select('ST_B10').multiply(LST_weight).add(LST_bias)\n",
    "\n",
    "    return reflect_image.addBands(srcImg=LST_image, names=['ST_B10'])"
   ]
  },
  {
   "cell_type": "code",
   "execution_count": 19,
   "id": "f8f46bf6-eee9-47c2-8fd4-ed036e408297",
   "metadata": {},
   "outputs": [
    {
     "data": {
      "text/html": [
       "\n",
       "            <style>\n",
       "                .geemap-dark {\n",
       "                    --jp-widgets-color: white;\n",
       "                    --jp-widgets-label-color: white;\n",
       "                    --jp-ui-font-color1: white;\n",
       "                    --jp-layout-color2: #454545;\n",
       "                    background-color: #383838;\n",
       "                }\n",
       "\n",
       "                .geemap-dark .jupyter-button {\n",
       "                    --jp-layout-color3: #383838;\n",
       "                }\n",
       "\n",
       "                .geemap-colab {\n",
       "                    background-color: var(--colab-primary-surface-color, white);\n",
       "                }\n",
       "\n",
       "                .geemap-colab .jupyter-button {\n",
       "                    --jp-layout-color3: var(--colab-primary-surface-color, white);\n",
       "                }\n",
       "            </style>\n",
       "            "
      ],
      "text/plain": [
       "<IPython.core.display.HTML object>"
      ]
     },
     "metadata": {},
     "output_type": "display_data"
    }
   ],
   "source": [
    "# Applies scale and offset factors for GOES imagery\n",
    "# All scale and offset values were taken straight from GEE to save compute\n",
    "def scale_and_offset_GOES(image):\n",
    "    #reflectances = image.select(['CMI_C01', 'CMI_C02', 'CMI_C03', 'CMI_C05', 'CMI_C06']).multiply(0.0002442)\n",
    "    weight = 0.039316241\n",
    "    bias = 173.14999\n",
    "    brightness_temps = image.select(['CMI_C13', 'CMI_C14', 'CMI_C15', 'CMI_C16']).multiply(weight).add(bias)\n",
    "    \n",
    "    #return reflectances.addBands(srcImg=brightness_temps, names=['CMI_C14', 'CMI_C15'])\n",
    "    return brightness_temps"
   ]
  },
  {
   "cell_type": "code",
   "execution_count": 20,
   "id": "e29fded5-1b3f-486d-a5ad-99b26c2ccb87",
   "metadata": {},
   "outputs": [
    {
     "data": {
      "text/html": [
       "\n",
       "            <style>\n",
       "                .geemap-dark {\n",
       "                    --jp-widgets-color: white;\n",
       "                    --jp-widgets-label-color: white;\n",
       "                    --jp-ui-font-color1: white;\n",
       "                    --jp-layout-color2: #454545;\n",
       "                    background-color: #383838;\n",
       "                }\n",
       "\n",
       "                .geemap-dark .jupyter-button {\n",
       "                    --jp-layout-color3: #383838;\n",
       "                }\n",
       "\n",
       "                .geemap-colab {\n",
       "                    background-color: var(--colab-primary-surface-color, white);\n",
       "                }\n",
       "\n",
       "                .geemap-colab .jupyter-button {\n",
       "                    --jp-layout-color3: var(--colab-primary-surface-color, white);\n",
       "                }\n",
       "            </style>\n",
       "            "
      ],
      "text/plain": [
       "<IPython.core.display.HTML object>"
      ]
     },
     "metadata": {},
     "output_type": "display_data"
    }
   ],
   "source": [
    "# Preprocessing function\n",
    "def process_GOES(image):\n",
    "    ######################################\n",
    "    # GOES portion\n",
    "\n",
    "    # Scaling and offset\n",
    "    #image2 = ee.Image(feature.get('matched_img'))\n",
    "    GOES_image = scale_and_offset_GOES(image)\n",
    "\n",
    "    ######################################\n",
    "    # Timestamp portion\n",
    "    \n",
    "    # Function to get time from GOES image\\    \n",
    "    def get_GOES_time(f):\n",
    "        GOES_time = ee.Number(image.get('system:time_start'))       \n",
    "        return f.set('timestamp', GOES_time)\n",
    "\n",
    "    # Add timestamp back in\n",
    "    #landsat_image = get_GOES_time(landsat_image)\n",
    "    GOES_image = get_GOES_time(GOES_image)\n",
    "\n",
    "    ##########################################\n",
    "    \n",
    "    #image = landsat_image.addBands(srcImg=GOES_image, names=['CMI_C01', 'CMI_C02', 'CMI_C03', 'CMI_C05',\n",
    "    #                                                         'CMI_C06', 'CMI_C14', 'CMI_C15']).cast({'QA_PIXEL':'double'})\n",
    "    return GOES_image"
   ]
  },
  {
   "cell_type": "code",
   "execution_count": 21,
   "id": "0260cff2-aff6-44a1-b763-fbe91f3f0594",
   "metadata": {},
   "outputs": [
    {
     "data": {
      "text/html": [
       "\n",
       "            <style>\n",
       "                .geemap-dark {\n",
       "                    --jp-widgets-color: white;\n",
       "                    --jp-widgets-label-color: white;\n",
       "                    --jp-ui-font-color1: white;\n",
       "                    --jp-layout-color2: #454545;\n",
       "                    background-color: #383838;\n",
       "                }\n",
       "\n",
       "                .geemap-dark .jupyter-button {\n",
       "                    --jp-layout-color3: #383838;\n",
       "                }\n",
       "\n",
       "                .geemap-colab {\n",
       "                    background-color: var(--colab-primary-surface-color, white);\n",
       "                }\n",
       "\n",
       "                .geemap-colab .jupyter-button {\n",
       "                    --jp-layout-color3: var(--colab-primary-surface-color, white);\n",
       "                }\n",
       "            </style>\n",
       "            "
      ],
      "text/plain": [
       "<IPython.core.display.HTML object>"
      ]
     },
     "metadata": {},
     "output_type": "display_data"
    }
   ],
   "source": [
    "# Preprocessing function\n",
    "def process_Landsat_Sentinel(feature):\n",
    "    ######################################\n",
    "    # Sentinel portion\n",
    "    if points[3] != 0:\n",
    "        sentinel_image = ee.Image(ee.ImageCollection(ee.List(feature.get('matched_img'))).median())\n",
    "    else:\n",
    "        sentinel_image = ee.Image(ee.List(feature.get('matched_img')).get(0))\n",
    "\n",
    "    sentinel_image = ee.Algorithms.If(ee.List(feature.get('matched_img')).size().eq(ee.Number(0)),\n",
    "                    ee.Image(), sentinel_image)\n",
    "    \n",
    "    #####################################\n",
    "    # Landsat portion\n",
    "    \n",
    "    # Scaling and offset\n",
    "    feature = ee.Image(feature)\n",
    "    #image1 = ee.Image(feature.get('primary'))\n",
    "    landsat = scale_and_offset_Landsat(feature)\n",
    "    #landsat_image = scale_and_offset_Landsat(feature)\n",
    "    # Add cloud mask back in\n",
    "    landsat_image = landsat.addBands(srcImg=feature, names=['QA_PIXEL'])\n",
    "\n",
    "    ######################################\n",
    "    # Timestamp portion\n",
    "    \n",
    "    # Function to get time from Landsat image\n",
    "    def get_Landsat_time(f):\n",
    "        Landsat_time = ee.Number(feature.get('system:time_start'))       \n",
    "        return f.set('timestamp', Landsat_time)\n",
    "\n",
    "    # Add timestamp back in\n",
    "    landsat_image = get_Landsat_time(landsat_image)\n",
    "\n",
    "    ##########################################\n",
    "    image = landsat_image.addBands(srcImg=sentinel_image).cast({'QA_PIXEL':'double', 'angle':'double'})\n",
    "    \n",
    "    return image"
   ]
  },
  {
   "cell_type": "markdown",
   "id": "9805a084-e66b-429b-9121-26d13ed4ad91",
   "metadata": {},
   "source": [
    "## Produce GOES geotiffs and their respective times"
   ]
  },
  {
   "cell_type": "code",
   "execution_count": 22,
   "id": "14635ff1-777b-430f-8157-1ea283aa7b2b",
   "metadata": {},
   "outputs": [
    {
     "data": {
      "text/html": [
       "\n",
       "            <style>\n",
       "                .geemap-dark {\n",
       "                    --jp-widgets-color: white;\n",
       "                    --jp-widgets-label-color: white;\n",
       "                    --jp-ui-font-color1: white;\n",
       "                    --jp-layout-color2: #454545;\n",
       "                    background-color: #383838;\n",
       "                }\n",
       "\n",
       "                .geemap-dark .jupyter-button {\n",
       "                    --jp-layout-color3: #383838;\n",
       "                }\n",
       "\n",
       "                .geemap-colab {\n",
       "                    background-color: var(--colab-primary-surface-color, white);\n",
       "                }\n",
       "\n",
       "                .geemap-colab .jupyter-button {\n",
       "                    --jp-layout-color3: var(--colab-primary-surface-color, white);\n",
       "                }\n",
       "            </style>\n",
       "            "
      ],
      "text/plain": [
       "<IPython.core.display.HTML object>"
      ]
     },
     "metadata": {},
     "output_type": "display_data"
    }
   ],
   "source": [
    "processed = GOES.map(process_GOES)"
   ]
  },
  {
   "cell_type": "code",
   "execution_count": 53,
   "id": "5b4d6ef0-8c53-4758-bda6-d9839106c05a",
   "metadata": {},
   "outputs": [
    {
     "data": {
      "text/html": [
       "\n",
       "            <style>\n",
       "                .geemap-dark {\n",
       "                    --jp-widgets-color: white;\n",
       "                    --jp-widgets-label-color: white;\n",
       "                    --jp-ui-font-color1: white;\n",
       "                    --jp-layout-color2: #454545;\n",
       "                    background-color: #383838;\n",
       "                }\n",
       "\n",
       "                .geemap-dark .jupyter-button {\n",
       "                    --jp-layout-color3: #383838;\n",
       "                }\n",
       "\n",
       "                .geemap-colab {\n",
       "                    background-color: var(--colab-primary-surface-color, white);\n",
       "                }\n",
       "\n",
       "                .geemap-colab .jupyter-button {\n",
       "                    --jp-layout-color3: var(--colab-primary-surface-color, white);\n",
       "                }\n",
       "            </style>\n",
       "            "
      ],
      "text/plain": [
       "<IPython.core.display.HTML object>"
      ]
     },
     "metadata": {},
     "output_type": "display_data"
    }
   ],
   "source": [
    "first = processed.first()"
   ]
  },
  {
   "cell_type": "code",
   "execution_count": 54,
   "id": "da51c1c1-5734-435e-9818-402813d827a3",
   "metadata": {},
   "outputs": [
    {
     "data": {
      "text/html": [
       "\n",
       "            <style>\n",
       "                .geemap-dark {\n",
       "                    --jp-widgets-color: white;\n",
       "                    --jp-widgets-label-color: white;\n",
       "                    --jp-ui-font-color1: white;\n",
       "                    --jp-layout-color2: #454545;\n",
       "                    background-color: #383838;\n",
       "                }\n",
       "\n",
       "                .geemap-dark .jupyter-button {\n",
       "                    --jp-layout-color3: #383838;\n",
       "                }\n",
       "\n",
       "                .geemap-colab {\n",
       "                    background-color: var(--colab-primary-surface-color, white);\n",
       "                }\n",
       "\n",
       "                .geemap-colab .jupyter-button {\n",
       "                    --jp-layout-color3: var(--colab-primary-surface-color, white);\n",
       "                }\n",
       "            </style>\n",
       "            "
      ],
      "text/plain": [
       "<IPython.core.display.HTML object>"
      ]
     },
     "metadata": {},
     "output_type": "display_data"
    },
    {
     "data": {
      "text/plain": [
       "{'type': 'Image',\n",
       " 'bands': [{'id': 'CMI_C13',\n",
       "   'data_type': {'type': 'PixelType',\n",
       "    'precision': 'double',\n",
       "    'min': -1115.1645950880002,\n",
       "    'max': 1461.425258847},\n",
       "   'dimensions': [5424, 5424],\n",
       "   'crs': 'PROJCS[\"unnamed\", \\n  GEOGCS[\"unknown\", \\n    DATUM[\"unknown\", \\n      SPHEROID[\"Spheroid\", 6378137.0, 298.2572221]], \\n    PRIMEM[\"Greenwich\", 0.0], \\n    UNIT[\"degree\", 0.017453292519943295], \\n    AXIS[\"Longitude\", EAST], \\n    AXIS[\"Latitude\", NORTH]], \\n  PROJECTION[\"GEOS\"], \\n  PARAMETER[\"central_meridian\", -75.0], \\n  PARAMETER[\"satellite_height\", 35786023.0], \\n  PARAMETER[\"false_easting\", 0.0], \\n  PARAMETER[\"false_northing\", 0.0], \\n  PARAMETER[\"sweep\", 0.0], \\n  PARAMETER[\"Option\", 0.0], \\n  UNIT[\"m\", 1.0], \\n  AXIS[\"x\", EAST], \\n  AXIS[\"y\", NORTH]]',\n",
       "   'crs_transform': [2004.017315487541,\n",
       "    0,\n",
       "    -5434894.700982174,\n",
       "    0,\n",
       "    2004.017315487541,\n",
       "    -5434895.218222249]},\n",
       "  {'id': 'CMI_C14',\n",
       "   'data_type': {'type': 'PixelType',\n",
       "    'precision': 'double',\n",
       "    'min': -1115.1645950880002,\n",
       "    'max': 1461.425258847},\n",
       "   'dimensions': [5424, 5424],\n",
       "   'crs': 'PROJCS[\"unnamed\", \\n  GEOGCS[\"unknown\", \\n    DATUM[\"unknown\", \\n      SPHEROID[\"Spheroid\", 6378137.0, 298.2572221]], \\n    PRIMEM[\"Greenwich\", 0.0], \\n    UNIT[\"degree\", 0.017453292519943295], \\n    AXIS[\"Longitude\", EAST], \\n    AXIS[\"Latitude\", NORTH]], \\n  PROJECTION[\"GEOS\"], \\n  PARAMETER[\"central_meridian\", -75.0], \\n  PARAMETER[\"satellite_height\", 35786023.0], \\n  PARAMETER[\"false_easting\", 0.0], \\n  PARAMETER[\"false_northing\", 0.0], \\n  PARAMETER[\"sweep\", 0.0], \\n  PARAMETER[\"Option\", 0.0], \\n  UNIT[\"m\", 1.0], \\n  AXIS[\"x\", EAST], \\n  AXIS[\"y\", NORTH]]',\n",
       "   'crs_transform': [2004.017315487541,\n",
       "    0,\n",
       "    -5434894.700982174,\n",
       "    0,\n",
       "    2004.017315487541,\n",
       "    -5434895.218222249]},\n",
       "  {'id': 'CMI_C15',\n",
       "   'data_type': {'type': 'PixelType',\n",
       "    'precision': 'double',\n",
       "    'min': -1115.1645950880002,\n",
       "    'max': 1461.425258847},\n",
       "   'dimensions': [5424, 5424],\n",
       "   'crs': 'PROJCS[\"unnamed\", \\n  GEOGCS[\"unknown\", \\n    DATUM[\"unknown\", \\n      SPHEROID[\"Spheroid\", 6378137.0, 298.2572221]], \\n    PRIMEM[\"Greenwich\", 0.0], \\n    UNIT[\"degree\", 0.017453292519943295], \\n    AXIS[\"Longitude\", EAST], \\n    AXIS[\"Latitude\", NORTH]], \\n  PROJECTION[\"GEOS\"], \\n  PARAMETER[\"central_meridian\", -75.0], \\n  PARAMETER[\"satellite_height\", 35786023.0], \\n  PARAMETER[\"false_easting\", 0.0], \\n  PARAMETER[\"false_northing\", 0.0], \\n  PARAMETER[\"sweep\", 0.0], \\n  PARAMETER[\"Option\", 0.0], \\n  UNIT[\"m\", 1.0], \\n  AXIS[\"x\", EAST], \\n  AXIS[\"y\", NORTH]]',\n",
       "   'crs_transform': [2004.017315487541,\n",
       "    0,\n",
       "    -5434894.700982174,\n",
       "    0,\n",
       "    2004.017315487541,\n",
       "    -5434895.218222249]},\n",
       "  {'id': 'CMI_C16',\n",
       "   'data_type': {'type': 'PixelType',\n",
       "    'precision': 'double',\n",
       "    'min': -1115.1645950880002,\n",
       "    'max': 1461.425258847},\n",
       "   'dimensions': [5424, 5424],\n",
       "   'crs': 'PROJCS[\"unnamed\", \\n  GEOGCS[\"unknown\", \\n    DATUM[\"unknown\", \\n      SPHEROID[\"Spheroid\", 6378137.0, 298.2572221]], \\n    PRIMEM[\"Greenwich\", 0.0], \\n    UNIT[\"degree\", 0.017453292519943295], \\n    AXIS[\"Longitude\", EAST], \\n    AXIS[\"Latitude\", NORTH]], \\n  PROJECTION[\"GEOS\"], \\n  PARAMETER[\"central_meridian\", -75.0], \\n  PARAMETER[\"satellite_height\", 35786023.0], \\n  PARAMETER[\"false_easting\", 0.0], \\n  PARAMETER[\"false_northing\", 0.0], \\n  PARAMETER[\"sweep\", 0.0], \\n  PARAMETER[\"Option\", 0.0], \\n  UNIT[\"m\", 1.0], \\n  AXIS[\"x\", EAST], \\n  AXIS[\"y\", NORTH]]',\n",
       "   'crs_transform': [2004.017315487541,\n",
       "    0,\n",
       "    -5434894.700982174,\n",
       "    0,\n",
       "    2004.017315487541,\n",
       "    -5434895.218222249]}],\n",
       " 'properties': {'timestamp': 1640995220500,\n",
       "  'system:index': '2022001000020500000'}}"
      ]
     },
     "execution_count": 54,
     "metadata": {},
     "output_type": "execute_result"
    }
   ],
   "source": [
    "first.getInfo()"
   ]
  },
  {
   "cell_type": "code",
   "execution_count": 28,
   "id": "9b59179f-2176-4c50-b386-5f066106f813",
   "metadata": {},
   "outputs": [
    {
     "data": {
      "text/html": [
       "\n",
       "            <style>\n",
       "                .geemap-dark {\n",
       "                    --jp-widgets-color: white;\n",
       "                    --jp-widgets-label-color: white;\n",
       "                    --jp-ui-font-color1: white;\n",
       "                    --jp-layout-color2: #454545;\n",
       "                    background-color: #383838;\n",
       "                }\n",
       "\n",
       "                .geemap-dark .jupyter-button {\n",
       "                    --jp-layout-color3: #383838;\n",
       "                }\n",
       "\n",
       "                .geemap-colab {\n",
       "                    background-color: var(--colab-primary-surface-color, white);\n",
       "                }\n",
       "\n",
       "                .geemap-colab .jupyter-button {\n",
       "                    --jp-layout-color3: var(--colab-primary-surface-color, white);\n",
       "                }\n",
       "            </style>\n",
       "            "
      ],
      "text/plain": [
       "<IPython.core.display.HTML object>"
      ]
     },
     "metadata": {},
     "output_type": "display_data"
    }
   ],
   "source": [
    "def times_to_features(num):\n",
    "    return ee.Feature(None, {'value': num})"
   ]
  },
  {
   "cell_type": "code",
   "execution_count": 46,
   "id": "d53e546f-7f4a-4cfd-802e-ec9a0c9e455b",
   "metadata": {},
   "outputs": [
    {
     "data": {
      "text/html": [
       "\n",
       "            <style>\n",
       "                .geemap-dark {\n",
       "                    --jp-widgets-color: white;\n",
       "                    --jp-widgets-label-color: white;\n",
       "                    --jp-ui-font-color1: white;\n",
       "                    --jp-layout-color2: #454545;\n",
       "                    background-color: #383838;\n",
       "                }\n",
       "\n",
       "                .geemap-dark .jupyter-button {\n",
       "                    --jp-layout-color3: #383838;\n",
       "                }\n",
       "\n",
       "                .geemap-colab {\n",
       "                    background-color: var(--colab-primary-surface-color, white);\n",
       "                }\n",
       "\n",
       "                .geemap-colab .jupyter-button {\n",
       "                    --jp-layout-color3: var(--colab-primary-surface-color, white);\n",
       "                }\n",
       "            </style>\n",
       "            "
      ],
      "text/plain": [
       "<IPython.core.display.HTML object>"
      ]
     },
     "metadata": {},
     "output_type": "display_data"
    }
   ],
   "source": [
    "times = processed.aggregate_array('timestamp')\n",
    "features = ee.FeatureCollection(times.map(times_to_features))"
   ]
  },
  {
   "cell_type": "code",
   "execution_count": 47,
   "id": "baa91e6e-e7ce-4249-b3e0-e2b5046e2b28",
   "metadata": {},
   "outputs": [
    {
     "data": {
      "text/html": [
       "\n",
       "            <style>\n",
       "                .geemap-dark {\n",
       "                    --jp-widgets-color: white;\n",
       "                    --jp-widgets-label-color: white;\n",
       "                    --jp-ui-font-color1: white;\n",
       "                    --jp-layout-color2: #454545;\n",
       "                    background-color: #383838;\n",
       "                }\n",
       "\n",
       "                .geemap-dark .jupyter-button {\n",
       "                    --jp-layout-color3: #383838;\n",
       "                }\n",
       "\n",
       "                .geemap-colab {\n",
       "                    background-color: var(--colab-primary-surface-color, white);\n",
       "                }\n",
       "\n",
       "                .geemap-colab .jupyter-button {\n",
       "                    --jp-layout-color3: var(--colab-primary-surface-color, white);\n",
       "                }\n",
       "            </style>\n",
       "            "
      ],
      "text/plain": [
       "<IPython.core.display.HTML object>"
      ]
     },
     "metadata": {},
     "output_type": "display_data"
    }
   ],
   "source": [
    "task = ee.batch.Export.table.toDrive(\n",
    "    collection=features,\n",
    "    description='GOES_times_DMV',\n",
    "    folder='GOES/GOES_DMV',\n",
    "    fileFormat='CSV',\n",
    ")\n",
    "task.start()"
   ]
  },
  {
   "cell_type": "markdown",
   "id": "20fcf32c-9555-4c44-860b-b48baae18efc",
   "metadata": {},
   "source": [
    "## Produce Landsat/Sentinel geotiffs and their respective times"
   ]
  },
  {
   "cell_type": "code",
   "execution_count": 23,
   "id": "02758c65-3458-4976-8a45-dfa7fe4fcd61",
   "metadata": {},
   "outputs": [
    {
     "data": {
      "text/html": [
       "\n",
       "            <style>\n",
       "                .geemap-dark {\n",
       "                    --jp-widgets-color: white;\n",
       "                    --jp-widgets-label-color: white;\n",
       "                    --jp-ui-font-color1: white;\n",
       "                    --jp-layout-color2: #454545;\n",
       "                    background-color: #383838;\n",
       "                }\n",
       "\n",
       "                .geemap-dark .jupyter-button {\n",
       "                    --jp-layout-color3: #383838;\n",
       "                }\n",
       "\n",
       "                .geemap-colab {\n",
       "                    background-color: var(--colab-primary-surface-color, white);\n",
       "                }\n",
       "\n",
       "                .geemap-colab .jupyter-button {\n",
       "                    --jp-layout-color3: var(--colab-primary-surface-color, white);\n",
       "                }\n",
       "            </style>\n",
       "            "
      ],
      "text/plain": [
       "<IPython.core.display.HTML object>"
      ]
     },
     "metadata": {},
     "output_type": "display_data"
    }
   ],
   "source": [
    "processed2 = LandsatSentinel_near.map(process_Landsat_Sentinel)"
   ]
  },
  {
   "cell_type": "code",
   "execution_count": 82,
   "id": "ea320fcd-1ede-467a-8b8b-d41d9751797e",
   "metadata": {},
   "outputs": [
    {
     "data": {
      "text/html": [
       "\n",
       "            <style>\n",
       "                .geemap-dark {\n",
       "                    --jp-widgets-color: white;\n",
       "                    --jp-widgets-label-color: white;\n",
       "                    --jp-ui-font-color1: white;\n",
       "                    --jp-layout-color2: #454545;\n",
       "                    background-color: #383838;\n",
       "                }\n",
       "\n",
       "                .geemap-dark .jupyter-button {\n",
       "                    --jp-layout-color3: #383838;\n",
       "                }\n",
       "\n",
       "                .geemap-colab {\n",
       "                    background-color: var(--colab-primary-surface-color, white);\n",
       "                }\n",
       "\n",
       "                .geemap-colab .jupyter-button {\n",
       "                    --jp-layout-color3: var(--colab-primary-surface-color, white);\n",
       "                }\n",
       "            </style>\n",
       "            "
      ],
      "text/plain": [
       "<IPython.core.display.HTML object>"
      ]
     },
     "metadata": {},
     "output_type": "display_data"
    },
    {
     "data": {
      "text/plain": [
       "42"
      ]
     },
     "execution_count": 82,
     "metadata": {},
     "output_type": "execute_result"
    }
   ],
   "source": [
    "processed2.size().getInfo()"
   ]
  },
  {
   "cell_type": "code",
   "execution_count": 83,
   "id": "5b3f3c9b-b597-406b-9087-e1f99fb71f0e",
   "metadata": {
    "scrolled": true
   },
   "outputs": [
    {
     "data": {
      "text/html": [
       "\n",
       "            <style>\n",
       "                .geemap-dark {\n",
       "                    --jp-widgets-color: white;\n",
       "                    --jp-widgets-label-color: white;\n",
       "                    --jp-ui-font-color1: white;\n",
       "                    --jp-layout-color2: #454545;\n",
       "                    background-color: #383838;\n",
       "                }\n",
       "\n",
       "                .geemap-dark .jupyter-button {\n",
       "                    --jp-layout-color3: #383838;\n",
       "                }\n",
       "\n",
       "                .geemap-colab {\n",
       "                    background-color: var(--colab-primary-surface-color, white);\n",
       "                }\n",
       "\n",
       "                .geemap-colab .jupyter-button {\n",
       "                    --jp-layout-color3: var(--colab-primary-surface-color, white);\n",
       "                }\n",
       "            </style>\n",
       "            "
      ],
      "text/plain": [
       "<IPython.core.display.HTML object>"
      ]
     },
     "metadata": {},
     "output_type": "display_data"
    },
    {
     "data": {
      "text/plain": [
       "{'type': 'Image',\n",
       " 'bands': [{'id': 'SR_B2',\n",
       "   'data_type': {'type': 'PixelType',\n",
       "    'precision': 'double',\n",
       "    'min': -0.2,\n",
       "    'max': 1.6022125},\n",
       "   'crs': 'EPSG:4326',\n",
       "   'crs_transform': [1, 0, 0, 0, 1, 0]},\n",
       "  {'id': 'SR_B3',\n",
       "   'data_type': {'type': 'PixelType',\n",
       "    'precision': 'double',\n",
       "    'min': -0.2,\n",
       "    'max': 1.6022125},\n",
       "   'crs': 'EPSG:4326',\n",
       "   'crs_transform': [1, 0, 0, 0, 1, 0]},\n",
       "  {'id': 'SR_B4',\n",
       "   'data_type': {'type': 'PixelType',\n",
       "    'precision': 'double',\n",
       "    'min': -0.2,\n",
       "    'max': 1.6022125},\n",
       "   'crs': 'EPSG:4326',\n",
       "   'crs_transform': [1, 0, 0, 0, 1, 0]},\n",
       "  {'id': 'SR_B5',\n",
       "   'data_type': {'type': 'PixelType',\n",
       "    'precision': 'double',\n",
       "    'min': -0.2,\n",
       "    'max': 1.6022125},\n",
       "   'crs': 'EPSG:4326',\n",
       "   'crs_transform': [1, 0, 0, 0, 1, 0]},\n",
       "  {'id': 'SR_B6',\n",
       "   'data_type': {'type': 'PixelType',\n",
       "    'precision': 'double',\n",
       "    'min': -0.2,\n",
       "    'max': 1.6022125},\n",
       "   'crs': 'EPSG:4326',\n",
       "   'crs_transform': [1, 0, 0, 0, 1, 0]},\n",
       "  {'id': 'SR_B7',\n",
       "   'data_type': {'type': 'PixelType',\n",
       "    'precision': 'double',\n",
       "    'min': -0.2,\n",
       "    'max': 1.6022125},\n",
       "   'crs': 'EPSG:4326',\n",
       "   'crs_transform': [1, 0, 0, 0, 1, 0]},\n",
       "  {'id': 'ST_B10',\n",
       "   'data_type': {'type': 'PixelType',\n",
       "    'precision': 'double',\n",
       "    'min': 149,\n",
       "    'max': 372.9999407},\n",
       "   'crs': 'EPSG:4326',\n",
       "   'crs_transform': [1, 0, 0, 0, 1, 0]},\n",
       "  {'id': 'QA_PIXEL',\n",
       "   'data_type': {'type': 'PixelType', 'precision': 'double'},\n",
       "   'crs': 'EPSG:4326',\n",
       "   'crs_transform': [1, 0, 0, 0, 1, 0]},\n",
       "  {'id': 'constant',\n",
       "   'data_type': {'type': 'PixelType', 'precision': 'int', 'min': 0, 'max': 0},\n",
       "   'crs': 'EPSG:4326',\n",
       "   'crs_transform': [1, 0, 0, 0, 1, 0]},\n",
       "  {'id': 'angle',\n",
       "   'data_type': {'type': 'PixelType', 'precision': 'double'},\n",
       "   'crs': 'EPSG:4326',\n",
       "   'crs_transform': [1, 0, 0, 0, 1, 0]}],\n",
       " 'properties': {'timestamp': 1641751706360,\n",
       "  'system:index': 'LC08_038032_20220109'}}"
      ]
     },
     "execution_count": 83,
     "metadata": {},
     "output_type": "execute_result"
    }
   ],
   "source": [
    "processed2.first().getInfo()"
   ]
  },
  {
   "cell_type": "code",
   "execution_count": 40,
   "id": "bceb1672-fb66-4ff0-bb3c-065aaea1cc87",
   "metadata": {},
   "outputs": [
    {
     "data": {
      "text/html": [
       "\n",
       "            <style>\n",
       "                .geemap-dark {\n",
       "                    --jp-widgets-color: white;\n",
       "                    --jp-widgets-label-color: white;\n",
       "                    --jp-ui-font-color1: white;\n",
       "                    --jp-layout-color2: #454545;\n",
       "                    background-color: #383838;\n",
       "                }\n",
       "\n",
       "                .geemap-dark .jupyter-button {\n",
       "                    --jp-layout-color3: #383838;\n",
       "                }\n",
       "\n",
       "                .geemap-colab {\n",
       "                    background-color: var(--colab-primary-surface-color, white);\n",
       "                }\n",
       "\n",
       "                .geemap-colab .jupyter-button {\n",
       "                    --jp-layout-color3: var(--colab-primary-surface-color, white);\n",
       "                }\n",
       "            </style>\n",
       "            "
      ],
      "text/plain": [
       "<IPython.core.display.HTML object>"
      ]
     },
     "metadata": {},
     "output_type": "display_data"
    }
   ],
   "source": [
    "times2 = processed2.aggregate_array('timestamp')\n",
    "features2 = ee.FeatureCollection(times2.map(times_to_features))"
   ]
  },
  {
   "cell_type": "code",
   "execution_count": 41,
   "id": "c5318457-c8c7-40af-ae30-98a547bca325",
   "metadata": {},
   "outputs": [
    {
     "data": {
      "text/html": [
       "\n",
       "            <style>\n",
       "                .geemap-dark {\n",
       "                    --jp-widgets-color: white;\n",
       "                    --jp-widgets-label-color: white;\n",
       "                    --jp-ui-font-color1: white;\n",
       "                    --jp-layout-color2: #454545;\n",
       "                    background-color: #383838;\n",
       "                }\n",
       "\n",
       "                .geemap-dark .jupyter-button {\n",
       "                    --jp-layout-color3: #383838;\n",
       "                }\n",
       "\n",
       "                .geemap-colab {\n",
       "                    background-color: var(--colab-primary-surface-color, white);\n",
       "                }\n",
       "\n",
       "                .geemap-colab .jupyter-button {\n",
       "                    --jp-layout-color3: var(--colab-primary-surface-color, white);\n",
       "                }\n",
       "            </style>\n",
       "            "
      ],
      "text/plain": [
       "<IPython.core.display.HTML object>"
      ]
     },
     "metadata": {},
     "output_type": "display_data"
    }
   ],
   "source": [
    "task = ee.batch.Export.table.toDrive(\n",
    "    collection=features2,\n",
    "    description='Landsat_times_DMV',\n",
    "    folder='Landsat_SAR_DMV',\n",
    "    fileFormat='CSV',\n",
    ")\n",
    "task.start()"
   ]
  },
  {
   "cell_type": "markdown",
   "id": "f2445ceb-19e9-464f-bebe-fc695eb7059c",
   "metadata": {},
   "source": [
    "## Export stuff"
   ]
  },
  {
   "cell_type": "code",
   "execution_count": 61,
   "id": "18977833-0a1a-4624-aea4-e76850046253",
   "metadata": {},
   "outputs": [
    {
     "data": {
      "text/html": [
       "\n",
       "            <style>\n",
       "                .geemap-dark {\n",
       "                    --jp-widgets-color: white;\n",
       "                    --jp-widgets-label-color: white;\n",
       "                    --jp-ui-font-color1: white;\n",
       "                    --jp-layout-color2: #454545;\n",
       "                    background-color: #383838;\n",
       "                }\n",
       "\n",
       "                .geemap-dark .jupyter-button {\n",
       "                    --jp-layout-color3: #383838;\n",
       "                }\n",
       "\n",
       "                .geemap-colab {\n",
       "                    background-color: var(--colab-primary-surface-color, white);\n",
       "                }\n",
       "\n",
       "                .geemap-colab .jupyter-button {\n",
       "                    --jp-layout-color3: var(--colab-primary-surface-color, white);\n",
       "                }\n",
       "            </style>\n",
       "            "
      ],
      "text/plain": [
       "<IPython.core.display.HTML object>"
      ]
     },
     "metadata": {},
     "output_type": "display_data"
    },
    {
     "data": {
      "text/plain": [
       "datetime.datetime(2022, 1, 1, 0, 5)"
      ]
     },
     "execution_count": 61,
     "metadata": {},
     "output_type": "execute_result"
    }
   ],
   "source": [
    "dt = datetime(year, month, day, hour, minute)\n",
    "dt"
   ]
  },
  {
   "cell_type": "code",
   "execution_count": 62,
   "id": "e2504676-dc1f-4a89-bc79-d8e39d81e54a",
   "metadata": {},
   "outputs": [
    {
     "data": {
      "text/html": [
       "\n",
       "            <style>\n",
       "                .geemap-dark {\n",
       "                    --jp-widgets-color: white;\n",
       "                    --jp-widgets-label-color: white;\n",
       "                    --jp-ui-font-color1: white;\n",
       "                    --jp-layout-color2: #454545;\n",
       "                    background-color: #383838;\n",
       "                }\n",
       "\n",
       "                .geemap-dark .jupyter-button {\n",
       "                    --jp-layout-color3: #383838;\n",
       "                }\n",
       "\n",
       "                .geemap-colab {\n",
       "                    background-color: var(--colab-primary-surface-color, white);\n",
       "                }\n",
       "\n",
       "                .geemap-colab .jupyter-button {\n",
       "                    --jp-layout-color3: var(--colab-primary-surface-color, white);\n",
       "                }\n",
       "            </style>\n",
       "            "
      ],
      "text/plain": [
       "<IPython.core.display.HTML object>"
      ]
     },
     "metadata": {},
     "output_type": "display_data"
    },
    {
     "data": {
      "text/plain": [
       "'202201010005'"
      ]
     },
     "execution_count": 62,
     "metadata": {},
     "output_type": "execute_result"
    }
   ],
   "source": [
    "dt.strftime('%Y%m%d%H%M')"
   ]
  },
  {
   "cell_type": "code",
   "execution_count": null,
   "id": "f07f2d73-af91-43cd-92a0-b9e8afdebbb3",
   "metadata": {},
   "outputs": [],
   "source": [
    "month = 1\n",
    "day = 1\n",
    "year = 2022\n",
    "hour = -1\n",
    "minute = 0\n",
    "for i in range(50):\n",
    "    if i % 12 == 0:\n",
    "        hour += 1\n",
    "        minute = 0\n",
    "    dt = datetime(year, month, day, hour, minute)\n",
    "    print(dt.strftime('%Y%m%d%H%M'))\n",
    "    minute += 5"
   ]
  },
  {
   "cell_type": "code",
   "execution_count": 40,
   "id": "ef28e4ca-f5ea-4317-aed7-0bc8d0ba1dc9",
   "metadata": {},
   "outputs": [
    {
     "data": {
      "text/html": [
       "\n",
       "            <style>\n",
       "                .geemap-dark {\n",
       "                    --jp-widgets-color: white;\n",
       "                    --jp-widgets-label-color: white;\n",
       "                    --jp-ui-font-color1: white;\n",
       "                    --jp-layout-color2: #454545;\n",
       "                    background-color: #383838;\n",
       "                }\n",
       "\n",
       "                .geemap-dark .jupyter-button {\n",
       "                    --jp-layout-color3: #383838;\n",
       "                }\n",
       "\n",
       "                .geemap-colab {\n",
       "                    background-color: var(--colab-primary-surface-color, white);\n",
       "                }\n",
       "\n",
       "                .geemap-colab .jupyter-button {\n",
       "                    --jp-layout-color3: var(--colab-primary-surface-color, white);\n",
       "                }\n",
       "            </style>\n",
       "            "
      ],
      "text/plain": [
       "<IPython.core.display.HTML object>"
      ]
     },
     "metadata": {},
     "output_type": "display_data"
    },
    {
     "name": "stdout",
     "output_type": "stream",
     "text": [
      "202201010000\n",
      "202201010005\n",
      "202201010010\n",
      "202201010015\n",
      "202201010020\n",
      "202201010025\n",
      "202201010030\n",
      "202201010035\n",
      "202201010040\n",
      "202201010045\n",
      "202201010050\n",
      "202201010055\n",
      "202201010100\n",
      "202201010105\n",
      "202201010110\n",
      "202201010115\n",
      "202201010120\n",
      "202201010125\n",
      "202201010130\n",
      "202201010135\n",
      "202201010140\n",
      "202201010145\n",
      "202201010150\n",
      "202201010155\n",
      "202201010200\n",
      "202201010205\n",
      "202201010210\n",
      "202201010215\n",
      "202201010220\n",
      "202201010225\n",
      "202201010230\n",
      "202201010235\n",
      "202201010240\n",
      "202201010245\n",
      "202201010250\n",
      "202201010255\n",
      "202201010300\n",
      "202201010305\n",
      "202201010310\n",
      "202201010315\n",
      "202201010320\n",
      "202201010325\n",
      "202201010330\n",
      "202201010335\n",
      "202201010340\n",
      "202201010345\n",
      "202201010350\n",
      "202201010355\n",
      "202201010400\n",
      "202201010405\n"
     ]
    }
   ],
   "source": [
    "month = 1\n",
    "day = 1\n",
    "year = 2022\n",
    "hour = -1\n",
    "minute = 0\n",
    "for i in range(50):\n",
    "    if i % 12 == 0:\n",
    "        hour += 1\n",
    "        minute = 0\n",
    "    dt = datetime(year, month, day, hour, minute)\n",
    "    print(dt.strftime('%Y%m%d%H%M'))\n",
    "    minute += 5"
   ]
  },
  {
   "cell_type": "code",
   "execution_count": 133,
   "id": "d663f113-ad2c-4d76-b541-a5878ee5a2a6",
   "metadata": {},
   "outputs": [
    {
     "data": {
      "text/html": [
       "\n",
       "            <style>\n",
       "                .geemap-dark {\n",
       "                    --jp-widgets-color: white;\n",
       "                    --jp-widgets-label-color: white;\n",
       "                    --jp-ui-font-color1: white;\n",
       "                    --jp-layout-color2: #454545;\n",
       "                    background-color: #383838;\n",
       "                }\n",
       "\n",
       "                .geemap-dark .jupyter-button {\n",
       "                    --jp-layout-color3: #383838;\n",
       "                }\n",
       "\n",
       "                .geemap-colab {\n",
       "                    background-color: var(--colab-primary-surface-color, white);\n",
       "                }\n",
       "\n",
       "                .geemap-colab .jupyter-button {\n",
       "                    --jp-layout-color3: var(--colab-primary-surface-color, white);\n",
       "                }\n",
       "            </style>\n",
       "            "
      ],
      "text/plain": [
       "<IPython.core.display.HTML object>"
      ]
     },
     "metadata": {},
     "output_type": "display_data"
    }
   ],
   "source": [
    "\"\"\"\n",
    "Export coordinates for each urban area\n",
    "KEY: [utm zone, utm x, utm y]\n",
    "\"\"\"\n",
    "export_coords = {\n",
    "    'DMV':[18, 292000, 4372200],\n",
    "    'NYC':[18, 562680, 4550000],\n",
    "    'Phoenix':[12, 350000, 3749000],\n",
    "    'Miami':[17, 503991, 2915332],\n",
    "    'Chicago':[16, 386195, 4680677],\n",
    "    'Denver':[13, 466349, 4442816],\n",
    "    'Seattle':[10, 504628, 5311856],\n",
    "    'San_Francisco':[10, 541523, 4206919],\n",
    "    'Los_Angeles':[11, 352871, 3803787],\n",
    "    'Atlanta':[16, 703143, 3787639],\n",
    "    'Toronto':[17, 566749, 4867878],\n",
    "    'Mexico_City':[14, 426738, 2202781],\n",
    "    'Las_Vegas':[11, 618776, 4038562],\n",
    "    'Salt_Lake_City':[12, 387959, 4539501],\n",
    "    'Dallas':[14, 639754, 3678675],\n",
    "    'Houston':[15, 221804, 3334492],\n",
    "    'New_Orleans':[15, 717043, 3335222],\n",
    "    'St_Louis':[15, 675752, 4320402],\n",
    "    'Minneapolis':[15, 433510, 5031071],\n",
    "    'Jacksonville':[17, 421321, 3375918],\n",
    "    'Charlotte':[17, 463969, 3944648],\n",
    "    'Philadelphia':[18, 445906, 4467022],\n",
    "    'San_Diego':[11, 468102, 3666860],\n",
    "    'San_Juan':[19, 732591, 2098412],\n",
    "    'Montreal':[18, 557269, 5097647],\n",
    "    'Guadalajara':[13, 621576, 2326245],\n",
    "    'Monterrey':[14, 318956, 2885247],\n",
    "    'Cancun':[16, 491502, 2369076],\n",
    "    'Billings':[12, 655301, 5109344],\n",
    "    'Guatemala_City':[15, 711929, 1659823],\n",
    "    'San_Jose':[16, 772982, 1148166],\n",
    "    'Havana':[17, 310663, 2566532],\n",
    "    'Santo_Domingo':[19, 354586, 2108039],\n",
    "    'Tegucigalpa':[16, 401921, 1598242],\n",
    "    'Managua':[16, 524987, 1386278],\n",
    "    'Panama_City':[17, 610881, 1043658],\n",
    "    'Bogota':[18, 546553, 562185],\n",
    "    'Lima':[18, 262348, 8709133],\n",
    "    'Quito':[17, 730387, 29863],\n",
    "    'Santiago':[19, 288729, 6352433],\n",
    "    'Buenos_Aires':[21, 326030, 6204959],\n",
    "    'Sao_Paulo':[23, 294104, 7446208],\n",
    "    'Manaus':[20, 762402, 9705737],\n",
    "    'Punta_Arenas':[19, 353001, 4162220],\n",
    "    'La_Paz':[19, 548109, 8213756],\n",
    "    'Montevideo':[21, 545458, 6223320],\n",
    "    'Brasilia':[22, 799612, 8288848],\n",
    "    'Caracas':[19, 686519, 1174917]\n",
    "}"
   ]
  },
  {
   "cell_type": "code",
   "execution_count": 134,
   "id": "bb520107-2c8d-4de3-afd6-ff06d0f97bfa",
   "metadata": {},
   "outputs": [
    {
     "data": {
      "text/html": [
       "\n",
       "            <style>\n",
       "                .geemap-dark {\n",
       "                    --jp-widgets-color: white;\n",
       "                    --jp-widgets-label-color: white;\n",
       "                    --jp-ui-font-color1: white;\n",
       "                    --jp-layout-color2: #454545;\n",
       "                    background-color: #383838;\n",
       "                }\n",
       "\n",
       "                .geemap-dark .jupyter-button {\n",
       "                    --jp-layout-color3: #383838;\n",
       "                }\n",
       "\n",
       "                .geemap-colab {\n",
       "                    background-color: var(--colab-primary-surface-color, white);\n",
       "                }\n",
       "\n",
       "                .geemap-colab .jupyter-button {\n",
       "                    --jp-layout-color3: var(--colab-primary-surface-color, white);\n",
       "                }\n",
       "            </style>\n",
       "            "
      ],
      "text/plain": [
       "<IPython.core.display.HTML object>"
      ]
     },
     "metadata": {},
     "output_type": "display_data"
    },
    {
     "data": {
      "text/plain": [
       "[16, 491502, 2369076]"
      ]
     },
     "execution_count": 134,
     "metadata": {},
     "output_type": "execute_result"
    }
   ],
   "source": [
    "city_export = export_coords[city]\n",
    "city_export"
   ]
  },
  {
   "cell_type": "code",
   "execution_count": 21,
   "id": "8e3a1b68-eee2-4cfc-9b92-a584a0e5fe93",
   "metadata": {},
   "outputs": [
    {
     "data": {
      "text/html": [
       "\n",
       "            <style>\n",
       "                .geemap-dark {\n",
       "                    --jp-widgets-color: white;\n",
       "                    --jp-widgets-label-color: white;\n",
       "                    --jp-ui-font-color1: white;\n",
       "                    --jp-layout-color2: #454545;\n",
       "                    background-color: #383838;\n",
       "                }\n",
       "\n",
       "                .geemap-dark .jupyter-button {\n",
       "                    --jp-layout-color3: #383838;\n",
       "                }\n",
       "\n",
       "                .geemap-colab {\n",
       "                    background-color: var(--colab-primary-surface-color, white);\n",
       "                }\n",
       "\n",
       "                .geemap-colab .jupyter-button {\n",
       "                    --jp-layout-color3: var(--colab-primary-surface-color, white);\n",
       "                }\n",
       "            </style>\n",
       "            "
      ],
      "text/plain": [
       "<IPython.core.display.HTML object>"
      ]
     },
     "metadata": {},
     "output_type": "display_data"
    }
   ],
   "source": [
    "# Export GOES images\n",
    "num = processed.size().getInfo()\n",
    "#num = 1\n",
    "img_list = processed.toList(num)\n",
    "\n",
    "for i in list(range(num)):\n",
    "    img = ee.Image(img_list.get(i))\n",
    "    \n",
    "    task = ee.batch.Export.image.toDrive(\n",
    "        img, description=f'GOES_image_{i}', fileFormat='GeoTIFF', folder='GOES_DMV_2km',\n",
    "                dimensions='45x45', crs=f'EPSG:326{city_export[0]}', crsTransform=[2000, 0, city_export[1], 0, -2000, city_export[2]])\n",
    "    task.start()"
   ]
  },
  {
   "cell_type": "code",
   "execution_count": 41,
   "id": "671f465f-cfe8-4f8d-97f8-b23cff270eac",
   "metadata": {},
   "outputs": [
    {
     "data": {
      "text/html": [
       "\n",
       "            <style>\n",
       "                .geemap-dark {\n",
       "                    --jp-widgets-color: white;\n",
       "                    --jp-widgets-label-color: white;\n",
       "                    --jp-ui-font-color1: white;\n",
       "                    --jp-layout-color2: #454545;\n",
       "                    background-color: #383838;\n",
       "                }\n",
       "\n",
       "                .geemap-dark .jupyter-button {\n",
       "                    --jp-layout-color3: #383838;\n",
       "                }\n",
       "\n",
       "                .geemap-colab {\n",
       "                    background-color: var(--colab-primary-surface-color, white);\n",
       "                }\n",
       "\n",
       "                .geemap-colab .jupyter-button {\n",
       "                    --jp-layout-color3: var(--colab-primary-surface-color, white);\n",
       "                }\n",
       "            </style>\n",
       "            "
      ],
      "text/plain": [
       "<IPython.core.display.HTML object>"
      ]
     },
     "metadata": {},
     "output_type": "display_data"
    }
   ],
   "source": [
    "# Export Landsat/Sentinel images\n",
    "#num = processed2.size().getInfo()\n",
    "num = 1\n",
    "img_list = processed2.toList(num)\n",
    "\n",
    "for i in list(range(num)):\n",
    "    img = ee.Image(img_list.get(i))\n",
    "    \n",
    "    task = ee.batch.Export.image.toDrive(\n",
    "        img, description=f'Landsat_Sentinel_image_{i}', fileFormat='GeoTIFF', folder='Landsat_SAR_DMV_new',\n",
    "                dimensions='3000x3000', crs=f'EPSG:326{city_export[0]}', crsTransform=[30, 0, city_export[1], 0, -30, city_export[2]])\n",
    "    task.start()"
   ]
  },
  {
   "cell_type": "code",
   "execution_count": 135,
   "id": "0c2148bb-5ed7-40f5-898f-87d64460f396",
   "metadata": {},
   "outputs": [
    {
     "data": {
      "text/html": [
       "\n",
       "            <style>\n",
       "                .geemap-dark {\n",
       "                    --jp-widgets-color: white;\n",
       "                    --jp-widgets-label-color: white;\n",
       "                    --jp-ui-font-color1: white;\n",
       "                    --jp-layout-color2: #454545;\n",
       "                    background-color: #383838;\n",
       "                }\n",
       "\n",
       "                .geemap-dark .jupyter-button {\n",
       "                    --jp-layout-color3: #383838;\n",
       "                }\n",
       "\n",
       "                .geemap-colab {\n",
       "                    background-color: var(--colab-primary-surface-color, white);\n",
       "                }\n",
       "\n",
       "                .geemap-colab .jupyter-button {\n",
       "                    --jp-layout-color3: var(--colab-primary-surface-color, white);\n",
       "                }\n",
       "            </style>\n",
       "            "
      ],
      "text/plain": [
       "<IPython.core.display.HTML object>"
      ]
     },
     "metadata": {},
     "output_type": "display_data"
    }
   ],
   "source": [
    "# Export GOES images for export to GEE asset for visualizing\n",
    "crs_prefix = '326' # Northern hemisphere\n",
    "#crs_prefix = '327' # Southern hemisphere\n",
    "num = 1\n",
    "img_list = processed.toList(num)\n",
    "\n",
    "for i in list(range(num)):\n",
    "    img = ee.Image(img_list.get(i))\n",
    "    \n",
    "    task = ee.batch.Export.image.toAsset(\n",
    "        img, description=f'GOES_image_{i}', assetId=f'projects/ee-jonstar/assets/{city}_GOES_test',\n",
    "                dimensions='45x45', crs=f'EPSG:{crs_prefix}{city_export[0]}', crsTransform=[2000, 0, city_export[1], 0, -2000, city_export[2]])\n",
    "    task.start()"
   ]
  },
  {
   "cell_type": "code",
   "execution_count": 27,
   "id": "da166799-a727-4378-b112-299220bb91a7",
   "metadata": {},
   "outputs": [
    {
     "data": {
      "text/html": [
       "\n",
       "            <style>\n",
       "                .geemap-dark {\n",
       "                    --jp-widgets-color: white;\n",
       "                    --jp-widgets-label-color: white;\n",
       "                    --jp-ui-font-color1: white;\n",
       "                    --jp-layout-color2: #454545;\n",
       "                    background-color: #383838;\n",
       "                }\n",
       "\n",
       "                .geemap-dark .jupyter-button {\n",
       "                    --jp-layout-color3: #383838;\n",
       "                }\n",
       "\n",
       "                .geemap-colab {\n",
       "                    background-color: var(--colab-primary-surface-color, white);\n",
       "                }\n",
       "\n",
       "                .geemap-colab .jupyter-button {\n",
       "                    --jp-layout-color3: var(--colab-primary-surface-color, white);\n",
       "                }\n",
       "            </style>\n",
       "            "
      ],
      "text/plain": [
       "<IPython.core.display.HTML object>"
      ]
     },
     "metadata": {},
     "output_type": "display_data"
    }
   ],
   "source": [
    "# Export Landsat images for export to GEE asset for visualizing\n",
    "#crs_prefix = '326' # Northern hemisphere\n",
    "crs_prefix = '327' # Southern hemisphere\n",
    "num = 1\n",
    "img_list = processed2.toList(num)\n",
    "\n",
    "for i in list(range(num)):\n",
    "    img = ee.Image(img_list.get(i))\n",
    "    \n",
    "    task = ee.batch.Export.image.toAsset(\n",
    "        img, description=f'Landsat_Sentinel_image_{i}', assetId=f'projects/ee-jonstar/assets/{city}_LS_test',\n",
    "                dimensions='3000x3000', crs=f'EPSG:{crs_prefix}{city_export[0]}', crsTransform=[30, 0, city_export[1], 0, -30, city_export[2]])\n",
    "    task.start()"
   ]
  },
  {
   "cell_type": "code",
   "execution_count": null,
   "id": "78465290-4444-4b79-b6b0-95aeaf2b0a9d",
   "metadata": {},
   "outputs": [],
   "source": []
  }
 ],
 "metadata": {
  "kernelspec": {
   "display_name": "Python 3 (ipykernel)",
   "language": "python",
   "name": "python3"
  },
  "language_info": {
   "codemirror_mode": {
    "name": "ipython",
    "version": 3
   },
   "file_extension": ".py",
   "mimetype": "text/x-python",
   "name": "python",
   "nbconvert_exporter": "python",
   "pygments_lexer": "ipython3",
   "version": "3.12.3"
  }
 },
 "nbformat": 4,
 "nbformat_minor": 5
}
