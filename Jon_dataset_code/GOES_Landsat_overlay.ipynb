{
 "cells": [
  {
   "cell_type": "code",
   "execution_count": 1,
   "id": "4c7aa4d0-6a8e-4854-a14e-8c8277d11491",
   "metadata": {},
   "outputs": [],
   "source": [
    "import xarray as xr\n",
    "import pandas as pd\n",
    "import numpy as np\n",
    "import ee\n",
    "import multiprocessing\n",
    "import geemap\n",
    "import geetools\n",
    "from datetime import datetime\n",
    "import pytz\n",
    "from retry import retry\n",
    "import requests"
   ]
  },
  {
   "cell_type": "code",
   "execution_count": 2,
   "id": "99e606c7-ad3d-4713-b320-d0cb0c8b9db1",
   "metadata": {},
   "outputs": [
    {
     "data": {
      "text/html": [
       "\n",
       "            <style>\n",
       "                .geemap-dark {\n",
       "                    --jp-widgets-color: white;\n",
       "                    --jp-widgets-label-color: white;\n",
       "                    --jp-ui-font-color1: white;\n",
       "                    --jp-layout-color2: #454545;\n",
       "                    background-color: #383838;\n",
       "                }\n",
       "\n",
       "                .geemap-dark .jupyter-button {\n",
       "                    --jp-layout-color3: #383838;\n",
       "                }\n",
       "\n",
       "                .geemap-colab {\n",
       "                    background-color: var(--colab-primary-surface-color, white);\n",
       "                }\n",
       "\n",
       "                .geemap-colab .jupyter-button {\n",
       "                    --jp-layout-color3: var(--colab-primary-surface-color, white);\n",
       "                }\n",
       "            </style>\n",
       "            "
      ],
      "text/plain": [
       "<IPython.core.display.HTML object>"
      ]
     },
     "metadata": {},
     "output_type": "display_data"
    }
   ],
   "source": [
    "ee.Initialize(project='ee-jonstar')\n",
    "#ee.Initialize(project='ee-jonstar', opt_url='https://earthengine-highvolume.googleapis.com')"
   ]
  },
  {
   "cell_type": "code",
   "execution_count": 3,
   "id": "30746ed2-1246-4a0a-a48d-62a8e7b100fc",
   "metadata": {},
   "outputs": [
    {
     "data": {
      "text/html": [
       "\n",
       "            <style>\n",
       "                .geemap-dark {\n",
       "                    --jp-widgets-color: white;\n",
       "                    --jp-widgets-label-color: white;\n",
       "                    --jp-ui-font-color1: white;\n",
       "                    --jp-layout-color2: #454545;\n",
       "                    background-color: #383838;\n",
       "                }\n",
       "\n",
       "                .geemap-dark .jupyter-button {\n",
       "                    --jp-layout-color3: #383838;\n",
       "                }\n",
       "\n",
       "                .geemap-colab {\n",
       "                    background-color: var(--colab-primary-surface-color, white);\n",
       "                }\n",
       "\n",
       "                .geemap-colab .jupyter-button {\n",
       "                    --jp-layout-color3: var(--colab-primary-surface-color, white);\n",
       "                }\n",
       "            </style>\n",
       "            "
      ],
      "text/plain": [
       "<IPython.core.display.HTML object>"
      ]
     },
     "metadata": {},
     "output_type": "display_data"
    }
   ],
   "source": [
    "edt = pytz.timezone('US/Eastern')\n",
    "#mdt = pytz.timezone('US/Mountain')\n",
    "az = pytz.timezone('US/Arizona')\n",
    "\n",
    "\"\"\"\n",
    "Convert datetimes from your current timezone to a desired timezone.\n",
    "\n",
    "dt (datetime): python datetime object\n",
    "to_timezone (pytz timezone): timezone to convert to\n",
    "local_timezone (pytz timezone): the timezone you are currently in. Python uses your computer's internal clock, so whatever your computer is on.\n",
    "\"\"\"\n",
    "def toTimezone(dt, to_timezone, local_timezone=edt):\n",
    "    return local_timezone.normalize(local_timezone.localize(dt)).astimezone(to_timezone)"
   ]
  },
  {
   "cell_type": "markdown",
   "id": "06bf5ed4-7e65-47ec-b7e4-ff83f435a617",
   "metadata": {},
   "source": [
    "## CONUS Geometry"
   ]
  },
  {
   "cell_type": "code",
   "execution_count": 4,
   "id": "75d11fe2-a4fd-44a8-8535-c2bdcded6813",
   "metadata": {},
   "outputs": [
    {
     "data": {
      "text/html": [
       "\n",
       "            <style>\n",
       "                .geemap-dark {\n",
       "                    --jp-widgets-color: white;\n",
       "                    --jp-widgets-label-color: white;\n",
       "                    --jp-ui-font-color1: white;\n",
       "                    --jp-layout-color2: #454545;\n",
       "                    background-color: #383838;\n",
       "                }\n",
       "\n",
       "                .geemap-dark .jupyter-button {\n",
       "                    --jp-layout-color3: #383838;\n",
       "                }\n",
       "\n",
       "                .geemap-colab {\n",
       "                    background-color: var(--colab-primary-surface-color, white);\n",
       "                }\n",
       "\n",
       "                .geemap-colab .jupyter-button {\n",
       "                    --jp-layout-color3: var(--colab-primary-surface-color, white);\n",
       "                }\n",
       "            </style>\n",
       "            "
      ],
      "text/plain": [
       "<IPython.core.display.HTML object>"
      ]
     },
     "metadata": {},
     "output_type": "display_data"
    }
   ],
   "source": [
    "conus = ee.ImageCollection(\"GRIDMET/DROUGHT\").filterDate('2000-01-01', '2001-01-01')\n",
    "geometry = conus.geometry();"
   ]
  },
  {
   "cell_type": "code",
   "execution_count": 5,
   "id": "9dcdea5d-4da1-41ba-81fe-c89540ba9992",
   "metadata": {},
   "outputs": [
    {
     "data": {
      "text/html": [
       "\n",
       "            <style>\n",
       "                .geemap-dark {\n",
       "                    --jp-widgets-color: white;\n",
       "                    --jp-widgets-label-color: white;\n",
       "                    --jp-ui-font-color1: white;\n",
       "                    --jp-layout-color2: #454545;\n",
       "                    background-color: #383838;\n",
       "                }\n",
       "\n",
       "                .geemap-dark .jupyter-button {\n",
       "                    --jp-layout-color3: #383838;\n",
       "                }\n",
       "\n",
       "                .geemap-colab {\n",
       "                    background-color: var(--colab-primary-surface-color, white);\n",
       "                }\n",
       "\n",
       "                .geemap-colab .jupyter-button {\n",
       "                    --jp-layout-color3: var(--colab-primary-surface-color, white);\n",
       "                }\n",
       "            </style>\n",
       "            "
      ],
      "text/plain": [
       "<IPython.core.display.HTML object>"
      ]
     },
     "metadata": {},
     "output_type": "display_data"
    }
   ],
   "source": [
    "\"\"\"\n",
    "Points of interest for each urban area.\n",
    "KEY:\n",
    "First and second points = Landsat\n",
    "Third point = Sentinel\n",
    "If the second point is zero, then there is only one Landsat image needed to cover that city and its surrounding area\n",
    "The third point is defined near the city center. A circular region of 200 km is created around the third point\n",
    "to filter Sentinel-1 images, ensuring all of the necessary images will be present.\n",
    "\"\"\"\n",
    "city_points = {\n",
    "    'DMV':[ee.Geometry.Point(-76.6122, 39.2904), 0, ee.Geometry.Point(-76.863, 39.063)],\n",
    "    'NYC':[ee.Geometry.Point(-73.274, 40.688), 0, ee.Geometry.Point(-73.979, 40.751)],\n",
    "    'Atlanta':[ee.Geometry.Point(-84.039, 34.155), ee.Geometry.Point(-84.485, 33.641), ee.Geometry.Point(-84.38, 33.748)],\n",
    "    'Miami':[ee.Geometry.Point(-80.267, 25.818), 0, ee.Geometry.Point(-80.267, 25.818)],\n",
    "    'Chicago':[ee.Geometry.Point(-88.037, 41.826), 0, ee.Geometry.Point(-87.74, 41.78)],\n",
    "    'Phoenix':[ee.Geometry.Point(-112.02, 33.46), 0, ee.Geometry.Point(-112.064, 33.487)],\n",
    "    'Denver':[ee.Geometry.Point(-104.6, 39.6696), 0, ee.Geometry.Point(-104.985, 39.729)],\n",
    "    'Seattle':[ee.Geometry.Point(-121.952, 47.546), 0, ee.Geometry.Point(-122.322, 47.59)],\n",
    "    'San_Francisco':[ee.Geometry.Point(-122.179, 37.745), 0, ee.Geometry.Point(-122.365, 37.745)],\n",
    "    'Los_Angeles':[ee.Geometry.Point(-118.365, 34.279), ee.Geometry.Point(-118.744, 33.383), ee.Geometry.Point(-122.365, 37.745)],\n",
    "    'Toronto':[ee.Geometry.Point(-80.273, 43.289), ee.Geometry.Point(-79.609, 44.187), ee.Geometry.Point(-79.46, 43.616)],\n",
    "    'Mexico_City':[ee.Geometry.Point(-99.101, 19.012), ee.Geometry.Point(-99.187, 20.084), ee.Geometry.Point(-99.129, 19.422)],\n",
    "    'Las_Vegas':[ee.Geometry.Point(-115.162, 36.154), 0, ee.Geometry.Point(-115.161, 36.154)],\n",
    "    'Salt_Lake_City':[ee.Geometry.Point(-111.896, 40.752), ee.Geometry.Point(-111.57, 41.37), ee.Geometry.Point(-111.896, 40.752)],\n",
    "    'Dallas':[ee.Geometry.Point(-96.858, 32.789), 0, ee.Geometry.Point(-96.968, 32.794)],\n",
    "    'Houston':[ee.Geometry.Point(-94.816, 30.034), ee.Geometry.Point(-95.356, 29.399), ee.Geometry.Point(-95.376, 29.758)],\n",
    "    'New_Orleans':[ee.Geometry.Point(-90.102, 29.947), 0, ee.Geometry.Point(-90.102, 29.947)],\n",
    "    'St_Louis':[ee.Geometry.Point(-90.505, 38.644), 0, ee.Geometry.Point(-90.205, 38.624)],\n",
    "    'Minneapolis':[ee.Geometry.Point(-93.248, 44.969), 0, ee.Geometry.Point(-93.248, 44.969)],\n",
    "    'Jacksonville':[ee.Geometry.Point(-81.357, 30.292), 0, ee.Geometry.Point(-81.651, 30.327)],\n",
    "    'Charlotte':[ee.Geometry.Point(-80.797, 35.028), ee.Geometry.Point(-80.573, 35.63), ee.Geometry.Point(-80.842, 35.218)],\n",
    "    'Philadelphia':[ee.Geometry.Point(-75.133, 39.938), 0, ee.Geometry.Point(-75.154, 39.939)],\n",
    "    'San_Diego':[ee.Geometry.Point(-117.088, 32.647), 0, ee.Geometry.Point(-117.093, 32.578)],\n",
    "    'San_Juan':[ee.Geometry.Point(-66.157, 18.392), 0, ee.Geometry.Point(-66.066, 18.407)],\n",
    "    'Montreal':[ee.Geometry.Point(-73.589, 45.523), 0, ee.Geometry.Point(-73.59, 45.52)],\n",
    "    'Guadalajara':[ee.Geometry.Point(-103.35, 20.663), 0, ee.Geometry.Point(-103.35, 20.663)],\n",
    "    'Monterrey':[ee.Geometry.Point(-100.17, 25.897), 0, ee.Geometry.Point(-100.318, 25.711)],\n",
    "    'Cancun':[ee.Geometry.Point(-86.592, 21.402), ee.Geometry.Point(-86.725, 20.709), ee.Geometry.Point(-86.85, 21.161)],\n",
    "    'Billings':[ee.Geometry.Point(-108.5, 45.78), 0, ee.Geometry.Point(-108.504, 45.781)],\n",
    "    'Guatemala_City':[ee.Geometry.Point(-90.527, 14.623), 0, ee.Geometry.Point(-90.527, 14.623)],\n",
    "    'San_Jose':[ee.Geometry.Point(-84.082, 9.937), 0, ee.Geometry.Point(-84.082, 9.937)],\n",
    "    'Havana':[ee.Geometry.Point(-82.36, 23.128), 0, ee.Geometry.Point(-82.36, 23.128)],\n",
    "    'Santo_Domingo':[ee.Geometry.Point(-69.822, 18.681), 0, ee.Geometry.Point(-69.932, 18.468)],\n",
    "    'Tegucigalpa':[ee.Geometry.Point(-87.206, 14.171), 0, ee.Geometry.Point(-87.197, 14.057)],\n",
    "    'Managua':[ee.Geometry.Point(-86.269, 12.017), ee.Geometry.Point(-86.145, 12.349), ee.Geometry.Point(-86.239, 12.097)],\n",
    "    'Panama_City':[ee.Geometry.Point(-79.522, 8.98), 0, ee.Geometry.Point(-79.522, 8.98)],\n",
    "    'Bogota':[ee.Geometry.Point(-74.074, 4.697), 0, ee.Geometry.Point(-74.074, 4.697)],\n",
    "    'Lima':[ee.Geometry.Point(-76.887, -11.835), ee.Geometry.Point(-76.99, -12.383), ee.Geometry.Point(-77.065, -12.066)],\n",
    "    'Quito':[ee.Geometry.Point(-78.507, -.232), 0, ee.Geometry.Point(-78.507, -0.232)],\n",
    "    'Santiago':[ee.Geometry.Point(-70.667, -33.46), 0, ee.Geometry.Point(-70.667, -33.46)],\n",
    "    'Buenos_Aires':[ee.Geometry.Point(-58.543, -34.621), 0, ee.Geometry.Point(-58.458, -34.666)],\n",
    "    'Sao_Paulo':[ee.Geometry.Point(-46.644, -23.564), 0, ee.Geometry.Point(-46.644, -23.564)],\n",
    "    'Manaus':[ee.Geometry.Point(-60.037, -3.089), 0, ee.Geometry.Point(-60.037, -3.089)],\n",
    "    'Punta_Arenas':[ee.Geometry.Point(-70.184, -53.342), 0, ee.Geometry.Point(-70.909, -53.157)],\n",
    "    'La_Paz':[ee.Geometry.Point(-67.885, -17.004), ee.Geometry.Point(-67.965, -16.125), ee.Geometry.Point(-68.143, -16.522)],\n",
    "    'Montevideo':[ee.Geometry.Point(-56.175, -34.902), 0, ee.Geometry.Point(-56.175, -34.902)],\n",
    "    'Brasilia':[ee.Geometry.Point(-47.890, -15.799), 0, ee.Geometry.Point(-47.89, -15.799)],\n",
    "    'Caracas':[ee.Geometry.Point(-66.898, 10.475), 0, ee.Geometry.Point(-66.907, 10.474)]\n",
    "}"
   ]
  },
  {
   "cell_type": "code",
   "execution_count": 6,
   "id": "c5701f5c-a3dc-42ea-abca-7cc91a6d8a49",
   "metadata": {},
   "outputs": [
    {
     "data": {
      "text/html": [
       "\n",
       "            <style>\n",
       "                .geemap-dark {\n",
       "                    --jp-widgets-color: white;\n",
       "                    --jp-widgets-label-color: white;\n",
       "                    --jp-ui-font-color1: white;\n",
       "                    --jp-layout-color2: #454545;\n",
       "                    background-color: #383838;\n",
       "                }\n",
       "\n",
       "                .geemap-dark .jupyter-button {\n",
       "                    --jp-layout-color3: #383838;\n",
       "                }\n",
       "\n",
       "                .geemap-colab {\n",
       "                    background-color: var(--colab-primary-surface-color, white);\n",
       "                }\n",
       "\n",
       "                .geemap-colab .jupyter-button {\n",
       "                    --jp-layout-color3: var(--colab-primary-surface-color, white);\n",
       "                }\n",
       "            </style>\n",
       "            "
      ],
      "text/plain": [
       "<IPython.core.display.HTML object>"
      ]
     },
     "metadata": {},
     "output_type": "display_data"
    }
   ],
   "source": [
    "\"\"\"\n",
    "Export coordinates for each urban area\n",
    "KEY: [utm zone, utm x, utm y]\n",
    "\"\"\"\n",
    "export_coords = {\n",
    "    'DMV':[18, True, 292000, 4372200],\n",
    "    'NYC':[18, True, 562680, 4550000],\n",
    "    'Phoenix':[12, True, 350000, 3749000],\n",
    "    'Miami':[17, True, 503991, 2915332],\n",
    "    'Chicago':[16, True, 386195, 4680677],\n",
    "    'Denver':[13, True, 466349, 4442816],\n",
    "    'Seattle':[10, True, 504628, 5311856],\n",
    "    'San_Francisco':[10, True, 541523, 4206919],\n",
    "    'Los_Angeles':[11, True, 352871, 3803787],\n",
    "    'Atlanta':[16, True, 703143, 3787639],\n",
    "    'Toronto':[17, True, 566749, 4867878],\n",
    "    'Mexico_City':[14, True, 426738, 2202781],\n",
    "    'Las_Vegas':[11, True, 618776, 4038562],\n",
    "    'Salt_Lake_City':[12, True, 387959, 4539501],\n",
    "    'Dallas':[14, True, 639754, 3678675],\n",
    "    'Houston':[15, True, 221804, 3334492],\n",
    "    'New_Orleans':[15, True, 717043, 3335222],\n",
    "    'St_Louis':[15, True, 675752, 4320402],\n",
    "    'Minneapolis':[15, True, 433510, 5031071],\n",
    "    'Jacksonville':[17, True, 421321, 3375918],\n",
    "    'Charlotte':[17, True, 463969, 3944648],\n",
    "    'Philadelphia':[18, True, 445906, 4467022],\n",
    "    'San_Diego':[11, True, 468102, 3666860],\n",
    "    'San_Juan':[19, True, 732591, 2098412],\n",
    "    'Montreal':[18, True, 557269, 5097647],\n",
    "    'Guadalajara':[13, True, 621576, 2326245],\n",
    "    'Monterrey':[14, True, 318956, 2885247],\n",
    "    'Cancun':[16, True, 491502, 2369076],\n",
    "    'Billings':[12, True, 655301, 5109344],\n",
    "    'Guatemala_City':[15, True, 711929, 1659823],\n",
    "    'San_Jose':[16, True, 772982, 1148166],\n",
    "    'Havana':[17, 310663, True, 2566532],\n",
    "    'Santo_Domingo':[19, True, 354586, 2108039],\n",
    "    'Tegucigalpa':[16, True, 401921, 1598242],\n",
    "    'Managua':[16, True, 524987, 1386278],\n",
    "    'Panama_City':[17, True, 610881, 1043658],\n",
    "    'Bogota':[18, True, 546553, 562185],\n",
    "    'Lima':[18, False, 262348, 8709133],\n",
    "    'Quito':[17, True, 730387, 29863],\n",
    "    'Santiago':[19, False, 288729, 6352433],\n",
    "    'Buenos_Aires':[21, 326030, 6204959],\n",
    "    'Sao_Paulo':[23, False, 294104, 7446208],\n",
    "    'Manaus':[20, False, 762402, 9705737],\n",
    "    'Punta_Arenas':[19, False, 353001, 4162220],\n",
    "    'La_Paz':[19, False, 548109, 8213756],\n",
    "    'Montevideo':[21, False, 545458, 6223320],\n",
    "    'Brasilia':[22, False, 799612, 8288848],\n",
    "    'Caracas':[19, True, 686519, 1174917]\n",
    "}"
   ]
  },
  {
   "cell_type": "code",
   "execution_count": 7,
   "id": "10fc0c36-8825-4bc2-85f2-2bdd11245e80",
   "metadata": {},
   "outputs": [
    {
     "data": {
      "text/html": [
       "\n",
       "            <style>\n",
       "                .geemap-dark {\n",
       "                    --jp-widgets-color: white;\n",
       "                    --jp-widgets-label-color: white;\n",
       "                    --jp-ui-font-color1: white;\n",
       "                    --jp-layout-color2: #454545;\n",
       "                    background-color: #383838;\n",
       "                }\n",
       "\n",
       "                .geemap-dark .jupyter-button {\n",
       "                    --jp-layout-color3: #383838;\n",
       "                }\n",
       "\n",
       "                .geemap-colab {\n",
       "                    background-color: var(--colab-primary-surface-color, white);\n",
       "                }\n",
       "\n",
       "                .geemap-colab .jupyter-button {\n",
       "                    --jp-layout-color3: var(--colab-primary-surface-color, white);\n",
       "                }\n",
       "            </style>\n",
       "            "
      ],
      "text/plain": [
       "<IPython.core.display.HTML object>"
      ]
     },
     "metadata": {},
     "output_type": "display_data"
    },
    {
     "data": {
      "text/plain": [
       "[18, True, 562680, 4550000]"
      ]
     },
     "execution_count": 7,
     "metadata": {},
     "output_type": "execute_result"
    }
   ],
   "source": [
    "# Pull points to make data for a specific city (look above for options)\n",
    "city = 'NYC'\n",
    "points = city_points[city]\n",
    "city_export = export_coords[city]\n",
    "if city_export[1]:\n",
    "    crs_prefix = '326'\n",
    "else:\n",
    "    crs_prefix = '327'\n",
    "utm_proj = f'EPSG:{crs_prefix}{city_export[0]}'\n",
    "point = ee.Geometry.Point([city_export[2]+30*2999/2,city_export[3]-30*2999/2], utm_proj)\n",
    "export_region = point.buffer(distance=44990, proj=utm_proj).bounds(proj=utm_proj)\n",
    "city_export"
   ]
  },
  {
   "cell_type": "markdown",
   "id": "a66c0658-4cd8-4b10-b8e6-e233a9d71007",
   "metadata": {},
   "source": [
    "## Landsat Initialization"
   ]
  },
  {
   "cell_type": "code",
   "execution_count": 8,
   "id": "f1d1e568-5e3a-4e14-910c-ce0075e38b57",
   "metadata": {},
   "outputs": [
    {
     "data": {
      "text/html": [
       "\n",
       "            <style>\n",
       "                .geemap-dark {\n",
       "                    --jp-widgets-color: white;\n",
       "                    --jp-widgets-label-color: white;\n",
       "                    --jp-ui-font-color1: white;\n",
       "                    --jp-layout-color2: #454545;\n",
       "                    background-color: #383838;\n",
       "                }\n",
       "\n",
       "                .geemap-dark .jupyter-button {\n",
       "                    --jp-layout-color3: #383838;\n",
       "                }\n",
       "\n",
       "                .geemap-colab {\n",
       "                    background-color: var(--colab-primary-surface-color, white);\n",
       "                }\n",
       "\n",
       "                .geemap-colab .jupyter-button {\n",
       "                    --jp-layout-color3: var(--colab-primary-surface-color, white);\n",
       "                }\n",
       "            </style>\n",
       "            "
      ],
      "text/plain": [
       "<IPython.core.display.HTML object>"
      ]
     },
     "metadata": {},
     "output_type": "display_data"
    }
   ],
   "source": [
    "landsat = ee.ImageCollection(\"LANDSAT/LC08/C02/T1_L2\")"
   ]
  },
  {
   "cell_type": "code",
   "execution_count": 9,
   "id": "8e7cb361-7fd4-43f3-a846-0273ef2dee8a",
   "metadata": {},
   "outputs": [
    {
     "data": {
      "text/html": [
       "\n",
       "            <style>\n",
       "                .geemap-dark {\n",
       "                    --jp-widgets-color: white;\n",
       "                    --jp-widgets-label-color: white;\n",
       "                    --jp-ui-font-color1: white;\n",
       "                    --jp-layout-color2: #454545;\n",
       "                    background-color: #383838;\n",
       "                }\n",
       "\n",
       "                .geemap-dark .jupyter-button {\n",
       "                    --jp-layout-color3: #383838;\n",
       "                }\n",
       "\n",
       "                .geemap-colab {\n",
       "                    background-color: var(--colab-primary-surface-color, white);\n",
       "                }\n",
       "\n",
       "                .geemap-colab .jupyter-button {\n",
       "                    --jp-layout-color3: var(--colab-primary-surface-color, white);\n",
       "                }\n",
       "            </style>\n",
       "            "
      ],
      "text/plain": [
       "<IPython.core.display.HTML object>"
      ]
     },
     "metadata": {},
     "output_type": "display_data"
    }
   ],
   "source": [
    "landsat = landsat.filterDate('2022-01-01', '2024-01-01')\n",
    "landsat_US = landsat.filterBounds(points[0])\n",
    "if points[1] != 0:\n",
    "    #pt1_filt = ee.Filter.bounds(points[0])\n",
    "    #pt2_filt = ee.Filter.bounds(points[1])\n",
    "    #Landsat_pts_filt = ee.Filter.Or(pt1_filt, pt2_filt)\n",
    "    #landsat_US = landsat.filter(Landsat_pts_filt)\n",
    "    landsat_US2 = landsat.filterBounds(points[1])\n",
    "    print('Combine Landsat')\n",
    "elif points[0] == 0:\n",
    "    raise Exception('Points not formatted correctly')"
   ]
  },
  {
   "cell_type": "code",
   "execution_count": 10,
   "id": "e363ac74-03b8-4aa5-903e-c11413dfc1ca",
   "metadata": {},
   "outputs": [
    {
     "data": {
      "text/html": [
       "\n",
       "            <style>\n",
       "                .geemap-dark {\n",
       "                    --jp-widgets-color: white;\n",
       "                    --jp-widgets-label-color: white;\n",
       "                    --jp-ui-font-color1: white;\n",
       "                    --jp-layout-color2: #454545;\n",
       "                    background-color: #383838;\n",
       "                }\n",
       "\n",
       "                .geemap-dark .jupyter-button {\n",
       "                    --jp-layout-color3: #383838;\n",
       "                }\n",
       "\n",
       "                .geemap-colab {\n",
       "                    background-color: var(--colab-primary-surface-color, white);\n",
       "                }\n",
       "\n",
       "                .geemap-colab .jupyter-button {\n",
       "                    --jp-layout-color3: var(--colab-primary-surface-color, white);\n",
       "                }\n",
       "            </style>\n",
       "            "
      ],
      "text/plain": [
       "<IPython.core.display.HTML object>"
      ]
     },
     "metadata": {},
     "output_type": "display_data"
    },
    {
     "data": {
      "text/plain": [
       "{'type': 'Projection',\n",
       " 'crs': 'EPSG:32618',\n",
       " 'transform': [30, 0, 527085, 0, -30, 4582215]}"
      ]
     },
     "execution_count": 10,
     "metadata": {},
     "output_type": "execute_result"
    }
   ],
   "source": [
    "landsat_US.first().projection().getInfo()"
   ]
  },
  {
   "cell_type": "code",
   "execution_count": 11,
   "id": "73ba9699-2f1a-4904-ae0f-560f033228a1",
   "metadata": {},
   "outputs": [
    {
     "data": {
      "text/html": [
       "\n",
       "            <style>\n",
       "                .geemap-dark {\n",
       "                    --jp-widgets-color: white;\n",
       "                    --jp-widgets-label-color: white;\n",
       "                    --jp-ui-font-color1: white;\n",
       "                    --jp-layout-color2: #454545;\n",
       "                    background-color: #383838;\n",
       "                }\n",
       "\n",
       "                .geemap-dark .jupyter-button {\n",
       "                    --jp-layout-color3: #383838;\n",
       "                }\n",
       "\n",
       "                .geemap-colab {\n",
       "                    background-color: var(--colab-primary-surface-color, white);\n",
       "                }\n",
       "\n",
       "                .geemap-colab .jupyter-button {\n",
       "                    --jp-layout-color3: var(--colab-primary-surface-color, white);\n",
       "                }\n",
       "            </style>\n",
       "            "
      ],
      "text/plain": [
       "<IPython.core.display.HTML object>"
      ]
     },
     "metadata": {},
     "output_type": "display_data"
    }
   ],
   "source": [
    "# Preprocessing function\n",
    "def process_multiple_Landsat(image):\n",
    "    ######################################\n",
    "    # Combines Landsat images matched by time into one image\n",
    "    \n",
    "    match = ee.Image(image.get('matched_img'))\n",
    "    median_image = ee.ImageCollection([image, match]).median()\n",
    "\n",
    "    ######################################\n",
    "    # Timestamp portion\n",
    "    \n",
    "    # Function to get time from Landsat image\n",
    "    def get_Landsat_time(f):\n",
    "        Landsat_time = ee.Number(image.get('system:time_start'))       \n",
    "        return f.set('system:time_start', Landsat_time)\n",
    "\n",
    "    # Add timestamp back in\n",
    "    median_image = get_Landsat_time(median_image)\n",
    "    \n",
    "    return median_image"
   ]
  },
  {
   "cell_type": "code",
   "execution_count": 12,
   "id": "a8d4ab86-eddf-417f-a2f1-809f0b17c965",
   "metadata": {},
   "outputs": [
    {
     "data": {
      "text/html": [
       "\n",
       "            <style>\n",
       "                .geemap-dark {\n",
       "                    --jp-widgets-color: white;\n",
       "                    --jp-widgets-label-color: white;\n",
       "                    --jp-ui-font-color1: white;\n",
       "                    --jp-layout-color2: #454545;\n",
       "                    background-color: #383838;\n",
       "                }\n",
       "\n",
       "                .geemap-dark .jupyter-button {\n",
       "                    --jp-layout-color3: #383838;\n",
       "                }\n",
       "\n",
       "                .geemap-colab {\n",
       "                    background-color: var(--colab-primary-surface-color, white);\n",
       "                }\n",
       "\n",
       "                .geemap-colab .jupyter-button {\n",
       "                    --jp-layout-color3: var(--colab-primary-surface-color, white);\n",
       "                }\n",
       "            </style>\n",
       "            "
      ],
      "text/plain": [
       "<IPython.core.display.HTML object>"
      ]
     },
     "metadata": {},
     "output_type": "display_data"
    }
   ],
   "source": [
    "# Join sequential Landsat images\n",
    "if points[1] != 0:\n",
    "    best_join = ee.Join.saveBest(matchKey='matched_img', measureKey='time_diff', outer=False)\n",
    "    # Difference value is equal to 1 minute (for sequential Landsat images)\n",
    "    timeFiltLandsat = ee.Filter.maxDifference(difference=60e3, leftField='system:time_start', rightField='system:time_start')\n",
    "    Landsat_near = ee.ImageCollection(best_join.apply(landsat_US, landsat_US2, timeFiltLandsat))\n",
    "    landsat_US = Landsat_near.map(process_multiple_Landsat)\n",
    "    print('Landsat join')"
   ]
  },
  {
   "cell_type": "code",
   "execution_count": 13,
   "id": "cc49e5b9-3d55-4bcc-880a-8c19fc2f9cc6",
   "metadata": {},
   "outputs": [
    {
     "data": {
      "text/html": [
       "\n",
       "            <style>\n",
       "                .geemap-dark {\n",
       "                    --jp-widgets-color: white;\n",
       "                    --jp-widgets-label-color: white;\n",
       "                    --jp-ui-font-color1: white;\n",
       "                    --jp-layout-color2: #454545;\n",
       "                    background-color: #383838;\n",
       "                }\n",
       "\n",
       "                .geemap-dark .jupyter-button {\n",
       "                    --jp-layout-color3: #383838;\n",
       "                }\n",
       "\n",
       "                .geemap-colab {\n",
       "                    background-color: var(--colab-primary-surface-color, white);\n",
       "                }\n",
       "\n",
       "                .geemap-colab .jupyter-button {\n",
       "                    --jp-layout-color3: var(--colab-primary-surface-color, white);\n",
       "                }\n",
       "            </style>\n",
       "            "
      ],
      "text/plain": [
       "<IPython.core.display.HTML object>"
      ]
     },
     "metadata": {},
     "output_type": "display_data"
    },
    {
     "name": "stdout",
     "output_type": "stream",
     "text": [
      "37\n"
     ]
    }
   ],
   "source": [
    "print(landsat_US.size().getInfo())"
   ]
  },
  {
   "cell_type": "markdown",
   "id": "b65c6dd9-6bf6-428b-bca4-67669ad17e9b",
   "metadata": {},
   "source": [
    "## GOES Initialization"
   ]
  },
  {
   "cell_type": "code",
   "execution_count": 28,
   "id": "8451093f-22d5-400d-bc6e-93309ab4ea7c",
   "metadata": {},
   "outputs": [
    {
     "data": {
      "text/html": [
       "\n",
       "            <style>\n",
       "                .geemap-dark {\n",
       "                    --jp-widgets-color: white;\n",
       "                    --jp-widgets-label-color: white;\n",
       "                    --jp-ui-font-color1: white;\n",
       "                    --jp-layout-color2: #454545;\n",
       "                    background-color: #383838;\n",
       "                }\n",
       "\n",
       "                .geemap-dark .jupyter-button {\n",
       "                    --jp-layout-color3: #383838;\n",
       "                }\n",
       "\n",
       "                .geemap-colab {\n",
       "                    background-color: var(--colab-primary-surface-color, white);\n",
       "                }\n",
       "\n",
       "                .geemap-colab .jupyter-button {\n",
       "                    --jp-layout-color3: var(--colab-primary-surface-color, white);\n",
       "                }\n",
       "            </style>\n",
       "            "
      ],
      "text/plain": [
       "<IPython.core.display.HTML object>"
      ]
     },
     "metadata": {},
     "output_type": "display_data"
    }
   ],
   "source": [
    "GOES = ee.ImageCollection(\"NOAA/GOES/16/MCMIPF\").filterDate('2022-01-01', '2024-01-01')"
   ]
  },
  {
   "cell_type": "code",
   "execution_count": 56,
   "id": "4643d9e6-0c4f-4b5d-be03-9ff9025978de",
   "metadata": {},
   "outputs": [
    {
     "data": {
      "text/html": [
       "\n",
       "            <style>\n",
       "                .geemap-dark {\n",
       "                    --jp-widgets-color: white;\n",
       "                    --jp-widgets-label-color: white;\n",
       "                    --jp-ui-font-color1: white;\n",
       "                    --jp-layout-color2: #454545;\n",
       "                    background-color: #383838;\n",
       "                }\n",
       "\n",
       "                .geemap-dark .jupyter-button {\n",
       "                    --jp-layout-color3: #383838;\n",
       "                }\n",
       "\n",
       "                .geemap-colab {\n",
       "                    background-color: var(--colab-primary-surface-color, white);\n",
       "                }\n",
       "\n",
       "                .geemap-colab .jupyter-button {\n",
       "                    --jp-layout-color3: var(--colab-primary-surface-color, white);\n",
       "                }\n",
       "            </style>\n",
       "            "
      ],
      "text/plain": [
       "<IPython.core.display.HTML object>"
      ]
     },
     "metadata": {},
     "output_type": "display_data"
    }
   ],
   "source": [
    "gList = GOES.toList(8)"
   ]
  },
  {
   "cell_type": "code",
   "execution_count": 57,
   "id": "045b401f-86f5-4088-a59f-9ddd1b5e3916",
   "metadata": {},
   "outputs": [
    {
     "data": {
      "text/html": [
       "\n",
       "            <style>\n",
       "                .geemap-dark {\n",
       "                    --jp-widgets-color: white;\n",
       "                    --jp-widgets-label-color: white;\n",
       "                    --jp-ui-font-color1: white;\n",
       "                    --jp-layout-color2: #454545;\n",
       "                    background-color: #383838;\n",
       "                }\n",
       "\n",
       "                .geemap-dark .jupyter-button {\n",
       "                    --jp-layout-color3: #383838;\n",
       "                }\n",
       "\n",
       "                .geemap-colab {\n",
       "                    background-color: var(--colab-primary-surface-color, white);\n",
       "                }\n",
       "\n",
       "                .geemap-colab .jupyter-button {\n",
       "                    --jp-layout-color3: var(--colab-primary-surface-color, white);\n",
       "                }\n",
       "            </style>\n",
       "            "
      ],
      "text/plain": [
       "<IPython.core.display.HTML object>"
      ]
     },
     "metadata": {},
     "output_type": "display_data"
    },
    {
     "data": {
      "text/plain": [
       "{'type': 'Date', 'value': 1640995220500}"
      ]
     },
     "execution_count": 57,
     "metadata": {},
     "output_type": "execute_result"
    }
   ],
   "source": [
    "ee.Image(gList.get(0)).date().getInfo()"
   ]
  },
  {
   "cell_type": "code",
   "execution_count": 58,
   "id": "ae516c81-a637-486b-889d-311721ab92b7",
   "metadata": {},
   "outputs": [
    {
     "data": {
      "text/html": [
       "\n",
       "            <style>\n",
       "                .geemap-dark {\n",
       "                    --jp-widgets-color: white;\n",
       "                    --jp-widgets-label-color: white;\n",
       "                    --jp-ui-font-color1: white;\n",
       "                    --jp-layout-color2: #454545;\n",
       "                    background-color: #383838;\n",
       "                }\n",
       "\n",
       "                .geemap-dark .jupyter-button {\n",
       "                    --jp-layout-color3: #383838;\n",
       "                }\n",
       "\n",
       "                .geemap-colab {\n",
       "                    background-color: var(--colab-primary-surface-color, white);\n",
       "                }\n",
       "\n",
       "                .geemap-colab .jupyter-button {\n",
       "                    --jp-layout-color3: var(--colab-primary-surface-color, white);\n",
       "                }\n",
       "            </style>\n",
       "            "
      ],
      "text/plain": [
       "<IPython.core.display.HTML object>"
      ]
     },
     "metadata": {},
     "output_type": "display_data"
    },
    {
     "data": {
      "text/plain": [
       "datetime.datetime(2021, 12, 31, 19, 0, 20, 500000)"
      ]
     },
     "execution_count": 58,
     "metadata": {},
     "output_type": "execute_result"
    }
   ],
   "source": [
    "datetime.fromtimestamp(1640995220500/1000)"
   ]
  },
  {
   "cell_type": "markdown",
   "id": "ea20c471-9129-48eb-b6d6-7592fccadf46",
   "metadata": {},
   "source": [
    "## Sentinel-1 SAR Initialization"
   ]
  },
  {
   "cell_type": "code",
   "execution_count": 14,
   "id": "7da93cc9-2a15-49fe-961f-3bc764fbf4a1",
   "metadata": {},
   "outputs": [
    {
     "data": {
      "text/html": [
       "\n",
       "            <style>\n",
       "                .geemap-dark {\n",
       "                    --jp-widgets-color: white;\n",
       "                    --jp-widgets-label-color: white;\n",
       "                    --jp-ui-font-color1: white;\n",
       "                    --jp-layout-color2: #454545;\n",
       "                    background-color: #383838;\n",
       "                }\n",
       "\n",
       "                .geemap-dark .jupyter-button {\n",
       "                    --jp-layout-color3: #383838;\n",
       "                }\n",
       "\n",
       "                .geemap-colab {\n",
       "                    background-color: var(--colab-primary-surface-color, white);\n",
       "                }\n",
       "\n",
       "                .geemap-colab .jupyter-button {\n",
       "                    --jp-layout-color3: var(--colab-primary-surface-color, white);\n",
       "                }\n",
       "            </style>\n",
       "            "
      ],
      "text/plain": [
       "<IPython.core.display.HTML object>"
      ]
     },
     "metadata": {},
     "output_type": "display_data"
    }
   ],
   "source": [
    "sentinel = ee.ImageCollection(\"COPERNICUS/S1_GRD\").filterDate('2022-01-01', '2024-01-01').filterBounds(export_region)"
   ]
  },
  {
   "cell_type": "code",
   "execution_count": 16,
   "id": "fa89c17e-4437-4943-8bb1-2501accaa4ba",
   "metadata": {},
   "outputs": [
    {
     "data": {
      "text/html": [
       "\n",
       "            <style>\n",
       "                .geemap-dark {\n",
       "                    --jp-widgets-color: white;\n",
       "                    --jp-widgets-label-color: white;\n",
       "                    --jp-ui-font-color1: white;\n",
       "                    --jp-layout-color2: #454545;\n",
       "                    background-color: #383838;\n",
       "                }\n",
       "\n",
       "                .geemap-dark .jupyter-button {\n",
       "                    --jp-layout-color3: #383838;\n",
       "                }\n",
       "\n",
       "                .geemap-colab {\n",
       "                    background-color: var(--colab-primary-surface-color, white);\n",
       "                }\n",
       "\n",
       "                .geemap-colab .jupyter-button {\n",
       "                    --jp-layout-color3: var(--colab-primary-surface-color, white);\n",
       "                }\n",
       "            </style>\n",
       "            "
      ],
      "text/plain": [
       "<IPython.core.display.HTML object>"
      ]
     },
     "metadata": {},
     "output_type": "display_data"
    },
    {
     "name": "stdout",
     "output_type": "stream",
     "text": [
      "263\n"
     ]
    }
   ],
   "source": [
    "print(sentinel.size().getInfo())"
   ]
  },
  {
   "cell_type": "code",
   "execution_count": 17,
   "id": "21257395-5e13-417e-b467-67550d85bf30",
   "metadata": {
    "scrolled": true
   },
   "outputs": [
    {
     "data": {
      "text/html": [
       "\n",
       "            <style>\n",
       "                .geemap-dark {\n",
       "                    --jp-widgets-color: white;\n",
       "                    --jp-widgets-label-color: white;\n",
       "                    --jp-ui-font-color1: white;\n",
       "                    --jp-layout-color2: #454545;\n",
       "                    background-color: #383838;\n",
       "                }\n",
       "\n",
       "                .geemap-dark .jupyter-button {\n",
       "                    --jp-layout-color3: #383838;\n",
       "                }\n",
       "\n",
       "                .geemap-colab {\n",
       "                    background-color: var(--colab-primary-surface-color, white);\n",
       "                }\n",
       "\n",
       "                .geemap-colab .jupyter-button {\n",
       "                    --jp-layout-color3: var(--colab-primary-surface-color, white);\n",
       "                }\n",
       "            </style>\n",
       "            "
      ],
      "text/plain": [
       "<IPython.core.display.HTML object>"
      ]
     },
     "metadata": {},
     "output_type": "display_data"
    },
    {
     "data": {
      "text/plain": [
       "{'type': 'Image',\n",
       " 'bands': [{'id': 'VV',\n",
       "   'data_type': {'type': 'PixelType', 'precision': 'double'},\n",
       "   'dimensions': [28784, 21733],\n",
       "   'crs': 'EPSG:32617',\n",
       "   'crs_transform': [10, 0, 527982.3808518609, 0, -10, 4228563.444705663]},\n",
       "  {'id': 'VH',\n",
       "   'data_type': {'type': 'PixelType', 'precision': 'double'},\n",
       "   'dimensions': [28784, 21733],\n",
       "   'crs': 'EPSG:32617',\n",
       "   'crs_transform': [10, 0, 527982.3808518609, 0, -10, 4228563.444705663]},\n",
       "  {'id': 'angle',\n",
       "   'data_type': {'type': 'PixelType', 'precision': 'float'},\n",
       "   'dimensions': [21, 10],\n",
       "   'crs': 'EPSG:32617',\n",
       "   'crs_transform': [12629.074209022801,\n",
       "    -3935.400253922213,\n",
       "    560975.7942141764,\n",
       "    2513.568682119716,\n",
       "    20017.62993150344,\n",
       "    4011387.964067867]}],\n",
       " 'version': 1741701751763788,\n",
       " 'id': 'COPERNICUS/S1_GRD/S1A_IW_GRDH_1SDV_20220101T231457_20220101T231522_041274_04E7D6_8503',\n",
       " 'properties': {'SNAP_Graph_Processing_Framework_GPF_vers': '8.0.3',\n",
       "  'SLC_Processing_facility_org': 'ESA',\n",
       "  'SLC_Processing_facility_country': 'France',\n",
       "  'GRD_Post_Processing_facility_org': 'ESA',\n",
       "  'transmitterReceiverPolarisation': ['VV', 'VH'],\n",
       "  'GRD_Post_Processing_start': 1641121462534,\n",
       "  'sliceNumber': 18,\n",
       "  'GRD_Post_Processing_facility_name': 'Copernicus S1 Core Ground Segment - TLS',\n",
       "  'resolution': 'H',\n",
       "  'SLC_Processing_facility_name': 'Copernicus S1 Core Ground Segment - TLS',\n",
       "  'system:footprint': {'type': 'LinearRing',\n",
       "   'coordinates': [[-80.28615362263533, 36.25089730369841],\n",
       "    [-80.2440070348005, 36.25740160327935],\n",
       "    [-79.47504249199105, 36.373658225866016],\n",
       "    [-78.229552709178, 36.550787758002365],\n",
       "    [-77.59543139033137, 36.6356885504854],\n",
       "    [-77.52647367047976, 36.64474493868439],\n",
       "    [-77.59722892012728, 37.00187240272861],\n",
       "    [-77.66837847448373, 37.3582571399674],\n",
       "    [-77.76446254507233, 37.830428989981755],\n",
       "    [-77.82961774973114, 38.1476532369704],\n",
       "    [-78.54508438550194, 38.054824264736574],\n",
       "    [-79.24345182754504, 37.95973921653678],\n",
       "    [-80.64369999342463, 37.75573646496428],\n",
       "    [-80.64242624159841, 37.744486796826465],\n",
       "    [-80.49085461989475, 37.108378611118724],\n",
       "    [-80.34216736336222, 36.47387695714731],\n",
       "    [-80.32924594967068, 36.418902824717605],\n",
       "    [-80.29313159914231, 36.268049498153985],\n",
       "    [-80.2902272968814, 36.25666751090672],\n",
       "    [-80.28791466791364, 36.250907732962304],\n",
       "    [-80.28615362263533, 36.25089730369841]]},\n",
       "  'familyName': 'SENTINEL-1',\n",
       "  'segmentStartTime': 1641078468501,\n",
       "  'missionDataTakeID': 321494,\n",
       "  'GRD_Post_Processing_facility_country': 'France',\n",
       "  'nssdcIdentifier': '2014-016A',\n",
       "  'productClass': 'S',\n",
       "  'phaseIdentifier': 1,\n",
       "  'orbitProperties_pass': 'ASCENDING',\n",
       "  'relativeOrbitNumber_stop': 77,\n",
       "  'system:time_end': 1641078897000,\n",
       "  'platformHeading': -13.18184395079984,\n",
       "  'SLC_Processing_facility_site': 'Airbus Defence and Space-Toulouse',\n",
       "  'GRD_Post_Processing_stop': 1641122239000,\n",
       "  'system:time_start': 1641078897000,\n",
       "  'instrumentMode': 'IW',\n",
       "  'totalSlices': 23,\n",
       "  'SLC_Processing_stop': 1641121973000,\n",
       "  'startTimeANX': 588764.1,\n",
       "  'SLC_Processing_start': 1641121624000,\n",
       "  'resolution_meters': 10,\n",
       "  'instrumentSwath': 'IW',\n",
       "  'relativeOrbitNumber_start': 77,\n",
       "  'productTimelinessCategory': 'Fast-24h',\n",
       "  'SLC_Processing_software_name': 'Sentinel-1 IPF',\n",
       "  'sliceProductFlag': 'true',\n",
       "  'S1TBX_Calibration_vers': '8.0.3',\n",
       "  'orbitNumber_start': 41274,\n",
       "  'GRD_Post_Processing_facility_site': 'Airbus Defence and Space-Toulouse',\n",
       "  'instrument': 'Synthetic Aperture Radar',\n",
       "  'GRD_Post_Processing_software_name': 'Sentinel-1 IPF',\n",
       "  'platform_number': 'A',\n",
       "  'S1TBX_SAR_Processing_vers': '8.0.3',\n",
       "  'productType': 'GRD',\n",
       "  'orbitProperties_ascendingNodeTime': 1641078308438,\n",
       "  'stopTimeANX': 613763.1,\n",
       "  'productComposition': 'Slice',\n",
       "  'productClassDescription': 'SAR Standard L1 Product',\n",
       "  'GRD_Post_Processing_software_version': '003.40',\n",
       "  'SLC_Processing_software_version': '003.40',\n",
       "  'orbitNumber_stop': 41274,\n",
       "  'instrumentConfigurationID': 7,\n",
       "  'system:asset_size': 4038613586,\n",
       "  'cycleNumber': 250,\n",
       "  'system:index': 'S1A_IW_GRDH_1SDV_20220101T231457_20220101T231522_041274_04E7D6_8503'}}"
      ]
     },
     "execution_count": 17,
     "metadata": {},
     "output_type": "execute_result"
    }
   ],
   "source": [
    "sentinel.first().getInfo()"
   ]
  },
  {
   "cell_type": "markdown",
   "id": "f2d73511-20a0-46e5-892a-dc7565b9ae75",
   "metadata": {},
   "source": [
    "## Filtering images by time"
   ]
  },
  {
   "cell_type": "code",
   "execution_count": 15,
   "id": "ace12340-8543-493c-b8dc-d7d695bcf05b",
   "metadata": {},
   "outputs": [
    {
     "data": {
      "text/html": [
       "\n",
       "            <style>\n",
       "                .geemap-dark {\n",
       "                    --jp-widgets-color: white;\n",
       "                    --jp-widgets-label-color: white;\n",
       "                    --jp-ui-font-color1: white;\n",
       "                    --jp-layout-color2: #454545;\n",
       "                    background-color: #383838;\n",
       "                }\n",
       "\n",
       "                .geemap-dark .jupyter-button {\n",
       "                    --jp-layout-color3: #383838;\n",
       "                }\n",
       "\n",
       "                .geemap-colab {\n",
       "                    background-color: var(--colab-primary-surface-color, white);\n",
       "                }\n",
       "\n",
       "                .geemap-colab .jupyter-button {\n",
       "                    --jp-layout-color3: var(--colab-primary-surface-color, white);\n",
       "                }\n",
       "            </style>\n",
       "            "
      ],
      "text/plain": [
       "<IPython.core.display.HTML object>"
      ]
     },
     "metadata": {},
     "output_type": "display_data"
    }
   ],
   "source": [
    "# Join Landsat and Sentinel images\n",
    "all_join_LS = ee.Join.saveAll(matchesKey='matched_img', measureKey='time_diff', outer=True)\n",
    "# Difference value is equal to 3 days (Half of Sentinel-1 orbital period) in milliseconds\n",
    "timeFiltLandsatSentinel = ee.Filter.maxDifference(difference=5184e5, leftField='system:time_start', rightField='system:time_start')\n",
    "LandsatSentinel_near = ee.ImageCollection(all_join_LS.apply(landsat_US, sentinel, timeFiltLandsatSentinel))"
   ]
  },
  {
   "cell_type": "code",
   "execution_count": 20,
   "id": "a09a2e38-9798-486f-bdcf-0fa8122b390e",
   "metadata": {},
   "outputs": [
    {
     "data": {
      "text/html": [
       "\n",
       "            <style>\n",
       "                .geemap-dark {\n",
       "                    --jp-widgets-color: white;\n",
       "                    --jp-widgets-label-color: white;\n",
       "                    --jp-ui-font-color1: white;\n",
       "                    --jp-layout-color2: #454545;\n",
       "                    background-color: #383838;\n",
       "                }\n",
       "\n",
       "                .geemap-dark .jupyter-button {\n",
       "                    --jp-layout-color3: #383838;\n",
       "                }\n",
       "\n",
       "                .geemap-colab {\n",
       "                    background-color: var(--colab-primary-surface-color, white);\n",
       "                }\n",
       "\n",
       "                .geemap-colab .jupyter-button {\n",
       "                    --jp-layout-color3: var(--colab-primary-surface-color, white);\n",
       "                }\n",
       "            </style>\n",
       "            "
      ],
      "text/plain": [
       "<IPython.core.display.HTML object>"
      ]
     },
     "metadata": {},
     "output_type": "display_data"
    },
    {
     "data": {
      "text/plain": [
       "43"
      ]
     },
     "execution_count": 20,
     "metadata": {},
     "output_type": "execute_result"
    }
   ],
   "source": [
    "landsat_US.size().getInfo()"
   ]
  },
  {
   "cell_type": "code",
   "execution_count": 21,
   "id": "cc0e1b57-f80a-4a54-94ee-2bbc297f1591",
   "metadata": {},
   "outputs": [
    {
     "data": {
      "text/html": [
       "\n",
       "            <style>\n",
       "                .geemap-dark {\n",
       "                    --jp-widgets-color: white;\n",
       "                    --jp-widgets-label-color: white;\n",
       "                    --jp-ui-font-color1: white;\n",
       "                    --jp-layout-color2: #454545;\n",
       "                    background-color: #383838;\n",
       "                }\n",
       "\n",
       "                .geemap-dark .jupyter-button {\n",
       "                    --jp-layout-color3: #383838;\n",
       "                }\n",
       "\n",
       "                .geemap-colab {\n",
       "                    background-color: var(--colab-primary-surface-color, white);\n",
       "                }\n",
       "\n",
       "                .geemap-colab .jupyter-button {\n",
       "                    --jp-layout-color3: var(--colab-primary-surface-color, white);\n",
       "                }\n",
       "            </style>\n",
       "            "
      ],
      "text/plain": [
       "<IPython.core.display.HTML object>"
      ]
     },
     "metadata": {},
     "output_type": "display_data"
    },
    {
     "data": {
      "text/plain": [
       "43"
      ]
     },
     "execution_count": 21,
     "metadata": {},
     "output_type": "execute_result"
    }
   ],
   "source": [
    "LandsatSentinel_near.size().getInfo()"
   ]
  },
  {
   "cell_type": "code",
   "execution_count": 11,
   "id": "1f41eb09-6b23-4f5f-926c-63fd218573b8",
   "metadata": {},
   "outputs": [
    {
     "data": {
      "text/html": [
       "\n",
       "            <style>\n",
       "                .geemap-dark {\n",
       "                    --jp-widgets-color: white;\n",
       "                    --jp-widgets-label-color: white;\n",
       "                    --jp-ui-font-color1: white;\n",
       "                    --jp-layout-color2: #454545;\n",
       "                    background-color: #383838;\n",
       "                }\n",
       "\n",
       "                .geemap-dark .jupyter-button {\n",
       "                    --jp-layout-color3: #383838;\n",
       "                }\n",
       "\n",
       "                .geemap-colab {\n",
       "                    background-color: var(--colab-primary-surface-color, white);\n",
       "                }\n",
       "\n",
       "                .geemap-colab .jupyter-button {\n",
       "                    --jp-layout-color3: var(--colab-primary-surface-color, white);\n",
       "                }\n",
       "            </style>\n",
       "            "
      ],
      "text/plain": [
       "<IPython.core.display.HTML object>"
      ]
     },
     "metadata": {},
     "output_type": "display_data"
    },
    {
     "data": {
      "text/plain": [
       "696"
      ]
     },
     "execution_count": 11,
     "metadata": {},
     "output_type": "execute_result"
    }
   ],
   "source": [
    "GOES.size().getInfo()"
   ]
  },
  {
   "cell_type": "markdown",
   "id": "5909058d-64fd-4876-8bbe-b832359b8ab9",
   "metadata": {},
   "source": [
    "## Helper Functions"
   ]
  },
  {
   "cell_type": "code",
   "execution_count": 16,
   "id": "9f09742c-51d6-4034-ace3-2709a517e924",
   "metadata": {},
   "outputs": [
    {
     "data": {
      "text/html": [
       "\n",
       "            <style>\n",
       "                .geemap-dark {\n",
       "                    --jp-widgets-color: white;\n",
       "                    --jp-widgets-label-color: white;\n",
       "                    --jp-ui-font-color1: white;\n",
       "                    --jp-layout-color2: #454545;\n",
       "                    background-color: #383838;\n",
       "                }\n",
       "\n",
       "                .geemap-dark .jupyter-button {\n",
       "                    --jp-layout-color3: #383838;\n",
       "                }\n",
       "\n",
       "                .geemap-colab {\n",
       "                    background-color: var(--colab-primary-surface-color, white);\n",
       "                }\n",
       "\n",
       "                .geemap-colab .jupyter-button {\n",
       "                    --jp-layout-color3: var(--colab-primary-surface-color, white);\n",
       "                }\n",
       "            </style>\n",
       "            "
      ],
      "text/plain": [
       "<IPython.core.display.HTML object>"
      ]
     },
     "metadata": {},
     "output_type": "display_data"
    }
   ],
   "source": [
    "# Applies scale and offset factors for Landsat bands\n",
    "def scale_and_offset_Landsat(image):\n",
    "    reflect_weight = 0.0000275\n",
    "    reflect_bias = -0.2\n",
    "    reflect_image = image.select(['SR_B2', 'SR_B3', 'SR_B4', 'SR_B5', 'SR_B6', 'SR_B7']).multiply(reflect_weight).add(reflect_bias)\n",
    "\n",
    "    LST_weight = 0.00341802\n",
    "    LST_bias = 149\n",
    "    LST_image = image.select('ST_B10').multiply(LST_weight).add(LST_bias)\n",
    "\n",
    "    return reflect_image.addBands(srcImg=LST_image, names=['ST_B10'])"
   ]
  },
  {
   "cell_type": "code",
   "execution_count": 17,
   "id": "f8f46bf6-eee9-47c2-8fd4-ed036e408297",
   "metadata": {},
   "outputs": [
    {
     "data": {
      "text/html": [
       "\n",
       "            <style>\n",
       "                .geemap-dark {\n",
       "                    --jp-widgets-color: white;\n",
       "                    --jp-widgets-label-color: white;\n",
       "                    --jp-ui-font-color1: white;\n",
       "                    --jp-layout-color2: #454545;\n",
       "                    background-color: #383838;\n",
       "                }\n",
       "\n",
       "                .geemap-dark .jupyter-button {\n",
       "                    --jp-layout-color3: #383838;\n",
       "                }\n",
       "\n",
       "                .geemap-colab {\n",
       "                    background-color: var(--colab-primary-surface-color, white);\n",
       "                }\n",
       "\n",
       "                .geemap-colab .jupyter-button {\n",
       "                    --jp-layout-color3: var(--colab-primary-surface-color, white);\n",
       "                }\n",
       "            </style>\n",
       "            "
      ],
      "text/plain": [
       "<IPython.core.display.HTML object>"
      ]
     },
     "metadata": {},
     "output_type": "display_data"
    }
   ],
   "source": [
    "# Applies scale and offset factors for GOES imagery\n",
    "# All scale and offset values were taken straight from GEE to save compute\n",
    "def scale_and_offset_GOES(image):\n",
    "    #reflectances = image.select(['CMI_C01', 'CMI_C02', 'CMI_C03', 'CMI_C05', 'CMI_C06']).multiply(0.0002442)\n",
    "    weight = 0.039316241\n",
    "    bias = 173.14999\n",
    "    brightness_temps = image.select(['CMI_C13', 'CMI_C14', 'CMI_C15', 'CMI_C16']).multiply(weight).add(bias)\n",
    "    \n",
    "    #return reflectances.addBands(srcImg=brightness_temps, names=['CMI_C14', 'CMI_C15'])\n",
    "    return brightness_temps"
   ]
  },
  {
   "cell_type": "code",
   "execution_count": 18,
   "id": "e29fded5-1b3f-486d-a5ad-99b26c2ccb87",
   "metadata": {},
   "outputs": [
    {
     "data": {
      "text/html": [
       "\n",
       "            <style>\n",
       "                .geemap-dark {\n",
       "                    --jp-widgets-color: white;\n",
       "                    --jp-widgets-label-color: white;\n",
       "                    --jp-ui-font-color1: white;\n",
       "                    --jp-layout-color2: #454545;\n",
       "                    background-color: #383838;\n",
       "                }\n",
       "\n",
       "                .geemap-dark .jupyter-button {\n",
       "                    --jp-layout-color3: #383838;\n",
       "                }\n",
       "\n",
       "                .geemap-colab {\n",
       "                    background-color: var(--colab-primary-surface-color, white);\n",
       "                }\n",
       "\n",
       "                .geemap-colab .jupyter-button {\n",
       "                    --jp-layout-color3: var(--colab-primary-surface-color, white);\n",
       "                }\n",
       "            </style>\n",
       "            "
      ],
      "text/plain": [
       "<IPython.core.display.HTML object>"
      ]
     },
     "metadata": {},
     "output_type": "display_data"
    }
   ],
   "source": [
    "# Preprocessing function\n",
    "def process_GOES(image):\n",
    "    ######################################\n",
    "    # GOES portion\n",
    "\n",
    "    # Scaling and offset\n",
    "    #image2 = ee.Image(feature.get('matched_img'))\n",
    "    GOES_image = scale_and_offset_GOES(image)\n",
    "\n",
    "    ######################################\n",
    "    # Timestamp portion\n",
    "    \n",
    "    # Function to get time from GOES image\\    \n",
    "    def get_GOES_time(f):\n",
    "        GOES_time = ee.Number(image.get('system:time_start'))       \n",
    "        return f.set('timestamp', GOES_time)\n",
    "\n",
    "    # Add timestamp back in\n",
    "    #landsat_image = get_GOES_time(landsat_image)\n",
    "    GOES_image = get_GOES_time(GOES_image)\n",
    "\n",
    "    ##########################################\n",
    "    \n",
    "    #image = landsat_image.addBands(srcImg=GOES_image, names=['CMI_C01', 'CMI_C02', 'CMI_C03', 'CMI_C05',\n",
    "    #                                                         'CMI_C06', 'CMI_C14', 'CMI_C15']).cast({'QA_PIXEL':'double'})\n",
    "    return GOES_image"
   ]
  },
  {
   "cell_type": "code",
   "execution_count": 161,
   "id": "8335affd-1ac5-40b0-90c2-8cccf177b602",
   "metadata": {},
   "outputs": [
    {
     "data": {
      "text/html": [
       "\n",
       "            <style>\n",
       "                .geemap-dark {\n",
       "                    --jp-widgets-color: white;\n",
       "                    --jp-widgets-label-color: white;\n",
       "                    --jp-ui-font-color1: white;\n",
       "                    --jp-layout-color2: #454545;\n",
       "                    background-color: #383838;\n",
       "                }\n",
       "\n",
       "                .geemap-dark .jupyter-button {\n",
       "                    --jp-layout-color3: #383838;\n",
       "                }\n",
       "\n",
       "                .geemap-colab {\n",
       "                    background-color: var(--colab-primary-surface-color, white);\n",
       "                }\n",
       "\n",
       "                .geemap-colab .jupyter-button {\n",
       "                    --jp-layout-color3: var(--colab-primary-surface-color, white);\n",
       "                }\n",
       "            </style>\n",
       "            "
      ],
      "text/plain": [
       "<IPython.core.display.HTML object>"
      ]
     },
     "metadata": {},
     "output_type": "display_data"
    }
   ],
   "source": [
    "lslist = LandsatSentinel_near.toList(37)"
   ]
  },
  {
   "cell_type": "code",
   "execution_count": 218,
   "id": "1f7b375f-151d-440b-94bc-b0c66ac1a692",
   "metadata": {},
   "outputs": [
    {
     "data": {
      "text/html": [
       "\n",
       "            <style>\n",
       "                .geemap-dark {\n",
       "                    --jp-widgets-color: white;\n",
       "                    --jp-widgets-label-color: white;\n",
       "                    --jp-ui-font-color1: white;\n",
       "                    --jp-layout-color2: #454545;\n",
       "                    background-color: #383838;\n",
       "                }\n",
       "\n",
       "                .geemap-dark .jupyter-button {\n",
       "                    --jp-layout-color3: #383838;\n",
       "                }\n",
       "\n",
       "                .geemap-colab {\n",
       "                    background-color: var(--colab-primary-surface-color, white);\n",
       "                }\n",
       "\n",
       "                .geemap-colab .jupyter-button {\n",
       "                    --jp-layout-color3: var(--colab-primary-surface-color, white);\n",
       "                }\n",
       "            </style>\n",
       "            "
      ],
      "text/plain": [
       "<IPython.core.display.HTML object>"
      ]
     },
     "metadata": {},
     "output_type": "display_data"
    },
    {
     "name": "stdout",
     "output_type": "stream",
     "text": [
      "['VV', 'VH', 'angle']\n",
      "['HH', 'HV', 'angle']\n"
     ]
    },
    {
     "ename": "EEException",
     "evalue": "Element.get: Parameter 'object' is required and may not be null.",
     "output_type": "error",
     "traceback": [
      "\u001b[0;31m---------------------------------------------------------------------------\u001b[0m",
      "\u001b[0;31mHttpError\u001b[0m                                 Traceback (most recent call last)",
      "File \u001b[0;32m/opt/anaconda3/envs/heat/lib/python3.12/site-packages/ee/data.py:408\u001b[0m, in \u001b[0;36m_execute_cloud_call\u001b[0;34m(call, num_retries)\u001b[0m\n\u001b[1;32m    407\u001b[0m \u001b[38;5;28;01mtry\u001b[39;00m:\n\u001b[0;32m--> 408\u001b[0m   \u001b[38;5;28;01mreturn\u001b[39;00m call\u001b[38;5;241m.\u001b[39mexecute(num_retries\u001b[38;5;241m=\u001b[39mnum_retries)\n\u001b[1;32m    409\u001b[0m \u001b[38;5;28;01mexcept\u001b[39;00m googleapiclient\u001b[38;5;241m.\u001b[39merrors\u001b[38;5;241m.\u001b[39mHttpError \u001b[38;5;28;01mas\u001b[39;00m e:\n",
      "File \u001b[0;32m/opt/anaconda3/envs/heat/lib/python3.12/site-packages/googleapiclient/_helpers.py:130\u001b[0m, in \u001b[0;36mpositional.<locals>.positional_decorator.<locals>.positional_wrapper\u001b[0;34m(*args, **kwargs)\u001b[0m\n\u001b[1;32m    129\u001b[0m         logger\u001b[38;5;241m.\u001b[39mwarning(message)\n\u001b[0;32m--> 130\u001b[0m \u001b[38;5;28;01mreturn\u001b[39;00m wrapped(\u001b[38;5;241m*\u001b[39margs, \u001b[38;5;241m*\u001b[39m\u001b[38;5;241m*\u001b[39mkwargs)\n",
      "File \u001b[0;32m/opt/anaconda3/envs/heat/lib/python3.12/site-packages/googleapiclient/http.py:938\u001b[0m, in \u001b[0;36mHttpRequest.execute\u001b[0;34m(self, http, num_retries)\u001b[0m\n\u001b[1;32m    937\u001b[0m \u001b[38;5;28;01mif\u001b[39;00m resp\u001b[38;5;241m.\u001b[39mstatus \u001b[38;5;241m>\u001b[39m\u001b[38;5;241m=\u001b[39m \u001b[38;5;241m300\u001b[39m:\n\u001b[0;32m--> 938\u001b[0m     \u001b[38;5;28;01mraise\u001b[39;00m HttpError(resp, content, uri\u001b[38;5;241m=\u001b[39m\u001b[38;5;28mself\u001b[39m\u001b[38;5;241m.\u001b[39muri)\n\u001b[1;32m    939\u001b[0m \u001b[38;5;28;01mreturn\u001b[39;00m \u001b[38;5;28mself\u001b[39m\u001b[38;5;241m.\u001b[39mpostproc(resp, content)\n",
      "\u001b[0;31mHttpError\u001b[0m: <HttpError 400 when requesting https://earthengine.googleapis.com/v1/projects/ee-jonstar/value:compute?prettyPrint=false&alt=json returned \"Element.get: Parameter 'object' is required and may not be null.\". Details: \"Element.get: Parameter 'object' is required and may not be null.\">",
      "\nDuring handling of the above exception, another exception occurred:\n",
      "\u001b[0;31mEEException\u001b[0m                               Traceback (most recent call last)",
      "Cell \u001b[0;32mIn[218], line 1\u001b[0m\n\u001b[0;32m----> 1\u001b[0m img \u001b[38;5;241m=\u001b[39m process_multiple_sentinel(ee\u001b[38;5;241m.\u001b[39mImage(lslist\u001b[38;5;241m.\u001b[39mget(\u001b[38;5;241m28\u001b[39m)), export_region)\n\u001b[1;32m      2\u001b[0m img\u001b[38;5;241m.\u001b[39mgetInfo()\n",
      "Cell \u001b[0;32mIn[217], line 26\u001b[0m, in \u001b[0;36mprocess_multiple_sentinel\u001b[0;34m(feature, export_region_clipped)\u001b[0m\n\u001b[1;32m     24\u001b[0m nearest_img \u001b[38;5;241m=\u001b[39m ee\u001b[38;5;241m.\u001b[39mImageCollection(best_join\u001b[38;5;241m.\u001b[39mapply(Landsat_col, Sentinel_col, time_filt))\u001b[38;5;241m.\u001b[39mfirst()\n\u001b[1;32m     25\u001b[0m nearest_Sentinel \u001b[38;5;241m=\u001b[39m ee\u001b[38;5;241m.\u001b[39mImage(nearest_img\u001b[38;5;241m.\u001b[39mget(\u001b[38;5;124m'\u001b[39m\u001b[38;5;124mmatched_img\u001b[39m\u001b[38;5;124m'\u001b[39m))\n\u001b[0;32m---> 26\u001b[0m \u001b[38;5;28mprint\u001b[39m(nearest_Sentinel\u001b[38;5;241m.\u001b[39mbandNames()\u001b[38;5;241m.\u001b[39mgetInfo())\n\u001b[1;32m     28\u001b[0m \u001b[38;5;66;03m# Clip nearest Sentinel image to the remaining portion of the export region and update running Sentinel image\u001b[39;00m\n\u001b[1;32m     29\u001b[0m nearest_Sentinel_clip \u001b[38;5;241m=\u001b[39m nearest_Sentinel\u001b[38;5;241m.\u001b[39mclip(export_region_clipped)\n",
      "File \u001b[0;32m/opt/anaconda3/envs/heat/lib/python3.12/site-packages/ee/computedobject.py:107\u001b[0m, in \u001b[0;36mComputedObject.getInfo\u001b[0;34m(self)\u001b[0m\n\u001b[1;32m    101\u001b[0m \u001b[38;5;28;01mdef\u001b[39;00m \u001b[38;5;21mgetInfo\u001b[39m(\u001b[38;5;28mself\u001b[39m) \u001b[38;5;241m-\u001b[39m\u001b[38;5;241m>\u001b[39m Optional[Any]:\n\u001b[1;32m    102\u001b[0m \u001b[38;5;250m  \u001b[39m\u001b[38;5;124;03m\"\"\"Fetch and return information about this object.\u001b[39;00m\n\u001b[1;32m    103\u001b[0m \n\u001b[1;32m    104\u001b[0m \u001b[38;5;124;03m  Returns:\u001b[39;00m\n\u001b[1;32m    105\u001b[0m \u001b[38;5;124;03m    The object can evaluate to anything.\u001b[39;00m\n\u001b[1;32m    106\u001b[0m \u001b[38;5;124;03m  \"\"\"\u001b[39;00m\n\u001b[0;32m--> 107\u001b[0m   \u001b[38;5;28;01mreturn\u001b[39;00m data\u001b[38;5;241m.\u001b[39mcomputeValue(\u001b[38;5;28mself\u001b[39m)\n",
      "File \u001b[0;32m/opt/anaconda3/envs/heat/lib/python3.12/site-packages/ee/data.py:1128\u001b[0m, in \u001b[0;36mcomputeValue\u001b[0;34m(obj)\u001b[0m\n\u001b[1;32m   1125\u001b[0m body \u001b[38;5;241m=\u001b[39m {\u001b[38;5;124m'\u001b[39m\u001b[38;5;124mexpression\u001b[39m\u001b[38;5;124m'\u001b[39m: serializer\u001b[38;5;241m.\u001b[39mencode(obj, for_cloud_api\u001b[38;5;241m=\u001b[39m\u001b[38;5;28;01mTrue\u001b[39;00m)}\n\u001b[1;32m   1126\u001b[0m _maybe_populate_workload_tag(body)\n\u001b[0;32m-> 1128\u001b[0m \u001b[38;5;28;01mreturn\u001b[39;00m _execute_cloud_call(\n\u001b[1;32m   1129\u001b[0m     _get_cloud_projects()\n\u001b[1;32m   1130\u001b[0m     \u001b[38;5;241m.\u001b[39mvalue()\n\u001b[1;32m   1131\u001b[0m     \u001b[38;5;241m.\u001b[39mcompute(body\u001b[38;5;241m=\u001b[39mbody, project\u001b[38;5;241m=\u001b[39m_get_projects_path(), prettyPrint\u001b[38;5;241m=\u001b[39m\u001b[38;5;28;01mFalse\u001b[39;00m)\n\u001b[1;32m   1132\u001b[0m )[\u001b[38;5;124m'\u001b[39m\u001b[38;5;124mresult\u001b[39m\u001b[38;5;124m'\u001b[39m]\n",
      "File \u001b[0;32m/opt/anaconda3/envs/heat/lib/python3.12/site-packages/ee/data.py:410\u001b[0m, in \u001b[0;36m_execute_cloud_call\u001b[0;34m(call, num_retries)\u001b[0m\n\u001b[1;32m    408\u001b[0m   \u001b[38;5;28;01mreturn\u001b[39;00m call\u001b[38;5;241m.\u001b[39mexecute(num_retries\u001b[38;5;241m=\u001b[39mnum_retries)\n\u001b[1;32m    409\u001b[0m \u001b[38;5;28;01mexcept\u001b[39;00m googleapiclient\u001b[38;5;241m.\u001b[39merrors\u001b[38;5;241m.\u001b[39mHttpError \u001b[38;5;28;01mas\u001b[39;00m e:\n\u001b[0;32m--> 410\u001b[0m   \u001b[38;5;28;01mraise\u001b[39;00m _translate_cloud_exception(e)\n",
      "\u001b[0;31mEEException\u001b[0m: Element.get: Parameter 'object' is required and may not be null."
     ]
    }
   ],
   "source": [
    "img = process_multiple_sentinel(ee.Image(lslist.get(28)), export_region)\n",
    "img.getInfo()"
   ]
  },
  {
   "cell_type": "code",
   "execution_count": 220,
   "id": "e2ac337b-aa55-483e-8f94-94fbc4b47375",
   "metadata": {},
   "outputs": [
    {
     "data": {
      "text/html": [
       "\n",
       "            <style>\n",
       "                .geemap-dark {\n",
       "                    --jp-widgets-color: white;\n",
       "                    --jp-widgets-label-color: white;\n",
       "                    --jp-ui-font-color1: white;\n",
       "                    --jp-layout-color2: #454545;\n",
       "                    background-color: #383838;\n",
       "                }\n",
       "\n",
       "                .geemap-dark .jupyter-button {\n",
       "                    --jp-layout-color3: #383838;\n",
       "                }\n",
       "\n",
       "                .geemap-colab {\n",
       "                    background-color: var(--colab-primary-surface-color, white);\n",
       "                }\n",
       "\n",
       "                .geemap-colab .jupyter-button {\n",
       "                    --jp-layout-color3: var(--colab-primary-surface-color, white);\n",
       "                }\n",
       "            </style>\n",
       "            "
      ],
      "text/plain": [
       "<IPython.core.display.HTML object>"
      ]
     },
     "metadata": {},
     "output_type": "display_data"
    },
    {
     "data": {
      "text/plain": [
       "1688830402418"
      ]
     },
     "execution_count": 220,
     "metadata": {},
     "output_type": "execute_result"
    }
   ],
   "source": [
    "ee.Image(lslist.get(28)).get('system:time_start').getInfo()"
   ]
  },
  {
   "cell_type": "code",
   "execution_count": 227,
   "id": "d34b117d-f2df-4bfa-a497-53b544ce1665",
   "metadata": {},
   "outputs": [
    {
     "data": {
      "text/html": [
       "\n",
       "            <style>\n",
       "                .geemap-dark {\n",
       "                    --jp-widgets-color: white;\n",
       "                    --jp-widgets-label-color: white;\n",
       "                    --jp-ui-font-color1: white;\n",
       "                    --jp-layout-color2: #454545;\n",
       "                    background-color: #383838;\n",
       "                }\n",
       "\n",
       "                .geemap-dark .jupyter-button {\n",
       "                    --jp-layout-color3: #383838;\n",
       "                }\n",
       "\n",
       "                .geemap-colab {\n",
       "                    background-color: var(--colab-primary-surface-color, white);\n",
       "                }\n",
       "\n",
       "                .geemap-colab .jupyter-button {\n",
       "                    --jp-layout-color3: var(--colab-primary-surface-color, white);\n",
       "                }\n",
       "            </style>\n",
       "            "
      ],
      "text/plain": [
       "<IPython.core.display.HTML object>"
      ]
     },
     "metadata": {},
     "output_type": "display_data"
    }
   ],
   "source": [
    "Sentinel_col = ee.ImageCollection(ee.List(ee.Image(lslist.get(28)).get('matched_img')))"
   ]
  },
  {
   "cell_type": "code",
   "execution_count": 245,
   "id": "af27a7e3-c90c-4005-a6f9-48380c0651f3",
   "metadata": {},
   "outputs": [
    {
     "data": {
      "text/html": [
       "\n",
       "            <style>\n",
       "                .geemap-dark {\n",
       "                    --jp-widgets-color: white;\n",
       "                    --jp-widgets-label-color: white;\n",
       "                    --jp-ui-font-color1: white;\n",
       "                    --jp-layout-color2: #454545;\n",
       "                    background-color: #383838;\n",
       "                }\n",
       "\n",
       "                .geemap-dark .jupyter-button {\n",
       "                    --jp-layout-color3: #383838;\n",
       "                }\n",
       "\n",
       "                .geemap-colab {\n",
       "                    background-color: var(--colab-primary-surface-color, white);\n",
       "                }\n",
       "\n",
       "                .geemap-colab .jupyter-button {\n",
       "                    --jp-layout-color3: var(--colab-primary-surface-color, white);\n",
       "                }\n",
       "            </style>\n",
       "            "
      ],
      "text/plain": [
       "<IPython.core.display.HTML object>"
      ]
     },
     "metadata": {},
     "output_type": "display_data"
    }
   ],
   "source": [
    "# Define the complete set of bands you want to work with\n",
    "all_bands = ['VV', 'VH', 'HH', 'HV', 'angle']  # Example band list\n",
    "\n",
    "# Function to add missing bands\n",
    "def add_missing_bands(image):\n",
    "    # Get the bands present in the image\n",
    "    existing_bands = image.bandNames()\n",
    "    # Determine the missing bands\n",
    "    missing_bands = ee.List(all_bands).removeAll(existing_bands)\n",
    "    # Add missing bands with a default value of zero\n",
    "    filled_image = missing_bands.iterate(\n",
    "        lambda band, img: ee.Image(img).addBands(ee.Image.constant(-999).rename([band])),\n",
    "        image\n",
    "    )\n",
    "    # Ensure the image has all bands in the correct order\n",
    "    return ee.Image(filled_image).select(all_bands)\n",
    "    \n",
    "sorted_collection = Sentinel_col.map(add_time_difference).map(add_missing_bands).sort('time_diff', False)"
   ]
  },
  {
   "cell_type": "code",
   "execution_count": 208,
   "id": "d240110f-9415-4712-8157-26888360acc2",
   "metadata": {},
   "outputs": [
    {
     "data": {
      "text/html": [
       "\n",
       "            <style>\n",
       "                .geemap-dark {\n",
       "                    --jp-widgets-color: white;\n",
       "                    --jp-widgets-label-color: white;\n",
       "                    --jp-ui-font-color1: white;\n",
       "                    --jp-layout-color2: #454545;\n",
       "                    background-color: #383838;\n",
       "                }\n",
       "\n",
       "                .geemap-dark .jupyter-button {\n",
       "                    --jp-layout-color3: #383838;\n",
       "                }\n",
       "\n",
       "                .geemap-colab {\n",
       "                    background-color: var(--colab-primary-surface-color, white);\n",
       "                }\n",
       "\n",
       "                .geemap-colab .jupyter-button {\n",
       "                    --jp-layout-color3: var(--colab-primary-surface-color, white);\n",
       "                }\n",
       "            </style>\n",
       "            "
      ],
      "text/plain": [
       "<IPython.core.display.HTML object>"
      ]
     },
     "metadata": {},
     "output_type": "display_data"
    },
    {
     "data": {
      "text/plain": [
       "5"
      ]
     },
     "execution_count": 208,
     "metadata": {},
     "output_type": "execute_result"
    }
   ],
   "source": [
    "Landsat_col = ee.ImageCollection([ee.Image(lslist.get(28))])\n",
    "Sentinel_list_original = ee.List(ee.Image(lslist.get(28)).get('matched_img'))\n",
    "Sentinel_list = Sentinel_list_original.cat(ee.List.repeat(ee.Image(), 3))\n",
    "Sentinel_list.length().getInfo()"
   ]
  },
  {
   "cell_type": "code",
   "execution_count": 215,
   "id": "7fd0c7a8-c5d0-4c5d-ba01-ed3631297d24",
   "metadata": {},
   "outputs": [
    {
     "data": {
      "text/html": [
       "\n",
       "            <style>\n",
       "                .geemap-dark {\n",
       "                    --jp-widgets-color: white;\n",
       "                    --jp-widgets-label-color: white;\n",
       "                    --jp-ui-font-color1: white;\n",
       "                    --jp-layout-color2: #454545;\n",
       "                    background-color: #383838;\n",
       "                }\n",
       "\n",
       "                .geemap-dark .jupyter-button {\n",
       "                    --jp-layout-color3: #383838;\n",
       "                }\n",
       "\n",
       "                .geemap-colab {\n",
       "                    background-color: var(--colab-primary-surface-color, white);\n",
       "                }\n",
       "\n",
       "                .geemap-colab .jupyter-button {\n",
       "                    --jp-layout-color3: var(--colab-primary-surface-color, white);\n",
       "                }\n",
       "            </style>\n",
       "            "
      ],
      "text/plain": [
       "<IPython.core.display.HTML object>"
      ]
     },
     "metadata": {},
     "output_type": "display_data"
    }
   ],
   "source": [
    "best_join = ee.Join.saveBest(matchKey='matched_img', measureKey='time_diff', outer=False) # Closest image in time\n",
    "time_filt = ee.Filter.maxDifference(difference=5184e5, leftField='system:time_start', rightField='system:time_start') # 6 days either side\n",
    "Sentinel_col = ee.ImageCollection(Sentinel_list_original)\n",
    "nearest_img = ee.ImageCollection(best_join.apply(Landsat_col, Sentinel_col, time_filt)).first()\n",
    "nearest_Sentinel = ee.Image(nearest_img.get('matched_img'))"
   ]
  },
  {
   "cell_type": "code",
   "execution_count": 212,
   "id": "9acf01f0-69dd-4e51-b978-26357193fb75",
   "metadata": {},
   "outputs": [
    {
     "data": {
      "text/html": [
       "\n",
       "            <style>\n",
       "                .geemap-dark {\n",
       "                    --jp-widgets-color: white;\n",
       "                    --jp-widgets-label-color: white;\n",
       "                    --jp-ui-font-color1: white;\n",
       "                    --jp-layout-color2: #454545;\n",
       "                    background-color: #383838;\n",
       "                }\n",
       "\n",
       "                .geemap-dark .jupyter-button {\n",
       "                    --jp-layout-color3: #383838;\n",
       "                }\n",
       "\n",
       "                .geemap-colab {\n",
       "                    background-color: var(--colab-primary-surface-color, white);\n",
       "                }\n",
       "\n",
       "                .geemap-colab .jupyter-button {\n",
       "                    --jp-layout-color3: var(--colab-primary-surface-color, white);\n",
       "                }\n",
       "            </style>\n",
       "            "
      ],
      "text/plain": [
       "<IPython.core.display.HTML object>"
      ]
     },
     "metadata": {},
     "output_type": "display_data"
    },
    {
     "data": {
      "text/plain": [
       "1"
      ]
     },
     "execution_count": 212,
     "metadata": {},
     "output_type": "execute_result"
    }
   ],
   "source": [
    "Sentinel_list_original.remove(nearest_Sentinel).length().getInfo()"
   ]
  },
  {
   "cell_type": "code",
   "execution_count": 217,
   "id": "676ec0a2-b1eb-4aed-8f6b-176f458cd306",
   "metadata": {},
   "outputs": [
    {
     "data": {
      "text/html": [
       "\n",
       "            <style>\n",
       "                .geemap-dark {\n",
       "                    --jp-widgets-color: white;\n",
       "                    --jp-widgets-label-color: white;\n",
       "                    --jp-ui-font-color1: white;\n",
       "                    --jp-layout-color2: #454545;\n",
       "                    background-color: #383838;\n",
       "                }\n",
       "\n",
       "                .geemap-dark .jupyter-button {\n",
       "                    --jp-layout-color3: #383838;\n",
       "                }\n",
       "\n",
       "                .geemap-colab {\n",
       "                    background-color: var(--colab-primary-surface-color, white);\n",
       "                }\n",
       "\n",
       "                .geemap-colab .jupyter-button {\n",
       "                    --jp-layout-color3: var(--colab-primary-surface-color, white);\n",
       "                }\n",
       "            </style>\n",
       "            "
      ],
      "text/plain": [
       "<IPython.core.display.HTML object>"
      ]
     },
     "metadata": {},
     "output_type": "display_data"
    }
   ],
   "source": [
    "def process_multiple_sentinel(feature, export_region_clipped):\n",
    "    Landsat_col = ee.ImageCollection([feature])\n",
    "    Sentinel_list = ee.List(feature.get('matched_img'))\n",
    "    Sentinel_list_original = ee.List(feature.get('matched_img'))\n",
    "    #Sentinel_image = ee.Image()\n",
    "    \n",
    "    # Add empty images to Sentinel_list if it's length is less than 5.\n",
    "    # 5 Is the maximum number of images that could be overlapping an export region.\n",
    "    #add_num = ee.Number(5).subtract(Sentinel_list.length())\n",
    "    #add_list = ee.List.repeat(ee.Image(), add_num)\n",
    "    #Sentinel_list = Sentinel_list.cat(add_list)\n",
    "    #Sentinel_list_original = Sentinel_list_original.cat(add_list)\n",
    "\n",
    "    best_join = ee.Join.saveBest(matchKey='matched_img', measureKey='time_diff', outer=False) # Closest image in time\n",
    "    time_filt = ee.Filter.maxDifference(difference=5184e5, leftField='system:time_start', rightField='system:time_start') # 6 days either side\n",
    "\n",
    "    vv_indexes = ee.List([])\n",
    "    \n",
    "    for i in range(5):\n",
    "        # Turn Sentinel list into an image collection\n",
    "        Sentinel_col = ee.ImageCollection(Sentinel_list)\n",
    "    \n",
    "        # Get nearest Sentinel image in time to the Landsat image\n",
    "        nearest_img = ee.ImageCollection(best_join.apply(Landsat_col, Sentinel_col, time_filt)).first()\n",
    "        nearest_Sentinel = ee.Image(nearest_img.get('matched_img'))\n",
    "        print(nearest_Sentinel.bandNames().getInfo())\n",
    "    \n",
    "        # Clip nearest Sentinel image to the remaining portion of the export region and update running Sentinel image\n",
    "        nearest_Sentinel_clip = nearest_Sentinel.clip(export_region_clipped)\n",
    "        #Sentinel_image = Sentinel_image.unmask(value=nearest_Sentinel_clip.select(0), sameFootprint=False).addBands(nearest_Sentinel_clip)\n",
    "        nearest_Sentinel_clip_geometry = nearest_Sentinel_clip.geometry()\n",
    "        #print(nearest_Sentinel_clip.bandNames().getInfo())\n",
    "        vv_indexes = ee.Algorithms.If(nearest_Sentinel_clip.bandNames().contains('VV'),\n",
    "                        ee.List(vv_indexes).add(1),\n",
    "                        ee.List(vv_indexes).add(0))\n",
    "    \n",
    "        # Calculate non-intersection between export region and clipped Sentinel geometries and calculate new area\n",
    "        export_region_clipped = export_region_clipped.difference(right=nearest_Sentinel_clip_geometry, maxError=ee.ErrorMargin(900), proj=utm_proj)\n",
    "        area = export_region_clipped.area(proj=utm_proj)\n",
    "        #print(area.getInfo())\n",
    "    \n",
    "        # Remove nearest Sentinel image from the remaining image list\n",
    "        Sentinel_list = Sentinel_list.remove(nearest_Sentinel)\n",
    "    print(vv_indexes.getInfo())\n",
    "\n",
    "    # Mosaic different image types\n",
    "    for i in range(2): # First run vv, second run hh\n",
    "        running_list = ee.List([])\n",
    "        for j in range(5):\n",
    "            if i == 0: # Add only vv images to list\n",
    "                running_list = ee.Algorithms.If(ee.Number(ee.List(vv_indexes).get(j)).eq(1),\n",
    "                                                ee.List(running_list).add(ee.Image(Sentinel_list_original.get(j))),\n",
    "                                                ee.List(running_list))\n",
    "            else: # Add only hh images to list\n",
    "                running_list = ee.Algorithms.If(ee.Number(ee.List(vv_indexes).get(j)).eq(1),\n",
    "                                                ee.List(running_list),\n",
    "                                                ee.List(running_list).add(ee.Image(Sentinel_list_original.get(j))))\n",
    "        if i == 0: # Create vv image\n",
    "            print('got first image')\n",
    "            vv_image = ee.ImageCollection(ee.List(running_list)).mosaic()#.rename(['VV', 'VH', 'VVVH_angle'])\n",
    "            print(vv_image.getInfo())\n",
    "        else: # Create hh image\n",
    "            print('got second image')\n",
    "            hh_image = ee.ImageCollection(ee.List(running_list)).mosaic()#.rename(['HH', 'HV', 'HHHV_angle'])\n",
    "            print(hh_image.getInfo())\n",
    "        \n",
    "    Sentinel_image = vv_image.unmask(ee.Image().clip(export_region)).addBands(hh_image)\n",
    "    # Remove constant band from unmask\n",
    "    nameOfBands = Sentinel_image.bandNames()\n",
    "    nameOfBands = nameOfBands.remove('constant')\n",
    "    Sentinel_image = Sentinel_image.select(nameOfBands)\n",
    "    \n",
    "    return Sentinel_image"
   ]
  },
  {
   "cell_type": "code",
   "execution_count": 84,
   "id": "0260cff2-aff6-44a1-b763-fbe91f3f0594",
   "metadata": {},
   "outputs": [
    {
     "data": {
      "text/html": [
       "\n",
       "            <style>\n",
       "                .geemap-dark {\n",
       "                    --jp-widgets-color: white;\n",
       "                    --jp-widgets-label-color: white;\n",
       "                    --jp-ui-font-color1: white;\n",
       "                    --jp-layout-color2: #454545;\n",
       "                    background-color: #383838;\n",
       "                }\n",
       "\n",
       "                .geemap-dark .jupyter-button {\n",
       "                    --jp-layout-color3: #383838;\n",
       "                }\n",
       "\n",
       "                .geemap-colab {\n",
       "                    background-color: var(--colab-primary-surface-color, white);\n",
       "                }\n",
       "\n",
       "                .geemap-colab .jupyter-button {\n",
       "                    --jp-layout-color3: var(--colab-primary-surface-color, white);\n",
       "                }\n",
       "            </style>\n",
       "            "
      ],
      "text/plain": [
       "<IPython.core.display.HTML object>"
      ]
     },
     "metadata": {},
     "output_type": "display_data"
    }
   ],
   "source": [
    "# Preprocessing function\n",
    "def process_Landsat_Sentinel(feature):\n",
    "    ######################################\n",
    "    # Sentinel portion\n",
    "               \n",
    "    # Three-case if:\n",
    "    # 1st: More than one image match -> combine into one image\n",
    "    # Second: No image match -> return blank image\n",
    "    # Third: One image match -> return singular image\n",
    "    sentinel_image = ee.Algorithms.If(ee.List(feature.get('matched_img')).length().gt(ee.Number(1)),\n",
    "                     process_multiple_sentinel(feature, export_region),\n",
    "                     ee.Algorithms.If(ee.List(feature.get('matched_img')).length().lt(ee.Number(1)),\n",
    "                                      ee.Image(),\n",
    "                                      ee.Image(ee.List(feature.get('matched_img')).get(0)).cast({'angle':'double'}))\n",
    "                                     )\n",
    "    \n",
    "    #####################################\n",
    "    # Landsat portion\n",
    "    \n",
    "    # Scaling and offset\n",
    "    feature = ee.Image(feature)\n",
    "    #image1 = ee.Image(feature.get('primary'))\n",
    "    landsat = scale_and_offset_Landsat(feature)\n",
    "    #landsat_image = scale_and_offset_Landsat(feature)\n",
    "    # Add cloud mask back in\n",
    "    landsat_image = landsat.addBands(srcImg=feature, names=['QA_PIXEL'])\n",
    "\n",
    "    ######################################\n",
    "    # Timestamp portion\n",
    "    \n",
    "    # Function to get time from Landsat image\n",
    "    def get_Landsat_time(f):\n",
    "        Landsat_time = ee.Number(feature.get('system:time_start'))       \n",
    "        return f.set('timestamp', Landsat_time)\n",
    "\n",
    "    # Add timestamp back in\n",
    "    landsat_image = get_Landsat_time(landsat_image)\n",
    "\n",
    "    ##########################################\n",
    "    image = landsat_image.addBands(srcImg=sentinel_image).cast({'QA_PIXEL':'double'})\n",
    "    #image = landsat_image.cast({'QA_PIXEL':'double'})\n",
    "    \n",
    "    return image"
   ]
  },
  {
   "cell_type": "markdown",
   "id": "9805a084-e66b-429b-9121-26d13ed4ad91",
   "metadata": {},
   "source": [
    "## Produce GOES geotiffs and their respective times"
   ]
  },
  {
   "cell_type": "code",
   "execution_count": 29,
   "id": "14635ff1-777b-430f-8157-1ea283aa7b2b",
   "metadata": {},
   "outputs": [
    {
     "data": {
      "text/html": [
       "\n",
       "            <style>\n",
       "                .geemap-dark {\n",
       "                    --jp-widgets-color: white;\n",
       "                    --jp-widgets-label-color: white;\n",
       "                    --jp-ui-font-color1: white;\n",
       "                    --jp-layout-color2: #454545;\n",
       "                    background-color: #383838;\n",
       "                }\n",
       "\n",
       "                .geemap-dark .jupyter-button {\n",
       "                    --jp-layout-color3: #383838;\n",
       "                }\n",
       "\n",
       "                .geemap-colab {\n",
       "                    background-color: var(--colab-primary-surface-color, white);\n",
       "                }\n",
       "\n",
       "                .geemap-colab .jupyter-button {\n",
       "                    --jp-layout-color3: var(--colab-primary-surface-color, white);\n",
       "                }\n",
       "            </style>\n",
       "            "
      ],
      "text/plain": [
       "<IPython.core.display.HTML object>"
      ]
     },
     "metadata": {},
     "output_type": "display_data"
    }
   ],
   "source": [
    "processed = GOES.map(process_GOES)"
   ]
  },
  {
   "cell_type": "code",
   "execution_count": 53,
   "id": "5b4d6ef0-8c53-4758-bda6-d9839106c05a",
   "metadata": {},
   "outputs": [
    {
     "data": {
      "text/html": [
       "\n",
       "            <style>\n",
       "                .geemap-dark {\n",
       "                    --jp-widgets-color: white;\n",
       "                    --jp-widgets-label-color: white;\n",
       "                    --jp-ui-font-color1: white;\n",
       "                    --jp-layout-color2: #454545;\n",
       "                    background-color: #383838;\n",
       "                }\n",
       "\n",
       "                .geemap-dark .jupyter-button {\n",
       "                    --jp-layout-color3: #383838;\n",
       "                }\n",
       "\n",
       "                .geemap-colab {\n",
       "                    background-color: var(--colab-primary-surface-color, white);\n",
       "                }\n",
       "\n",
       "                .geemap-colab .jupyter-button {\n",
       "                    --jp-layout-color3: var(--colab-primary-surface-color, white);\n",
       "                }\n",
       "            </style>\n",
       "            "
      ],
      "text/plain": [
       "<IPython.core.display.HTML object>"
      ]
     },
     "metadata": {},
     "output_type": "display_data"
    }
   ],
   "source": [
    "first = processed.first()"
   ]
  },
  {
   "cell_type": "code",
   "execution_count": 33,
   "id": "9b59179f-2176-4c50-b386-5f066106f813",
   "metadata": {},
   "outputs": [
    {
     "data": {
      "text/html": [
       "\n",
       "            <style>\n",
       "                .geemap-dark {\n",
       "                    --jp-widgets-color: white;\n",
       "                    --jp-widgets-label-color: white;\n",
       "                    --jp-ui-font-color1: white;\n",
       "                    --jp-layout-color2: #454545;\n",
       "                    background-color: #383838;\n",
       "                }\n",
       "\n",
       "                .geemap-dark .jupyter-button {\n",
       "                    --jp-layout-color3: #383838;\n",
       "                }\n",
       "\n",
       "                .geemap-colab {\n",
       "                    background-color: var(--colab-primary-surface-color, white);\n",
       "                }\n",
       "\n",
       "                .geemap-colab .jupyter-button {\n",
       "                    --jp-layout-color3: var(--colab-primary-surface-color, white);\n",
       "                }\n",
       "            </style>\n",
       "            "
      ],
      "text/plain": [
       "<IPython.core.display.HTML object>"
      ]
     },
     "metadata": {},
     "output_type": "display_data"
    }
   ],
   "source": [
    "def times_to_features(num):\n",
    "    return ee.Feature(None, {'value': num})"
   ]
  },
  {
   "cell_type": "code",
   "execution_count": 33,
   "id": "d53e546f-7f4a-4cfd-802e-ec9a0c9e455b",
   "metadata": {},
   "outputs": [
    {
     "data": {
      "text/html": [
       "\n",
       "            <style>\n",
       "                .geemap-dark {\n",
       "                    --jp-widgets-color: white;\n",
       "                    --jp-widgets-label-color: white;\n",
       "                    --jp-ui-font-color1: white;\n",
       "                    --jp-layout-color2: #454545;\n",
       "                    background-color: #383838;\n",
       "                }\n",
       "\n",
       "                .geemap-dark .jupyter-button {\n",
       "                    --jp-layout-color3: #383838;\n",
       "                }\n",
       "\n",
       "                .geemap-colab {\n",
       "                    background-color: var(--colab-primary-surface-color, white);\n",
       "                }\n",
       "\n",
       "                .geemap-colab .jupyter-button {\n",
       "                    --jp-layout-color3: var(--colab-primary-surface-color, white);\n",
       "                }\n",
       "            </style>\n",
       "            "
      ],
      "text/plain": [
       "<IPython.core.display.HTML object>"
      ]
     },
     "metadata": {},
     "output_type": "display_data"
    }
   ],
   "source": [
    "times = processed.aggregate_array('timestamp')\n",
    "features = ee.FeatureCollection(times.map(times_to_features))"
   ]
  },
  {
   "cell_type": "code",
   "execution_count": 34,
   "id": "baa91e6e-e7ce-4249-b3e0-e2b5046e2b28",
   "metadata": {},
   "outputs": [
    {
     "data": {
      "text/html": [
       "\n",
       "            <style>\n",
       "                .geemap-dark {\n",
       "                    --jp-widgets-color: white;\n",
       "                    --jp-widgets-label-color: white;\n",
       "                    --jp-ui-font-color1: white;\n",
       "                    --jp-layout-color2: #454545;\n",
       "                    background-color: #383838;\n",
       "                }\n",
       "\n",
       "                .geemap-dark .jupyter-button {\n",
       "                    --jp-layout-color3: #383838;\n",
       "                }\n",
       "\n",
       "                .geemap-colab {\n",
       "                    background-color: var(--colab-primary-surface-color, white);\n",
       "                }\n",
       "\n",
       "                .geemap-colab .jupyter-button {\n",
       "                    --jp-layout-color3: var(--colab-primary-surface-color, white);\n",
       "                }\n",
       "            </style>\n",
       "            "
      ],
      "text/plain": [
       "<IPython.core.display.HTML object>"
      ]
     },
     "metadata": {},
     "output_type": "display_data"
    }
   ],
   "source": [
    "task = ee.batch.Export.table.toDrive(\n",
    "    collection=features,\n",
    "    description='GOES_times_DMV',\n",
    "    folder='GOES_DMV',\n",
    "    fileFormat='CSV',\n",
    ")\n",
    "task.start()"
   ]
  },
  {
   "cell_type": "markdown",
   "id": "20fcf32c-9555-4c44-860b-b48baae18efc",
   "metadata": {},
   "source": [
    "## Produce Landsat/Sentinel geotiffs and their respective times"
   ]
  },
  {
   "cell_type": "code",
   "execution_count": 85,
   "id": "02758c65-3458-4976-8a45-dfa7fe4fcd61",
   "metadata": {},
   "outputs": [
    {
     "data": {
      "text/html": [
       "\n",
       "            <style>\n",
       "                .geemap-dark {\n",
       "                    --jp-widgets-color: white;\n",
       "                    --jp-widgets-label-color: white;\n",
       "                    --jp-ui-font-color1: white;\n",
       "                    --jp-layout-color2: #454545;\n",
       "                    background-color: #383838;\n",
       "                }\n",
       "\n",
       "                .geemap-dark .jupyter-button {\n",
       "                    --jp-layout-color3: #383838;\n",
       "                }\n",
       "\n",
       "                .geemap-colab {\n",
       "                    background-color: var(--colab-primary-surface-color, white);\n",
       "                }\n",
       "\n",
       "                .geemap-colab .jupyter-button {\n",
       "                    --jp-layout-color3: var(--colab-primary-surface-color, white);\n",
       "                }\n",
       "            </style>\n",
       "            "
      ],
      "text/plain": [
       "<IPython.core.display.HTML object>"
      ]
     },
     "metadata": {},
     "output_type": "display_data"
    },
    {
     "ename": "EEException",
     "evalue": "Unrecognized arguments {'vv_list', 'hh_list'} to function: If",
     "output_type": "error",
     "traceback": [
      "\u001b[0;31m---------------------------------------------------------------------------\u001b[0m",
      "\u001b[0;31mEEException\u001b[0m                               Traceback (most recent call last)",
      "Cell \u001b[0;32mIn[85], line 1\u001b[0m\n\u001b[0;32m----> 1\u001b[0m processed2 \u001b[38;5;241m=\u001b[39m LandsatSentinel_near\u001b[38;5;241m.\u001b[39mmap(process_Landsat_Sentinel)\n",
      "File \u001b[0;32m/opt/anaconda3/envs/heat/lib/python3.12/site-packages/ee/_utils.py:38\u001b[0m, in \u001b[0;36maccept_opt_prefix.<locals>.opt_fixed.<locals>.wrapper\u001b[0;34m(*args, **kwargs)\u001b[0m\n\u001b[1;32m     36\u001b[0m     \u001b[38;5;28;01mif\u001b[39;00m new_key \u001b[38;5;129;01mnot\u001b[39;00m \u001b[38;5;129;01min\u001b[39;00m kwargs:\n\u001b[1;32m     37\u001b[0m       kwargs[new_key] \u001b[38;5;241m=\u001b[39m old_key_val\n\u001b[0;32m---> 38\u001b[0m \u001b[38;5;28;01mreturn\u001b[39;00m func(\u001b[38;5;241m*\u001b[39margs, \u001b[38;5;241m*\u001b[39m\u001b[38;5;241m*\u001b[39mkwargs)\n",
      "File \u001b[0;32m/opt/anaconda3/envs/heat/lib/python3.12/site-packages/ee/collection.py:668\u001b[0m, in \u001b[0;36mCollection.map\u001b[0;34m(self, algorithm, dropNulls)\u001b[0m\n\u001b[1;32m    665\u001b[0m element_type \u001b[38;5;241m=\u001b[39m \u001b[38;5;28mself\u001b[39m\u001b[38;5;241m.\u001b[39melementType()\n\u001b[1;32m    666\u001b[0m with_cast \u001b[38;5;241m=\u001b[39m \u001b[38;5;28;01mlambda\u001b[39;00m e: algorithm(element_type(e, \u001b[38;5;28;01mNone\u001b[39;00m))\n\u001b[1;32m    667\u001b[0m \u001b[38;5;28;01mreturn\u001b[39;00m \u001b[38;5;28mself\u001b[39m\u001b[38;5;241m.\u001b[39m_cast(\n\u001b[0;32m--> 668\u001b[0m     apifunction\u001b[38;5;241m.\u001b[39mApiFunction\u001b[38;5;241m.\u001b[39mcall_(\n\u001b[1;32m    669\u001b[0m         \u001b[38;5;124m'\u001b[39m\u001b[38;5;124mCollection.map\u001b[39m\u001b[38;5;124m'\u001b[39m, \u001b[38;5;28mself\u001b[39m, with_cast, dropNulls\n\u001b[1;32m    670\u001b[0m     )\n\u001b[1;32m    671\u001b[0m )\n",
      "File \u001b[0;32m/opt/anaconda3/envs/heat/lib/python3.12/site-packages/ee/apifunction.py:84\u001b[0m, in \u001b[0;36mApiFunction.call_\u001b[0;34m(cls, name, *args, **kwargs)\u001b[0m\n\u001b[1;32m     71\u001b[0m \u001b[38;5;129m@classmethod\u001b[39m\n\u001b[1;32m     72\u001b[0m \u001b[38;5;28;01mdef\u001b[39;00m \u001b[38;5;21mcall_\u001b[39m(\u001b[38;5;28mcls\u001b[39m, name: \u001b[38;5;28mstr\u001b[39m, \u001b[38;5;241m*\u001b[39margs: Any, \u001b[38;5;241m*\u001b[39m\u001b[38;5;241m*\u001b[39mkwargs: Any) \u001b[38;5;241m-\u001b[39m\u001b[38;5;241m>\u001b[39m Any:\n\u001b[1;32m     73\u001b[0m \u001b[38;5;250m  \u001b[39m\u001b[38;5;124;03m\"\"\"Call a named API function with positional and keyword arguments.\u001b[39;00m\n\u001b[1;32m     74\u001b[0m \n\u001b[1;32m     75\u001b[0m \u001b[38;5;124;03m  Args:\u001b[39;00m\n\u001b[0;32m   (...)\u001b[0m\n\u001b[1;32m     82\u001b[0m \u001b[38;5;124;03m    a recognized return type, the returned value will be cast to that type.\u001b[39;00m\n\u001b[1;32m     83\u001b[0m \u001b[38;5;124;03m  \"\"\"\u001b[39;00m\n\u001b[0;32m---> 84\u001b[0m   \u001b[38;5;28;01mreturn\u001b[39;00m \u001b[38;5;28mcls\u001b[39m\u001b[38;5;241m.\u001b[39mlookup(name)\u001b[38;5;241m.\u001b[39mcall(\u001b[38;5;241m*\u001b[39margs, \u001b[38;5;241m*\u001b[39m\u001b[38;5;241m*\u001b[39mkwargs)\n",
      "File \u001b[0;32m/opt/anaconda3/envs/heat/lib/python3.12/site-packages/ee/function.py:62\u001b[0m, in \u001b[0;36mFunction.call\u001b[0;34m(self, *args, **kwargs)\u001b[0m\n\u001b[1;32m     50\u001b[0m \u001b[38;5;28;01mdef\u001b[39;00m \u001b[38;5;21mcall\u001b[39m(\u001b[38;5;28mself\u001b[39m, \u001b[38;5;241m*\u001b[39margs, \u001b[38;5;241m*\u001b[39m\u001b[38;5;241m*\u001b[39mkwargs):\n\u001b[1;32m     51\u001b[0m \u001b[38;5;250m  \u001b[39m\u001b[38;5;124;03m\"\"\"Calls the function with the given positional and keyword arguments.\u001b[39;00m\n\u001b[1;32m     52\u001b[0m \n\u001b[1;32m     53\u001b[0m \u001b[38;5;124;03m  Args:\u001b[39;00m\n\u001b[0;32m   (...)\u001b[0m\n\u001b[1;32m     60\u001b[0m \u001b[38;5;124;03m    to that type.\u001b[39;00m\n\u001b[1;32m     61\u001b[0m \u001b[38;5;124;03m  \"\"\"\u001b[39;00m\n\u001b[0;32m---> 62\u001b[0m   \u001b[38;5;28;01mreturn\u001b[39;00m \u001b[38;5;28mself\u001b[39m\u001b[38;5;241m.\u001b[39mapply(\u001b[38;5;28mself\u001b[39m\u001b[38;5;241m.\u001b[39mnameArgs(args, kwargs))\n",
      "File \u001b[0;32m/opt/anaconda3/envs/heat/lib/python3.12/site-packages/ee/function.py:75\u001b[0m, in \u001b[0;36mFunction.apply\u001b[0;34m(self, named_args)\u001b[0m\n\u001b[1;32m     64\u001b[0m \u001b[38;5;28;01mdef\u001b[39;00m \u001b[38;5;21mapply\u001b[39m(\u001b[38;5;28mself\u001b[39m, named_args):\n\u001b[1;32m     65\u001b[0m \u001b[38;5;250m  \u001b[39m\u001b[38;5;124;03m\"\"\"Calls the function with a dictionary of named arguments.\u001b[39;00m\n\u001b[1;32m     66\u001b[0m \n\u001b[1;32m     67\u001b[0m \u001b[38;5;124;03m  Args:\u001b[39;00m\n\u001b[0;32m   (...)\u001b[0m\n\u001b[1;32m     73\u001b[0m \u001b[38;5;124;03m    to that type.\u001b[39;00m\n\u001b[1;32m     74\u001b[0m \u001b[38;5;124;03m  \"\"\"\u001b[39;00m\n\u001b[0;32m---> 75\u001b[0m   result \u001b[38;5;241m=\u001b[39m computedobject\u001b[38;5;241m.\u001b[39mComputedObject(\u001b[38;5;28mself\u001b[39m, \u001b[38;5;28mself\u001b[39m\u001b[38;5;241m.\u001b[39mpromoteArgs(named_args))\n\u001b[1;32m     76\u001b[0m   \u001b[38;5;28;01mreturn\u001b[39;00m Function\u001b[38;5;241m.\u001b[39m_promoter(result, \u001b[38;5;28mself\u001b[39m\u001b[38;5;241m.\u001b[39mgetReturnType())\n",
      "File \u001b[0;32m/opt/anaconda3/envs/heat/lib/python3.12/site-packages/ee/function.py:103\u001b[0m, in \u001b[0;36mFunction.promoteArgs\u001b[0;34m(self, args)\u001b[0m\n\u001b[1;32m    101\u001b[0m name \u001b[38;5;241m=\u001b[39m arg_spec[\u001b[38;5;124m'\u001b[39m\u001b[38;5;124mname\u001b[39m\u001b[38;5;124m'\u001b[39m]\n\u001b[1;32m    102\u001b[0m \u001b[38;5;28;01mif\u001b[39;00m name \u001b[38;5;129;01min\u001b[39;00m args:\n\u001b[0;32m--> 103\u001b[0m   promoted_args[name] \u001b[38;5;241m=\u001b[39m Function\u001b[38;5;241m.\u001b[39m_promoter(args[name], arg_spec[\u001b[38;5;124m'\u001b[39m\u001b[38;5;124mtype\u001b[39m\u001b[38;5;124m'\u001b[39m])\n\u001b[1;32m    104\u001b[0m \u001b[38;5;28;01melif\u001b[39;00m \u001b[38;5;129;01mnot\u001b[39;00m arg_spec\u001b[38;5;241m.\u001b[39mget(\u001b[38;5;124m'\u001b[39m\u001b[38;5;124moptional\u001b[39m\u001b[38;5;124m'\u001b[39m):\n\u001b[1;32m    105\u001b[0m   \u001b[38;5;28;01mraise\u001b[39;00m ee_exception\u001b[38;5;241m.\u001b[39mEEException(\n\u001b[1;32m    106\u001b[0m       \u001b[38;5;124m'\u001b[39m\u001b[38;5;124mRequired argument (\u001b[39m\u001b[38;5;132;01m%s\u001b[39;00m\u001b[38;5;124m) missing to function: \u001b[39m\u001b[38;5;132;01m%s\u001b[39;00m\u001b[38;5;124m'\u001b[39m\n\u001b[1;32m    107\u001b[0m       \u001b[38;5;241m%\u001b[39m (name, signature\u001b[38;5;241m.\u001b[39mget(\u001b[38;5;124m'\u001b[39m\u001b[38;5;124mname\u001b[39m\u001b[38;5;124m'\u001b[39m)))\n",
      "File \u001b[0;32m/opt/anaconda3/envs/heat/lib/python3.12/site-packages/ee/__init__.py:335\u001b[0m, in \u001b[0;36m_Promote\u001b[0;34m(arg, a_class)\u001b[0m\n\u001b[1;32m    332\u001b[0m \u001b[38;5;28;01melif\u001b[39;00m \u001b[38;5;28mcallable\u001b[39m(arg):\n\u001b[1;32m    333\u001b[0m   \u001b[38;5;66;03m# A native function that needs to be wrapped.\u001b[39;00m\n\u001b[1;32m    334\u001b[0m   args_count \u001b[38;5;241m=\u001b[39m \u001b[38;5;28mlen\u001b[39m(inspect\u001b[38;5;241m.\u001b[39mgetfullargspec(arg)\u001b[38;5;241m.\u001b[39margs)\n\u001b[0;32m--> 335\u001b[0m   \u001b[38;5;28;01mreturn\u001b[39;00m CustomFunction\u001b[38;5;241m.\u001b[39mcreate(arg, \u001b[38;5;124m'\u001b[39m\u001b[38;5;124mObject\u001b[39m\u001b[38;5;124m'\u001b[39m, [\u001b[38;5;124m'\u001b[39m\u001b[38;5;124mObject\u001b[39m\u001b[38;5;124m'\u001b[39m] \u001b[38;5;241m*\u001b[39m args_count)\n\u001b[1;32m    336\u001b[0m \u001b[38;5;28;01melif\u001b[39;00m \u001b[38;5;28misinstance\u001b[39m(arg, Encodable):\n\u001b[1;32m    337\u001b[0m   \u001b[38;5;66;03m# An ee.Function or a computed function like the return value of\u001b[39;00m\n\u001b[1;32m    338\u001b[0m   \u001b[38;5;66;03m# Image.parseExpression().\u001b[39;00m\n\u001b[1;32m    339\u001b[0m   \u001b[38;5;28;01mreturn\u001b[39;00m arg\n",
      "File \u001b[0;32m/opt/anaconda3/envs/heat/lib/python3.12/site-packages/ee/customfunction.py:126\u001b[0m, in \u001b[0;36mCustomFunction.create\u001b[0;34m(func, return_type, arg_types)\u001b[0m\n\u001b[1;32m    120\u001b[0m args \u001b[38;5;241m=\u001b[39m [{\u001b[38;5;124m'\u001b[39m\u001b[38;5;124mname\u001b[39m\u001b[38;5;124m'\u001b[39m: \u001b[38;5;28;01mNone\u001b[39;00m, \u001b[38;5;124m'\u001b[39m\u001b[38;5;124mtype\u001b[39m\u001b[38;5;124m'\u001b[39m: StringifyType(i)} \u001b[38;5;28;01mfor\u001b[39;00m i \u001b[38;5;129;01min\u001b[39;00m arg_types]\n\u001b[1;32m    121\u001b[0m signature \u001b[38;5;241m=\u001b[39m {\n\u001b[1;32m    122\u001b[0m     \u001b[38;5;124m'\u001b[39m\u001b[38;5;124mname\u001b[39m\u001b[38;5;124m'\u001b[39m: \u001b[38;5;124m'\u001b[39m\u001b[38;5;124m'\u001b[39m,\n\u001b[1;32m    123\u001b[0m     \u001b[38;5;124m'\u001b[39m\u001b[38;5;124mreturns\u001b[39m\u001b[38;5;124m'\u001b[39m: StringifyType(return_type),\n\u001b[1;32m    124\u001b[0m     \u001b[38;5;124m'\u001b[39m\u001b[38;5;124margs\u001b[39m\u001b[38;5;124m'\u001b[39m: args\n\u001b[1;32m    125\u001b[0m }\n\u001b[0;32m--> 126\u001b[0m \u001b[38;5;28;01mreturn\u001b[39;00m CustomFunction(signature, func)\n",
      "File \u001b[0;32m/opt/anaconda3/envs/heat/lib/python3.12/site-packages/ee/customfunction.py:40\u001b[0m, in \u001b[0;36mCustomFunction.__init__\u001b[0;34m(self, signature, body)\u001b[0m\n\u001b[1;32m     26\u001b[0m \u001b[38;5;250m\u001b[39m\u001b[38;5;124;03m\"\"\"Creates a function defined by a given expression with unbound variables.\u001b[39;00m\n\u001b[1;32m     27\u001b[0m \n\u001b[1;32m     28\u001b[0m \u001b[38;5;124;03mThe expression is created by evaluating the given function\u001b[39;00m\n\u001b[0;32m   (...)\u001b[0m\n\u001b[1;32m     35\u001b[0m \u001b[38;5;124;03m  body: The Python function to evaluate.\u001b[39;00m\n\u001b[1;32m     36\u001b[0m \u001b[38;5;124;03m\"\"\"\u001b[39;00m\n\u001b[1;32m     37\u001b[0m variables \u001b[38;5;241m=\u001b[39m [CustomFunction\u001b[38;5;241m.\u001b[39mvariable(arg[\u001b[38;5;124m'\u001b[39m\u001b[38;5;124mtype\u001b[39m\u001b[38;5;124m'\u001b[39m], arg[\u001b[38;5;124m'\u001b[39m\u001b[38;5;124mname\u001b[39m\u001b[38;5;124m'\u001b[39m])\n\u001b[1;32m     38\u001b[0m              \u001b[38;5;28;01mfor\u001b[39;00m arg \u001b[38;5;129;01min\u001b[39;00m signature[\u001b[38;5;124m'\u001b[39m\u001b[38;5;124margs\u001b[39m\u001b[38;5;124m'\u001b[39m]]\n\u001b[0;32m---> 40\u001b[0m \u001b[38;5;28;01mif\u001b[39;00m body(\u001b[38;5;241m*\u001b[39mvariables) \u001b[38;5;129;01mis\u001b[39;00m \u001b[38;5;28;01mNone\u001b[39;00m:\n\u001b[1;32m     41\u001b[0m   \u001b[38;5;28;01mraise\u001b[39;00m ee_exception\u001b[38;5;241m.\u001b[39mEEException(\u001b[38;5;124m'\u001b[39m\u001b[38;5;124mUser-defined methods must return a value\u001b[39m\u001b[38;5;124m'\u001b[39m)\n\u001b[1;32m     43\u001b[0m \u001b[38;5;66;03m# The signature of the function.\u001b[39;00m\n",
      "File \u001b[0;32m/opt/anaconda3/envs/heat/lib/python3.12/site-packages/ee/collection.py:666\u001b[0m, in \u001b[0;36mCollection.map.<locals>.<lambda>\u001b[0;34m(e)\u001b[0m\n\u001b[1;32m    648\u001b[0m \u001b[38;5;250m\u001b[39m\u001b[38;5;124;03m\"\"\"Maps an algorithm over a collection.\u001b[39;00m\n\u001b[1;32m    649\u001b[0m \n\u001b[1;32m    650\u001b[0m \u001b[38;5;124;03mArgs:\u001b[39;00m\n\u001b[0;32m   (...)\u001b[0m\n\u001b[1;32m    663\u001b[0m \u001b[38;5;124;03m  ee_exception.EEException: if algorithm is not a function.\u001b[39;00m\n\u001b[1;32m    664\u001b[0m \u001b[38;5;124;03m\"\"\"\u001b[39;00m\n\u001b[1;32m    665\u001b[0m element_type \u001b[38;5;241m=\u001b[39m \u001b[38;5;28mself\u001b[39m\u001b[38;5;241m.\u001b[39melementType()\n\u001b[0;32m--> 666\u001b[0m with_cast \u001b[38;5;241m=\u001b[39m \u001b[38;5;28;01mlambda\u001b[39;00m e: algorithm(element_type(e, \u001b[38;5;28;01mNone\u001b[39;00m))\n\u001b[1;32m    667\u001b[0m \u001b[38;5;28;01mreturn\u001b[39;00m \u001b[38;5;28mself\u001b[39m\u001b[38;5;241m.\u001b[39m_cast(\n\u001b[1;32m    668\u001b[0m     apifunction\u001b[38;5;241m.\u001b[39mApiFunction\u001b[38;5;241m.\u001b[39mcall_(\n\u001b[1;32m    669\u001b[0m         \u001b[38;5;124m'\u001b[39m\u001b[38;5;124mCollection.map\u001b[39m\u001b[38;5;124m'\u001b[39m, \u001b[38;5;28mself\u001b[39m, with_cast, dropNulls\n\u001b[1;32m    670\u001b[0m     )\n\u001b[1;32m    671\u001b[0m )\n",
      "Cell \u001b[0;32mIn[84], line 11\u001b[0m, in \u001b[0;36mprocess_Landsat_Sentinel\u001b[0;34m(feature)\u001b[0m\n\u001b[1;32m      2\u001b[0m \u001b[38;5;28;01mdef\u001b[39;00m \u001b[38;5;21mprocess_Landsat_Sentinel\u001b[39m(feature):\n\u001b[1;32m      3\u001b[0m     \u001b[38;5;66;03m######################################\u001b[39;00m\n\u001b[1;32m      4\u001b[0m     \u001b[38;5;66;03m# Sentinel portion\u001b[39;00m\n\u001b[0;32m   (...)\u001b[0m\n\u001b[1;32m      8\u001b[0m     \u001b[38;5;66;03m# Second: No image match -> return blank image\u001b[39;00m\n\u001b[1;32m      9\u001b[0m     \u001b[38;5;66;03m# Third: One image match -> return singular image\u001b[39;00m\n\u001b[1;32m     10\u001b[0m     sentinel_image \u001b[38;5;241m=\u001b[39m ee\u001b[38;5;241m.\u001b[39mAlgorithms\u001b[38;5;241m.\u001b[39mIf(ee\u001b[38;5;241m.\u001b[39mList(feature\u001b[38;5;241m.\u001b[39mget(\u001b[38;5;124m'\u001b[39m\u001b[38;5;124mmatched_img\u001b[39m\u001b[38;5;124m'\u001b[39m))\u001b[38;5;241m.\u001b[39mlength()\u001b[38;5;241m.\u001b[39mgt(ee\u001b[38;5;241m.\u001b[39mNumber(\u001b[38;5;241m1\u001b[39m)),\n\u001b[0;32m---> 11\u001b[0m                      process_multiple_sentinel(feature, export_region),\n\u001b[1;32m     12\u001b[0m                      ee\u001b[38;5;241m.\u001b[39mAlgorithms\u001b[38;5;241m.\u001b[39mIf(ee\u001b[38;5;241m.\u001b[39mList(feature\u001b[38;5;241m.\u001b[39mget(\u001b[38;5;124m'\u001b[39m\u001b[38;5;124mmatched_img\u001b[39m\u001b[38;5;124m'\u001b[39m))\u001b[38;5;241m.\u001b[39mlength()\u001b[38;5;241m.\u001b[39mlt(ee\u001b[38;5;241m.\u001b[39mNumber(\u001b[38;5;241m1\u001b[39m)),\n\u001b[1;32m     13\u001b[0m                                       ee\u001b[38;5;241m.\u001b[39mImage(),\n\u001b[1;32m     14\u001b[0m                                       ee\u001b[38;5;241m.\u001b[39mImage(ee\u001b[38;5;241m.\u001b[39mList(feature\u001b[38;5;241m.\u001b[39mget(\u001b[38;5;124m'\u001b[39m\u001b[38;5;124mmatched_img\u001b[39m\u001b[38;5;124m'\u001b[39m))\u001b[38;5;241m.\u001b[39mget(\u001b[38;5;241m0\u001b[39m))\u001b[38;5;241m.\u001b[39mcast({\u001b[38;5;124m'\u001b[39m\u001b[38;5;124mangle\u001b[39m\u001b[38;5;124m'\u001b[39m:\u001b[38;5;124m'\u001b[39m\u001b[38;5;124mdouble\u001b[39m\u001b[38;5;124m'\u001b[39m}))\n\u001b[1;32m     15\u001b[0m                                      )\n\u001b[1;32m     17\u001b[0m     \u001b[38;5;66;03m#####################################\u001b[39;00m\n\u001b[1;32m     18\u001b[0m     \u001b[38;5;66;03m# Landsat portion\u001b[39;00m\n\u001b[1;32m     19\u001b[0m     \n\u001b[1;32m     20\u001b[0m     \u001b[38;5;66;03m# Scaling and offset\u001b[39;00m\n\u001b[1;32m     21\u001b[0m     feature \u001b[38;5;241m=\u001b[39m ee\u001b[38;5;241m.\u001b[39mImage(feature)\n",
      "Cell \u001b[0;32mIn[83], line 30\u001b[0m, in \u001b[0;36mprocess_multiple_sentinel\u001b[0;34m(feature, export_region_clipped)\u001b[0m\n\u001b[1;32m     28\u001b[0m \u001b[38;5;66;03m#Sentinel_image = Sentinel_image.unmask(value=nearest_Sentinel_clip.select(0), sameFootprint=False).addBands(nearest_Sentinel_clip)\u001b[39;00m\n\u001b[1;32m     29\u001b[0m nearest_Sentinel_clip_geometry \u001b[38;5;241m=\u001b[39m nearest_Sentinel_clip\u001b[38;5;241m.\u001b[39mgeometry()\n\u001b[0;32m---> 30\u001b[0m ee\u001b[38;5;241m.\u001b[39mAlgorithms\u001b[38;5;241m.\u001b[39mIf(nearest_Sentinel_clip\u001b[38;5;241m.\u001b[39mbandNames()\u001b[38;5;241m.\u001b[39mcontains(\u001b[38;5;124m'\u001b[39m\u001b[38;5;124mVV\u001b[39m\u001b[38;5;124m'\u001b[39m),\n\u001b[1;32m     31\u001b[0m                 vv_list \u001b[38;5;241m=\u001b[39m vv_list\u001b[38;5;241m.\u001b[39madd(nearest_Sentinel_clip),\n\u001b[1;32m     32\u001b[0m                 hh_list \u001b[38;5;241m=\u001b[39m hh_list\u001b[38;5;241m.\u001b[39madd(nearest_Sentinel_clip))\n\u001b[1;32m     34\u001b[0m \u001b[38;5;66;03m# Calculate non-intersection between export region and clipped Sentinel geometries and calculate new area\u001b[39;00m\n\u001b[1;32m     35\u001b[0m export_region_clipped \u001b[38;5;241m=\u001b[39m export_region_clipped\u001b[38;5;241m.\u001b[39mdifference(right\u001b[38;5;241m=\u001b[39mnearest_Sentinel_clip_geometry, maxError\u001b[38;5;241m=\u001b[39mee\u001b[38;5;241m.\u001b[39mErrorMargin(\u001b[38;5;241m900\u001b[39m), proj\u001b[38;5;241m=\u001b[39mutm_proj)\n",
      "File \u001b[0;32m/opt/anaconda3/envs/heat/lib/python3.12/site-packages/ee/__init__.py:409\u001b[0m, in \u001b[0;36m_InitializeUnboundMethods.<locals>.GenerateFunction.<locals>.<lambda>\u001b[0;34m(*args, **kwargs)\u001b[0m\n\u001b[1;32m    408\u001b[0m \u001b[38;5;28;01mdef\u001b[39;00m \u001b[38;5;21mGenerateFunction\u001b[39m(f):\n\u001b[0;32m--> 409\u001b[0m   \u001b[38;5;28;01mreturn\u001b[39;00m \u001b[38;5;28;01mlambda\u001b[39;00m \u001b[38;5;241m*\u001b[39margs, \u001b[38;5;241m*\u001b[39m\u001b[38;5;241m*\u001b[39mkwargs: f\u001b[38;5;241m.\u001b[39mcall(\u001b[38;5;241m*\u001b[39margs, \u001b[38;5;241m*\u001b[39m\u001b[38;5;241m*\u001b[39mkwargs)\n",
      "File \u001b[0;32m/opt/anaconda3/envs/heat/lib/python3.12/site-packages/ee/function.py:62\u001b[0m, in \u001b[0;36mFunction.call\u001b[0;34m(self, *args, **kwargs)\u001b[0m\n\u001b[1;32m     50\u001b[0m \u001b[38;5;28;01mdef\u001b[39;00m \u001b[38;5;21mcall\u001b[39m(\u001b[38;5;28mself\u001b[39m, \u001b[38;5;241m*\u001b[39margs, \u001b[38;5;241m*\u001b[39m\u001b[38;5;241m*\u001b[39mkwargs):\n\u001b[1;32m     51\u001b[0m \u001b[38;5;250m  \u001b[39m\u001b[38;5;124;03m\"\"\"Calls the function with the given positional and keyword arguments.\u001b[39;00m\n\u001b[1;32m     52\u001b[0m \n\u001b[1;32m     53\u001b[0m \u001b[38;5;124;03m  Args:\u001b[39;00m\n\u001b[0;32m   (...)\u001b[0m\n\u001b[1;32m     60\u001b[0m \u001b[38;5;124;03m    to that type.\u001b[39;00m\n\u001b[1;32m     61\u001b[0m \u001b[38;5;124;03m  \"\"\"\u001b[39;00m\n\u001b[0;32m---> 62\u001b[0m   \u001b[38;5;28;01mreturn\u001b[39;00m \u001b[38;5;28mself\u001b[39m\u001b[38;5;241m.\u001b[39mapply(\u001b[38;5;28mself\u001b[39m\u001b[38;5;241m.\u001b[39mnameArgs(args, kwargs))\n",
      "File \u001b[0;32m/opt/anaconda3/envs/heat/lib/python3.12/site-packages/ee/function.py:75\u001b[0m, in \u001b[0;36mFunction.apply\u001b[0;34m(self, named_args)\u001b[0m\n\u001b[1;32m     64\u001b[0m \u001b[38;5;28;01mdef\u001b[39;00m \u001b[38;5;21mapply\u001b[39m(\u001b[38;5;28mself\u001b[39m, named_args):\n\u001b[1;32m     65\u001b[0m \u001b[38;5;250m  \u001b[39m\u001b[38;5;124;03m\"\"\"Calls the function with a dictionary of named arguments.\u001b[39;00m\n\u001b[1;32m     66\u001b[0m \n\u001b[1;32m     67\u001b[0m \u001b[38;5;124;03m  Args:\u001b[39;00m\n\u001b[0;32m   (...)\u001b[0m\n\u001b[1;32m     73\u001b[0m \u001b[38;5;124;03m    to that type.\u001b[39;00m\n\u001b[1;32m     74\u001b[0m \u001b[38;5;124;03m  \"\"\"\u001b[39;00m\n\u001b[0;32m---> 75\u001b[0m   result \u001b[38;5;241m=\u001b[39m computedobject\u001b[38;5;241m.\u001b[39mComputedObject(\u001b[38;5;28mself\u001b[39m, \u001b[38;5;28mself\u001b[39m\u001b[38;5;241m.\u001b[39mpromoteArgs(named_args))\n\u001b[1;32m     76\u001b[0m   \u001b[38;5;28;01mreturn\u001b[39;00m Function\u001b[38;5;241m.\u001b[39m_promoter(result, \u001b[38;5;28mself\u001b[39m\u001b[38;5;241m.\u001b[39mgetReturnType())\n",
      "File \u001b[0;32m/opt/anaconda3/envs/heat/lib/python3.12/site-packages/ee/function.py:113\u001b[0m, in \u001b[0;36mFunction.promoteArgs\u001b[0;34m(self, args)\u001b[0m\n\u001b[1;32m    111\u001b[0m unknown \u001b[38;5;241m=\u001b[39m \u001b[38;5;28mset\u001b[39m(args\u001b[38;5;241m.\u001b[39mkeys())\u001b[38;5;241m.\u001b[39mdifference(known)\n\u001b[1;32m    112\u001b[0m \u001b[38;5;28;01mif\u001b[39;00m unknown:\n\u001b[0;32m--> 113\u001b[0m   \u001b[38;5;28;01mraise\u001b[39;00m ee_exception\u001b[38;5;241m.\u001b[39mEEException(\n\u001b[1;32m    114\u001b[0m       \u001b[38;5;124m'\u001b[39m\u001b[38;5;124mUnrecognized arguments \u001b[39m\u001b[38;5;132;01m%s\u001b[39;00m\u001b[38;5;124m to function: \u001b[39m\u001b[38;5;132;01m%s\u001b[39;00m\u001b[38;5;124m'\u001b[39m\n\u001b[1;32m    115\u001b[0m       \u001b[38;5;241m%\u001b[39m (unknown, signature\u001b[38;5;241m.\u001b[39mget(\u001b[38;5;124m'\u001b[39m\u001b[38;5;124mname\u001b[39m\u001b[38;5;124m'\u001b[39m))\n\u001b[1;32m    116\u001b[0m   )\n\u001b[1;32m    118\u001b[0m \u001b[38;5;28;01mreturn\u001b[39;00m promoted_args\n",
      "\u001b[0;31mEEException\u001b[0m: Unrecognized arguments {'vv_list', 'hh_list'} to function: If"
     ]
    }
   ],
   "source": [
    "processed2 = LandsatSentinel_near.map(process_Landsat_Sentinel)"
   ]
  },
  {
   "cell_type": "code",
   "execution_count": 73,
   "id": "20c02cc1-1cb1-40b6-b8ee-63eb82d634a2",
   "metadata": {},
   "outputs": [
    {
     "data": {
      "text/html": [
       "\n",
       "            <style>\n",
       "                .geemap-dark {\n",
       "                    --jp-widgets-color: white;\n",
       "                    --jp-widgets-label-color: white;\n",
       "                    --jp-ui-font-color1: white;\n",
       "                    --jp-layout-color2: #454545;\n",
       "                    background-color: #383838;\n",
       "                }\n",
       "\n",
       "                .geemap-dark .jupyter-button {\n",
       "                    --jp-layout-color3: #383838;\n",
       "                }\n",
       "\n",
       "                .geemap-colab {\n",
       "                    background-color: var(--colab-primary-surface-color, white);\n",
       "                }\n",
       "\n",
       "                .geemap-colab .jupyter-button {\n",
       "                    --jp-layout-color3: var(--colab-primary-surface-color, white);\n",
       "                }\n",
       "            </style>\n",
       "            "
      ],
      "text/plain": [
       "<IPython.core.display.HTML object>"
      ]
     },
     "metadata": {},
     "output_type": "display_data"
    },
    {
     "data": {
      "text/plain": [
       "{'type': 'Image',\n",
       " 'bands': [{'id': 'SR_B2',\n",
       "   'data_type': {'type': 'PixelType',\n",
       "    'precision': 'double',\n",
       "    'min': -0.2,\n",
       "    'max': 1.6022125},\n",
       "   'dimensions': [7651, 7781],\n",
       "   'crs': 'EPSG:32618',\n",
       "   'crs_transform': [30, 0, 527085, 0, -30, 4582215]},\n",
       "  {'id': 'SR_B3',\n",
       "   'data_type': {'type': 'PixelType',\n",
       "    'precision': 'double',\n",
       "    'min': -0.2,\n",
       "    'max': 1.6022125},\n",
       "   'dimensions': [7651, 7781],\n",
       "   'crs': 'EPSG:32618',\n",
       "   'crs_transform': [30, 0, 527085, 0, -30, 4582215]},\n",
       "  {'id': 'SR_B4',\n",
       "   'data_type': {'type': 'PixelType',\n",
       "    'precision': 'double',\n",
       "    'min': -0.2,\n",
       "    'max': 1.6022125},\n",
       "   'dimensions': [7651, 7781],\n",
       "   'crs': 'EPSG:32618',\n",
       "   'crs_transform': [30, 0, 527085, 0, -30, 4582215]},\n",
       "  {'id': 'SR_B5',\n",
       "   'data_type': {'type': 'PixelType',\n",
       "    'precision': 'double',\n",
       "    'min': -0.2,\n",
       "    'max': 1.6022125},\n",
       "   'dimensions': [7651, 7781],\n",
       "   'crs': 'EPSG:32618',\n",
       "   'crs_transform': [30, 0, 527085, 0, -30, 4582215]},\n",
       "  {'id': 'SR_B6',\n",
       "   'data_type': {'type': 'PixelType',\n",
       "    'precision': 'double',\n",
       "    'min': -0.2,\n",
       "    'max': 1.6022125},\n",
       "   'dimensions': [7651, 7781],\n",
       "   'crs': 'EPSG:32618',\n",
       "   'crs_transform': [30, 0, 527085, 0, -30, 4582215]},\n",
       "  {'id': 'SR_B7',\n",
       "   'data_type': {'type': 'PixelType',\n",
       "    'precision': 'double',\n",
       "    'min': -0.2,\n",
       "    'max': 1.6022125},\n",
       "   'dimensions': [7651, 7781],\n",
       "   'crs': 'EPSG:32618',\n",
       "   'crs_transform': [30, 0, 527085, 0, -30, 4582215]},\n",
       "  {'id': 'ST_B10',\n",
       "   'data_type': {'type': 'PixelType',\n",
       "    'precision': 'double',\n",
       "    'min': 149,\n",
       "    'max': 372.9999407},\n",
       "   'dimensions': [7651, 7781],\n",
       "   'crs': 'EPSG:32618',\n",
       "   'crs_transform': [30, 0, 527085, 0, -30, 4582215]},\n",
       "  {'id': 'QA_PIXEL',\n",
       "   'data_type': {'type': 'PixelType', 'precision': 'double'},\n",
       "   'dimensions': [7651, 7781],\n",
       "   'crs': 'EPSG:32618',\n",
       "   'crs_transform': [30, 0, 527085, 0, -30, 4582215]},\n",
       "  {'id': 'VV',\n",
       "   'data_type': {'type': 'PixelType', 'precision': 'double'},\n",
       "   'dimensions': [9002, 4383],\n",
       "   'origin': [7270, 0],\n",
       "   'crs': 'EPSG:32618',\n",
       "   'crs_transform': [10, 0, 489970.507061449, 0, -10, 4503824.871720916]},\n",
       "  {'id': 'VH',\n",
       "   'data_type': {'type': 'PixelType', 'precision': 'double'},\n",
       "   'dimensions': [9002, 4383],\n",
       "   'origin': [7270, 0],\n",
       "   'crs': 'EPSG:32618',\n",
       "   'crs_transform': [10, 0, 489970.507061449, 0, -10, 4503824.871720916]},\n",
       "  {'id': 'angle',\n",
       "   'data_type': {'type': 'PixelType', 'precision': 'double'},\n",
       "   'dimensions': [12, 6],\n",
       "   'origin': [5, 7],\n",
       "   'crs': 'EPSG:32618',\n",
       "   'crs_transform': [12715.798770289344,\n",
       "    -3953.258333228936,\n",
       "    522709.8248251023,\n",
       "    2477.780150280334,\n",
       "    19999.775654762983,\n",
       "    4287643.340046595]}],\n",
       " 'properties': {'system:footprint': {'type': 'LinearRing',\n",
       "   'coordinates': [[-72.55987158753243, 39.27042620770452],\n",
       "    [-72.55814702930056, 39.2703901065914],\n",
       "    [-72.51097827857498, 39.41438138051719],\n",
       "    [-72.46362872541302, 39.5584622994955],\n",
       "    [-72.41037597347653, 39.719845620496834],\n",
       "    [-72.37717112641768, 39.82015824230606],\n",
       "    [-72.30873128823865, 40.026020422986335],\n",
       "    [-72.24933611068158, 40.203915431697816],\n",
       "    [-72.20879844977615, 40.32488375455541],\n",
       "    [-72.11915692361622, 40.59098193134661],\n",
       "    [-72.08235963551668, 40.699718631756845],\n",
       "    [-72.03906741531208, 40.82723283357419],\n",
       "    [-71.99772447595069, 40.94856551883959],\n",
       "    [-71.98528159838274, 40.985182054617624],\n",
       "    [-73.09311236939547, 41.19542438487159],\n",
       "    [-74.14588586285886, 41.3842225805125],\n",
       "    [-74.16108197101369, 41.33550241746668],\n",
       "    [-74.66494395611187, 39.66702219808882],\n",
       "    [-74.02315145293541, 39.5506003077584],\n",
       "    [-72.98521380193685, 39.3539849130474],\n",
       "    [-72.55987158753243, 39.27042620770452]]},\n",
       "  'timestamp': 1641828835680,\n",
       "  'system:index': 'LC08_013032_20220110'}}"
      ]
     },
     "execution_count": 73,
     "metadata": {},
     "output_type": "execute_result"
    }
   ],
   "source": [
    "processed2.first().getInfo()"
   ]
  },
  {
   "cell_type": "code",
   "execution_count": 78,
   "id": "2ddb810b-3dc8-4f77-abb3-64bfb2db880f",
   "metadata": {},
   "outputs": [
    {
     "data": {
      "text/html": [
       "\n",
       "            <style>\n",
       "                .geemap-dark {\n",
       "                    --jp-widgets-color: white;\n",
       "                    --jp-widgets-label-color: white;\n",
       "                    --jp-ui-font-color1: white;\n",
       "                    --jp-layout-color2: #454545;\n",
       "                    background-color: #383838;\n",
       "                }\n",
       "\n",
       "                .geemap-dark .jupyter-button {\n",
       "                    --jp-layout-color3: #383838;\n",
       "                }\n",
       "\n",
       "                .geemap-colab {\n",
       "                    background-color: var(--colab-primary-surface-color, white);\n",
       "                }\n",
       "\n",
       "                .geemap-colab .jupyter-button {\n",
       "                    --jp-layout-color3: var(--colab-primary-surface-color, white);\n",
       "                }\n",
       "            </style>\n",
       "            "
      ],
      "text/plain": [
       "<IPython.core.display.HTML object>"
      ]
     },
     "metadata": {},
     "output_type": "display_data"
    }
   ],
   "source": [
    "plist = processed2.toList(30)"
   ]
  },
  {
   "cell_type": "code",
   "execution_count": 81,
   "id": "71fd4977-ddc5-4d7a-a67f-f5a422b8ea4d",
   "metadata": {},
   "outputs": [
    {
     "data": {
      "text/html": [
       "\n",
       "            <style>\n",
       "                .geemap-dark {\n",
       "                    --jp-widgets-color: white;\n",
       "                    --jp-widgets-label-color: white;\n",
       "                    --jp-ui-font-color1: white;\n",
       "                    --jp-layout-color2: #454545;\n",
       "                    background-color: #383838;\n",
       "                }\n",
       "\n",
       "                .geemap-dark .jupyter-button {\n",
       "                    --jp-layout-color3: #383838;\n",
       "                }\n",
       "\n",
       "                .geemap-colab {\n",
       "                    background-color: var(--colab-primary-surface-color, white);\n",
       "                }\n",
       "\n",
       "                .geemap-colab .jupyter-button {\n",
       "                    --jp-layout-color3: var(--colab-primary-surface-color, white);\n",
       "                }\n",
       "            </style>\n",
       "            "
      ],
      "text/plain": [
       "<IPython.core.display.HTML object>"
      ]
     },
     "metadata": {},
     "output_type": "display_data"
    },
    {
     "data": {
      "text/plain": [
       "{'type': 'Image',\n",
       " 'bands': [{'id': 'SR_B2',\n",
       "   'data_type': {'type': 'PixelType',\n",
       "    'precision': 'double',\n",
       "    'min': -0.2,\n",
       "    'max': 1.6022125},\n",
       "   'dimensions': [7661, 7781],\n",
       "   'crs': 'EPSG:32618',\n",
       "   'crs_transform': [30, 0, 526185, 0, -30, 4582215]},\n",
       "  {'id': 'SR_B3',\n",
       "   'data_type': {'type': 'PixelType',\n",
       "    'precision': 'double',\n",
       "    'min': -0.2,\n",
       "    'max': 1.6022125},\n",
       "   'dimensions': [7661, 7781],\n",
       "   'crs': 'EPSG:32618',\n",
       "   'crs_transform': [30, 0, 526185, 0, -30, 4582215]},\n",
       "  {'id': 'SR_B4',\n",
       "   'data_type': {'type': 'PixelType',\n",
       "    'precision': 'double',\n",
       "    'min': -0.2,\n",
       "    'max': 1.6022125},\n",
       "   'dimensions': [7661, 7781],\n",
       "   'crs': 'EPSG:32618',\n",
       "   'crs_transform': [30, 0, 526185, 0, -30, 4582215]},\n",
       "  {'id': 'SR_B5',\n",
       "   'data_type': {'type': 'PixelType',\n",
       "    'precision': 'double',\n",
       "    'min': -0.2,\n",
       "    'max': 1.6022125},\n",
       "   'dimensions': [7661, 7781],\n",
       "   'crs': 'EPSG:32618',\n",
       "   'crs_transform': [30, 0, 526185, 0, -30, 4582215]},\n",
       "  {'id': 'SR_B6',\n",
       "   'data_type': {'type': 'PixelType',\n",
       "    'precision': 'double',\n",
       "    'min': -0.2,\n",
       "    'max': 1.6022125},\n",
       "   'dimensions': [7661, 7781],\n",
       "   'crs': 'EPSG:32618',\n",
       "   'crs_transform': [30, 0, 526185, 0, -30, 4582215]},\n",
       "  {'id': 'SR_B7',\n",
       "   'data_type': {'type': 'PixelType',\n",
       "    'precision': 'double',\n",
       "    'min': -0.2,\n",
       "    'max': 1.6022125},\n",
       "   'dimensions': [7661, 7781],\n",
       "   'crs': 'EPSG:32618',\n",
       "   'crs_transform': [30, 0, 526185, 0, -30, 4582215]},\n",
       "  {'id': 'ST_B10',\n",
       "   'data_type': {'type': 'PixelType',\n",
       "    'precision': 'double',\n",
       "    'min': 149,\n",
       "    'max': 372.9999407},\n",
       "   'dimensions': [7661, 7781],\n",
       "   'crs': 'EPSG:32618',\n",
       "   'crs_transform': [30, 0, 526185, 0, -30, 4582215]},\n",
       "  {'id': 'QA_PIXEL',\n",
       "   'data_type': {'type': 'PixelType', 'precision': 'double'},\n",
       "   'dimensions': [7661, 7781],\n",
       "   'crs': 'EPSG:32618',\n",
       "   'crs_transform': [30, 0, 526185, 0, -30, 4582215]},\n",
       "  {'id': 'VV',\n",
       "   'data_type': {'type': 'PixelType', 'precision': 'double'},\n",
       "   'dimensions': [9011, 9585],\n",
       "   'origin': [26396, 2261],\n",
       "   'crs': 'EPSG:32618',\n",
       "   'crs_transform': [10, 0, 298702.51990186, 0, -10, 4578451.248294486]},\n",
       "  {'id': 'VH',\n",
       "   'data_type': {'type': 'PixelType', 'precision': 'double'},\n",
       "   'dimensions': [9011, 9585],\n",
       "   'origin': [26396, 2261],\n",
       "   'crs': 'EPSG:32618',\n",
       "   'crs_transform': [10, 0, 298702.51990186, 0, -10, 4578451.248294486]},\n",
       "  {'id': 'angle',\n",
       "   'data_type': {'type': 'PixelType', 'precision': 'double'},\n",
       "   'dimensions': [11, 9],\n",
       "   'origin': [19, 1],\n",
       "   'crs': 'EPSG:32618',\n",
       "   'crs_transform': [12639.14091463323,\n",
       "    -3418.79718580388,\n",
       "    331103.8160165667,\n",
       "    2142.231541068293,\n",
       "    20104.8955563521,\n",
       "    4366881.423121723]},\n",
       "  {'id': 'HH',\n",
       "   'data_type': {'type': 'PixelType', 'precision': 'double'},\n",
       "   'dimensions': [9011, 9585],\n",
       "   'origin': [3290, 9009],\n",
       "   'crs': 'EPSG:32618',\n",
       "   'crs_transform': [10, 0, 529767.5776995698, 0, -10, 4645939.418993176]},\n",
       "  {'id': 'HV',\n",
       "   'data_type': {'type': 'PixelType', 'precision': 'double'},\n",
       "   'dimensions': [9011, 9585],\n",
       "   'origin': [3290, 9009],\n",
       "   'crs': 'EPSG:32618',\n",
       "   'crs_transform': [10, 0, 529767.5776995698, 0, -10, 4645939.418993176]}],\n",
       " 'properties': {'system:footprint': {'type': 'LinearRing',\n",
       "   'coordinates': [[-74.13488087522302, 41.380238875583494],\n",
       "    [-74.14945564232838, 41.382754326094386],\n",
       "    [-74.16647062363093, 41.32810213120457],\n",
       "    [-74.66860008926996, 39.665557460203125],\n",
       "    [-74.62733910997994, 39.65817792838639],\n",
       "    [-74.21203242382971, 39.58311998641442],\n",
       "    [-72.65773745909233, 39.28757956179541],\n",
       "    [-72.56203078908744, 39.26862614533638],\n",
       "    [-72.52168468613353, 39.3917067011057],\n",
       "    [-72.44857222593733, 39.61392319141026],\n",
       "    [-72.39406589231861, 39.778790800214665],\n",
       "    [-72.31759730476521, 40.00902037054637],\n",
       "    [-72.2486495808834, 40.21545257700773],\n",
       "    [-72.20503742846655, 40.34551991632895],\n",
       "    [-72.15315328339166, 40.49970204209236],\n",
       "    [-72.13493539272721, 40.553704463973354],\n",
       "    [-72.06189414533979, 40.769452851889895],\n",
       "    [-72.02875495689467, 40.86695732472895],\n",
       "    [-71.98897317656613, 40.98371919275579],\n",
       "    [-73.04621100588554, 41.184639948041564],\n",
       "    [-74.13488087522302, 41.380238875583494]]},\n",
       "  'timestamp': 1672241646108,\n",
       "  'system:index': 'LC08_013032_20221228'}}"
      ]
     },
     "execution_count": 81,
     "metadata": {},
     "output_type": "execute_result"
    }
   ],
   "source": [
    "ee.Image(plist.get(19)).getInfo()"
   ]
  },
  {
   "cell_type": "code",
   "execution_count": 35,
   "id": "ea320fcd-1ede-467a-8b8b-d41d9751797e",
   "metadata": {},
   "outputs": [
    {
     "data": {
      "text/html": [
       "\n",
       "            <style>\n",
       "                .geemap-dark {\n",
       "                    --jp-widgets-color: white;\n",
       "                    --jp-widgets-label-color: white;\n",
       "                    --jp-ui-font-color1: white;\n",
       "                    --jp-layout-color2: #454545;\n",
       "                    background-color: #383838;\n",
       "                }\n",
       "\n",
       "                .geemap-dark .jupyter-button {\n",
       "                    --jp-layout-color3: #383838;\n",
       "                }\n",
       "\n",
       "                .geemap-colab {\n",
       "                    background-color: var(--colab-primary-surface-color, white);\n",
       "                }\n",
       "\n",
       "                .geemap-colab .jupyter-button {\n",
       "                    --jp-layout-color3: var(--colab-primary-surface-color, white);\n",
       "                }\n",
       "            </style>\n",
       "            "
      ],
      "text/plain": [
       "<IPython.core.display.HTML object>"
      ]
     },
     "metadata": {},
     "output_type": "display_data"
    },
    {
     "data": {
      "text/plain": [
       "35"
      ]
     },
     "execution_count": 35,
     "metadata": {},
     "output_type": "execute_result"
    }
   ],
   "source": [
    "processed2.size().getInfo()"
   ]
  },
  {
   "cell_type": "code",
   "execution_count": 36,
   "id": "bceb1672-fb66-4ff0-bb3c-065aaea1cc87",
   "metadata": {},
   "outputs": [
    {
     "data": {
      "text/html": [
       "\n",
       "            <style>\n",
       "                .geemap-dark {\n",
       "                    --jp-widgets-color: white;\n",
       "                    --jp-widgets-label-color: white;\n",
       "                    --jp-ui-font-color1: white;\n",
       "                    --jp-layout-color2: #454545;\n",
       "                    background-color: #383838;\n",
       "                }\n",
       "\n",
       "                .geemap-dark .jupyter-button {\n",
       "                    --jp-layout-color3: #383838;\n",
       "                }\n",
       "\n",
       "                .geemap-colab {\n",
       "                    background-color: var(--colab-primary-surface-color, white);\n",
       "                }\n",
       "\n",
       "                .geemap-colab .jupyter-button {\n",
       "                    --jp-layout-color3: var(--colab-primary-surface-color, white);\n",
       "                }\n",
       "            </style>\n",
       "            "
      ],
      "text/plain": [
       "<IPython.core.display.HTML object>"
      ]
     },
     "metadata": {},
     "output_type": "display_data"
    }
   ],
   "source": [
    "times2 = processed2.aggregate_array('timestamp')\n",
    "features2 = ee.FeatureCollection(times2.map(times_to_features))"
   ]
  },
  {
   "cell_type": "code",
   "execution_count": 37,
   "id": "c5318457-c8c7-40af-ae30-98a547bca325",
   "metadata": {},
   "outputs": [
    {
     "data": {
      "text/html": [
       "\n",
       "            <style>\n",
       "                .geemap-dark {\n",
       "                    --jp-widgets-color: white;\n",
       "                    --jp-widgets-label-color: white;\n",
       "                    --jp-ui-font-color1: white;\n",
       "                    --jp-layout-color2: #454545;\n",
       "                    background-color: #383838;\n",
       "                }\n",
       "\n",
       "                .geemap-dark .jupyter-button {\n",
       "                    --jp-layout-color3: #383838;\n",
       "                }\n",
       "\n",
       "                .geemap-colab {\n",
       "                    background-color: var(--colab-primary-surface-color, white);\n",
       "                }\n",
       "\n",
       "                .geemap-colab .jupyter-button {\n",
       "                    --jp-layout-color3: var(--colab-primary-surface-color, white);\n",
       "                }\n",
       "            </style>\n",
       "            "
      ],
      "text/plain": [
       "<IPython.core.display.HTML object>"
      ]
     },
     "metadata": {},
     "output_type": "display_data"
    }
   ],
   "source": [
    "task = ee.batch.Export.table.toDrive(\n",
    "    collection=features2,\n",
    "    description=f'Landsat_times_{city}',\n",
    "    folder=f'Landsat_SAR_{city}',\n",
    "    fileFormat='CSV',\n",
    ")\n",
    "task.start()"
   ]
  },
  {
   "cell_type": "markdown",
   "id": "f2445ceb-19e9-464f-bebe-fc695eb7059c",
   "metadata": {},
   "source": [
    "## Export stuff"
   ]
  },
  {
   "cell_type": "code",
   "execution_count": 22,
   "id": "6bf7c9df-a49a-4172-9797-3388a2dbca08",
   "metadata": {},
   "outputs": [
    {
     "data": {
      "text/html": [
       "\n",
       "            <style>\n",
       "                .geemap-dark {\n",
       "                    --jp-widgets-color: white;\n",
       "                    --jp-widgets-label-color: white;\n",
       "                    --jp-ui-font-color1: white;\n",
       "                    --jp-layout-color2: #454545;\n",
       "                    background-color: #383838;\n",
       "                }\n",
       "\n",
       "                .geemap-dark .jupyter-button {\n",
       "                    --jp-layout-color3: #383838;\n",
       "                }\n",
       "\n",
       "                .geemap-colab {\n",
       "                    background-color: var(--colab-primary-surface-color, white);\n",
       "                }\n",
       "\n",
       "                .geemap-colab .jupyter-button {\n",
       "                    --jp-layout-color3: var(--colab-primary-surface-color, white);\n",
       "                }\n",
       "            </style>\n",
       "            "
      ],
      "text/plain": [
       "<IPython.core.display.HTML object>"
      ]
     },
     "metadata": {},
     "output_type": "display_data"
    }
   ],
   "source": [
    "# Must first download the times files created above in the previous two sections\n",
    "ls_times = pd.read_csv(f'/Users/jonstar/Documents/heat_data/Landsat_Sentinel_{city}/Landsat_times_{city}.csv').value\n",
    "g_times = pd.read_csv('/Users/jonstar/Documents/heat_data/GOES_DMV/GOES_times_DMV.csv').value"
   ]
  },
  {
   "cell_type": "code",
   "execution_count": 28,
   "id": "5e5a8fe6-6839-4ece-8541-acfb5f68fa4d",
   "metadata": {},
   "outputs": [
    {
     "data": {
      "text/html": [
       "\n",
       "            <style>\n",
       "                .geemap-dark {\n",
       "                    --jp-widgets-color: white;\n",
       "                    --jp-widgets-label-color: white;\n",
       "                    --jp-ui-font-color1: white;\n",
       "                    --jp-layout-color2: #454545;\n",
       "                    background-color: #383838;\n",
       "                }\n",
       "\n",
       "                .geemap-dark .jupyter-button {\n",
       "                    --jp-layout-color3: #383838;\n",
       "                }\n",
       "\n",
       "                .geemap-colab {\n",
       "                    background-color: var(--colab-primary-surface-color, white);\n",
       "                }\n",
       "\n",
       "                .geemap-colab .jupyter-button {\n",
       "                    --jp-layout-color3: var(--colab-primary-surface-color, white);\n",
       "                }\n",
       "            </style>\n",
       "            "
      ],
      "text/plain": [
       "<IPython.core.display.HTML object>"
      ]
     },
     "metadata": {},
     "output_type": "display_data"
    },
    {
     "data": {
      "text/plain": [
       "'202201101533'"
      ]
     },
     "execution_count": 28,
     "metadata": {},
     "output_type": "execute_result"
    }
   ],
   "source": [
    "toTimezone(datetime.fromtimestamp(ls_times[0]/1000), pytz.utc).strftime('%Y%m%d%H%M')"
   ]
  },
  {
   "cell_type": "code",
   "execution_count": 29,
   "id": "6681e597-b1b3-4a60-901b-c2125f9a1bc0",
   "metadata": {},
   "outputs": [
    {
     "data": {
      "text/html": [
       "\n",
       "            <style>\n",
       "                .geemap-dark {\n",
       "                    --jp-widgets-color: white;\n",
       "                    --jp-widgets-label-color: white;\n",
       "                    --jp-ui-font-color1: white;\n",
       "                    --jp-layout-color2: #454545;\n",
       "                    background-color: #383838;\n",
       "                }\n",
       "\n",
       "                .geemap-dark .jupyter-button {\n",
       "                    --jp-layout-color3: #383838;\n",
       "                }\n",
       "\n",
       "                .geemap-colab {\n",
       "                    background-color: var(--colab-primary-surface-color, white);\n",
       "                }\n",
       "\n",
       "                .geemap-colab .jupyter-button {\n",
       "                    --jp-layout-color3: var(--colab-primary-surface-color, white);\n",
       "                }\n",
       "            </style>\n",
       "            "
      ],
      "text/plain": [
       "<IPython.core.display.HTML object>"
      ]
     },
     "metadata": {},
     "output_type": "display_data"
    },
    {
     "data": {
      "text/plain": [
       "'202201010000'"
      ]
     },
     "execution_count": 29,
     "metadata": {},
     "output_type": "execute_result"
    }
   ],
   "source": [
    "toTimezone(datetime.fromtimestamp(g_times[0]/1000), pytz.utc).strftime('%Y%m%d%H%M')"
   ]
  },
  {
   "cell_type": "code",
   "execution_count": 119,
   "id": "671f465f-cfe8-4f8d-97f8-b23cff270eac",
   "metadata": {},
   "outputs": [
    {
     "data": {
      "text/html": [
       "\n",
       "            <style>\n",
       "                .geemap-dark {\n",
       "                    --jp-widgets-color: white;\n",
       "                    --jp-widgets-label-color: white;\n",
       "                    --jp-ui-font-color1: white;\n",
       "                    --jp-layout-color2: #454545;\n",
       "                    background-color: #383838;\n",
       "                }\n",
       "\n",
       "                .geemap-dark .jupyter-button {\n",
       "                    --jp-layout-color3: #383838;\n",
       "                }\n",
       "\n",
       "                .geemap-colab {\n",
       "                    background-color: var(--colab-primary-surface-color, white);\n",
       "                }\n",
       "\n",
       "                .geemap-colab .jupyter-button {\n",
       "                    --jp-layout-color3: var(--colab-primary-surface-color, white);\n",
       "                }\n",
       "            </style>\n",
       "            "
      ],
      "text/plain": [
       "<IPython.core.display.HTML object>"
      ]
     },
     "metadata": {},
     "output_type": "display_data"
    }
   ],
   "source": [
    "# Export Landsat/Sentinel images\n",
    "crs_prefix = '326' # Northern hemisphere\n",
    "#crs_prefix = '327' # Southern hemisphere\n",
    "num = processed2.size().getInfo()\n",
    "#num = 4\n",
    "img_list = processed2.toList(num)\n",
    "\n",
    "for i in list(range(num-4)):\n",
    "    i = i+4\n",
    "    img = ee.Image(img_list.get(i))\n",
    "    time_str = toTimezone(datetime.fromtimestamp(ls_times[i]/1000), pytz.utc).strftime('%Y%m%d%H%M')\n",
    "    \n",
    "    task = ee.batch.Export.image.toDrive(\n",
    "        img, description=f'Landsat_Sentinel_image_{time_str}', fileFormat='GeoTIFF', folder='Landsat_SAR_DMV_new',\n",
    "                dimensions='3000x3000', crs=f'EPSG:{crs_prefix}{city_export[0]}', crsTransform=[30, 0, city_export[1], 0, -30, city_export[2]],\n",
    "        formatOptions={'cloudOptimized':True})\n",
    "    task.start()"
   ]
  },
  {
   "cell_type": "code",
   "execution_count": 114,
   "id": "da166799-a727-4378-b112-299220bb91a7",
   "metadata": {},
   "outputs": [
    {
     "data": {
      "text/html": [
       "\n",
       "            <style>\n",
       "                .geemap-dark {\n",
       "                    --jp-widgets-color: white;\n",
       "                    --jp-widgets-label-color: white;\n",
       "                    --jp-ui-font-color1: white;\n",
       "                    --jp-layout-color2: #454545;\n",
       "                    background-color: #383838;\n",
       "                }\n",
       "\n",
       "                .geemap-dark .jupyter-button {\n",
       "                    --jp-layout-color3: #383838;\n",
       "                }\n",
       "\n",
       "                .geemap-colab {\n",
       "                    background-color: var(--colab-primary-surface-color, white);\n",
       "                }\n",
       "\n",
       "                .geemap-colab .jupyter-button {\n",
       "                    --jp-layout-color3: var(--colab-primary-surface-color, white);\n",
       "                }\n",
       "            </style>\n",
       "            "
      ],
      "text/plain": [
       "<IPython.core.display.HTML object>"
      ]
     },
     "metadata": {},
     "output_type": "display_data"
    }
   ],
   "source": [
    "# Export Landsat images for export to GEE asset for visualizing\n",
    "crs_prefix = '326' # Northern hemisphere\n",
    "#crs_prefix = '327' # Southern hemisphere\n",
    "num = 1\n",
    "img_list = processed2.toList(num)\n",
    "\n",
    "for i in list(range(num)):\n",
    "    img = ee.Image(img_list.get(i))\n",
    "    \n",
    "    task = ee.batch.Export.image.toAsset(\n",
    "        img, description=f'Landsat_Sentinel_image_{i}', assetId=f'projects/ee-jonstar/assets/{city}_LS_test',\n",
    "                dimensions='3000x3000', crs=f'EPSG:{crs_prefix}{city_export[0]}', crsTransform=[30, 0, city_export[1], 0, -30, city_export[2]])\n",
    "    task.start()"
   ]
  },
  {
   "cell_type": "code",
   "execution_count": null,
   "id": "090b0fda-cda3-47dc-aa34-be898398f6d9",
   "metadata": {},
   "outputs": [],
   "source": []
  },
  {
   "cell_type": "code",
   "execution_count": 23,
   "id": "78465290-4444-4b79-b6b0-95aeaf2b0a9d",
   "metadata": {},
   "outputs": [
    {
     "data": {
      "text/html": [
       "\n",
       "            <style>\n",
       "                .geemap-dark {\n",
       "                    --jp-widgets-color: white;\n",
       "                    --jp-widgets-label-color: white;\n",
       "                    --jp-ui-font-color1: white;\n",
       "                    --jp-layout-color2: #454545;\n",
       "                    background-color: #383838;\n",
       "                }\n",
       "\n",
       "                .geemap-dark .jupyter-button {\n",
       "                    --jp-layout-color3: #383838;\n",
       "                }\n",
       "\n",
       "                .geemap-colab {\n",
       "                    background-color: var(--colab-primary-surface-color, white);\n",
       "                }\n",
       "\n",
       "                .geemap-colab .jupyter-button {\n",
       "                    --jp-layout-color3: var(--colab-primary-surface-color, white);\n",
       "                }\n",
       "            </style>\n",
       "            "
      ],
      "text/plain": [
       "<IPython.core.display.HTML object>"
      ]
     },
     "metadata": {},
     "output_type": "display_data"
    }
   ],
   "source": [
    "# Export Landsat/Sentinel images new way\n",
    "crs_prefix = '326' # Northern hemisphere\n",
    "#crs_prefix = '327' # Southern hemisphere\n",
    "num = processed2.size().getInfo()\n",
    "#num = 1\n",
    "img_list = processed2.toList(num)\n",
    "point = ee.Geometry.Point([city_export[2]+30*2999/2,city_export[3]-30*2999/2], f'EPSG:{crs_prefix}{city_export[0]}')\n",
    "\n",
    "for i in list(range(num)):\n",
    "    if i in [0]:\n",
    "        img = ee.Image(img_list.get(i))\n",
    "        time_str = toTimezone(datetime.fromtimestamp(ls_times[i]/1000), pytz.utc).strftime('%Y%m%d%H%M')\n",
    "        \n",
    "        task = ee.batch.Export.image.toDrive(\n",
    "            img, description=f'Landsat_Sentinel_image_{time_str}', fileFormat='GeoTIFF', folder=f'Landsat_SAR_{city}',\n",
    "            region = export_region, crs=utm_proj, scale=30,\n",
    "            formatOptions={'cloudOptimized':True})\n",
    "        task.start()"
   ]
  },
  {
   "cell_type": "code",
   "execution_count": 26,
   "id": "f80e8c6c-5b66-43be-8a41-6aa6e497fb3c",
   "metadata": {},
   "outputs": [
    {
     "data": {
      "text/html": [
       "\n",
       "            <style>\n",
       "                .geemap-dark {\n",
       "                    --jp-widgets-color: white;\n",
       "                    --jp-widgets-label-color: white;\n",
       "                    --jp-ui-font-color1: white;\n",
       "                    --jp-layout-color2: #454545;\n",
       "                    background-color: #383838;\n",
       "                }\n",
       "\n",
       "                .geemap-dark .jupyter-button {\n",
       "                    --jp-layout-color3: #383838;\n",
       "                }\n",
       "\n",
       "                .geemap-colab {\n",
       "                    background-color: var(--colab-primary-surface-color, white);\n",
       "                }\n",
       "\n",
       "                .geemap-colab .jupyter-button {\n",
       "                    --jp-layout-color3: var(--colab-primary-surface-color, white);\n",
       "                }\n",
       "            </style>\n",
       "            "
      ],
      "text/plain": [
       "<IPython.core.display.HTML object>"
      ]
     },
     "metadata": {},
     "output_type": "display_data"
    }
   ],
   "source": [
    "# Export Landsat/Sentinel images new way as assets\n",
    "crs_prefix = '326' # Northern hemisphere\n",
    "#crs_prefix = '327' # Southern hemisphere\n",
    "#num = processed2.size().getInfo()\n",
    "num = 1\n",
    "img_list = processed2.toList(num)\n",
    "point = ee.Geometry.Point([city_export[2]+30*2999/2,city_export[3]-30*2999/2], f'EPSG:{crs_prefix}{city_export[0]}')\n",
    "\n",
    "for i in list(range(num)):\n",
    "    img = ee.Image(img_list.get(i))\n",
    "    time_str = toTimezone(datetime.fromtimestamp(ls_times[i]/1000), pytz.utc).strftime('%Y%m%d%H%M')\n",
    "    \n",
    "    task = ee.batch.Export.image.toAsset(\n",
    "        img, description=f'Landsat_Sentinel_image_{time_str}', assetId=f'projects/ee-jonstar/assets/{city}_LS_test',\n",
    "        region = export_region,\n",
    "        crs='EPSG:4326', scale=30)\n",
    "    task.start()"
   ]
  }
 ],
 "metadata": {
  "kernelspec": {
   "display_name": "Python 3 (ipykernel)",
   "language": "python",
   "name": "python3"
  },
  "language_info": {
   "codemirror_mode": {
    "name": "ipython",
    "version": 3
   },
   "file_extension": ".py",
   "mimetype": "text/x-python",
   "name": "python",
   "nbconvert_exporter": "python",
   "pygments_lexer": "ipython3",
   "version": "3.12.3"
  }
 },
 "nbformat": 4,
 "nbformat_minor": 5
}
