{
 "cells": [
  {
   "cell_type": "code",
   "execution_count": 24,
   "id": "4c7aa4d0-6a8e-4854-a14e-8c8277d11491",
   "metadata": {},
   "outputs": [
    {
     "data": {
      "text/html": [
       "\n",
       "            <style>\n",
       "                .geemap-dark {\n",
       "                    --jp-widgets-color: white;\n",
       "                    --jp-widgets-label-color: white;\n",
       "                    --jp-ui-font-color1: white;\n",
       "                    --jp-layout-color2: #454545;\n",
       "                    background-color: #383838;\n",
       "                }\n",
       "\n",
       "                .geemap-dark .jupyter-button {\n",
       "                    --jp-layout-color3: #383838;\n",
       "                }\n",
       "\n",
       "                .geemap-colab {\n",
       "                    background-color: var(--colab-primary-surface-color, white);\n",
       "                }\n",
       "\n",
       "                .geemap-colab .jupyter-button {\n",
       "                    --jp-layout-color3: var(--colab-primary-surface-color, white);\n",
       "                }\n",
       "            </style>\n",
       "            "
      ],
      "text/plain": [
       "<IPython.core.display.HTML object>"
      ]
     },
     "metadata": {},
     "output_type": "display_data"
    }
   ],
   "source": [
    "import xarray as xr\n",
    "import pandas as pd\n",
    "import numpy as np\n",
    "import ee\n",
    "import geemap\n",
    "import geetools\n",
    "from datetime import datetime"
   ]
  },
  {
   "cell_type": "code",
   "execution_count": 2,
   "id": "99e606c7-ad3d-4713-b320-d0cb0c8b9db1",
   "metadata": {},
   "outputs": [
    {
     "data": {
      "text/html": [
       "\n",
       "            <style>\n",
       "                .geemap-dark {\n",
       "                    --jp-widgets-color: white;\n",
       "                    --jp-widgets-label-color: white;\n",
       "                    --jp-ui-font-color1: white;\n",
       "                    --jp-layout-color2: #454545;\n",
       "                    background-color: #383838;\n",
       "                }\n",
       "\n",
       "                .geemap-dark .jupyter-button {\n",
       "                    --jp-layout-color3: #383838;\n",
       "                }\n",
       "\n",
       "                .geemap-colab {\n",
       "                    background-color: var(--colab-primary-surface-color, white);\n",
       "                }\n",
       "\n",
       "                .geemap-colab .jupyter-button {\n",
       "                    --jp-layout-color3: var(--colab-primary-surface-color, white);\n",
       "                }\n",
       "            </style>\n",
       "            "
      ],
      "text/plain": [
       "<IPython.core.display.HTML object>"
      ]
     },
     "metadata": {},
     "output_type": "display_data"
    }
   ],
   "source": [
    "ee.Initialize(project='ee-jonstar')"
   ]
  },
  {
   "cell_type": "code",
   "execution_count": 3,
   "id": "0098fa98-fd5d-47e6-92b6-0974cf57e583",
   "metadata": {},
   "outputs": [
    {
     "data": {
      "text/html": [
       "\n",
       "            <style>\n",
       "                .geemap-dark {\n",
       "                    --jp-widgets-color: white;\n",
       "                    --jp-widgets-label-color: white;\n",
       "                    --jp-ui-font-color1: white;\n",
       "                    --jp-layout-color2: #454545;\n",
       "                    background-color: #383838;\n",
       "                }\n",
       "\n",
       "                .geemap-dark .jupyter-button {\n",
       "                    --jp-layout-color3: #383838;\n",
       "                }\n",
       "\n",
       "                .geemap-colab {\n",
       "                    background-color: var(--colab-primary-surface-color, white);\n",
       "                }\n",
       "\n",
       "                .geemap-colab .jupyter-button {\n",
       "                    --jp-layout-color3: var(--colab-primary-surface-color, white);\n",
       "                }\n",
       "            </style>\n",
       "            "
      ],
      "text/plain": [
       "<IPython.core.display.HTML object>"
      ]
     },
     "metadata": {},
     "output_type": "display_data"
    }
   ],
   "source": [
    "ee.Initialize(opt_url='https://earthengine-highvolume.googleapis.com')"
   ]
  },
  {
   "cell_type": "markdown",
   "id": "06bf5ed4-7e65-47ec-b7e4-ff83f435a617",
   "metadata": {},
   "source": [
    "## CONUS Geometry"
   ]
  },
  {
   "cell_type": "code",
   "execution_count": 4,
   "id": "75d11fe2-a4fd-44a8-8535-c2bdcded6813",
   "metadata": {},
   "outputs": [
    {
     "data": {
      "text/html": [
       "\n",
       "            <style>\n",
       "                .geemap-dark {\n",
       "                    --jp-widgets-color: white;\n",
       "                    --jp-widgets-label-color: white;\n",
       "                    --jp-ui-font-color1: white;\n",
       "                    --jp-layout-color2: #454545;\n",
       "                    background-color: #383838;\n",
       "                }\n",
       "\n",
       "                .geemap-dark .jupyter-button {\n",
       "                    --jp-layout-color3: #383838;\n",
       "                }\n",
       "\n",
       "                .geemap-colab {\n",
       "                    background-color: var(--colab-primary-surface-color, white);\n",
       "                }\n",
       "\n",
       "                .geemap-colab .jupyter-button {\n",
       "                    --jp-layout-color3: var(--colab-primary-surface-color, white);\n",
       "                }\n",
       "            </style>\n",
       "            "
      ],
      "text/plain": [
       "<IPython.core.display.HTML object>"
      ]
     },
     "metadata": {},
     "output_type": "display_data"
    }
   ],
   "source": [
    "conus = ee.ImageCollection(\"GRIDMET/DROUGHT\").filterDate('2000-01-01', '2001-01-01')\n",
    "geometry = conus.geometry();"
   ]
  },
  {
   "cell_type": "code",
   "execution_count": 5,
   "id": "5a73b727-758a-4303-9144-cb8f0917422a",
   "metadata": {},
   "outputs": [
    {
     "data": {
      "text/html": [
       "\n",
       "            <style>\n",
       "                .geemap-dark {\n",
       "                    --jp-widgets-color: white;\n",
       "                    --jp-widgets-label-color: white;\n",
       "                    --jp-ui-font-color1: white;\n",
       "                    --jp-layout-color2: #454545;\n",
       "                    background-color: #383838;\n",
       "                }\n",
       "\n",
       "                .geemap-dark .jupyter-button {\n",
       "                    --jp-layout-color3: #383838;\n",
       "                }\n",
       "\n",
       "                .geemap-colab {\n",
       "                    background-color: var(--colab-primary-surface-color, white);\n",
       "                }\n",
       "\n",
       "                .geemap-colab .jupyter-button {\n",
       "                    --jp-layout-color3: var(--colab-primary-surface-color, white);\n",
       "                }\n",
       "            </style>\n",
       "            "
      ],
      "text/plain": [
       "<IPython.core.display.HTML object>"
      ]
     },
     "metadata": {},
     "output_type": "display_data"
    }
   ],
   "source": [
    "u_lon = -76.6122\n",
    "u_lat = 39.2904\n",
    "u_poi = ee.Geometry.Point(u_lon, u_lat)\n",
    "roi = u_poi.buffer(2e2)"
   ]
  },
  {
   "cell_type": "markdown",
   "id": "a66c0658-4cd8-4b10-b8e6-e233a9d71007",
   "metadata": {},
   "source": [
    "## Landsat Initialization"
   ]
  },
  {
   "cell_type": "code",
   "execution_count": 6,
   "id": "f1d1e568-5e3a-4e14-910c-ce0075e38b57",
   "metadata": {},
   "outputs": [
    {
     "data": {
      "text/html": [
       "\n",
       "            <style>\n",
       "                .geemap-dark {\n",
       "                    --jp-widgets-color: white;\n",
       "                    --jp-widgets-label-color: white;\n",
       "                    --jp-ui-font-color1: white;\n",
       "                    --jp-layout-color2: #454545;\n",
       "                    background-color: #383838;\n",
       "                }\n",
       "\n",
       "                .geemap-dark .jupyter-button {\n",
       "                    --jp-layout-color3: #383838;\n",
       "                }\n",
       "\n",
       "                .geemap-colab {\n",
       "                    background-color: var(--colab-primary-surface-color, white);\n",
       "                }\n",
       "\n",
       "                .geemap-colab .jupyter-button {\n",
       "                    --jp-layout-color3: var(--colab-primary-surface-color, white);\n",
       "                }\n",
       "            </style>\n",
       "            "
      ],
      "text/plain": [
       "<IPython.core.display.HTML object>"
      ]
     },
     "metadata": {},
     "output_type": "display_data"
    }
   ],
   "source": [
    "landsat = ee.ImageCollection(\"LANDSAT/LC08/C02/T1_L2\")\n",
    "landsat_US = landsat.filterDate('2023-01-01', '2024-08-17').filterBounds(roi)"
   ]
  },
  {
   "cell_type": "code",
   "execution_count": 7,
   "id": "e363ac74-03b8-4aa5-903e-c11413dfc1ca",
   "metadata": {},
   "outputs": [
    {
     "data": {
      "text/html": [
       "\n",
       "            <style>\n",
       "                .geemap-dark {\n",
       "                    --jp-widgets-color: white;\n",
       "                    --jp-widgets-label-color: white;\n",
       "                    --jp-ui-font-color1: white;\n",
       "                    --jp-layout-color2: #454545;\n",
       "                    background-color: #383838;\n",
       "                }\n",
       "\n",
       "                .geemap-dark .jupyter-button {\n",
       "                    --jp-layout-color3: #383838;\n",
       "                }\n",
       "\n",
       "                .geemap-colab {\n",
       "                    background-color: var(--colab-primary-surface-color, white);\n",
       "                }\n",
       "\n",
       "                .geemap-colab .jupyter-button {\n",
       "                    --jp-layout-color3: var(--colab-primary-surface-color, white);\n",
       "                }\n",
       "            </style>\n",
       "            "
      ],
      "text/plain": [
       "<IPython.core.display.HTML object>"
      ]
     },
     "metadata": {},
     "output_type": "display_data"
    },
    {
     "data": {
      "text/html": [
       "<div><style>:root {\n",
       "  --font-color-primary: var(--jp-content-font-color0, rgba(0, 0, 0, 1));\n",
       "  --font-color-secondary: var(--jp-content-font-color2, rgba(0, 0, 0, 0.6));\n",
       "  --font-color-accent: rgba(123, 31, 162, 1);\n",
       "  --border-color: var(--jp-border-color2, #e0e0e0);\n",
       "  --background-color: var(--jp-layout-color0, white);\n",
       "  --background-color-row-even: var(--jp-layout-color1, white);\n",
       "  --background-color-row-odd: var(--jp-layout-color2, #eeeeee);\n",
       "}\n",
       "\n",
       "html[theme=\"dark\"],\n",
       "body[data-theme=\"dark\"],\n",
       "body.vscode-dark {\n",
       "  --font-color-primary: rgba(255, 255, 255, 1);\n",
       "  --font-color-secondary: rgba(255, 255, 255, 0.6);\n",
       "  --font-color-accent: rgb(173, 132, 190);\n",
       "  --border-color: #2e2e2e;\n",
       "  --background-color: #111111;\n",
       "  --background-color-row-even: #111111;\n",
       "  --background-color-row-odd: #313131;\n",
       "}\n",
       "\n",
       ".ee {\n",
       "  padding: 1em;\n",
       "  line-height: 1.5em;\n",
       "  min-width: 300px;\n",
       "  max-width: 1200px;\n",
       "  overflow-y: scroll;\n",
       "  max-height: 600px;\n",
       "  border: 1px solid var(--border-color);\n",
       "  font-family: monospace;\n",
       "}\n",
       "\n",
       ".ee li {\n",
       "  list-style-type: none;\n",
       "}\n",
       "\n",
       ".ee ul {\n",
       "  padding-left: 1.5em !important;\n",
       "  margin: 0;\n",
       "}\n",
       "\n",
       ".ee > ul {\n",
       "  padding-left: 0 !important;\n",
       "}\n",
       "\n",
       ".ee-open,\n",
       ".ee-shut {\n",
       "  color: var(--font-color-secondary);\n",
       "  cursor: pointer;\n",
       "  margin: 0;\n",
       "}\n",
       "\n",
       ".ee-open:hover,\n",
       ".ee-shut:hover {\n",
       "  color: var(--font-color-primary);\n",
       "}\n",
       "\n",
       ".ee-k {\n",
       "  color: var(--font-color-accent);\n",
       "  margin-right: 6px;\n",
       "}\n",
       "\n",
       ".ee-v {\n",
       "  color: var(--font-color-primary);\n",
       "}\n",
       "\n",
       ".ee-toggle {\n",
       "  display: none;\n",
       "}\n",
       "\n",
       ".ee-shut + ul {\n",
       "  display: none;\n",
       "}\n",
       "\n",
       ".ee-open + ul {\n",
       "  display: block;\n",
       "}\n",
       "\n",
       ".ee-shut::before {\n",
       "  display: inline-block;\n",
       "  content: \"▼\";\n",
       "  margin-right: 6px;\n",
       "  transform: rotate(-90deg);\n",
       "  transition: transform 0.2s;\n",
       "}\n",
       "\n",
       ".ee-open::before {\n",
       "  transform: rotate(0deg);\n",
       "  display: inline-block;\n",
       "  content: \"▼\";\n",
       "  margin-right: 6px;\n",
       "  transition: transform 0.2s;\n",
       "}\n",
       "</style><div class='ee'><ul><li><label class='ee-shut'>Projection<input type='checkbox' class='ee-toggle'></label><ul><li><span class='ee-k'>type:</span><span class='ee-v'>Projection</span></li><li><span class='ee-k'>crs:</span><span class='ee-v'>EPSG:32618</span></li><li><label class='ee-shut'>transform: [30, 0, 219285, 0, -30, 4426515]<input type='checkbox' class='ee-toggle'></label><ul><li><span class='ee-k'>0:</span><span class='ee-v'>30</span></li><li><span class='ee-k'>1:</span><span class='ee-v'>0</span></li><li><span class='ee-k'>2:</span><span class='ee-v'>219285</span></li><li><span class='ee-k'>3:</span><span class='ee-v'>0</span></li><li><span class='ee-k'>4:</span><span class='ee-v'>-30</span></li><li><span class='ee-k'>5:</span><span class='ee-v'>4426515</span></li></ul></li></ul></li></ul></div><script>function toggleHeader() {\n",
       "    const parent = this.parentElement;\n",
       "    parent.className = parent.className === \"ee-open\" ? \"ee-shut\" : \"ee-open\";\n",
       "}\n",
       "\n",
       "for (let c of document.getElementsByClassName(\"ee-toggle\")) {\n",
       "    c.onclick = toggleHeader;\n",
       "}</script></div>"
      ],
      "text/plain": [
       "<ee.projection.Projection at 0x15b5f50d0>"
      ]
     },
     "execution_count": 7,
     "metadata": {},
     "output_type": "execute_result"
    }
   ],
   "source": [
    "landsat_US.first().projection()"
   ]
  },
  {
   "cell_type": "markdown",
   "id": "b65c6dd9-6bf6-428b-bca4-67669ad17e9b",
   "metadata": {},
   "source": [
    "## GOES Initialization"
   ]
  },
  {
   "cell_type": "code",
   "execution_count": 8,
   "id": "8451093f-22d5-400d-bc6e-93309ab4ea7c",
   "metadata": {},
   "outputs": [
    {
     "data": {
      "text/html": [
       "\n",
       "            <style>\n",
       "                .geemap-dark {\n",
       "                    --jp-widgets-color: white;\n",
       "                    --jp-widgets-label-color: white;\n",
       "                    --jp-ui-font-color1: white;\n",
       "                    --jp-layout-color2: #454545;\n",
       "                    background-color: #383838;\n",
       "                }\n",
       "\n",
       "                .geemap-dark .jupyter-button {\n",
       "                    --jp-layout-color3: #383838;\n",
       "                }\n",
       "\n",
       "                .geemap-colab {\n",
       "                    background-color: var(--colab-primary-surface-color, white);\n",
       "                }\n",
       "\n",
       "                .geemap-colab .jupyter-button {\n",
       "                    --jp-layout-color3: var(--colab-primary-surface-color, white);\n",
       "                }\n",
       "            </style>\n",
       "            "
      ],
      "text/plain": [
       "<IPython.core.display.HTML object>"
      ]
     },
     "metadata": {},
     "output_type": "display_data"
    }
   ],
   "source": [
    "GOES = ee.ImageCollection(\"NOAA/GOES/16/MCMIPC\").filterDate('2023-01-01', '2024-08-17')"
   ]
  },
  {
   "cell_type": "markdown",
   "id": "f2d73511-20a0-46e5-892a-dc7565b9ae75",
   "metadata": {},
   "source": [
    "## Filtering images by time"
   ]
  },
  {
   "cell_type": "code",
   "execution_count": 9,
   "id": "a8d4ab86-eddf-417f-a2f1-809f0b17c965",
   "metadata": {},
   "outputs": [
    {
     "data": {
      "text/html": [
       "\n",
       "            <style>\n",
       "                .geemap-dark {\n",
       "                    --jp-widgets-color: white;\n",
       "                    --jp-widgets-label-color: white;\n",
       "                    --jp-ui-font-color1: white;\n",
       "                    --jp-layout-color2: #454545;\n",
       "                    background-color: #383838;\n",
       "                }\n",
       "\n",
       "                .geemap-dark .jupyter-button {\n",
       "                    --jp-layout-color3: #383838;\n",
       "                }\n",
       "\n",
       "                .geemap-colab {\n",
       "                    background-color: var(--colab-primary-surface-color, white);\n",
       "                }\n",
       "\n",
       "                .geemap-colab .jupyter-button {\n",
       "                    --jp-layout-color3: var(--colab-primary-surface-color, white);\n",
       "                }\n",
       "            </style>\n",
       "            "
      ],
      "text/plain": [
       "<IPython.core.display.HTML object>"
      ]
     },
     "metadata": {},
     "output_type": "display_data"
    }
   ],
   "source": [
    "join = ee.Join.inner()\n",
    "filterNear = ee.Filter.maxDifference(difference=60000, leftField='system:time_start', rightField='system:time_start')"
   ]
  },
  {
   "cell_type": "code",
   "execution_count": 10,
   "id": "d89474ec-f1cd-4c85-9c44-ef3ea3e7a8cf",
   "metadata": {},
   "outputs": [
    {
     "data": {
      "text/html": [
       "\n",
       "            <style>\n",
       "                .geemap-dark {\n",
       "                    --jp-widgets-color: white;\n",
       "                    --jp-widgets-label-color: white;\n",
       "                    --jp-ui-font-color1: white;\n",
       "                    --jp-layout-color2: #454545;\n",
       "                    background-color: #383838;\n",
       "                }\n",
       "\n",
       "                .geemap-dark .jupyter-button {\n",
       "                    --jp-layout-color3: #383838;\n",
       "                }\n",
       "\n",
       "                .geemap-colab {\n",
       "                    background-color: var(--colab-primary-surface-color, white);\n",
       "                }\n",
       "\n",
       "                .geemap-colab .jupyter-button {\n",
       "                    --jp-layout-color3: var(--colab-primary-surface-color, white);\n",
       "                }\n",
       "            </style>\n",
       "            "
      ],
      "text/plain": [
       "<IPython.core.display.HTML object>"
      ]
     },
     "metadata": {},
     "output_type": "display_data"
    }
   ],
   "source": [
    "col_near = ee.ImageCollection(join.apply(landsat_US, GOES, filterNear))"
   ]
  },
  {
   "cell_type": "code",
   "execution_count": 11,
   "id": "b9a7f945-7599-4301-90f5-9262819177ad",
   "metadata": {},
   "outputs": [
    {
     "data": {
      "text/html": [
       "\n",
       "            <style>\n",
       "                .geemap-dark {\n",
       "                    --jp-widgets-color: white;\n",
       "                    --jp-widgets-label-color: white;\n",
       "                    --jp-ui-font-color1: white;\n",
       "                    --jp-layout-color2: #454545;\n",
       "                    background-color: #383838;\n",
       "                }\n",
       "\n",
       "                .geemap-dark .jupyter-button {\n",
       "                    --jp-layout-color3: #383838;\n",
       "                }\n",
       "\n",
       "                .geemap-colab {\n",
       "                    background-color: var(--colab-primary-surface-color, white);\n",
       "                }\n",
       "\n",
       "                .geemap-colab .jupyter-button {\n",
       "                    --jp-layout-color3: var(--colab-primary-surface-color, white);\n",
       "                }\n",
       "            </style>\n",
       "            "
      ],
      "text/plain": [
       "<IPython.core.display.HTML object>"
      ]
     },
     "metadata": {},
     "output_type": "display_data"
    },
    {
     "data": {
      "text/plain": [
       "27"
      ]
     },
     "execution_count": 11,
     "metadata": {},
     "output_type": "execute_result"
    }
   ],
   "source": [
    "col_near.size().getInfo()"
   ]
  },
  {
   "cell_type": "code",
   "execution_count": 12,
   "id": "a09a2e38-9798-486f-bdcf-0fa8122b390e",
   "metadata": {},
   "outputs": [
    {
     "data": {
      "text/html": [
       "\n",
       "            <style>\n",
       "                .geemap-dark {\n",
       "                    --jp-widgets-color: white;\n",
       "                    --jp-widgets-label-color: white;\n",
       "                    --jp-ui-font-color1: white;\n",
       "                    --jp-layout-color2: #454545;\n",
       "                    background-color: #383838;\n",
       "                }\n",
       "\n",
       "                .geemap-dark .jupyter-button {\n",
       "                    --jp-layout-color3: #383838;\n",
       "                }\n",
       "\n",
       "                .geemap-colab {\n",
       "                    background-color: var(--colab-primary-surface-color, white);\n",
       "                }\n",
       "\n",
       "                .geemap-colab .jupyter-button {\n",
       "                    --jp-layout-color3: var(--colab-primary-surface-color, white);\n",
       "                }\n",
       "            </style>\n",
       "            "
      ],
      "text/plain": [
       "<IPython.core.display.HTML object>"
      ]
     },
     "metadata": {},
     "output_type": "display_data"
    },
    {
     "data": {
      "text/plain": [
       "27"
      ]
     },
     "execution_count": 12,
     "metadata": {},
     "output_type": "execute_result"
    }
   ],
   "source": [
    "landsat_US.size().getInfo()"
   ]
  },
  {
   "cell_type": "markdown",
   "id": "5909058d-64fd-4876-8bbe-b832359b8ab9",
   "metadata": {},
   "source": [
    "## Helper Functions"
   ]
  },
  {
   "cell_type": "code",
   "execution_count": 13,
   "id": "9f09742c-51d6-4034-ace3-2709a517e924",
   "metadata": {},
   "outputs": [
    {
     "data": {
      "text/html": [
       "\n",
       "            <style>\n",
       "                .geemap-dark {\n",
       "                    --jp-widgets-color: white;\n",
       "                    --jp-widgets-label-color: white;\n",
       "                    --jp-ui-font-color1: white;\n",
       "                    --jp-layout-color2: #454545;\n",
       "                    background-color: #383838;\n",
       "                }\n",
       "\n",
       "                .geemap-dark .jupyter-button {\n",
       "                    --jp-layout-color3: #383838;\n",
       "                }\n",
       "\n",
       "                .geemap-colab {\n",
       "                    background-color: var(--colab-primary-surface-color, white);\n",
       "                }\n",
       "\n",
       "                .geemap-colab .jupyter-button {\n",
       "                    --jp-layout-color3: var(--colab-primary-surface-color, white);\n",
       "                }\n",
       "            </style>\n",
       "            "
      ],
      "text/plain": [
       "<IPython.core.display.HTML object>"
      ]
     },
     "metadata": {},
     "output_type": "display_data"
    }
   ],
   "source": [
    "# Applies scale and offset factors for Landsat band 10 LST\n",
    "def scale_and_offset_LST(image):\n",
    "    return image.select('ST_B10').multiply(0.00341802).add(149)\n",
    "\n",
    "# Applies scale and offset factors for Landsat reflectance bands\n",
    "def scale_and_offset_Landsat(image):\n",
    "    return image.select(['SR_B2', 'SR_B4', 'SR_B5', 'SR_B6', 'SR_B7']).multiply(2.75e-05).add(-0.2)"
   ]
  },
  {
   "cell_type": "code",
   "execution_count": 14,
   "id": "f8f46bf6-eee9-47c2-8fd4-ed036e408297",
   "metadata": {},
   "outputs": [
    {
     "data": {
      "text/html": [
       "\n",
       "            <style>\n",
       "                .geemap-dark {\n",
       "                    --jp-widgets-color: white;\n",
       "                    --jp-widgets-label-color: white;\n",
       "                    --jp-ui-font-color1: white;\n",
       "                    --jp-layout-color2: #454545;\n",
       "                    background-color: #383838;\n",
       "                }\n",
       "\n",
       "                .geemap-dark .jupyter-button {\n",
       "                    --jp-layout-color3: #383838;\n",
       "                }\n",
       "\n",
       "                .geemap-colab {\n",
       "                    background-color: var(--colab-primary-surface-color, white);\n",
       "                }\n",
       "\n",
       "                .geemap-colab .jupyter-button {\n",
       "                    --jp-layout-color3: var(--colab-primary-surface-color, white);\n",
       "                }\n",
       "            </style>\n",
       "            "
      ],
      "text/plain": [
       "<IPython.core.display.HTML object>"
      ]
     },
     "metadata": {},
     "output_type": "display_data"
    }
   ],
   "source": [
    "# Applies scale and offset factors for GOES imagery\n",
    "# All scale and offset values were taken straight from GEE to save compute\n",
    "def scale_and_offset_GOES(image, band):\n",
    "    reflectances = image.select(['CMI_C01', 'CMI_C02', 'CMI_C03', 'CMI_C05', 'CMI_C06']).multiply(0.0002442)\n",
    "    brightness_temps = image.select(['CMI_C14', 'CMI_C15']).multiply(0.039316241).add(173.14999)\n",
    "    \n",
    "    return reflectances.addBands(srcImg=brightness_temps, names=['CMI_C14', 'CMI_C15'])\n",
    "\n",
    "\n",
    "def scale_and_offset_GOES2(image, band):\n",
    "    if band == 14:\n",
    "        scale = 0.059850749\n",
    "        offset = 96.190002\n",
    "        #print(scale, offset)\n",
    "        return image.select('CMI_C14').multiply(scale).add(offset)\n",
    "    elif band == 15:\n",
    "        #scale = image.get('CMI_C15_scale').getInfo()\n",
    "        scale = 0.05956082\n",
    "        #offset = image.get('CMI_C15_offset').getInfo()\n",
    "        offset = 97.379997\n",
    "        #print(scale, offset)\n",
    "        return image.select('CMI_C15').multiply(scale).add(offset)\n",
    "    else:\n",
    "        return image"
   ]
  },
  {
   "cell_type": "code",
   "execution_count": 15,
   "id": "e29fded5-1b3f-486d-a5ad-99b26c2ccb87",
   "metadata": {},
   "outputs": [
    {
     "data": {
      "text/html": [
       "\n",
       "            <style>\n",
       "                .geemap-dark {\n",
       "                    --jp-widgets-color: white;\n",
       "                    --jp-widgets-label-color: white;\n",
       "                    --jp-ui-font-color1: white;\n",
       "                    --jp-layout-color2: #454545;\n",
       "                    background-color: #383838;\n",
       "                }\n",
       "\n",
       "                .geemap-dark .jupyter-button {\n",
       "                    --jp-layout-color3: #383838;\n",
       "                }\n",
       "\n",
       "                .geemap-colab {\n",
       "                    background-color: var(--colab-primary-surface-color, white);\n",
       "                }\n",
       "\n",
       "                .geemap-colab .jupyter-button {\n",
       "                    --jp-layout-color3: var(--colab-primary-surface-color, white);\n",
       "                }\n",
       "            </style>\n",
       "            "
      ],
      "text/plain": [
       "<IPython.core.display.HTML object>"
      ]
     },
     "metadata": {},
     "output_type": "display_data"
    }
   ],
   "source": [
    "# Preprocessing function\n",
    "def process_feature(feature):\n",
    "    #####################################\n",
    "    # Landsat portion\n",
    "    \n",
    "    # Scaling and offset\n",
    "    image1 = ee.Image(feature.get('primary'))\n",
    "    landsat_LST = scale_and_offset_LST(image1)\n",
    "    landsat_image = scale_and_offset_Landsat(image1)\n",
    "    # Add cloud mask back in\n",
    "    landsat_image = landsat_image.addBands(srcImg=landsat_LST, names=['ST_B10'])\\\n",
    "                                .addBands(srcImg=image1, names=['QA_PIXEL'])\n",
    "\n",
    "    ######################################\n",
    "    # GOES portion\n",
    "\n",
    "    # Scaling and offset\n",
    "    image2 = ee.Image(feature.get('secondary'))\n",
    "    GOES_image = scale_and_offset_GOES(image2, 14)\n",
    "\n",
    "    ########################################\n",
    "    # Mapping for both\n",
    "    \n",
    "    def get_median_time(f):\n",
    "        #return f.set('timestamp', image1.get('system:time_start'))\n",
    "        #ee.Image(f.copyProperties(image1, ['system:time_start']))\n",
    "        first_time = ee.Number(image1.get('system:time_start'))\n",
    "        second_time = ee.Number(image2.get('system:time_start'))\n",
    "        median_time = ee.Number(first_time.add(second_time).divide(2))\n",
    "        \n",
    "        return f.set('timestamp', median_time)\n",
    "        \n",
    "    def map_date_GOES(f):\n",
    "        #return f.set('timestamp', image2.get('system:time_start'))\n",
    "        return ee.Image(f.copyProperties(image2, ['system:time_start']))\n",
    "\n",
    "    ##########################################\n",
    "    # Add timestamp back in\n",
    "    landsat_image = get_median_time(landsat_image)\n",
    "    #GOES_image = map_date_GOES(GOES_image)\n",
    "\n",
    "    ##########################################\n",
    "    \n",
    "    image = landsat_image.addBands(srcImg=GOES_image, names=['CMI_C01', 'CMI_C02', 'CMI_C03', 'CMI_C05',\n",
    "                                                             'CMI_C06', 'CMI_C14', 'CMI_C15']).cast({'QA_PIXEL':'double'})\n",
    "    return image"
   ]
  },
  {
   "cell_type": "markdown",
   "id": "9805a084-e66b-429b-9121-26d13ed4ad91",
   "metadata": {},
   "source": [
    "## Produce geotiffs and their respective times"
   ]
  },
  {
   "cell_type": "code",
   "execution_count": 25,
   "id": "14635ff1-777b-430f-8157-1ea283aa7b2b",
   "metadata": {},
   "outputs": [
    {
     "data": {
      "text/html": [
       "\n",
       "            <style>\n",
       "                .geemap-dark {\n",
       "                    --jp-widgets-color: white;\n",
       "                    --jp-widgets-label-color: white;\n",
       "                    --jp-ui-font-color1: white;\n",
       "                    --jp-layout-color2: #454545;\n",
       "                    background-color: #383838;\n",
       "                }\n",
       "\n",
       "                .geemap-dark .jupyter-button {\n",
       "                    --jp-layout-color3: #383838;\n",
       "                }\n",
       "\n",
       "                .geemap-colab {\n",
       "                    background-color: var(--colab-primary-surface-color, white);\n",
       "                }\n",
       "\n",
       "                .geemap-colab .jupyter-button {\n",
       "                    --jp-layout-color3: var(--colab-primary-surface-color, white);\n",
       "                }\n",
       "            </style>\n",
       "            "
      ],
      "text/plain": [
       "<IPython.core.display.HTML object>"
      ]
     },
     "metadata": {},
     "output_type": "display_data"
    }
   ],
   "source": [
    "processed = col_near.map(process_feature)"
   ]
  },
  {
   "cell_type": "code",
   "execution_count": 17,
   "id": "d53e546f-7f4a-4cfd-802e-ec9a0c9e455b",
   "metadata": {},
   "outputs": [
    {
     "data": {
      "text/html": [
       "\n",
       "            <style>\n",
       "                .geemap-dark {\n",
       "                    --jp-widgets-color: white;\n",
       "                    --jp-widgets-label-color: white;\n",
       "                    --jp-ui-font-color1: white;\n",
       "                    --jp-layout-color2: #454545;\n",
       "                    background-color: #383838;\n",
       "                }\n",
       "\n",
       "                .geemap-dark .jupyter-button {\n",
       "                    --jp-layout-color3: #383838;\n",
       "                }\n",
       "\n",
       "                .geemap-colab {\n",
       "                    background-color: var(--colab-primary-surface-color, white);\n",
       "                }\n",
       "\n",
       "                .geemap-colab .jupyter-button {\n",
       "                    --jp-layout-color3: var(--colab-primary-surface-color, white);\n",
       "                }\n",
       "            </style>\n",
       "            "
      ],
      "text/plain": [
       "<IPython.core.display.HTML object>"
      ]
     },
     "metadata": {},
     "output_type": "display_data"
    }
   ],
   "source": [
    "times = processed.aggregate_array('timestamp')"
   ]
  },
  {
   "cell_type": "code",
   "execution_count": 18,
   "id": "b1583d4e-6980-4b59-9c6b-b11e79b566e0",
   "metadata": {},
   "outputs": [
    {
     "data": {
      "text/html": [
       "\n",
       "            <style>\n",
       "                .geemap-dark {\n",
       "                    --jp-widgets-color: white;\n",
       "                    --jp-widgets-label-color: white;\n",
       "                    --jp-ui-font-color1: white;\n",
       "                    --jp-layout-color2: #454545;\n",
       "                    background-color: #383838;\n",
       "                }\n",
       "\n",
       "                .geemap-dark .jupyter-button {\n",
       "                    --jp-layout-color3: #383838;\n",
       "                }\n",
       "\n",
       "                .geemap-colab {\n",
       "                    background-color: var(--colab-primary-surface-color, white);\n",
       "                }\n",
       "\n",
       "                .geemap-colab .jupyter-button {\n",
       "                    --jp-layout-color3: var(--colab-primary-surface-color, white);\n",
       "                }\n",
       "            </style>\n",
       "            "
      ],
      "text/plain": [
       "<IPython.core.display.HTML object>"
      ]
     },
     "metadata": {},
     "output_type": "display_data"
    }
   ],
   "source": [
    "def times_to_features(num):\n",
    "    return ee.Feature(None, {'value': num})\n",
    "\n",
    "features = ee.FeatureCollection(times.map(times_to_features))"
   ]
  },
  {
   "cell_type": "code",
   "execution_count": 19,
   "id": "baa91e6e-e7ce-4249-b3e0-e2b5046e2b28",
   "metadata": {},
   "outputs": [
    {
     "data": {
      "text/html": [
       "\n",
       "            <style>\n",
       "                .geemap-dark {\n",
       "                    --jp-widgets-color: white;\n",
       "                    --jp-widgets-label-color: white;\n",
       "                    --jp-ui-font-color1: white;\n",
       "                    --jp-layout-color2: #454545;\n",
       "                    background-color: #383838;\n",
       "                }\n",
       "\n",
       "                .geemap-dark .jupyter-button {\n",
       "                    --jp-layout-color3: #383838;\n",
       "                }\n",
       "\n",
       "                .geemap-colab {\n",
       "                    background-color: var(--colab-primary-surface-color, white);\n",
       "                }\n",
       "\n",
       "                .geemap-colab .jupyter-button {\n",
       "                    --jp-layout-color3: var(--colab-primary-surface-color, white);\n",
       "                }\n",
       "            </style>\n",
       "            "
      ],
      "text/plain": [
       "<IPython.core.display.HTML object>"
      ]
     },
     "metadata": {},
     "output_type": "display_data"
    }
   ],
   "source": [
    "task = ee.batch.Export.table.toDrive(\n",
    "    collection=features,\n",
    "    description='times',\n",
    "    folder='GOES_Landsat_CONUS',\n",
    "    fileFormat='CSV',\n",
    ")\n",
    "task.start()"
   ]
  },
  {
   "cell_type": "code",
   "execution_count": 19,
   "id": "e9a39357-6d4a-4f81-b5a5-8e7d42621133",
   "metadata": {},
   "outputs": [
    {
     "data": {
      "text/html": [
       "\n",
       "            <style>\n",
       "                .geemap-dark {\n",
       "                    --jp-widgets-color: white;\n",
       "                    --jp-widgets-label-color: white;\n",
       "                    --jp-ui-font-color1: white;\n",
       "                    --jp-layout-color2: #454545;\n",
       "                    background-color: #383838;\n",
       "                }\n",
       "\n",
       "                .geemap-dark .jupyter-button {\n",
       "                    --jp-layout-color3: #383838;\n",
       "                }\n",
       "\n",
       "                .geemap-colab {\n",
       "                    background-color: var(--colab-primary-surface-color, white);\n",
       "                }\n",
       "\n",
       "                .geemap-colab .jupyter-button {\n",
       "                    --jp-layout-color3: var(--colab-primary-surface-color, white);\n",
       "                }\n",
       "            </style>\n",
       "            "
      ],
      "text/plain": [
       "<IPython.core.display.HTML object>"
      ]
     },
     "metadata": {},
     "output_type": "display_data"
    }
   ],
   "source": [
    "sample = ee.Image(processed.toList(3).get(2))"
   ]
  },
  {
   "cell_type": "code",
   "execution_count": 20,
   "id": "13b0169a-c0df-4aa0-bc08-5bbc4ee913a4",
   "metadata": {},
   "outputs": [
    {
     "data": {
      "text/html": [
       "\n",
       "            <style>\n",
       "                .geemap-dark {\n",
       "                    --jp-widgets-color: white;\n",
       "                    --jp-widgets-label-color: white;\n",
       "                    --jp-ui-font-color1: white;\n",
       "                    --jp-layout-color2: #454545;\n",
       "                    background-color: #383838;\n",
       "                }\n",
       "\n",
       "                .geemap-dark .jupyter-button {\n",
       "                    --jp-layout-color3: #383838;\n",
       "                }\n",
       "\n",
       "                .geemap-colab {\n",
       "                    background-color: var(--colab-primary-surface-color, white);\n",
       "                }\n",
       "\n",
       "                .geemap-colab .jupyter-button {\n",
       "                    --jp-layout-color3: var(--colab-primary-surface-color, white);\n",
       "                }\n",
       "            </style>\n",
       "            "
      ],
      "text/plain": [
       "<IPython.core.display.HTML object>"
      ]
     },
     "metadata": {},
     "output_type": "display_data"
    },
    {
     "data": {
      "text/html": [
       "<div><style>:root {\n",
       "  --font-color-primary: var(--jp-content-font-color0, rgba(0, 0, 0, 1));\n",
       "  --font-color-secondary: var(--jp-content-font-color2, rgba(0, 0, 0, 0.6));\n",
       "  --font-color-accent: rgba(123, 31, 162, 1);\n",
       "  --border-color: var(--jp-border-color2, #e0e0e0);\n",
       "  --background-color: var(--jp-layout-color0, white);\n",
       "  --background-color-row-even: var(--jp-layout-color1, white);\n",
       "  --background-color-row-odd: var(--jp-layout-color2, #eeeeee);\n",
       "}\n",
       "\n",
       "html[theme=\"dark\"],\n",
       "body[data-theme=\"dark\"],\n",
       "body.vscode-dark {\n",
       "  --font-color-primary: rgba(255, 255, 255, 1);\n",
       "  --font-color-secondary: rgba(255, 255, 255, 0.6);\n",
       "  --font-color-accent: rgb(173, 132, 190);\n",
       "  --border-color: #2e2e2e;\n",
       "  --background-color: #111111;\n",
       "  --background-color-row-even: #111111;\n",
       "  --background-color-row-odd: #313131;\n",
       "}\n",
       "\n",
       ".ee {\n",
       "  padding: 1em;\n",
       "  line-height: 1.5em;\n",
       "  min-width: 300px;\n",
       "  max-width: 1200px;\n",
       "  overflow-y: scroll;\n",
       "  max-height: 600px;\n",
       "  border: 1px solid var(--border-color);\n",
       "  font-family: monospace;\n",
       "}\n",
       "\n",
       ".ee li {\n",
       "  list-style-type: none;\n",
       "}\n",
       "\n",
       ".ee ul {\n",
       "  padding-left: 1.5em !important;\n",
       "  margin: 0;\n",
       "}\n",
       "\n",
       ".ee > ul {\n",
       "  padding-left: 0 !important;\n",
       "}\n",
       "\n",
       ".ee-open,\n",
       ".ee-shut {\n",
       "  color: var(--font-color-secondary);\n",
       "  cursor: pointer;\n",
       "  margin: 0;\n",
       "}\n",
       "\n",
       ".ee-open:hover,\n",
       ".ee-shut:hover {\n",
       "  color: var(--font-color-primary);\n",
       "}\n",
       "\n",
       ".ee-k {\n",
       "  color: var(--font-color-accent);\n",
       "  margin-right: 6px;\n",
       "}\n",
       "\n",
       ".ee-v {\n",
       "  color: var(--font-color-primary);\n",
       "}\n",
       "\n",
       ".ee-toggle {\n",
       "  display: none;\n",
       "}\n",
       "\n",
       ".ee-shut + ul {\n",
       "  display: none;\n",
       "}\n",
       "\n",
       ".ee-open + ul {\n",
       "  display: block;\n",
       "}\n",
       "\n",
       ".ee-shut::before {\n",
       "  display: inline-block;\n",
       "  content: \"▼\";\n",
       "  margin-right: 6px;\n",
       "  transform: rotate(-90deg);\n",
       "  transition: transform 0.2s;\n",
       "}\n",
       "\n",
       ".ee-open::before {\n",
       "  transform: rotate(0deg);\n",
       "  display: inline-block;\n",
       "  content: \"▼\";\n",
       "  margin-right: 6px;\n",
       "  transition: transform 0.2s;\n",
       "}\n",
       "</style><div class='ee'><ul><li><label class='ee-shut'>Image (14 bands)<input type='checkbox' class='ee-toggle'></label><ul><li><span class='ee-k'>type:</span><span class='ee-v'>Image</span></li><li><label class='ee-shut'>bands: List (14 elements)<input type='checkbox' class='ee-toggle'></label><ul><li><label class='ee-shut'>0: \"SR_B2\", double, EPSG:32618, 7831x7961 px<input type='checkbox' class='ee-toggle'></label><ul><li><span class='ee-k'>id:</span><span class='ee-v'>SR_B2</span></li><li><span class='ee-k'>crs:</span><span class='ee-v'>EPSG:32618</span></li><li><label class='ee-shut'>crs_transform: [30, 0, 218085, 0, -30, 4426815]<input type='checkbox' class='ee-toggle'></label><ul><li><span class='ee-k'>0:</span><span class='ee-v'>30</span></li><li><span class='ee-k'>1:</span><span class='ee-v'>0</span></li><li><span class='ee-k'>2:</span><span class='ee-v'>218085</span></li><li><span class='ee-k'>3:</span><span class='ee-v'>0</span></li><li><span class='ee-k'>4:</span><span class='ee-v'>-30</span></li><li><span class='ee-k'>5:</span><span class='ee-v'>4426815</span></li></ul></li><li><label class='ee-shut'>data_type: double<input type='checkbox' class='ee-toggle'></label><ul><li><span class='ee-k'>type:</span><span class='ee-v'>PixelType</span></li><li><span class='ee-k'>max:</span><span class='ee-v'>1.6022125</span></li><li><span class='ee-k'>min:</span><span class='ee-v'>-0.2</span></li><li><span class='ee-k'>precision:</span><span class='ee-v'>double</span></li></ul></li><li><label class='ee-shut'>dimensions: [7831, 7961]<input type='checkbox' class='ee-toggle'></label><ul><li><span class='ee-k'>0:</span><span class='ee-v'>7831</span></li><li><span class='ee-k'>1:</span><span class='ee-v'>7961</span></li></ul></li></ul></li><li><label class='ee-shut'>1: \"SR_B4\", double, EPSG:32618, 7831x7961 px<input type='checkbox' class='ee-toggle'></label><ul><li><span class='ee-k'>id:</span><span class='ee-v'>SR_B4</span></li><li><span class='ee-k'>crs:</span><span class='ee-v'>EPSG:32618</span></li><li><label class='ee-shut'>crs_transform: [30, 0, 218085, 0, -30, 4426815]<input type='checkbox' class='ee-toggle'></label><ul><li><span class='ee-k'>0:</span><span class='ee-v'>30</span></li><li><span class='ee-k'>1:</span><span class='ee-v'>0</span></li><li><span class='ee-k'>2:</span><span class='ee-v'>218085</span></li><li><span class='ee-k'>3:</span><span class='ee-v'>0</span></li><li><span class='ee-k'>4:</span><span class='ee-v'>-30</span></li><li><span class='ee-k'>5:</span><span class='ee-v'>4426815</span></li></ul></li><li><label class='ee-shut'>data_type: double<input type='checkbox' class='ee-toggle'></label><ul><li><span class='ee-k'>type:</span><span class='ee-v'>PixelType</span></li><li><span class='ee-k'>max:</span><span class='ee-v'>1.6022125</span></li><li><span class='ee-k'>min:</span><span class='ee-v'>-0.2</span></li><li><span class='ee-k'>precision:</span><span class='ee-v'>double</span></li></ul></li><li><label class='ee-shut'>dimensions: [7831, 7961]<input type='checkbox' class='ee-toggle'></label><ul><li><span class='ee-k'>0:</span><span class='ee-v'>7831</span></li><li><span class='ee-k'>1:</span><span class='ee-v'>7961</span></li></ul></li></ul></li><li><label class='ee-shut'>2: \"SR_B5\", double, EPSG:32618, 7831x7961 px<input type='checkbox' class='ee-toggle'></label><ul><li><span class='ee-k'>id:</span><span class='ee-v'>SR_B5</span></li><li><span class='ee-k'>crs:</span><span class='ee-v'>EPSG:32618</span></li><li><label class='ee-shut'>crs_transform: [30, 0, 218085, 0, -30, 4426815]<input type='checkbox' class='ee-toggle'></label><ul><li><span class='ee-k'>0:</span><span class='ee-v'>30</span></li><li><span class='ee-k'>1:</span><span class='ee-v'>0</span></li><li><span class='ee-k'>2:</span><span class='ee-v'>218085</span></li><li><span class='ee-k'>3:</span><span class='ee-v'>0</span></li><li><span class='ee-k'>4:</span><span class='ee-v'>-30</span></li><li><span class='ee-k'>5:</span><span class='ee-v'>4426815</span></li></ul></li><li><label class='ee-shut'>data_type: double<input type='checkbox' class='ee-toggle'></label><ul><li><span class='ee-k'>type:</span><span class='ee-v'>PixelType</span></li><li><span class='ee-k'>max:</span><span class='ee-v'>1.6022125</span></li><li><span class='ee-k'>min:</span><span class='ee-v'>-0.2</span></li><li><span class='ee-k'>precision:</span><span class='ee-v'>double</span></li></ul></li><li><label class='ee-shut'>dimensions: [7831, 7961]<input type='checkbox' class='ee-toggle'></label><ul><li><span class='ee-k'>0:</span><span class='ee-v'>7831</span></li><li><span class='ee-k'>1:</span><span class='ee-v'>7961</span></li></ul></li></ul></li><li><label class='ee-shut'>3: \"SR_B6\", double, EPSG:32618, 7831x7961 px<input type='checkbox' class='ee-toggle'></label><ul><li><span class='ee-k'>id:</span><span class='ee-v'>SR_B6</span></li><li><span class='ee-k'>crs:</span><span class='ee-v'>EPSG:32618</span></li><li><label class='ee-shut'>crs_transform: [30, 0, 218085, 0, -30, 4426815]<input type='checkbox' class='ee-toggle'></label><ul><li><span class='ee-k'>0:</span><span class='ee-v'>30</span></li><li><span class='ee-k'>1:</span><span class='ee-v'>0</span></li><li><span class='ee-k'>2:</span><span class='ee-v'>218085</span></li><li><span class='ee-k'>3:</span><span class='ee-v'>0</span></li><li><span class='ee-k'>4:</span><span class='ee-v'>-30</span></li><li><span class='ee-k'>5:</span><span class='ee-v'>4426815</span></li></ul></li><li><label class='ee-shut'>data_type: double<input type='checkbox' class='ee-toggle'></label><ul><li><span class='ee-k'>type:</span><span class='ee-v'>PixelType</span></li><li><span class='ee-k'>max:</span><span class='ee-v'>1.6022125</span></li><li><span class='ee-k'>min:</span><span class='ee-v'>-0.2</span></li><li><span class='ee-k'>precision:</span><span class='ee-v'>double</span></li></ul></li><li><label class='ee-shut'>dimensions: [7831, 7961]<input type='checkbox' class='ee-toggle'></label><ul><li><span class='ee-k'>0:</span><span class='ee-v'>7831</span></li><li><span class='ee-k'>1:</span><span class='ee-v'>7961</span></li></ul></li></ul></li><li><label class='ee-shut'>4: \"SR_B7\", double, EPSG:32618, 7831x7961 px<input type='checkbox' class='ee-toggle'></label><ul><li><span class='ee-k'>id:</span><span class='ee-v'>SR_B7</span></li><li><span class='ee-k'>crs:</span><span class='ee-v'>EPSG:32618</span></li><li><label class='ee-shut'>crs_transform: [30, 0, 218085, 0, -30, 4426815]<input type='checkbox' class='ee-toggle'></label><ul><li><span class='ee-k'>0:</span><span class='ee-v'>30</span></li><li><span class='ee-k'>1:</span><span class='ee-v'>0</span></li><li><span class='ee-k'>2:</span><span class='ee-v'>218085</span></li><li><span class='ee-k'>3:</span><span class='ee-v'>0</span></li><li><span class='ee-k'>4:</span><span class='ee-v'>-30</span></li><li><span class='ee-k'>5:</span><span class='ee-v'>4426815</span></li></ul></li><li><label class='ee-shut'>data_type: double<input type='checkbox' class='ee-toggle'></label><ul><li><span class='ee-k'>type:</span><span class='ee-v'>PixelType</span></li><li><span class='ee-k'>max:</span><span class='ee-v'>1.6022125</span></li><li><span class='ee-k'>min:</span><span class='ee-v'>-0.2</span></li><li><span class='ee-k'>precision:</span><span class='ee-v'>double</span></li></ul></li><li><label class='ee-shut'>dimensions: [7831, 7961]<input type='checkbox' class='ee-toggle'></label><ul><li><span class='ee-k'>0:</span><span class='ee-v'>7831</span></li><li><span class='ee-k'>1:</span><span class='ee-v'>7961</span></li></ul></li></ul></li><li><label class='ee-shut'>5: \"ST_B10\", double, EPSG:32618, 7831x7961 px<input type='checkbox' class='ee-toggle'></label><ul><li><span class='ee-k'>id:</span><span class='ee-v'>ST_B10</span></li><li><span class='ee-k'>crs:</span><span class='ee-v'>EPSG:32618</span></li><li><label class='ee-shut'>crs_transform: [30, 0, 218085, 0, -30, 4426815]<input type='checkbox' class='ee-toggle'></label><ul><li><span class='ee-k'>0:</span><span class='ee-v'>30</span></li><li><span class='ee-k'>1:</span><span class='ee-v'>0</span></li><li><span class='ee-k'>2:</span><span class='ee-v'>218085</span></li><li><span class='ee-k'>3:</span><span class='ee-v'>0</span></li><li><span class='ee-k'>4:</span><span class='ee-v'>-30</span></li><li><span class='ee-k'>5:</span><span class='ee-v'>4426815</span></li></ul></li><li><label class='ee-shut'>data_type: double<input type='checkbox' class='ee-toggle'></label><ul><li><span class='ee-k'>type:</span><span class='ee-v'>PixelType</span></li><li><span class='ee-k'>max:</span><span class='ee-v'>372.9999407</span></li><li><span class='ee-k'>min:</span><span class='ee-v'>149</span></li><li><span class='ee-k'>precision:</span><span class='ee-v'>double</span></li></ul></li><li><label class='ee-shut'>dimensions: [7831, 7961]<input type='checkbox' class='ee-toggle'></label><ul><li><span class='ee-k'>0:</span><span class='ee-v'>7831</span></li><li><span class='ee-k'>1:</span><span class='ee-v'>7961</span></li></ul></li></ul></li><li><label class='ee-shut'>6: \"QA_PIXEL\", double, EPSG:32618, 7831x7961 px<input type='checkbox' class='ee-toggle'></label><ul><li><span class='ee-k'>id:</span><span class='ee-v'>QA_PIXEL</span></li><li><span class='ee-k'>crs:</span><span class='ee-v'>EPSG:32618</span></li><li><label class='ee-shut'>crs_transform: [30, 0, 218085, 0, -30, 4426815]<input type='checkbox' class='ee-toggle'></label><ul><li><span class='ee-k'>0:</span><span class='ee-v'>30</span></li><li><span class='ee-k'>1:</span><span class='ee-v'>0</span></li><li><span class='ee-k'>2:</span><span class='ee-v'>218085</span></li><li><span class='ee-k'>3:</span><span class='ee-v'>0</span></li><li><span class='ee-k'>4:</span><span class='ee-v'>-30</span></li><li><span class='ee-k'>5:</span><span class='ee-v'>4426815</span></li></ul></li><li><label class='ee-shut'>data_type: double<input type='checkbox' class='ee-toggle'></label><ul><li><span class='ee-k'>type:</span><span class='ee-v'>PixelType</span></li><li><span class='ee-k'>precision:</span><span class='ee-v'>double</span></li></ul></li><li><label class='ee-shut'>dimensions: [7831, 7961]<input type='checkbox' class='ee-toggle'></label><ul><li><span class='ee-k'>0:</span><span class='ee-v'>7831</span></li><li><span class='ee-k'>1:</span><span class='ee-v'>7961</span></li></ul></li></ul></li><li><label class='ee-shut'>7: \"CMI_C01\", double, PROJCS[\"unnamed\", \n",
       "  GEOGCS[\"unknown\", \n",
       "    DATUM[\"unnamed\", \n",
       "      SPHEROID[\"Spheroid\", 6378137.0, 298.2572221]], \n",
       "    PRIMEM[\"Greenwich\", 0.0], \n",
       "    UNIT[\"degree\", 0.017453292519943295], \n",
       "    AXIS[\"Longitude\", EAST], \n",
       "    AXIS[\"Latitude\", NORTH]], \n",
       "  PROJECTION[\"GEOS\"], \n",
       "  PARAMETER[\"central_meridian\", -75.0], \n",
       "  PARAMETER[\"satellite_height\", 35786023.0], \n",
       "  PARAMETER[\"false_easting\", 0.0], \n",
       "  PARAMETER[\"false_northing\", 0.0], \n",
       "  PARAMETER[\"sweep\", 0.0], \n",
       "  PARAMETER[\"Option\", 0.0], \n",
       "  UNIT[\"m\", 1.0], \n",
       "  AXIS[\"Easting\", EAST], \n",
       "  AXIS[\"Northing\", NORTH]], 2500x1500 px<input type='checkbox' class='ee-toggle'></label><ul><li><span class='ee-k'>id:</span><span class='ee-v'>CMI_C01</span></li><li><span class='ee-k'>crs:</span><span class='ee-v'>PROJCS[\"unnamed\", \n",
       "  GEOGCS[\"unknown\", \n",
       "    DATUM[\"unnamed\", \n",
       "      SPHEROID[\"Spheroid\", 6378137.0, 298.2572221]], \n",
       "    PRIMEM[\"Greenwich\", 0.0], \n",
       "    UNIT[\"degree\", 0.017453292519943295], \n",
       "    AXIS[\"Longitude\", EAST], \n",
       "    AXIS[\"Latitude\", NORTH]], \n",
       "  PROJECTION[\"GEOS\"], \n",
       "  PARAMETER[\"central_meridian\", -75.0], \n",
       "  PARAMETER[\"satellite_height\", 35786023.0], \n",
       "  PARAMETER[\"false_easting\", 0.0], \n",
       "  PARAMETER[\"false_northing\", 0.0], \n",
       "  PARAMETER[\"sweep\", 0.0], \n",
       "  PARAMETER[\"Option\", 0.0], \n",
       "  UNIT[\"m\", 1.0], \n",
       "  AXIS[\"Easting\", EAST], \n",
       "  AXIS[\"Northing\", NORTH]]</span></li><li><label class='ee-shut'>crs_transform: List (6 elements)<input type='checkbox' class='ee-toggle'></label><ul><li><span class='ee-k'>0:</span><span class='ee-v'>2004.017315487541</span></li><li><span class='ee-k'>1:</span><span class='ee-v'>0</span></li><li><span class='ee-k'>2:</span><span class='ee-v'>-3627271.340967355</span></li><li><span class='ee-k'>3:</span><span class='ee-v'>0</span></li><li><span class='ee-k'>4:</span><span class='ee-v'>2004.017315487541</span></li><li><span class='ee-k'>5:</span><span class='ee-v'>1583173.7916531805</span></li></ul></li><li><label class='ee-shut'>data_type: double<input type='checkbox' class='ee-toggle'></label><ul><li><span class='ee-k'>type:</span><span class='ee-v'>PixelType</span></li><li><span class='ee-k'>max:</span><span class='ee-v'>8.001701400000002</span></li><li><span class='ee-k'>min:</span><span class='ee-v'>-8.0019456</span></li><li><span class='ee-k'>precision:</span><span class='ee-v'>double</span></li></ul></li><li><label class='ee-shut'>dimensions: [2500, 1500]<input type='checkbox' class='ee-toggle'></label><ul><li><span class='ee-k'>0:</span><span class='ee-v'>2500</span></li><li><span class='ee-k'>1:</span><span class='ee-v'>1500</span></li></ul></li></ul></li><li><label class='ee-shut'>8: \"CMI_C02\", double, PROJCS[\"unnamed\", \n",
       "  GEOGCS[\"unknown\", \n",
       "    DATUM[\"unnamed\", \n",
       "      SPHEROID[\"Spheroid\", 6378137.0, 298.2572221]], \n",
       "    PRIMEM[\"Greenwich\", 0.0], \n",
       "    UNIT[\"degree\", 0.017453292519943295], \n",
       "    AXIS[\"Longitude\", EAST], \n",
       "    AXIS[\"Latitude\", NORTH]], \n",
       "  PROJECTION[\"GEOS\"], \n",
       "  PARAMETER[\"central_meridian\", -75.0], \n",
       "  PARAMETER[\"satellite_height\", 35786023.0], \n",
       "  PARAMETER[\"false_easting\", 0.0], \n",
       "  PARAMETER[\"false_northing\", 0.0], \n",
       "  PARAMETER[\"sweep\", 0.0], \n",
       "  PARAMETER[\"Option\", 0.0], \n",
       "  UNIT[\"m\", 1.0], \n",
       "  AXIS[\"Easting\", EAST], \n",
       "  AXIS[\"Northing\", NORTH]], 2500x1500 px<input type='checkbox' class='ee-toggle'></label><ul><li><span class='ee-k'>id:</span><span class='ee-v'>CMI_C02</span></li><li><span class='ee-k'>crs:</span><span class='ee-v'>PROJCS[\"unnamed\", \n",
       "  GEOGCS[\"unknown\", \n",
       "    DATUM[\"unnamed\", \n",
       "      SPHEROID[\"Spheroid\", 6378137.0, 298.2572221]], \n",
       "    PRIMEM[\"Greenwich\", 0.0], \n",
       "    UNIT[\"degree\", 0.017453292519943295], \n",
       "    AXIS[\"Longitude\", EAST], \n",
       "    AXIS[\"Latitude\", NORTH]], \n",
       "  PROJECTION[\"GEOS\"], \n",
       "  PARAMETER[\"central_meridian\", -75.0], \n",
       "  PARAMETER[\"satellite_height\", 35786023.0], \n",
       "  PARAMETER[\"false_easting\", 0.0], \n",
       "  PARAMETER[\"false_northing\", 0.0], \n",
       "  PARAMETER[\"sweep\", 0.0], \n",
       "  PARAMETER[\"Option\", 0.0], \n",
       "  UNIT[\"m\", 1.0], \n",
       "  AXIS[\"Easting\", EAST], \n",
       "  AXIS[\"Northing\", NORTH]]</span></li><li><label class='ee-shut'>crs_transform: List (6 elements)<input type='checkbox' class='ee-toggle'></label><ul><li><span class='ee-k'>0:</span><span class='ee-v'>2004.017315487541</span></li><li><span class='ee-k'>1:</span><span class='ee-v'>0</span></li><li><span class='ee-k'>2:</span><span class='ee-v'>-3627271.340967355</span></li><li><span class='ee-k'>3:</span><span class='ee-v'>0</span></li><li><span class='ee-k'>4:</span><span class='ee-v'>2004.017315487541</span></li><li><span class='ee-k'>5:</span><span class='ee-v'>1583173.7916531805</span></li></ul></li><li><label class='ee-shut'>data_type: double<input type='checkbox' class='ee-toggle'></label><ul><li><span class='ee-k'>type:</span><span class='ee-v'>PixelType</span></li><li><span class='ee-k'>max:</span><span class='ee-v'>8.001701400000002</span></li><li><span class='ee-k'>min:</span><span class='ee-v'>-8.0019456</span></li><li><span class='ee-k'>precision:</span><span class='ee-v'>double</span></li></ul></li><li><label class='ee-shut'>dimensions: [2500, 1500]<input type='checkbox' class='ee-toggle'></label><ul><li><span class='ee-k'>0:</span><span class='ee-v'>2500</span></li><li><span class='ee-k'>1:</span><span class='ee-v'>1500</span></li></ul></li></ul></li><li><label class='ee-shut'>9: \"CMI_C03\", double, PROJCS[\"unnamed\", \n",
       "  GEOGCS[\"unknown\", \n",
       "    DATUM[\"unnamed\", \n",
       "      SPHEROID[\"Spheroid\", 6378137.0, 298.2572221]], \n",
       "    PRIMEM[\"Greenwich\", 0.0], \n",
       "    UNIT[\"degree\", 0.017453292519943295], \n",
       "    AXIS[\"Longitude\", EAST], \n",
       "    AXIS[\"Latitude\", NORTH]], \n",
       "  PROJECTION[\"GEOS\"], \n",
       "  PARAMETER[\"central_meridian\", -75.0], \n",
       "  PARAMETER[\"satellite_height\", 35786023.0], \n",
       "  PARAMETER[\"false_easting\", 0.0], \n",
       "  PARAMETER[\"false_northing\", 0.0], \n",
       "  PARAMETER[\"sweep\", 0.0], \n",
       "  PARAMETER[\"Option\", 0.0], \n",
       "  UNIT[\"m\", 1.0], \n",
       "  AXIS[\"Easting\", EAST], \n",
       "  AXIS[\"Northing\", NORTH]], 2500x1500 px<input type='checkbox' class='ee-toggle'></label><ul><li><span class='ee-k'>id:</span><span class='ee-v'>CMI_C03</span></li><li><span class='ee-k'>crs:</span><span class='ee-v'>PROJCS[\"unnamed\", \n",
       "  GEOGCS[\"unknown\", \n",
       "    DATUM[\"unnamed\", \n",
       "      SPHEROID[\"Spheroid\", 6378137.0, 298.2572221]], \n",
       "    PRIMEM[\"Greenwich\", 0.0], \n",
       "    UNIT[\"degree\", 0.017453292519943295], \n",
       "    AXIS[\"Longitude\", EAST], \n",
       "    AXIS[\"Latitude\", NORTH]], \n",
       "  PROJECTION[\"GEOS\"], \n",
       "  PARAMETER[\"central_meridian\", -75.0], \n",
       "  PARAMETER[\"satellite_height\", 35786023.0], \n",
       "  PARAMETER[\"false_easting\", 0.0], \n",
       "  PARAMETER[\"false_northing\", 0.0], \n",
       "  PARAMETER[\"sweep\", 0.0], \n",
       "  PARAMETER[\"Option\", 0.0], \n",
       "  UNIT[\"m\", 1.0], \n",
       "  AXIS[\"Easting\", EAST], \n",
       "  AXIS[\"Northing\", NORTH]]</span></li><li><label class='ee-shut'>crs_transform: List (6 elements)<input type='checkbox' class='ee-toggle'></label><ul><li><span class='ee-k'>0:</span><span class='ee-v'>2004.017315487541</span></li><li><span class='ee-k'>1:</span><span class='ee-v'>0</span></li><li><span class='ee-k'>2:</span><span class='ee-v'>-3627271.340967355</span></li><li><span class='ee-k'>3:</span><span class='ee-v'>0</span></li><li><span class='ee-k'>4:</span><span class='ee-v'>2004.017315487541</span></li><li><span class='ee-k'>5:</span><span class='ee-v'>1583173.7916531805</span></li></ul></li><li><label class='ee-shut'>data_type: double<input type='checkbox' class='ee-toggle'></label><ul><li><span class='ee-k'>type:</span><span class='ee-v'>PixelType</span></li><li><span class='ee-k'>max:</span><span class='ee-v'>8.001701400000002</span></li><li><span class='ee-k'>min:</span><span class='ee-v'>-8.0019456</span></li><li><span class='ee-k'>precision:</span><span class='ee-v'>double</span></li></ul></li><li><label class='ee-shut'>dimensions: [2500, 1500]<input type='checkbox' class='ee-toggle'></label><ul><li><span class='ee-k'>0:</span><span class='ee-v'>2500</span></li><li><span class='ee-k'>1:</span><span class='ee-v'>1500</span></li></ul></li></ul></li><li><label class='ee-shut'>10: \"CMI_C05\", double, PROJCS[\"unnamed\", \n",
       "  GEOGCS[\"unknown\", \n",
       "    DATUM[\"unnamed\", \n",
       "      SPHEROID[\"Spheroid\", 6378137.0, 298.2572221]], \n",
       "    PRIMEM[\"Greenwich\", 0.0], \n",
       "    UNIT[\"degree\", 0.017453292519943295], \n",
       "    AXIS[\"Longitude\", EAST], \n",
       "    AXIS[\"Latitude\", NORTH]], \n",
       "  PROJECTION[\"GEOS\"], \n",
       "  PARAMETER[\"central_meridian\", -75.0], \n",
       "  PARAMETER[\"satellite_height\", 35786023.0], \n",
       "  PARAMETER[\"false_easting\", 0.0], \n",
       "  PARAMETER[\"false_northing\", 0.0], \n",
       "  PARAMETER[\"sweep\", 0.0], \n",
       "  PARAMETER[\"Option\", 0.0], \n",
       "  UNIT[\"m\", 1.0], \n",
       "  AXIS[\"Easting\", EAST], \n",
       "  AXIS[\"Northing\", NORTH]], 2500x1500 px<input type='checkbox' class='ee-toggle'></label><ul><li><span class='ee-k'>id:</span><span class='ee-v'>CMI_C05</span></li><li><span class='ee-k'>crs:</span><span class='ee-v'>PROJCS[\"unnamed\", \n",
       "  GEOGCS[\"unknown\", \n",
       "    DATUM[\"unnamed\", \n",
       "      SPHEROID[\"Spheroid\", 6378137.0, 298.2572221]], \n",
       "    PRIMEM[\"Greenwich\", 0.0], \n",
       "    UNIT[\"degree\", 0.017453292519943295], \n",
       "    AXIS[\"Longitude\", EAST], \n",
       "    AXIS[\"Latitude\", NORTH]], \n",
       "  PROJECTION[\"GEOS\"], \n",
       "  PARAMETER[\"central_meridian\", -75.0], \n",
       "  PARAMETER[\"satellite_height\", 35786023.0], \n",
       "  PARAMETER[\"false_easting\", 0.0], \n",
       "  PARAMETER[\"false_northing\", 0.0], \n",
       "  PARAMETER[\"sweep\", 0.0], \n",
       "  PARAMETER[\"Option\", 0.0], \n",
       "  UNIT[\"m\", 1.0], \n",
       "  AXIS[\"Easting\", EAST], \n",
       "  AXIS[\"Northing\", NORTH]]</span></li><li><label class='ee-shut'>crs_transform: List (6 elements)<input type='checkbox' class='ee-toggle'></label><ul><li><span class='ee-k'>0:</span><span class='ee-v'>2004.017315487541</span></li><li><span class='ee-k'>1:</span><span class='ee-v'>0</span></li><li><span class='ee-k'>2:</span><span class='ee-v'>-3627271.340967355</span></li><li><span class='ee-k'>3:</span><span class='ee-v'>0</span></li><li><span class='ee-k'>4:</span><span class='ee-v'>2004.017315487541</span></li><li><span class='ee-k'>5:</span><span class='ee-v'>1583173.7916531805</span></li></ul></li><li><label class='ee-shut'>data_type: double<input type='checkbox' class='ee-toggle'></label><ul><li><span class='ee-k'>type:</span><span class='ee-v'>PixelType</span></li><li><span class='ee-k'>max:</span><span class='ee-v'>8.001701400000002</span></li><li><span class='ee-k'>min:</span><span class='ee-v'>-8.0019456</span></li><li><span class='ee-k'>precision:</span><span class='ee-v'>double</span></li></ul></li><li><label class='ee-shut'>dimensions: [2500, 1500]<input type='checkbox' class='ee-toggle'></label><ul><li><span class='ee-k'>0:</span><span class='ee-v'>2500</span></li><li><span class='ee-k'>1:</span><span class='ee-v'>1500</span></li></ul></li></ul></li><li><label class='ee-shut'>11: \"CMI_C06\", double, PROJCS[\"unnamed\", \n",
       "  GEOGCS[\"unknown\", \n",
       "    DATUM[\"unnamed\", \n",
       "      SPHEROID[\"Spheroid\", 6378137.0, 298.2572221]], \n",
       "    PRIMEM[\"Greenwich\", 0.0], \n",
       "    UNIT[\"degree\", 0.017453292519943295], \n",
       "    AXIS[\"Longitude\", EAST], \n",
       "    AXIS[\"Latitude\", NORTH]], \n",
       "  PROJECTION[\"GEOS\"], \n",
       "  PARAMETER[\"central_meridian\", -75.0], \n",
       "  PARAMETER[\"satellite_height\", 35786023.0], \n",
       "  PARAMETER[\"false_easting\", 0.0], \n",
       "  PARAMETER[\"false_northing\", 0.0], \n",
       "  PARAMETER[\"sweep\", 0.0], \n",
       "  PARAMETER[\"Option\", 0.0], \n",
       "  UNIT[\"m\", 1.0], \n",
       "  AXIS[\"Easting\", EAST], \n",
       "  AXIS[\"Northing\", NORTH]], 2500x1500 px<input type='checkbox' class='ee-toggle'></label><ul><li><span class='ee-k'>id:</span><span class='ee-v'>CMI_C06</span></li><li><span class='ee-k'>crs:</span><span class='ee-v'>PROJCS[\"unnamed\", \n",
       "  GEOGCS[\"unknown\", \n",
       "    DATUM[\"unnamed\", \n",
       "      SPHEROID[\"Spheroid\", 6378137.0, 298.2572221]], \n",
       "    PRIMEM[\"Greenwich\", 0.0], \n",
       "    UNIT[\"degree\", 0.017453292519943295], \n",
       "    AXIS[\"Longitude\", EAST], \n",
       "    AXIS[\"Latitude\", NORTH]], \n",
       "  PROJECTION[\"GEOS\"], \n",
       "  PARAMETER[\"central_meridian\", -75.0], \n",
       "  PARAMETER[\"satellite_height\", 35786023.0], \n",
       "  PARAMETER[\"false_easting\", 0.0], \n",
       "  PARAMETER[\"false_northing\", 0.0], \n",
       "  PARAMETER[\"sweep\", 0.0], \n",
       "  PARAMETER[\"Option\", 0.0], \n",
       "  UNIT[\"m\", 1.0], \n",
       "  AXIS[\"Easting\", EAST], \n",
       "  AXIS[\"Northing\", NORTH]]</span></li><li><label class='ee-shut'>crs_transform: List (6 elements)<input type='checkbox' class='ee-toggle'></label><ul><li><span class='ee-k'>0:</span><span class='ee-v'>2004.017315487541</span></li><li><span class='ee-k'>1:</span><span class='ee-v'>0</span></li><li><span class='ee-k'>2:</span><span class='ee-v'>-3627271.340967355</span></li><li><span class='ee-k'>3:</span><span class='ee-v'>0</span></li><li><span class='ee-k'>4:</span><span class='ee-v'>2004.017315487541</span></li><li><span class='ee-k'>5:</span><span class='ee-v'>1583173.7916531805</span></li></ul></li><li><label class='ee-shut'>data_type: double<input type='checkbox' class='ee-toggle'></label><ul><li><span class='ee-k'>type:</span><span class='ee-v'>PixelType</span></li><li><span class='ee-k'>max:</span><span class='ee-v'>8.001701400000002</span></li><li><span class='ee-k'>min:</span><span class='ee-v'>-8.0019456</span></li><li><span class='ee-k'>precision:</span><span class='ee-v'>double</span></li></ul></li><li><label class='ee-shut'>dimensions: [2500, 1500]<input type='checkbox' class='ee-toggle'></label><ul><li><span class='ee-k'>0:</span><span class='ee-v'>2500</span></li><li><span class='ee-k'>1:</span><span class='ee-v'>1500</span></li></ul></li></ul></li><li><label class='ee-shut'>12: \"CMI_C14\", double, PROJCS[\"unnamed\", \n",
       "  GEOGCS[\"unknown\", \n",
       "    DATUM[\"unnamed\", \n",
       "      SPHEROID[\"Spheroid\", 6378137.0, 298.2572221]], \n",
       "    PRIMEM[\"Greenwich\", 0.0], \n",
       "    UNIT[\"degree\", 0.017453292519943295], \n",
       "    AXIS[\"Longitude\", EAST], \n",
       "    AXIS[\"Latitude\", NORTH]], \n",
       "  PROJECTION[\"GEOS\"], \n",
       "  PARAMETER[\"central_meridian\", -75.0], \n",
       "  PARAMETER[\"satellite_height\", 35786023.0], \n",
       "  PARAMETER[\"false_easting\", 0.0], \n",
       "  PARAMETER[\"false_northing\", 0.0], \n",
       "  PARAMETER[\"sweep\", 0.0], \n",
       "  PARAMETER[\"Option\", 0.0], \n",
       "  UNIT[\"m\", 1.0], \n",
       "  AXIS[\"Easting\", EAST], \n",
       "  AXIS[\"Northing\", NORTH]], 2500x1500 px<input type='checkbox' class='ee-toggle'></label><ul><li><span class='ee-k'>id:</span><span class='ee-v'>CMI_C14</span></li><li><span class='ee-k'>crs:</span><span class='ee-v'>PROJCS[\"unnamed\", \n",
       "  GEOGCS[\"unknown\", \n",
       "    DATUM[\"unnamed\", \n",
       "      SPHEROID[\"Spheroid\", 6378137.0, 298.2572221]], \n",
       "    PRIMEM[\"Greenwich\", 0.0], \n",
       "    UNIT[\"degree\", 0.017453292519943295], \n",
       "    AXIS[\"Longitude\", EAST], \n",
       "    AXIS[\"Latitude\", NORTH]], \n",
       "  PROJECTION[\"GEOS\"], \n",
       "  PARAMETER[\"central_meridian\", -75.0], \n",
       "  PARAMETER[\"satellite_height\", 35786023.0], \n",
       "  PARAMETER[\"false_easting\", 0.0], \n",
       "  PARAMETER[\"false_northing\", 0.0], \n",
       "  PARAMETER[\"sweep\", 0.0], \n",
       "  PARAMETER[\"Option\", 0.0], \n",
       "  UNIT[\"m\", 1.0], \n",
       "  AXIS[\"Easting\", EAST], \n",
       "  AXIS[\"Northing\", NORTH]]</span></li><li><label class='ee-shut'>crs_transform: List (6 elements)<input type='checkbox' class='ee-toggle'></label><ul><li><span class='ee-k'>0:</span><span class='ee-v'>2004.017315487541</span></li><li><span class='ee-k'>1:</span><span class='ee-v'>0</span></li><li><span class='ee-k'>2:</span><span class='ee-v'>-3627271.340967355</span></li><li><span class='ee-k'>3:</span><span class='ee-v'>0</span></li><li><span class='ee-k'>4:</span><span class='ee-v'>2004.017315487541</span></li><li><span class='ee-k'>5:</span><span class='ee-v'>1583173.7916531805</span></li></ul></li><li><label class='ee-shut'>data_type: double<input type='checkbox' class='ee-toggle'></label><ul><li><span class='ee-k'>type:</span><span class='ee-v'>PixelType</span></li><li><span class='ee-k'>max:</span><span class='ee-v'>1461.425258847</span></li><li><span class='ee-k'>min:</span><span class='ee-v'>-1115.1645950880002</span></li><li><span class='ee-k'>precision:</span><span class='ee-v'>double</span></li></ul></li><li><label class='ee-shut'>dimensions: [2500, 1500]<input type='checkbox' class='ee-toggle'></label><ul><li><span class='ee-k'>0:</span><span class='ee-v'>2500</span></li><li><span class='ee-k'>1:</span><span class='ee-v'>1500</span></li></ul></li></ul></li><li><label class='ee-shut'>13: \"CMI_C15\", double, PROJCS[\"unnamed\", \n",
       "  GEOGCS[\"unknown\", \n",
       "    DATUM[\"unnamed\", \n",
       "      SPHEROID[\"Spheroid\", 6378137.0, 298.2572221]], \n",
       "    PRIMEM[\"Greenwich\", 0.0], \n",
       "    UNIT[\"degree\", 0.017453292519943295], \n",
       "    AXIS[\"Longitude\", EAST], \n",
       "    AXIS[\"Latitude\", NORTH]], \n",
       "  PROJECTION[\"GEOS\"], \n",
       "  PARAMETER[\"central_meridian\", -75.0], \n",
       "  PARAMETER[\"satellite_height\", 35786023.0], \n",
       "  PARAMETER[\"false_easting\", 0.0], \n",
       "  PARAMETER[\"false_northing\", 0.0], \n",
       "  PARAMETER[\"sweep\", 0.0], \n",
       "  PARAMETER[\"Option\", 0.0], \n",
       "  UNIT[\"m\", 1.0], \n",
       "  AXIS[\"Easting\", EAST], \n",
       "  AXIS[\"Northing\", NORTH]], 2500x1500 px<input type='checkbox' class='ee-toggle'></label><ul><li><span class='ee-k'>id:</span><span class='ee-v'>CMI_C15</span></li><li><span class='ee-k'>crs:</span><span class='ee-v'>PROJCS[\"unnamed\", \n",
       "  GEOGCS[\"unknown\", \n",
       "    DATUM[\"unnamed\", \n",
       "      SPHEROID[\"Spheroid\", 6378137.0, 298.2572221]], \n",
       "    PRIMEM[\"Greenwich\", 0.0], \n",
       "    UNIT[\"degree\", 0.017453292519943295], \n",
       "    AXIS[\"Longitude\", EAST], \n",
       "    AXIS[\"Latitude\", NORTH]], \n",
       "  PROJECTION[\"GEOS\"], \n",
       "  PARAMETER[\"central_meridian\", -75.0], \n",
       "  PARAMETER[\"satellite_height\", 35786023.0], \n",
       "  PARAMETER[\"false_easting\", 0.0], \n",
       "  PARAMETER[\"false_northing\", 0.0], \n",
       "  PARAMETER[\"sweep\", 0.0], \n",
       "  PARAMETER[\"Option\", 0.0], \n",
       "  UNIT[\"m\", 1.0], \n",
       "  AXIS[\"Easting\", EAST], \n",
       "  AXIS[\"Northing\", NORTH]]</span></li><li><label class='ee-shut'>crs_transform: List (6 elements)<input type='checkbox' class='ee-toggle'></label><ul><li><span class='ee-k'>0:</span><span class='ee-v'>2004.017315487541</span></li><li><span class='ee-k'>1:</span><span class='ee-v'>0</span></li><li><span class='ee-k'>2:</span><span class='ee-v'>-3627271.340967355</span></li><li><span class='ee-k'>3:</span><span class='ee-v'>0</span></li><li><span class='ee-k'>4:</span><span class='ee-v'>2004.017315487541</span></li><li><span class='ee-k'>5:</span><span class='ee-v'>1583173.7916531805</span></li></ul></li><li><label class='ee-shut'>data_type: double<input type='checkbox' class='ee-toggle'></label><ul><li><span class='ee-k'>type:</span><span class='ee-v'>PixelType</span></li><li><span class='ee-k'>max:</span><span class='ee-v'>1461.425258847</span></li><li><span class='ee-k'>min:</span><span class='ee-v'>-1115.1645950880002</span></li><li><span class='ee-k'>precision:</span><span class='ee-v'>double</span></li></ul></li><li><label class='ee-shut'>dimensions: [2500, 1500]<input type='checkbox' class='ee-toggle'></label><ul><li><span class='ee-k'>0:</span><span class='ee-v'>2500</span></li><li><span class='ee-k'>1:</span><span class='ee-v'>1500</span></li></ul></li></ul></li></ul></li><li><label class='ee-shut'>properties: Object (3 properties)<input type='checkbox' class='ee-toggle'></label><ul><li><label class='ee-shut'>system:footprint: LinearRing (22 vertices)<input type='checkbox' class='ee-toggle'></label><ul><li><span class='ee-k'>type:</span><span class='ee-v'>LinearRing</span></li><li><label class='ee-shut'>coordinates: List (22 elements)<input type='checkbox' class='ee-toggle'></label><ul><li><label class='ee-shut'>0: [-75.58421638013678, 39.55385247226067]<input type='checkbox' class='ee-toggle'></label><ul><li><span class='ee-k'>0:</span><span class='ee-v'>-75.58421638013678</span></li><li><span class='ee-k'>1:</span><span class='ee-v'>39.55385247226067</span></li></ul></li><li><label class='ee-shut'>1: [-75.58226192463025, 39.56007542138035]<input type='checkbox' class='ee-toggle'></label><ul><li><span class='ee-k'>0:</span><span class='ee-v'>-75.58226192463025</span></li><li><span class='ee-k'>1:</span><span class='ee-v'>39.56007542138035</span></li></ul></li><li><label class='ee-shut'>2: [-75.63145016923941, 39.56973323912972]<input type='checkbox' class='ee-toggle'></label><ul><li><span class='ee-k'>0:</span><span class='ee-v'>-75.63145016923941</span></li><li><span class='ee-k'>1:</span><span class='ee-v'>39.56973323912972</span></li></ul></li><li><label class='ee-shut'>3: [-75.83835240355504, 39.61005223891884]<input type='checkbox' class='ee-toggle'></label><ul><li><span class='ee-k'>0:</span><span class='ee-v'>-75.83835240355504</span></li><li><span class='ee-k'>1:</span><span class='ee-v'>39.61005223891884</span></li></ul></li><li><label class='ee-shut'>4: [-77.469191061061, 39.913306398051006]<input type='checkbox' class='ee-toggle'></label><ul><li><span class='ee-k'>0:</span><span class='ee-v'>-77.469191061061</span></li><li><span class='ee-k'>1:</span><span class='ee-v'>39.913306398051006</span></li></ul></li><li><label class='ee-shut'>5: [-77.69793821581162, 39.953785047848946]<input type='checkbox' class='ee-toggle'></label><ul><li><span class='ee-k'>0:</span><span class='ee-v'>-77.69793821581162</span></li><li><span class='ee-k'>1:</span><span class='ee-v'>39.953785047848946</span></li></ul></li><li><label class='ee-shut'>6: [-77.95415645527716, 39.087371152161055]<input type='checkbox' class='ee-toggle'></label><ul><li><span class='ee-k'>0:</span><span class='ee-v'>-77.95415645527716</span></li><li><span class='ee-k'>1:</span><span class='ee-v'>39.087371152161055</span></li></ul></li><li><label class='ee-shut'>7: [-78.20036607556345, 38.23600427074071]<input type='checkbox' class='ee-toggle'></label><ul><li><span class='ee-k'>0:</span><span class='ee-v'>-78.20036607556345</span></li><li><span class='ee-k'>1:</span><span class='ee-v'>38.23600427074071</span></li></ul></li><li><label class='ee-shut'>8: [-78.20030495022854, 38.23461217460975]<input type='checkbox' class='ee-toggle'></label><ul><li><span class='ee-k'>0:</span><span class='ee-v'>-78.20030495022854</span></li><li><span class='ee-k'>1:</span><span class='ee-v'>38.23461217460975</span></li></ul></li><li><label class='ee-shut'>9: [-77.77492511163088, 38.157199893481014]<input type='checkbox' class='ee-toggle'></label><ul><li><span class='ee-k'>0:</span><span class='ee-v'>-77.77492511163088</span></li><li><span class='ee-k'>1:</span><span class='ee-v'>38.157199893481014</span></li></ul></li><li><label class='ee-shut'>10: [-76.13573852690871, 37.84270389633681]<input type='checkbox' class='ee-toggle'></label><ul><li><span class='ee-k'>0:</span><span class='ee-v'>-76.13573852690871</span></li><li><span class='ee-k'>1:</span><span class='ee-v'>37.84270389633681</span></li></ul></li><li><label class='ee-shut'>11: [-76.13288445371332, 37.85162482662625]<input type='checkbox' class='ee-toggle'></label><ul><li><span class='ee-k'>0:</span><span class='ee-v'>-76.13288445371332</span></li><li><span class='ee-k'>1:</span><span class='ee-v'>37.85162482662625</span></li></ul></li><li><label class='ee-shut'>12: [-76.08859970064495, 37.99147352966943]<input type='checkbox' class='ee-toggle'></label><ul><li><span class='ee-k'>0:</span><span class='ee-v'>-76.08859970064495</span></li><li><span class='ee-k'>1:</span><span class='ee-v'>37.99147352966943</span></li></ul></li><li><label class='ee-shut'>13: [-76.06439058372783, 38.06775511336195]<input type='checkbox' class='ee-toggle'></label><ul><li><span class='ee-k'>0:</span><span class='ee-v'>-76.06439058372783</span></li><li><span class='ee-k'>1:</span><span class='ee-v'>38.06775511336195</span></li></ul></li><li><label class='ee-shut'>14: [-76.0098883690679, 38.23905429973982]<input type='checkbox' class='ee-toggle'></label><ul><li><span class='ee-k'>0:</span><span class='ee-v'>-76.0098883690679</span></li><li><span class='ee-k'>1:</span><span class='ee-v'>38.23905429973982</span></li></ul></li><li><label class='ee-shut'>15: [-75.9188569417029, 38.523757172221785]<input type='checkbox' class='ee-toggle'></label><ul><li><span class='ee-k'>0:</span><span class='ee-v'>-75.9188569417029</span></li><li><span class='ee-k'>1:</span><span class='ee-v'>38.523757172221785</span></li></ul></li><li><label class='ee-shut'>16: [-75.87219197012459, 38.66900321539303]<input type='checkbox' class='ee-toggle'></label><ul><li><span class='ee-k'>0:</span><span class='ee-v'>-75.87219197012459</span></li><li><span class='ee-k'>1:</span><span class='ee-v'>38.66900321539303</span></li></ul></li><li><label class='ee-shut'>17: [-75.83358078951504, 38.788778168016876]<input type='checkbox' class='ee-toggle'></label><ul><li><span class='ee-k'>0:</span><span class='ee-v'>-75.83358078951504</span></li><li><span class='ee-k'>1:</span><span class='ee-v'>38.788778168016876</span></li></ul></li><li><label class='ee-shut'>18: [-75.80502915520054, 38.877117954636]<input type='checkbox' class='ee-toggle'></label><ul><li><span class='ee-k'>0:</span><span class='ee-v'>-75.80502915520054</span></li><li><span class='ee-k'>1:</span><span class='ee-v'>38.877117954636</span></li></ul></li><li><label class='ee-shut'>19: [-75.75296056509313, 39.03776780288777]<input type='checkbox' class='ee-toggle'></label><ul><li><span class='ee-k'>0:</span><span class='ee-v'>-75.75296056509313</span></li><li><span class='ee-k'>1:</span><span class='ee-v'>39.03776780288777</span></li></ul></li><li><label class='ee-shut'>20: [-75.61908161761903, 39.4477707968488]<input type='checkbox' class='ee-toggle'></label><ul><li><span class='ee-k'>0:</span><span class='ee-v'>-75.61908161761903</span></li><li><span class='ee-k'>1:</span><span class='ee-v'>39.4477707968488</span></li></ul></li><li><label class='ee-shut'>21: [-75.58421638013678, 39.55385247226067]<input type='checkbox' class='ee-toggle'></label><ul><li><span class='ee-k'>0:</span><span class='ee-v'>-75.58421638013678</span></li><li><span class='ee-k'>1:</span><span class='ee-v'>39.55385247226067</span></li></ul></li></ul></li></ul></li><li><span class='ee-k'>system:index:</span><span class='ee-v'>LC08_015033_20230316_2023075154617400000</span></li><li><span class='ee-k'>timestamp:</span><span class='ee-v'>1678981580656.5</span></li></ul></li></ul></li></ul></div><script>function toggleHeader() {\n",
       "    const parent = this.parentElement;\n",
       "    parent.className = parent.className === \"ee-open\" ? \"ee-shut\" : \"ee-open\";\n",
       "}\n",
       "\n",
       "for (let c of document.getElementsByClassName(\"ee-toggle\")) {\n",
       "    c.onclick = toggleHeader;\n",
       "}</script></div>"
      ],
      "text/plain": [
       "<ee.image.Image at 0x15b5e7a70>"
      ]
     },
     "execution_count": 20,
     "metadata": {},
     "output_type": "execute_result"
    }
   ],
   "source": [
    "sample"
   ]
  },
  {
   "cell_type": "code",
   "execution_count": 27,
   "id": "671f465f-cfe8-4f8d-97f8-b23cff270eac",
   "metadata": {},
   "outputs": [
    {
     "data": {
      "text/html": [
       "\n",
       "            <style>\n",
       "                .geemap-dark {\n",
       "                    --jp-widgets-color: white;\n",
       "                    --jp-widgets-label-color: white;\n",
       "                    --jp-ui-font-color1: white;\n",
       "                    --jp-layout-color2: #454545;\n",
       "                    background-color: #383838;\n",
       "                }\n",
       "\n",
       "                .geemap-dark .jupyter-button {\n",
       "                    --jp-layout-color3: #383838;\n",
       "                }\n",
       "\n",
       "                .geemap-colab {\n",
       "                    background-color: var(--colab-primary-surface-color, white);\n",
       "                }\n",
       "\n",
       "                .geemap-colab .jupyter-button {\n",
       "                    --jp-layout-color3: var(--colab-primary-surface-color, white);\n",
       "                }\n",
       "            </style>\n",
       "            "
      ],
      "text/plain": [
       "<IPython.core.display.HTML object>"
      ]
     },
     "metadata": {},
     "output_type": "display_data"
    }
   ],
   "source": [
    "num = processed.size().getInfo()\n",
    "img_list = processed.toList(num)\n",
    "\n",
    "for i in list(range(num)):\n",
    "    img = ee.Image(img_list.get(i))\n",
    "    \n",
    "    task = ee.batch.Export.image.toDrive(\n",
    "        img, description=f'GOES_Landsat_image_{i}', fileFormat='GeoTIFF', folder='GOES_Landsat_DMV',\n",
    "                dimensions='7677x7908', crs='EPSG:32618', crsTransform=[30, 0, 220185, 0, -30, 4426815])\n",
    "    task.start()"
   ]
  },
  {
   "cell_type": "markdown",
   "id": "83f27e41-ecf0-4cec-8573-3e1008b88600",
   "metadata": {},
   "source": [
    "## Try from gee code"
   ]
  },
  {
   "cell_type": "code",
   "execution_count": 21,
   "id": "a728aedc-46e8-4d2a-a60a-c407b7ce8896",
   "metadata": {},
   "outputs": [
    {
     "data": {
      "text/html": [
       "\n",
       "            <style>\n",
       "                .geemap-dark {\n",
       "                    --jp-widgets-color: white;\n",
       "                    --jp-widgets-label-color: white;\n",
       "                    --jp-ui-font-color1: white;\n",
       "                    --jp-layout-color2: #454545;\n",
       "                    background-color: #383838;\n",
       "                }\n",
       "\n",
       "                .geemap-dark .jupyter-button {\n",
       "                    --jp-layout-color3: #383838;\n",
       "                }\n",
       "\n",
       "                .geemap-colab {\n",
       "                    background-color: var(--colab-primary-surface-color, white);\n",
       "                }\n",
       "\n",
       "                .geemap-colab .jupyter-button {\n",
       "                    --jp-layout-color3: var(--colab-primary-surface-color, white);\n",
       "                }\n",
       "            </style>\n",
       "            "
      ],
      "text/plain": [
       "<IPython.core.display.HTML object>"
      ]
     },
     "metadata": {},
     "output_type": "display_data"
    }
   ],
   "source": [
    "geo = sample.select('ST_B10').geometry()"
   ]
  },
  {
   "cell_type": "code",
   "execution_count": 22,
   "id": "ec90505a-a018-4280-9590-d69ba4594092",
   "metadata": {},
   "outputs": [
    {
     "data": {
      "text/html": [
       "\n",
       "            <style>\n",
       "                .geemap-dark {\n",
       "                    --jp-widgets-color: white;\n",
       "                    --jp-widgets-label-color: white;\n",
       "                    --jp-ui-font-color1: white;\n",
       "                    --jp-layout-color2: #454545;\n",
       "                    background-color: #383838;\n",
       "                }\n",
       "\n",
       "                .geemap-dark .jupyter-button {\n",
       "                    --jp-layout-color3: #383838;\n",
       "                }\n",
       "\n",
       "                .geemap-colab {\n",
       "                    background-color: var(--colab-primary-surface-color, white);\n",
       "                }\n",
       "\n",
       "                .geemap-colab .jupyter-button {\n",
       "                    --jp-layout-color3: var(--colab-primary-surface-color, white);\n",
       "                }\n",
       "            </style>\n",
       "            "
      ],
      "text/plain": [
       "<IPython.core.display.HTML object>"
      ]
     },
     "metadata": {},
     "output_type": "display_data"
    }
   ],
   "source": [
    "Map = geemap.Map(center=[u_lat, u_lon], zoom=4)\n",
    "Map.add_basemap(\"HYBRID\")\n",
    "\n",
    "Map.addLayer(sample.select('ST_B10'), {'min':250, 'max':325,\n",
    "    'palette':['#fef0d9', '#fdcc8a', '#fc8d59', '#e34a33', '#b30000']}, 'LST')\n",
    "Map.addLayer(sample.select('CMI_C14').clip(geo), {'min':96, 'max':342,\n",
    "    'palette':['#f7f7f7', '#cccccc', '#969696', '#636363', '#252525']}, 'GOES14')"
   ]
  },
  {
   "cell_type": "code",
   "execution_count": 23,
   "id": "d82f9113-2727-47cd-8611-b06de3858dc8",
   "metadata": {},
   "outputs": [
    {
     "data": {
      "text/html": [
       "\n",
       "            <style>\n",
       "                .geemap-dark {\n",
       "                    --jp-widgets-color: white;\n",
       "                    --jp-widgets-label-color: white;\n",
       "                    --jp-ui-font-color1: white;\n",
       "                    --jp-layout-color2: #454545;\n",
       "                    background-color: #383838;\n",
       "                }\n",
       "\n",
       "                .geemap-dark .jupyter-button {\n",
       "                    --jp-layout-color3: #383838;\n",
       "                }\n",
       "\n",
       "                .geemap-colab {\n",
       "                    background-color: var(--colab-primary-surface-color, white);\n",
       "                }\n",
       "\n",
       "                .geemap-colab .jupyter-button {\n",
       "                    --jp-layout-color3: var(--colab-primary-surface-color, white);\n",
       "                }\n",
       "            </style>\n",
       "            "
      ],
      "text/plain": [
       "<IPython.core.display.HTML object>"
      ]
     },
     "metadata": {},
     "output_type": "display_data"
    },
    {
     "data": {
      "application/vnd.jupyter.widget-view+json": {
       "model_id": "cc8400c74be04efea54c9c879d1badff",
       "version_major": 2,
       "version_minor": 0
      },
      "text/plain": [
       "Map(center=[39.2904, -76.6122], controls=(WidgetControl(options=['position', 'transparent_bg'], widget=SearchD…"
      ]
     },
     "execution_count": 23,
     "metadata": {},
     "output_type": "execute_result"
    }
   ],
   "source": [
    "Map"
   ]
  },
  {
   "cell_type": "code",
   "execution_count": null,
   "id": "78465290-4444-4b79-b6b0-95aeaf2b0a9d",
   "metadata": {},
   "outputs": [],
   "source": []
  }
 ],
 "metadata": {
  "kernelspec": {
   "display_name": "Python 3 (ipykernel)",
   "language": "python",
   "name": "python3"
  },
  "language_info": {
   "codemirror_mode": {
    "name": "ipython",
    "version": 3
   },
   "file_extension": ".py",
   "mimetype": "text/x-python",
   "name": "python",
   "nbconvert_exporter": "python",
   "pygments_lexer": "ipython3",
   "version": "3.12.3"
  }
 },
 "nbformat": 4,
 "nbformat_minor": 5
}
