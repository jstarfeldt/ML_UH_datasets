{
 "cells": [
  {
   "cell_type": "code",
   "execution_count": 1,
   "id": "4c7aa4d0-6a8e-4854-a14e-8c8277d11491",
   "metadata": {},
   "outputs": [],
   "source": [
    "import xarray as xr\n",
    "import pandas as pd\n",
    "import numpy as np\n",
    "import ee\n",
    "import geemap\n",
    "import geetools\n",
    "from datetime import datetime\n",
    "import pytz"
   ]
  },
  {
   "cell_type": "code",
   "execution_count": 2,
   "id": "99e606c7-ad3d-4713-b320-d0cb0c8b9db1",
   "metadata": {},
   "outputs": [
    {
     "data": {
      "text/html": [
       "\n",
       "            <style>\n",
       "                .geemap-dark {\n",
       "                    --jp-widgets-color: white;\n",
       "                    --jp-widgets-label-color: white;\n",
       "                    --jp-ui-font-color1: white;\n",
       "                    --jp-layout-color2: #454545;\n",
       "                    background-color: #383838;\n",
       "                }\n",
       "\n",
       "                .geemap-dark .jupyter-button {\n",
       "                    --jp-layout-color3: #383838;\n",
       "                }\n",
       "\n",
       "                .geemap-colab {\n",
       "                    background-color: var(--colab-primary-surface-color, white);\n",
       "                }\n",
       "\n",
       "                .geemap-colab .jupyter-button {\n",
       "                    --jp-layout-color3: var(--colab-primary-surface-color, white);\n",
       "                }\n",
       "            </style>\n",
       "            "
      ],
      "text/plain": [
       "<IPython.core.display.HTML object>"
      ]
     },
     "metadata": {},
     "output_type": "display_data"
    }
   ],
   "source": [
    "ee.Initialize(project='ee-jonstar')"
   ]
  },
  {
   "cell_type": "code",
   "execution_count": 3,
   "id": "0098fa98-fd5d-47e6-92b6-0974cf57e583",
   "metadata": {},
   "outputs": [
    {
     "data": {
      "text/html": [
       "\n",
       "            <style>\n",
       "                .geemap-dark {\n",
       "                    --jp-widgets-color: white;\n",
       "                    --jp-widgets-label-color: white;\n",
       "                    --jp-ui-font-color1: white;\n",
       "                    --jp-layout-color2: #454545;\n",
       "                    background-color: #383838;\n",
       "                }\n",
       "\n",
       "                .geemap-dark .jupyter-button {\n",
       "                    --jp-layout-color3: #383838;\n",
       "                }\n",
       "\n",
       "                .geemap-colab {\n",
       "                    background-color: var(--colab-primary-surface-color, white);\n",
       "                }\n",
       "\n",
       "                .geemap-colab .jupyter-button {\n",
       "                    --jp-layout-color3: var(--colab-primary-surface-color, white);\n",
       "                }\n",
       "            </style>\n",
       "            "
      ],
      "text/plain": [
       "<IPython.core.display.HTML object>"
      ]
     },
     "metadata": {},
     "output_type": "display_data"
    }
   ],
   "source": [
    "#ee.Initialize(opt_url='https://earthengine-highvolume.googleapis.com')"
   ]
  },
  {
   "cell_type": "code",
   "execution_count": 4,
   "id": "30746ed2-1246-4a0a-a48d-62a8e7b100fc",
   "metadata": {},
   "outputs": [
    {
     "data": {
      "text/html": [
       "\n",
       "            <style>\n",
       "                .geemap-dark {\n",
       "                    --jp-widgets-color: white;\n",
       "                    --jp-widgets-label-color: white;\n",
       "                    --jp-ui-font-color1: white;\n",
       "                    --jp-layout-color2: #454545;\n",
       "                    background-color: #383838;\n",
       "                }\n",
       "\n",
       "                .geemap-dark .jupyter-button {\n",
       "                    --jp-layout-color3: #383838;\n",
       "                }\n",
       "\n",
       "                .geemap-colab {\n",
       "                    background-color: var(--colab-primary-surface-color, white);\n",
       "                }\n",
       "\n",
       "                .geemap-colab .jupyter-button {\n",
       "                    --jp-layout-color3: var(--colab-primary-surface-color, white);\n",
       "                }\n",
       "            </style>\n",
       "            "
      ],
      "text/plain": [
       "<IPython.core.display.HTML object>"
      ]
     },
     "metadata": {},
     "output_type": "display_data"
    }
   ],
   "source": [
    "edt = pytz.timezone('US/Eastern')\n",
    "#mdt = pytz.timezone('US/Mountain')\n",
    "az = pytz.timezone('US/Arizona')\n",
    "\n",
    "\"\"\"\n",
    "Convert datetimes from your current timezone to a desired timezone.\n",
    "\n",
    "dt (datetime): python datetime object\n",
    "to_timezone (pytz timezone): timezone to convert to\n",
    "local_timezone (pytz timezone): the timezone you are currently in. Python uses your computer's internal clock, so whatever your computer is on.\n",
    "\"\"\"\n",
    "def toTimezone(dt, to_timezone, local_timezone=edt):\n",
    "    return local_timezone.normalize(local_timezone.localize(dt)).astimezone(to_timezone)"
   ]
  },
  {
   "cell_type": "markdown",
   "id": "06bf5ed4-7e65-47ec-b7e4-ff83f435a617",
   "metadata": {},
   "source": [
    "## CONUS Geometry"
   ]
  },
  {
   "cell_type": "code",
   "execution_count": 80,
   "id": "75d11fe2-a4fd-44a8-8535-c2bdcded6813",
   "metadata": {},
   "outputs": [
    {
     "data": {
      "text/html": [
       "\n",
       "            <style>\n",
       "                .geemap-dark {\n",
       "                    --jp-widgets-color: white;\n",
       "                    --jp-widgets-label-color: white;\n",
       "                    --jp-ui-font-color1: white;\n",
       "                    --jp-layout-color2: #454545;\n",
       "                    background-color: #383838;\n",
       "                }\n",
       "\n",
       "                .geemap-dark .jupyter-button {\n",
       "                    --jp-layout-color3: #383838;\n",
       "                }\n",
       "\n",
       "                .geemap-colab {\n",
       "                    background-color: var(--colab-primary-surface-color, white);\n",
       "                }\n",
       "\n",
       "                .geemap-colab .jupyter-button {\n",
       "                    --jp-layout-color3: var(--colab-primary-surface-color, white);\n",
       "                }\n",
       "            </style>\n",
       "            "
      ],
      "text/plain": [
       "<IPython.core.display.HTML object>"
      ]
     },
     "metadata": {},
     "output_type": "display_data"
    }
   ],
   "source": [
    "conus = ee.ImageCollection(\"GRIDMET/DROUGHT\").filterDate('2000-01-01', '2001-01-01')\n",
    "geometry = conus.geometry();"
   ]
  },
  {
   "cell_type": "code",
   "execution_count": 81,
   "id": "9dcdea5d-4da1-41ba-81fe-c89540ba9992",
   "metadata": {},
   "outputs": [
    {
     "data": {
      "text/html": [
       "\n",
       "            <style>\n",
       "                .geemap-dark {\n",
       "                    --jp-widgets-color: white;\n",
       "                    --jp-widgets-label-color: white;\n",
       "                    --jp-ui-font-color1: white;\n",
       "                    --jp-layout-color2: #454545;\n",
       "                    background-color: #383838;\n",
       "                }\n",
       "\n",
       "                .geemap-dark .jupyter-button {\n",
       "                    --jp-layout-color3: #383838;\n",
       "                }\n",
       "\n",
       "                .geemap-colab {\n",
       "                    background-color: var(--colab-primary-surface-color, white);\n",
       "                }\n",
       "\n",
       "                .geemap-colab .jupyter-button {\n",
       "                    --jp-layout-color3: var(--colab-primary-surface-color, white);\n",
       "                }\n",
       "            </style>\n",
       "            "
      ],
      "text/plain": [
       "<IPython.core.display.HTML object>"
      ]
     },
     "metadata": {},
     "output_type": "display_data"
    }
   ],
   "source": [
    "\"\"\"\n",
    "Points of interest for each urban area.\n",
    "KEY:\n",
    "First and second points = Landsat\n",
    "Third and fourth points = Sentinel\n",
    "If a point is zero, then there is only one image from that satellite for the city\n",
    "\"\"\"\n",
    "city_points = {\n",
    "    'DMV':[ee.Geometry.Point(-76.6122, 39.2904), 0, ee.Geometry.Point(-78.08, 39.417), ee.Geometry.Point(-77.723, 38.686)],\n",
    "    'NYC':[ee.Geometry.Point(-73.274, 40.688), 0, ee.Geometry.Point(-73.274, 40.688), ee.Geometry.Point(-73.060, 40.230)],\n",
    "    'Atlanta':[ee.Geometry.Point(-84.344, 33.818), ee.Geometry.Point(-84.465, 33.667), ee.Geometry.Point(-84.344, 33.818), 0],\n",
    "    'Miami':[ee.Geometry.Point(-80.96, 26.358), 0, ee.Geometry.Point(-80.96, 26.358), 0],\n",
    "    'Phoenix':[ee.Geometry.Point(-112.02, 33.46), 0, ee.Geometry.Point(-112.02, 33.46), 0],\n",
    "    'Denver':[ee.Geometry.Point(-104.6, 39.6696), 0, ee.Geometry.Point(-104.6, 39.6696), ee.Geometry.Point(-104.36, 40.08)]\n",
    "}"
   ]
  },
  {
   "cell_type": "code",
   "execution_count": 82,
   "id": "10fc0c36-8825-4bc2-85f2-2bdd11245e80",
   "metadata": {},
   "outputs": [
    {
     "data": {
      "text/html": [
       "\n",
       "            <style>\n",
       "                .geemap-dark {\n",
       "                    --jp-widgets-color: white;\n",
       "                    --jp-widgets-label-color: white;\n",
       "                    --jp-ui-font-color1: white;\n",
       "                    --jp-layout-color2: #454545;\n",
       "                    background-color: #383838;\n",
       "                }\n",
       "\n",
       "                .geemap-dark .jupyter-button {\n",
       "                    --jp-layout-color3: #383838;\n",
       "                }\n",
       "\n",
       "                .geemap-colab {\n",
       "                    background-color: var(--colab-primary-surface-color, white);\n",
       "                }\n",
       "\n",
       "                .geemap-colab .jupyter-button {\n",
       "                    --jp-layout-color3: var(--colab-primary-surface-color, white);\n",
       "                }\n",
       "            </style>\n",
       "            "
      ],
      "text/plain": [
       "<IPython.core.display.HTML object>"
      ]
     },
     "metadata": {},
     "output_type": "display_data"
    }
   ],
   "source": [
    "# Pull points to make data for a specific city (look above for options)\n",
    "city = 'Denver'\n",
    "points = city_points[city]"
   ]
  },
  {
   "cell_type": "code",
   "execution_count": 6,
   "id": "bdd81da5-b3fa-4381-9cbf-c8aef9fbc22c",
   "metadata": {},
   "outputs": [
    {
     "data": {
      "text/html": [
       "\n",
       "            <style>\n",
       "                .geemap-dark {\n",
       "                    --jp-widgets-color: white;\n",
       "                    --jp-widgets-label-color: white;\n",
       "                    --jp-ui-font-color1: white;\n",
       "                    --jp-layout-color2: #454545;\n",
       "                    background-color: #383838;\n",
       "                }\n",
       "\n",
       "                .geemap-dark .jupyter-button {\n",
       "                    --jp-layout-color3: #383838;\n",
       "                }\n",
       "\n",
       "                .geemap-colab {\n",
       "                    background-color: var(--colab-primary-surface-color, white);\n",
       "                }\n",
       "\n",
       "                .geemap-colab .jupyter-button {\n",
       "                    --jp-layout-color3: var(--colab-primary-surface-color, white);\n",
       "                }\n",
       "            </style>\n",
       "            "
      ],
      "text/plain": [
       "<IPython.core.display.HTML object>"
      ]
     },
     "metadata": {},
     "output_type": "display_data"
    }
   ],
   "source": [
    "# Puntas Arenas point\n",
    "\n",
    "lon = -70.93\n",
    "lat = -53.16\n",
    "Puntas_Arenas_poi = ee.Geometry.Point(lon, lat)"
   ]
  },
  {
   "cell_type": "markdown",
   "id": "a66c0658-4cd8-4b10-b8e6-e233a9d71007",
   "metadata": {},
   "source": [
    "## Landsat Initialization"
   ]
  },
  {
   "cell_type": "code",
   "execution_count": 83,
   "id": "f1d1e568-5e3a-4e14-910c-ce0075e38b57",
   "metadata": {},
   "outputs": [
    {
     "data": {
      "text/html": [
       "\n",
       "            <style>\n",
       "                .geemap-dark {\n",
       "                    --jp-widgets-color: white;\n",
       "                    --jp-widgets-label-color: white;\n",
       "                    --jp-ui-font-color1: white;\n",
       "                    --jp-layout-color2: #454545;\n",
       "                    background-color: #383838;\n",
       "                }\n",
       "\n",
       "                .geemap-dark .jupyter-button {\n",
       "                    --jp-layout-color3: #383838;\n",
       "                }\n",
       "\n",
       "                .geemap-colab {\n",
       "                    background-color: var(--colab-primary-surface-color, white);\n",
       "                }\n",
       "\n",
       "                .geemap-colab .jupyter-button {\n",
       "                    --jp-layout-color3: var(--colab-primary-surface-color, white);\n",
       "                }\n",
       "            </style>\n",
       "            "
      ],
      "text/plain": [
       "<IPython.core.display.HTML object>"
      ]
     },
     "metadata": {},
     "output_type": "display_data"
    }
   ],
   "source": [
    "landsat = ee.ImageCollection(\"LANDSAT/LC08/C02/T1_L2\")"
   ]
  },
  {
   "cell_type": "code",
   "execution_count": 84,
   "id": "8e7cb361-7fd4-43f3-a846-0273ef2dee8a",
   "metadata": {},
   "outputs": [
    {
     "data": {
      "text/html": [
       "\n",
       "            <style>\n",
       "                .geemap-dark {\n",
       "                    --jp-widgets-color: white;\n",
       "                    --jp-widgets-label-color: white;\n",
       "                    --jp-ui-font-color1: white;\n",
       "                    --jp-layout-color2: #454545;\n",
       "                    background-color: #383838;\n",
       "                }\n",
       "\n",
       "                .geemap-dark .jupyter-button {\n",
       "                    --jp-layout-color3: #383838;\n",
       "                }\n",
       "\n",
       "                .geemap-colab {\n",
       "                    background-color: var(--colab-primary-surface-color, white);\n",
       "                }\n",
       "\n",
       "                .geemap-colab .jupyter-button {\n",
       "                    --jp-layout-color3: var(--colab-primary-surface-color, white);\n",
       "                }\n",
       "            </style>\n",
       "            "
      ],
      "text/plain": [
       "<IPython.core.display.HTML object>"
      ]
     },
     "metadata": {},
     "output_type": "display_data"
    }
   ],
   "source": [
    "landsat = landsat.filterDate('2022-01-01', '2024-01-01')\n",
    "if points[1] == 0:\n",
    "    landsat_US = landsat.filterBounds(points[0])\n",
    "elif points[1] != 0:\n",
    "    pt1_filt = ee.Filter.bounds(points[0])\n",
    "    pt2_filt = ee.Filter.bounds(points[1])\n",
    "    Landsat_pts_filt = ee.Filter.Or(pt1_filt, pt2_filt)\n",
    "    landsat_US = landsat.filterBounds(Landsat_pts_filt)\n",
    "else:\n",
    "    raise Exception('Points not formatted correctly')"
   ]
  },
  {
   "cell_type": "code",
   "execution_count": 85,
   "id": "e363ac74-03b8-4aa5-903e-c11413dfc1ca",
   "metadata": {},
   "outputs": [
    {
     "data": {
      "text/html": [
       "\n",
       "            <style>\n",
       "                .geemap-dark {\n",
       "                    --jp-widgets-color: white;\n",
       "                    --jp-widgets-label-color: white;\n",
       "                    --jp-ui-font-color1: white;\n",
       "                    --jp-layout-color2: #454545;\n",
       "                    background-color: #383838;\n",
       "                }\n",
       "\n",
       "                .geemap-dark .jupyter-button {\n",
       "                    --jp-layout-color3: #383838;\n",
       "                }\n",
       "\n",
       "                .geemap-colab {\n",
       "                    background-color: var(--colab-primary-surface-color, white);\n",
       "                }\n",
       "\n",
       "                .geemap-colab .jupyter-button {\n",
       "                    --jp-layout-color3: var(--colab-primary-surface-color, white);\n",
       "                }\n",
       "            </style>\n",
       "            "
      ],
      "text/plain": [
       "<IPython.core.display.HTML object>"
      ]
     },
     "metadata": {},
     "output_type": "display_data"
    },
    {
     "data": {
      "text/plain": [
       "{'type': 'Projection',\n",
       " 'crs': 'EPSG:32613',\n",
       " 'transform': [30, 0, 449685, 0, -30, 4581915]}"
      ]
     },
     "execution_count": 85,
     "metadata": {},
     "output_type": "execute_result"
    }
   ],
   "source": [
    "landsat_US.first().projection().getInfo()"
   ]
  },
  {
   "cell_type": "code",
   "execution_count": 86,
   "id": "e3693407-bbc6-4272-b26d-2907f2db0047",
   "metadata": {},
   "outputs": [
    {
     "data": {
      "text/html": [
       "\n",
       "            <style>\n",
       "                .geemap-dark {\n",
       "                    --jp-widgets-color: white;\n",
       "                    --jp-widgets-label-color: white;\n",
       "                    --jp-ui-font-color1: white;\n",
       "                    --jp-layout-color2: #454545;\n",
       "                    background-color: #383838;\n",
       "                }\n",
       "\n",
       "                .geemap-dark .jupyter-button {\n",
       "                    --jp-layout-color3: #383838;\n",
       "                }\n",
       "\n",
       "                .geemap-colab {\n",
       "                    background-color: var(--colab-primary-surface-color, white);\n",
       "                }\n",
       "\n",
       "                .geemap-colab .jupyter-button {\n",
       "                    --jp-layout-color3: var(--colab-primary-surface-color, white);\n",
       "                }\n",
       "            </style>\n",
       "            "
      ],
      "text/plain": [
       "<IPython.core.display.HTML object>"
      ]
     },
     "metadata": {},
     "output_type": "display_data"
    },
    {
     "name": "stdout",
     "output_type": "stream",
     "text": [
      "91\n"
     ]
    }
   ],
   "source": [
    "print(landsat_US.size().getInfo())"
   ]
  },
  {
   "cell_type": "code",
   "execution_count": 10,
   "id": "0fd8264d-d568-4e2e-aa32-8c4532de220a",
   "metadata": {},
   "outputs": [
    {
     "data": {
      "text/html": [
       "\n",
       "            <style>\n",
       "                .geemap-dark {\n",
       "                    --jp-widgets-color: white;\n",
       "                    --jp-widgets-label-color: white;\n",
       "                    --jp-ui-font-color1: white;\n",
       "                    --jp-layout-color2: #454545;\n",
       "                    background-color: #383838;\n",
       "                }\n",
       "\n",
       "                .geemap-dark .jupyter-button {\n",
       "                    --jp-layout-color3: #383838;\n",
       "                }\n",
       "\n",
       "                .geemap-colab {\n",
       "                    background-color: var(--colab-primary-surface-color, white);\n",
       "                }\n",
       "\n",
       "                .geemap-colab .jupyter-button {\n",
       "                    --jp-layout-color3: var(--colab-primary-surface-color, white);\n",
       "                }\n",
       "            </style>\n",
       "            "
      ],
      "text/plain": [
       "<IPython.core.display.HTML object>"
      ]
     },
     "metadata": {},
     "output_type": "display_data"
    }
   ],
   "source": [
    "lList = landsat_US.toList(15)"
   ]
  },
  {
   "cell_type": "code",
   "execution_count": 14,
   "id": "543ffd63-d4d7-44d3-8523-ece0ebf5b08f",
   "metadata": {},
   "outputs": [
    {
     "data": {
      "text/html": [
       "\n",
       "            <style>\n",
       "                .geemap-dark {\n",
       "                    --jp-widgets-color: white;\n",
       "                    --jp-widgets-label-color: white;\n",
       "                    --jp-ui-font-color1: white;\n",
       "                    --jp-layout-color2: #454545;\n",
       "                    background-color: #383838;\n",
       "                }\n",
       "\n",
       "                .geemap-dark .jupyter-button {\n",
       "                    --jp-layout-color3: #383838;\n",
       "                }\n",
       "\n",
       "                .geemap-colab {\n",
       "                    background-color: var(--colab-primary-surface-color, white);\n",
       "                }\n",
       "\n",
       "                .geemap-colab .jupyter-button {\n",
       "                    --jp-layout-color3: var(--colab-primary-surface-color, white);\n",
       "                }\n",
       "            </style>\n",
       "            "
      ],
      "text/plain": [
       "<IPython.core.display.HTML object>"
      ]
     },
     "metadata": {},
     "output_type": "display_data"
    },
    {
     "data": {
      "text/html": [
       "<div><style>:root {\n",
       "  --font-color-primary: var(--jp-content-font-color0, rgba(0, 0, 0, 1));\n",
       "  --font-color-secondary: var(--jp-content-font-color2, rgba(0, 0, 0, 0.6));\n",
       "  --font-color-accent: rgba(123, 31, 162, 1);\n",
       "  --border-color: var(--jp-border-color2, #e0e0e0);\n",
       "  --background-color: var(--jp-layout-color0, white);\n",
       "  --background-color-row-even: var(--jp-layout-color1, white);\n",
       "  --background-color-row-odd: var(--jp-layout-color2, #eeeeee);\n",
       "}\n",
       "\n",
       "html[theme=\"dark\"],\n",
       "body[data-theme=\"dark\"],\n",
       "body.vscode-dark {\n",
       "  --font-color-primary: rgba(255, 255, 255, 1);\n",
       "  --font-color-secondary: rgba(255, 255, 255, 0.6);\n",
       "  --font-color-accent: rgb(173, 132, 190);\n",
       "  --border-color: #2e2e2e;\n",
       "  --background-color: #111111;\n",
       "  --background-color-row-even: #111111;\n",
       "  --background-color-row-odd: #313131;\n",
       "}\n",
       "\n",
       ".ee {\n",
       "  padding: 1em;\n",
       "  line-height: 1.5em;\n",
       "  min-width: 300px;\n",
       "  max-width: 1200px;\n",
       "  overflow-y: scroll;\n",
       "  max-height: 600px;\n",
       "  border: 1px solid var(--border-color);\n",
       "  font-family: monospace;\n",
       "}\n",
       "\n",
       ".ee li {\n",
       "  list-style-type: none;\n",
       "}\n",
       "\n",
       ".ee ul {\n",
       "  padding-left: 1.5em !important;\n",
       "  margin: 0;\n",
       "}\n",
       "\n",
       ".ee > ul {\n",
       "  padding-left: 0 !important;\n",
       "}\n",
       "\n",
       ".ee-open,\n",
       ".ee-shut {\n",
       "  color: var(--font-color-secondary);\n",
       "  cursor: pointer;\n",
       "  margin: 0;\n",
       "}\n",
       "\n",
       ".ee-open:hover,\n",
       ".ee-shut:hover {\n",
       "  color: var(--font-color-primary);\n",
       "}\n",
       "\n",
       ".ee-k {\n",
       "  color: var(--font-color-accent);\n",
       "  margin-right: 6px;\n",
       "}\n",
       "\n",
       ".ee-v {\n",
       "  color: var(--font-color-primary);\n",
       "}\n",
       "\n",
       ".ee-toggle {\n",
       "  display: none;\n",
       "}\n",
       "\n",
       ".ee-shut + ul {\n",
       "  display: none;\n",
       "}\n",
       "\n",
       ".ee-open + ul {\n",
       "  display: block;\n",
       "}\n",
       "\n",
       ".ee-shut::before {\n",
       "  display: inline-block;\n",
       "  content: \"▼\";\n",
       "  margin-right: 6px;\n",
       "  transform: rotate(-90deg);\n",
       "  transition: transform 0.2s;\n",
       "}\n",
       "\n",
       ".ee-open::before {\n",
       "  transform: rotate(0deg);\n",
       "  display: inline-block;\n",
       "  content: \"▼\";\n",
       "  margin-right: 6px;\n",
       "  transition: transform 0.2s;\n",
       "}\n",
       "</style><div class='ee'><ul><li><label class='ee-shut'>Date (2023-06-04 15:45:48.086000)<input type='checkbox' class='ee-toggle'></label><ul><li><span class='ee-k'>type:</span><span class='ee-v'>Date</span></li><li><span class='ee-k'>value:</span><span class='ee-v'>1685893548086</span></li></ul></li></ul></div><script>function toggleHeader() {\n",
       "    const parent = this.parentElement;\n",
       "    parent.className = parent.className === \"ee-open\" ? \"ee-shut\" : \"ee-open\";\n",
       "}\n",
       "\n",
       "for (let c of document.getElementsByClassName(\"ee-toggle\")) {\n",
       "    c.onclick = toggleHeader;\n",
       "}</script></div>"
      ],
      "text/plain": [
       "<ee.ee_date.Date at 0x14b58cbc0>"
      ]
     },
     "execution_count": 14,
     "metadata": {},
     "output_type": "execute_result"
    }
   ],
   "source": [
    "ee.Image(lList.get(7)).date()"
   ]
  },
  {
   "cell_type": "code",
   "execution_count": 15,
   "id": "228d6827-84d1-4159-943d-4d613c8ff17a",
   "metadata": {},
   "outputs": [
    {
     "data": {
      "text/html": [
       "\n",
       "            <style>\n",
       "                .geemap-dark {\n",
       "                    --jp-widgets-color: white;\n",
       "                    --jp-widgets-label-color: white;\n",
       "                    --jp-ui-font-color1: white;\n",
       "                    --jp-layout-color2: #454545;\n",
       "                    background-color: #383838;\n",
       "                }\n",
       "\n",
       "                .geemap-dark .jupyter-button {\n",
       "                    --jp-layout-color3: #383838;\n",
       "                }\n",
       "\n",
       "                .geemap-colab {\n",
       "                    background-color: var(--colab-primary-surface-color, white);\n",
       "                }\n",
       "\n",
       "                .geemap-colab .jupyter-button {\n",
       "                    --jp-layout-color3: var(--colab-primary-surface-color, white);\n",
       "                }\n",
       "            </style>\n",
       "            "
      ],
      "text/plain": [
       "<IPython.core.display.HTML object>"
      ]
     },
     "metadata": {},
     "output_type": "display_data"
    }
   ],
   "source": [
    "# Used where two Landsat images are required, splits data into the separate images\n",
    "# so that time should be equivalent among equal indexes in the two lists\n",
    "\n",
    "#landsat_list1 = ee.ImageCollection(landsat_US.toList(19))\n",
    "#landsat_list2 = ee.ImageCollection(landsat_US.toList(36, 19))"
   ]
  },
  {
   "cell_type": "markdown",
   "id": "b65c6dd9-6bf6-428b-bca4-67669ad17e9b",
   "metadata": {},
   "source": [
    "## GOES Initialization"
   ]
  },
  {
   "cell_type": "code",
   "execution_count": 15,
   "id": "00db00af-1f7a-4641-86d8-2a8a074754a1",
   "metadata": {},
   "outputs": [
    {
     "data": {
      "text/html": [
       "\n",
       "            <style>\n",
       "                .geemap-dark {\n",
       "                    --jp-widgets-color: white;\n",
       "                    --jp-widgets-label-color: white;\n",
       "                    --jp-ui-font-color1: white;\n",
       "                    --jp-layout-color2: #454545;\n",
       "                    background-color: #383838;\n",
       "                }\n",
       "\n",
       "                .geemap-dark .jupyter-button {\n",
       "                    --jp-layout-color3: #383838;\n",
       "                }\n",
       "\n",
       "                .geemap-colab {\n",
       "                    background-color: var(--colab-primary-surface-color, white);\n",
       "                }\n",
       "\n",
       "                .geemap-colab .jupyter-button {\n",
       "                    --jp-layout-color3: var(--colab-primary-surface-color, white);\n",
       "                }\n",
       "            </style>\n",
       "            "
      ],
      "text/plain": [
       "<IPython.core.display.HTML object>"
      ]
     },
     "metadata": {},
     "output_type": "display_data"
    }
   ],
   "source": [
    "# Landsat images over Baltimore regularly taken around 15:47 every 16 days\n",
    "hour_filt1 = ee.Filter.calendarRange(15, 15, 'hour')\n",
    "minute_filt_DMV = ee.Filter.calendarRange(45, 49, 'minute') # MUST FIGURE OUT WHEN OTHER LANDSAT IMAGES ARE TAKEN\n",
    "time_filt1 = ee.Filter.And(hour_filt1, minute_filt_DMV)\n",
    "\n",
    "hour_filt2 = ee.Filter.calendarRange(3, 3, 'hour')\n",
    "time_filt2 = ee.Filter.And(hour_filt2, minute_filt_DMV)\n",
    "\n",
    "time_filt = ee.Filter.Or(time_filt1, time_filt2)"
   ]
  },
  {
   "cell_type": "code",
   "execution_count": 87,
   "id": "8451093f-22d5-400d-bc6e-93309ab4ea7c",
   "metadata": {},
   "outputs": [
    {
     "data": {
      "text/html": [
       "\n",
       "            <style>\n",
       "                .geemap-dark {\n",
       "                    --jp-widgets-color: white;\n",
       "                    --jp-widgets-label-color: white;\n",
       "                    --jp-ui-font-color1: white;\n",
       "                    --jp-layout-color2: #454545;\n",
       "                    background-color: #383838;\n",
       "                }\n",
       "\n",
       "                .geemap-dark .jupyter-button {\n",
       "                    --jp-layout-color3: #383838;\n",
       "                }\n",
       "\n",
       "                .geemap-colab {\n",
       "                    background-color: var(--colab-primary-surface-color, white);\n",
       "                }\n",
       "\n",
       "                .geemap-colab .jupyter-button {\n",
       "                    --jp-layout-color3: var(--colab-primary-surface-color, white);\n",
       "                }\n",
       "            </style>\n",
       "            "
      ],
      "text/plain": [
       "<IPython.core.display.HTML object>"
      ]
     },
     "metadata": {},
     "output_type": "display_data"
    }
   ],
   "source": [
    "GOES = ee.ImageCollection(\"NOAA/GOES/16/MCMIPF\").filterDate('2022-01-01', '2024-01-01')#.filter(minute_filt_DMV)"
   ]
  },
  {
   "cell_type": "code",
   "execution_count": 50,
   "id": "4643d9e6-0c4f-4b5d-be03-9ff9025978de",
   "metadata": {},
   "outputs": [
    {
     "data": {
      "text/html": [
       "\n",
       "            <style>\n",
       "                .geemap-dark {\n",
       "                    --jp-widgets-color: white;\n",
       "                    --jp-widgets-label-color: white;\n",
       "                    --jp-ui-font-color1: white;\n",
       "                    --jp-layout-color2: #454545;\n",
       "                    background-color: #383838;\n",
       "                }\n",
       "\n",
       "                .geemap-dark .jupyter-button {\n",
       "                    --jp-layout-color3: #383838;\n",
       "                }\n",
       "\n",
       "                .geemap-colab {\n",
       "                    background-color: var(--colab-primary-surface-color, white);\n",
       "                }\n",
       "\n",
       "                .geemap-colab .jupyter-button {\n",
       "                    --jp-layout-color3: var(--colab-primary-surface-color, white);\n",
       "                }\n",
       "            </style>\n",
       "            "
      ],
      "text/plain": [
       "<IPython.core.display.HTML object>"
      ]
     },
     "metadata": {},
     "output_type": "display_data"
    }
   ],
   "source": [
    "gList = GOES.toList(8)"
   ]
  },
  {
   "cell_type": "code",
   "execution_count": 51,
   "id": "045b401f-86f5-4088-a59f-9ddd1b5e3916",
   "metadata": {},
   "outputs": [
    {
     "data": {
      "text/html": [
       "\n",
       "            <style>\n",
       "                .geemap-dark {\n",
       "                    --jp-widgets-color: white;\n",
       "                    --jp-widgets-label-color: white;\n",
       "                    --jp-ui-font-color1: white;\n",
       "                    --jp-layout-color2: #454545;\n",
       "                    background-color: #383838;\n",
       "                }\n",
       "\n",
       "                .geemap-dark .jupyter-button {\n",
       "                    --jp-layout-color3: #383838;\n",
       "                }\n",
       "\n",
       "                .geemap-colab {\n",
       "                    background-color: var(--colab-primary-surface-color, white);\n",
       "                }\n",
       "\n",
       "                .geemap-colab .jupyter-button {\n",
       "                    --jp-layout-color3: var(--colab-primary-surface-color, white);\n",
       "                }\n",
       "            </style>\n",
       "            "
      ],
      "text/plain": [
       "<IPython.core.display.HTML object>"
      ]
     },
     "metadata": {},
     "output_type": "display_data"
    },
    {
     "data": {
      "text/plain": [
       "{'type': 'Date', 'value': 1640995220500}"
      ]
     },
     "execution_count": 51,
     "metadata": {},
     "output_type": "execute_result"
    }
   ],
   "source": [
    "ee.Image(gList.get(0)).date().getInfo()"
   ]
  },
  {
   "cell_type": "code",
   "execution_count": 52,
   "id": "ae516c81-a637-486b-889d-311721ab92b7",
   "metadata": {},
   "outputs": [
    {
     "data": {
      "text/html": [
       "\n",
       "            <style>\n",
       "                .geemap-dark {\n",
       "                    --jp-widgets-color: white;\n",
       "                    --jp-widgets-label-color: white;\n",
       "                    --jp-ui-font-color1: white;\n",
       "                    --jp-layout-color2: #454545;\n",
       "                    background-color: #383838;\n",
       "                }\n",
       "\n",
       "                .geemap-dark .jupyter-button {\n",
       "                    --jp-layout-color3: #383838;\n",
       "                }\n",
       "\n",
       "                .geemap-colab {\n",
       "                    background-color: var(--colab-primary-surface-color, white);\n",
       "                }\n",
       "\n",
       "                .geemap-colab .jupyter-button {\n",
       "                    --jp-layout-color3: var(--colab-primary-surface-color, white);\n",
       "                }\n",
       "            </style>\n",
       "            "
      ],
      "text/plain": [
       "<IPython.core.display.HTML object>"
      ]
     },
     "metadata": {},
     "output_type": "display_data"
    },
    {
     "data": {
      "text/plain": [
       "datetime.datetime(2021, 12, 31, 19, 0, 20, 500000)"
      ]
     },
     "execution_count": 52,
     "metadata": {},
     "output_type": "execute_result"
    }
   ],
   "source": [
    "datetime.fromtimestamp(1640995220500/1000)"
   ]
  },
  {
   "cell_type": "markdown",
   "id": "ea20c471-9129-48eb-b6d6-7592fccadf46",
   "metadata": {},
   "source": [
    "## Sentinel-1 SAR Initialization"
   ]
  },
  {
   "cell_type": "code",
   "execution_count": 88,
   "id": "7da93cc9-2a15-49fe-961f-3bc764fbf4a1",
   "metadata": {},
   "outputs": [
    {
     "data": {
      "text/html": [
       "\n",
       "            <style>\n",
       "                .geemap-dark {\n",
       "                    --jp-widgets-color: white;\n",
       "                    --jp-widgets-label-color: white;\n",
       "                    --jp-ui-font-color1: white;\n",
       "                    --jp-layout-color2: #454545;\n",
       "                    background-color: #383838;\n",
       "                }\n",
       "\n",
       "                .geemap-dark .jupyter-button {\n",
       "                    --jp-layout-color3: #383838;\n",
       "                }\n",
       "\n",
       "                .geemap-colab {\n",
       "                    background-color: var(--colab-primary-surface-color, white);\n",
       "                }\n",
       "\n",
       "                .geemap-colab .jupyter-button {\n",
       "                    --jp-layout-color3: var(--colab-primary-surface-color, white);\n",
       "                }\n",
       "            </style>\n",
       "            "
      ],
      "text/plain": [
       "<IPython.core.display.HTML object>"
      ]
     },
     "metadata": {},
     "output_type": "display_data"
    }
   ],
   "source": [
    "sentinel = ee.ImageCollection(\"COPERNICUS/S1_GRD\").filterDate('2022-01-01', '2024-01-01')"
   ]
  },
  {
   "cell_type": "code",
   "execution_count": 89,
   "id": "9cb9fa4a-0600-41e4-ad0b-7cca5f434daf",
   "metadata": {},
   "outputs": [
    {
     "data": {
      "text/html": [
       "\n",
       "            <style>\n",
       "                .geemap-dark {\n",
       "                    --jp-widgets-color: white;\n",
       "                    --jp-widgets-label-color: white;\n",
       "                    --jp-ui-font-color1: white;\n",
       "                    --jp-layout-color2: #454545;\n",
       "                    background-color: #383838;\n",
       "                }\n",
       "\n",
       "                .geemap-dark .jupyter-button {\n",
       "                    --jp-layout-color3: #383838;\n",
       "                }\n",
       "\n",
       "                .geemap-colab {\n",
       "                    background-color: var(--colab-primary-surface-color, white);\n",
       "                }\n",
       "\n",
       "                .geemap-colab .jupyter-button {\n",
       "                    --jp-layout-color3: var(--colab-primary-surface-color, white);\n",
       "                }\n",
       "            </style>\n",
       "            "
      ],
      "text/plain": [
       "<IPython.core.display.HTML object>"
      ]
     },
     "metadata": {},
     "output_type": "display_data"
    }
   ],
   "source": [
    "if points[3] == 0:\n",
    "    sentinel = sentinel.filterBounds(points[2])\n",
    "elif points[3] != 0:\n",
    "    pt1_filt = ee.Filter.bounds(points[2])\n",
    "    pt2_filt = ee.Filter.bounds(points[3])\n",
    "    Sentinel_pts_filt = ee.Filter.Or(pt1_filt, pt2_filt)\n",
    "    sentinel = sentinel.filter(Sentinel_pts_filt)\n",
    "else:\n",
    "    raise Exception('Points not formatted correctly')"
   ]
  },
  {
   "cell_type": "code",
   "execution_count": 90,
   "id": "fa89c17e-4437-4943-8bb1-2501accaa4ba",
   "metadata": {},
   "outputs": [
    {
     "data": {
      "text/html": [
       "\n",
       "            <style>\n",
       "                .geemap-dark {\n",
       "                    --jp-widgets-color: white;\n",
       "                    --jp-widgets-label-color: white;\n",
       "                    --jp-ui-font-color1: white;\n",
       "                    --jp-layout-color2: #454545;\n",
       "                    background-color: #383838;\n",
       "                }\n",
       "\n",
       "                .geemap-dark .jupyter-button {\n",
       "                    --jp-layout-color3: #383838;\n",
       "                }\n",
       "\n",
       "                .geemap-colab {\n",
       "                    background-color: var(--colab-primary-surface-color, white);\n",
       "                }\n",
       "\n",
       "                .geemap-colab .jupyter-button {\n",
       "                    --jp-layout-color3: var(--colab-primary-surface-color, white);\n",
       "                }\n",
       "            </style>\n",
       "            "
      ],
      "text/plain": [
       "<IPython.core.display.HTML object>"
      ]
     },
     "metadata": {},
     "output_type": "display_data"
    },
    {
     "name": "stdout",
     "output_type": "stream",
     "text": [
      "159\n"
     ]
    }
   ],
   "source": [
    "print(sentinel.size().getInfo())"
   ]
  },
  {
   "cell_type": "code",
   "execution_count": 28,
   "id": "21257395-5e13-417e-b467-67550d85bf30",
   "metadata": {
    "scrolled": true
   },
   "outputs": [
    {
     "data": {
      "text/html": [
       "\n",
       "            <style>\n",
       "                .geemap-dark {\n",
       "                    --jp-widgets-color: white;\n",
       "                    --jp-widgets-label-color: white;\n",
       "                    --jp-ui-font-color1: white;\n",
       "                    --jp-layout-color2: #454545;\n",
       "                    background-color: #383838;\n",
       "                }\n",
       "\n",
       "                .geemap-dark .jupyter-button {\n",
       "                    --jp-layout-color3: #383838;\n",
       "                }\n",
       "\n",
       "                .geemap-colab {\n",
       "                    background-color: var(--colab-primary-surface-color, white);\n",
       "                }\n",
       "\n",
       "                .geemap-colab .jupyter-button {\n",
       "                    --jp-layout-color3: var(--colab-primary-surface-color, white);\n",
       "                }\n",
       "            </style>\n",
       "            "
      ],
      "text/plain": [
       "<IPython.core.display.HTML object>"
      ]
     },
     "metadata": {},
     "output_type": "display_data"
    },
    {
     "data": {
      "text/plain": [
       "{'type': 'Image',\n",
       " 'bands': [{'id': 'VV',\n",
       "   'data_type': {'type': 'PixelType', 'precision': 'double'},\n",
       "   'dimensions': [28998, 21857],\n",
       "   'crs': 'EPSG:32618',\n",
       "   'crs_transform': [10, 0, 156964.09501321457, 0, -10, 4337739.147206681]},\n",
       "  {'id': 'VH',\n",
       "   'data_type': {'type': 'PixelType', 'precision': 'double'},\n",
       "   'dimensions': [28998, 21857],\n",
       "   'crs': 'EPSG:32618',\n",
       "   'crs_transform': [10, 0, 156964.09501321457, 0, -10, 4337739.147206681]},\n",
       "  {'id': 'angle',\n",
       "   'data_type': {'type': 'PixelType', 'precision': 'float'},\n",
       "   'dimensions': [21, 10],\n",
       "   'crs': 'EPSG:32618',\n",
       "   'crs_transform': [12837.805890953401,\n",
       "    -3142.463833468093,\n",
       "    189195.61881602166,\n",
       "    1973.9607763299718,\n",
       "    20172.62601554999,\n",
       "    4124733.3593807532]}],\n",
       " 'version': 1740499510794234,\n",
       " 'id': 'COPERNICUS/S1_GRD/S1A_IW_GRDH_1SDV_20230103T230705_20230103T230730_046626_059699_410C',\n",
       " 'properties': {'SNAP_Graph_Processing_Framework_GPF_vers': '8.0.3',\n",
       "  'SLC_Processing_facility_org': 'ESA',\n",
       "  'SLC_Processing_facility_country': 'Italy',\n",
       "  'GRD_Post_Processing_facility_org': 'ESA',\n",
       "  'transmitterReceiverPolarisation': ['VV', 'VH'],\n",
       "  'GRD_Post_Processing_start': 1672822075203,\n",
       "  'sliceNumber': 20,\n",
       "  'GRD_Post_Processing_facility_name': 'Copernicus Ground Segment',\n",
       "  'resolution': 'H',\n",
       "  'SLC_Processing_facility_name': 'Copernicus Ground Segment',\n",
       "  'system:footprint': {'type': 'LinearRing',\n",
       "   'coordinates': [[-78.67204635220043, 38.750556834501964],\n",
       "    [-78.82386184639924, 38.7278774554769],\n",
       "    [-78.81903255538053, 38.70364814741432],\n",
       "    [-78.80130503081828, 38.622887668598615],\n",
       "    [-78.74315641423924, 38.37533922264993],\n",
       "    [-78.68547098458565, 38.127734297133635],\n",
       "    [-78.66976764018239, 38.06012331265371],\n",
       "    [-78.59697511392245, 37.758439576472334],\n",
       "    [-78.49209833289098, 37.33012842507789],\n",
       "    [-78.4783414733926, 37.27404362560059],\n",
       "    [-78.46482715702211, 37.223080965579086],\n",
       "    [-75.66633070957707, 37.61632420133919],\n",
       "    [-75.66634881831692, 37.61834641856925],\n",
       "    [-75.6709853805067, 37.642392341944586],\n",
       "    [-75.81522724252417, 38.357991817684486],\n",
       "    [-75.96246145215252, 39.073291443448774],\n",
       "    [-75.97211093509551, 39.11879659755897],\n",
       "    [-76.28086111427554, 39.08003098990376],\n",
       "    [-76.90247510167828, 38.99937000163157],\n",
       "    [-77.63073926556545, 38.90042260136878],\n",
       "    [-78.67204635220043, 38.750556834501964]]},\n",
       "  'familyName': 'SENTINEL-1',\n",
       "  'segmentStartTime': 1672786746701,\n",
       "  'missionDataTakeID': 366233,\n",
       "  'GRD_Post_Processing_facility_country': 'Italy',\n",
       "  'nssdcIdentifier': '2014-016A',\n",
       "  'productClass': 'S',\n",
       "  'phaseIdentifier': 1,\n",
       "  'orbitProperties_pass': 'ASCENDING',\n",
       "  'relativeOrbitNumber_stop': 4,\n",
       "  'system:time_end': 1672787225000,\n",
       "  'platformHeading': -13.27127051824228,\n",
       "  'SLC_Processing_facility_site': 'Production Service-SERCO',\n",
       "  'GRD_Post_Processing_stop': 1672822676000,\n",
       "  'system:time_start': 1672787225000,\n",
       "  'instrumentMode': 'IW',\n",
       "  'totalSlices': 28,\n",
       "  'SLC_Processing_stop': 1672822574000,\n",
       "  'startTimeANX': 604929.8,\n",
       "  'SLC_Processing_start': 1672822242000,\n",
       "  'resolution_meters': 10,\n",
       "  'instrumentSwath': 'IW',\n",
       "  'relativeOrbitNumber_start': 4,\n",
       "  'productTimelinessCategory': 'Fast-24h',\n",
       "  'SLC_Processing_software_name': 'Sentinel-1 IPF',\n",
       "  'sliceProductFlag': 'true',\n",
       "  'S1TBX_Calibration_vers': '8.0.3',\n",
       "  'orbitNumber_start': 46626,\n",
       "  'GRD_Post_Processing_facility_site': 'Production Service-SERCO',\n",
       "  'instrument': 'Synthetic Aperture Radar',\n",
       "  'GRD_Post_Processing_software_name': 'Sentinel-1 IPF',\n",
       "  'platform_number': 'A',\n",
       "  'S1TBX_SAR_Processing_vers': '8.0.3',\n",
       "  'productType': 'GRD',\n",
       "  'orbitProperties_ascendingNodeTime': 1672786620472,\n",
       "  'stopTimeANX': 629928.6,\n",
       "  'productComposition': 'Slice',\n",
       "  'productClassDescription': 'SAR Standard L1 Product',\n",
       "  'GRD_Post_Processing_software_version': '003.52',\n",
       "  'SLC_Processing_software_version': '003.52',\n",
       "  'orbitNumber_stop': 46626,\n",
       "  'instrumentConfigurationID': 7,\n",
       "  'system:asset_size': 4052121750,\n",
       "  'cycleNumber': 281,\n",
       "  'system:index': 'S1A_IW_GRDH_1SDV_20230103T230705_20230103T230730_046626_059699_410C'}}"
      ]
     },
     "execution_count": 28,
     "metadata": {},
     "output_type": "execute_result"
    }
   ],
   "source": [
    "sentinel.first().getInfo()"
   ]
  },
  {
   "cell_type": "code",
   "execution_count": 14,
   "id": "b2092f35-53ea-4d53-94c1-ce04d608d861",
   "metadata": {},
   "outputs": [
    {
     "data": {
      "text/html": [
       "\n",
       "            <style>\n",
       "                .geemap-dark {\n",
       "                    --jp-widgets-color: white;\n",
       "                    --jp-widgets-label-color: white;\n",
       "                    --jp-ui-font-color1: white;\n",
       "                    --jp-layout-color2: #454545;\n",
       "                    background-color: #383838;\n",
       "                }\n",
       "\n",
       "                .geemap-dark .jupyter-button {\n",
       "                    --jp-layout-color3: #383838;\n",
       "                }\n",
       "\n",
       "                .geemap-colab {\n",
       "                    background-color: var(--colab-primary-surface-color, white);\n",
       "                }\n",
       "\n",
       "                .geemap-colab .jupyter-button {\n",
       "                    --jp-layout-color3: var(--colab-primary-surface-color, white);\n",
       "                }\n",
       "            </style>\n",
       "            "
      ],
      "text/plain": [
       "<IPython.core.display.HTML object>"
      ]
     },
     "metadata": {},
     "output_type": "display_data"
    }
   ],
   "source": [
    "#slist = sentinel.toList(2)"
   ]
  },
  {
   "cell_type": "code",
   "execution_count": 15,
   "id": "587c5718-7090-4f68-8067-a8915afd18a3",
   "metadata": {},
   "outputs": [
    {
     "data": {
      "text/html": [
       "\n",
       "            <style>\n",
       "                .geemap-dark {\n",
       "                    --jp-widgets-color: white;\n",
       "                    --jp-widgets-label-color: white;\n",
       "                    --jp-ui-font-color1: white;\n",
       "                    --jp-layout-color2: #454545;\n",
       "                    background-color: #383838;\n",
       "                }\n",
       "\n",
       "                .geemap-dark .jupyter-button {\n",
       "                    --jp-layout-color3: #383838;\n",
       "                }\n",
       "\n",
       "                .geemap-colab {\n",
       "                    background-color: var(--colab-primary-surface-color, white);\n",
       "                }\n",
       "\n",
       "                .geemap-colab .jupyter-button {\n",
       "                    --jp-layout-color3: var(--colab-primary-surface-color, white);\n",
       "                }\n",
       "            </style>\n",
       "            "
      ],
      "text/plain": [
       "<IPython.core.display.HTML object>"
      ]
     },
     "metadata": {},
     "output_type": "display_data"
    }
   ],
   "source": [
    "#ee.Image(slist.get(1)).date()"
   ]
  },
  {
   "cell_type": "markdown",
   "id": "d234d73d-de83-4671-98a8-9f270cce9d93",
   "metadata": {},
   "source": [
    "## NLCD Initialization"
   ]
  },
  {
   "cell_type": "code",
   "execution_count": 27,
   "id": "e0fb0e9d-42ef-4edd-ae51-53bde65a9516",
   "metadata": {},
   "outputs": [
    {
     "data": {
      "text/html": [
       "\n",
       "            <style>\n",
       "                .geemap-dark {\n",
       "                    --jp-widgets-color: white;\n",
       "                    --jp-widgets-label-color: white;\n",
       "                    --jp-ui-font-color1: white;\n",
       "                    --jp-layout-color2: #454545;\n",
       "                    background-color: #383838;\n",
       "                }\n",
       "\n",
       "                .geemap-dark .jupyter-button {\n",
       "                    --jp-layout-color3: #383838;\n",
       "                }\n",
       "\n",
       "                .geemap-colab {\n",
       "                    background-color: var(--colab-primary-surface-color, white);\n",
       "                }\n",
       "\n",
       "                .geemap-colab .jupyter-button {\n",
       "                    --jp-layout-color3: var(--colab-primary-surface-color, white);\n",
       "                }\n",
       "            </style>\n",
       "            "
      ],
      "text/plain": [
       "<IPython.core.display.HTML object>"
      ]
     },
     "metadata": {},
     "output_type": "display_data"
    }
   ],
   "source": [
    "nlcd = ee.ImageCollection(\"projects/sat-io/open-datasets/USGS/ANNUAL_NLCD/LANDCOVER\").filterDate('2022', '2024')"
   ]
  },
  {
   "cell_type": "code",
   "execution_count": 28,
   "id": "06275414-0379-4989-84da-fe280b43dbaa",
   "metadata": {},
   "outputs": [
    {
     "data": {
      "text/html": [
       "\n",
       "            <style>\n",
       "                .geemap-dark {\n",
       "                    --jp-widgets-color: white;\n",
       "                    --jp-widgets-label-color: white;\n",
       "                    --jp-ui-font-color1: white;\n",
       "                    --jp-layout-color2: #454545;\n",
       "                    background-color: #383838;\n",
       "                }\n",
       "\n",
       "                .geemap-dark .jupyter-button {\n",
       "                    --jp-layout-color3: #383838;\n",
       "                }\n",
       "\n",
       "                .geemap-colab {\n",
       "                    background-color: var(--colab-primary-surface-color, white);\n",
       "                }\n",
       "\n",
       "                .geemap-colab .jupyter-button {\n",
       "                    --jp-layout-color3: var(--colab-primary-surface-color, white);\n",
       "                }\n",
       "            </style>\n",
       "            "
      ],
      "text/plain": [
       "<IPython.core.display.HTML object>"
      ]
     },
     "metadata": {},
     "output_type": "display_data"
    },
    {
     "data": {
      "text/html": [
       "<div><style>:root {\n",
       "  --font-color-primary: var(--jp-content-font-color0, rgba(0, 0, 0, 1));\n",
       "  --font-color-secondary: var(--jp-content-font-color2, rgba(0, 0, 0, 0.6));\n",
       "  --font-color-accent: rgba(123, 31, 162, 1);\n",
       "  --border-color: var(--jp-border-color2, #e0e0e0);\n",
       "  --background-color: var(--jp-layout-color0, white);\n",
       "  --background-color-row-even: var(--jp-layout-color1, white);\n",
       "  --background-color-row-odd: var(--jp-layout-color2, #eeeeee);\n",
       "}\n",
       "\n",
       "html[theme=\"dark\"],\n",
       "body[data-theme=\"dark\"],\n",
       "body.vscode-dark {\n",
       "  --font-color-primary: rgba(255, 255, 255, 1);\n",
       "  --font-color-secondary: rgba(255, 255, 255, 0.6);\n",
       "  --font-color-accent: rgb(173, 132, 190);\n",
       "  --border-color: #2e2e2e;\n",
       "  --background-color: #111111;\n",
       "  --background-color-row-even: #111111;\n",
       "  --background-color-row-odd: #313131;\n",
       "}\n",
       "\n",
       ".ee {\n",
       "  padding: 1em;\n",
       "  line-height: 1.5em;\n",
       "  min-width: 300px;\n",
       "  max-width: 1200px;\n",
       "  overflow-y: scroll;\n",
       "  max-height: 600px;\n",
       "  border: 1px solid var(--border-color);\n",
       "  font-family: monospace;\n",
       "}\n",
       "\n",
       ".ee li {\n",
       "  list-style-type: none;\n",
       "}\n",
       "\n",
       ".ee ul {\n",
       "  padding-left: 1.5em !important;\n",
       "  margin: 0;\n",
       "}\n",
       "\n",
       ".ee > ul {\n",
       "  padding-left: 0 !important;\n",
       "}\n",
       "\n",
       ".ee-open,\n",
       ".ee-shut {\n",
       "  color: var(--font-color-secondary);\n",
       "  cursor: pointer;\n",
       "  margin: 0;\n",
       "}\n",
       "\n",
       ".ee-open:hover,\n",
       ".ee-shut:hover {\n",
       "  color: var(--font-color-primary);\n",
       "}\n",
       "\n",
       ".ee-k {\n",
       "  color: var(--font-color-accent);\n",
       "  margin-right: 6px;\n",
       "}\n",
       "\n",
       ".ee-v {\n",
       "  color: var(--font-color-primary);\n",
       "}\n",
       "\n",
       ".ee-toggle {\n",
       "  display: none;\n",
       "}\n",
       "\n",
       ".ee-shut + ul {\n",
       "  display: none;\n",
       "}\n",
       "\n",
       ".ee-open + ul {\n",
       "  display: block;\n",
       "}\n",
       "\n",
       ".ee-shut::before {\n",
       "  display: inline-block;\n",
       "  content: \"▼\";\n",
       "  margin-right: 6px;\n",
       "  transform: rotate(-90deg);\n",
       "  transition: transform 0.2s;\n",
       "}\n",
       "\n",
       ".ee-open::before {\n",
       "  transform: rotate(0deg);\n",
       "  display: inline-block;\n",
       "  content: \"▼\";\n",
       "  margin-right: 6px;\n",
       "  transition: transform 0.2s;\n",
       "}\n",
       "</style><div class='ee'><ul><li><span class='ee-v'>2</span></li></ul></div><script>function toggleHeader() {\n",
       "    const parent = this.parentElement;\n",
       "    parent.className = parent.className === \"ee-open\" ? \"ee-shut\" : \"ee-open\";\n",
       "}\n",
       "\n",
       "for (let c of document.getElementsByClassName(\"ee-toggle\")) {\n",
       "    c.onclick = toggleHeader;\n",
       "}</script></div>"
      ],
      "text/plain": [
       "<ee.ee_number.Number at 0x14bc43c80>"
      ]
     },
     "execution_count": 28,
     "metadata": {},
     "output_type": "execute_result"
    }
   ],
   "source": [
    "nlcd.size()"
   ]
  },
  {
   "cell_type": "markdown",
   "id": "f2d73511-20a0-46e5-892a-dc7565b9ae75",
   "metadata": {},
   "source": [
    "## Filtering images by time"
   ]
  },
  {
   "cell_type": "code",
   "execution_count": 19,
   "id": "a8d4ab86-eddf-417f-a2f1-809f0b17c965",
   "metadata": {},
   "outputs": [
    {
     "data": {
      "text/html": [
       "\n",
       "            <style>\n",
       "                .geemap-dark {\n",
       "                    --jp-widgets-color: white;\n",
       "                    --jp-widgets-label-color: white;\n",
       "                    --jp-ui-font-color1: white;\n",
       "                    --jp-layout-color2: #454545;\n",
       "                    background-color: #383838;\n",
       "                }\n",
       "\n",
       "                .geemap-dark .jupyter-button {\n",
       "                    --jp-layout-color3: #383838;\n",
       "                }\n",
       "\n",
       "                .geemap-colab {\n",
       "                    background-color: var(--colab-primary-surface-color, white);\n",
       "                }\n",
       "\n",
       "                .geemap-colab .jupyter-button {\n",
       "                    --jp-layout-color3: var(--colab-primary-surface-color, white);\n",
       "                }\n",
       "            </style>\n",
       "            "
      ],
      "text/plain": [
       "<IPython.core.display.HTML object>"
      ]
     },
     "metadata": {},
     "output_type": "display_data"
    }
   ],
   "source": [
    "#join = ee.Join.inner()\n",
    "all_join = ee.Join.saveAll(matchesKey='matched_img', measureKey='time_diff', outer=True)\n",
    "best_join = ee.Join.saveBest(matchKey='matched_img', measureKey='time_diff', outer=True)\n",
    "\n",
    "#timeFiltLandsatSentinel = ee.Filter.maxDifference(difference=518400e4, leftField='system:time_start', rightField='system:time_start')\n",
    "\n",
    "# Difference value is equal to 6 days (Sentinel-1 orbital period) in milliseconds\n",
    "timeFiltLandsatSentinel = ee.Filter.maxDifference(difference=5184e5, leftField='system:time_start', rightField='system:time_start')"
   ]
  },
  {
   "cell_type": "code",
   "execution_count": 18,
   "id": "73ba9699-2f1a-4904-ae0f-560f033228a1",
   "metadata": {},
   "outputs": [
    {
     "data": {
      "text/html": [
       "\n",
       "            <style>\n",
       "                .geemap-dark {\n",
       "                    --jp-widgets-color: white;\n",
       "                    --jp-widgets-label-color: white;\n",
       "                    --jp-ui-font-color1: white;\n",
       "                    --jp-layout-color2: #454545;\n",
       "                    background-color: #383838;\n",
       "                }\n",
       "\n",
       "                .geemap-dark .jupyter-button {\n",
       "                    --jp-layout-color3: #383838;\n",
       "                }\n",
       "\n",
       "                .geemap-colab {\n",
       "                    background-color: var(--colab-primary-surface-color, white);\n",
       "                }\n",
       "\n",
       "                .geemap-colab .jupyter-button {\n",
       "                    --jp-layout-color3: var(--colab-primary-surface-color, white);\n",
       "                }\n",
       "            </style>\n",
       "            "
      ],
      "text/plain": [
       "<IPython.core.display.HTML object>"
      ]
     },
     "metadata": {},
     "output_type": "display_data"
    }
   ],
   "source": [
    "# Preprocessing function\n",
    "def process_multiple_Landsat(image):\n",
    "    ######################################\n",
    "    # Combines Landsat images matched by time into one image\n",
    "    \n",
    "    match = ee.Image(image.get('matched_img'))\n",
    "    median_image = ee.ImageCollection([image, match]).median()\n",
    "\n",
    "    ######################################\n",
    "    # Timestamp portion\n",
    "    \n",
    "    # Function to get time from Landsat image\n",
    "    def get_Landsat_time(f):\n",
    "        Landsat_time = ee.Number(image.get('system:time_start'))       \n",
    "        return f.set('system:time_start', Landsat_time)\n",
    "\n",
    "    # Add timestamp back in\n",
    "    median_image = get_Landsat_time(median_image)\n",
    "    \n",
    "    return median_image"
   ]
  },
  {
   "cell_type": "code",
   "execution_count": 24,
   "id": "b764f955-08f0-430e-b2d7-1b260c78cf06",
   "metadata": {},
   "outputs": [
    {
     "data": {
      "text/html": [
       "\n",
       "            <style>\n",
       "                .geemap-dark {\n",
       "                    --jp-widgets-color: white;\n",
       "                    --jp-widgets-label-color: white;\n",
       "                    --jp-ui-font-color1: white;\n",
       "                    --jp-layout-color2: #454545;\n",
       "                    background-color: #383838;\n",
       "                }\n",
       "\n",
       "                .geemap-dark .jupyter-button {\n",
       "                    --jp-layout-color3: #383838;\n",
       "                }\n",
       "\n",
       "                .geemap-colab {\n",
       "                    background-color: var(--colab-primary-surface-color, white);\n",
       "                }\n",
       "\n",
       "                .geemap-colab .jupyter-button {\n",
       "                    --jp-layout-color3: var(--colab-primary-surface-color, white);\n",
       "                }\n",
       "            </style>\n",
       "            "
      ],
      "text/plain": [
       "<IPython.core.display.HTML object>"
      ]
     },
     "metadata": {},
     "output_type": "display_data"
    }
   ],
   "source": [
    "if points[1] != 0:\n",
    "    all_join = ee.Join.saveAll(matchesKey='matched_img', measureKey='time_diff', outer=False)\n",
    "    Landsat_near = ee.ImageCollection(best_join.apply(landsat_list1, landsat_list2, timeFiltLandsatSentinel))\n",
    "    landsat_US = Landsat_near.map(process_multiple_Landsat)"
   ]
  },
  {
   "cell_type": "code",
   "execution_count": 20,
   "id": "d89474ec-f1cd-4c85-9c44-ef3ea3e7a8cf",
   "metadata": {},
   "outputs": [
    {
     "data": {
      "text/html": [
       "\n",
       "            <style>\n",
       "                .geemap-dark {\n",
       "                    --jp-widgets-color: white;\n",
       "                    --jp-widgets-label-color: white;\n",
       "                    --jp-ui-font-color1: white;\n",
       "                    --jp-layout-color2: #454545;\n",
       "                    background-color: #383838;\n",
       "                }\n",
       "\n",
       "                .geemap-dark .jupyter-button {\n",
       "                    --jp-layout-color3: #383838;\n",
       "                }\n",
       "\n",
       "                .geemap-colab {\n",
       "                    background-color: var(--colab-primary-surface-color, white);\n",
       "                }\n",
       "\n",
       "                .geemap-colab .jupyter-button {\n",
       "                    --jp-layout-color3: var(--colab-primary-surface-color, white);\n",
       "                }\n",
       "            </style>\n",
       "            "
      ],
      "text/plain": [
       "<IPython.core.display.HTML object>"
      ]
     },
     "metadata": {},
     "output_type": "display_data"
    }
   ],
   "source": [
    "#col_near = ee.ImageCollection(best_join.apply(GOES, landsat_US, timeFiltLandsatGOES))\n",
    "LandsatSentinel_near = ee.ImageCollection(all_join.apply(landsat_US, sentinel, timeFiltLandsatSentinel))"
   ]
  },
  {
   "cell_type": "code",
   "execution_count": 23,
   "id": "a09a2e38-9798-486f-bdcf-0fa8122b390e",
   "metadata": {},
   "outputs": [
    {
     "data": {
      "text/html": [
       "\n",
       "            <style>\n",
       "                .geemap-dark {\n",
       "                    --jp-widgets-color: white;\n",
       "                    --jp-widgets-label-color: white;\n",
       "                    --jp-ui-font-color1: white;\n",
       "                    --jp-layout-color2: #454545;\n",
       "                    background-color: #383838;\n",
       "                }\n",
       "\n",
       "                .geemap-dark .jupyter-button {\n",
       "                    --jp-layout-color3: #383838;\n",
       "                }\n",
       "\n",
       "                .geemap-colab {\n",
       "                    background-color: var(--colab-primary-surface-color, white);\n",
       "                }\n",
       "\n",
       "                .geemap-colab .jupyter-button {\n",
       "                    --jp-layout-color3: var(--colab-primary-surface-color, white);\n",
       "                }\n",
       "            </style>\n",
       "            "
      ],
      "text/plain": [
       "<IPython.core.display.HTML object>"
      ]
     },
     "metadata": {},
     "output_type": "display_data"
    },
    {
     "data": {
      "text/plain": [
       "20"
      ]
     },
     "execution_count": 23,
     "metadata": {},
     "output_type": "execute_result"
    }
   ],
   "source": [
    "landsat_US.size().getInfo()"
   ]
  },
  {
   "cell_type": "code",
   "execution_count": 11,
   "id": "1f41eb09-6b23-4f5f-926c-63fd218573b8",
   "metadata": {},
   "outputs": [
    {
     "data": {
      "text/html": [
       "\n",
       "            <style>\n",
       "                .geemap-dark {\n",
       "                    --jp-widgets-color: white;\n",
       "                    --jp-widgets-label-color: white;\n",
       "                    --jp-ui-font-color1: white;\n",
       "                    --jp-layout-color2: #454545;\n",
       "                    background-color: #383838;\n",
       "                }\n",
       "\n",
       "                .geemap-dark .jupyter-button {\n",
       "                    --jp-layout-color3: #383838;\n",
       "                }\n",
       "\n",
       "                .geemap-colab {\n",
       "                    background-color: var(--colab-primary-surface-color, white);\n",
       "                }\n",
       "\n",
       "                .geemap-colab .jupyter-button {\n",
       "                    --jp-layout-color3: var(--colab-primary-surface-color, white);\n",
       "                }\n",
       "            </style>\n",
       "            "
      ],
      "text/plain": [
       "<IPython.core.display.HTML object>"
      ]
     },
     "metadata": {},
     "output_type": "display_data"
    },
    {
     "data": {
      "text/plain": [
       "696"
      ]
     },
     "execution_count": 11,
     "metadata": {},
     "output_type": "execute_result"
    }
   ],
   "source": [
    "GOES.size().getInfo()"
   ]
  },
  {
   "cell_type": "code",
   "execution_count": 16,
   "id": "f533bb3e-ac67-470b-b406-f21b1d43cf72",
   "metadata": {},
   "outputs": [
    {
     "data": {
      "text/html": [
       "\n",
       "            <style>\n",
       "                .geemap-dark {\n",
       "                    --jp-widgets-color: white;\n",
       "                    --jp-widgets-label-color: white;\n",
       "                    --jp-ui-font-color1: white;\n",
       "                    --jp-layout-color2: #454545;\n",
       "                    background-color: #383838;\n",
       "                }\n",
       "\n",
       "                .geemap-dark .jupyter-button {\n",
       "                    --jp-layout-color3: #383838;\n",
       "                }\n",
       "\n",
       "                .geemap-colab {\n",
       "                    background-color: var(--colab-primary-surface-color, white);\n",
       "                }\n",
       "\n",
       "                .geemap-colab .jupyter-button {\n",
       "                    --jp-layout-color3: var(--colab-primary-surface-color, white);\n",
       "                }\n",
       "            </style>\n",
       "            "
      ],
      "text/plain": [
       "<IPython.core.display.HTML object>"
      ]
     },
     "metadata": {},
     "output_type": "display_data"
    },
    {
     "ename": "NameError",
     "evalue": "name 'Landsat_near' is not defined",
     "output_type": "error",
     "traceback": [
      "\u001b[0;31m---------------------------------------------------------------------------\u001b[0m",
      "\u001b[0;31mNameError\u001b[0m                                 Traceback (most recent call last)",
      "Cell \u001b[0;32mIn[16], line 1\u001b[0m\n\u001b[0;32m----> 1\u001b[0m Landsat_near\u001b[38;5;241m.\u001b[39msize()\u001b[38;5;241m.\u001b[39mgetInfo()\n",
      "\u001b[0;31mNameError\u001b[0m: name 'Landsat_near' is not defined"
     ]
    }
   ],
   "source": [
    "Landsat_near.size().getInfo()"
   ]
  },
  {
   "cell_type": "code",
   "execution_count": 21,
   "id": "cc0e1b57-f80a-4a54-94ee-2bbc297f1591",
   "metadata": {},
   "outputs": [
    {
     "data": {
      "text/html": [
       "\n",
       "            <style>\n",
       "                .geemap-dark {\n",
       "                    --jp-widgets-color: white;\n",
       "                    --jp-widgets-label-color: white;\n",
       "                    --jp-ui-font-color1: white;\n",
       "                    --jp-layout-color2: #454545;\n",
       "                    background-color: #383838;\n",
       "                }\n",
       "\n",
       "                .geemap-dark .jupyter-button {\n",
       "                    --jp-layout-color3: #383838;\n",
       "                }\n",
       "\n",
       "                .geemap-colab {\n",
       "                    background-color: var(--colab-primary-surface-color, white);\n",
       "                }\n",
       "\n",
       "                .geemap-colab .jupyter-button {\n",
       "                    --jp-layout-color3: var(--colab-primary-surface-color, white);\n",
       "                }\n",
       "            </style>\n",
       "            "
      ],
      "text/plain": [
       "<IPython.core.display.HTML object>"
      ]
     },
     "metadata": {},
     "output_type": "display_data"
    },
    {
     "data": {
      "text/plain": [
       "20"
      ]
     },
     "execution_count": 21,
     "metadata": {},
     "output_type": "execute_result"
    }
   ],
   "source": [
    "LandsatSentinel_near.size().getInfo()"
   ]
  },
  {
   "cell_type": "code",
   "execution_count": 25,
   "id": "0e9b18f8-f7a3-4930-b2f7-2f5e1d1ea763",
   "metadata": {},
   "outputs": [
    {
     "data": {
      "text/html": [
       "\n",
       "            <style>\n",
       "                .geemap-dark {\n",
       "                    --jp-widgets-color: white;\n",
       "                    --jp-widgets-label-color: white;\n",
       "                    --jp-ui-font-color1: white;\n",
       "                    --jp-layout-color2: #454545;\n",
       "                    background-color: #383838;\n",
       "                }\n",
       "\n",
       "                .geemap-dark .jupyter-button {\n",
       "                    --jp-layout-color3: #383838;\n",
       "                }\n",
       "\n",
       "                .geemap-colab {\n",
       "                    background-color: var(--colab-primary-surface-color, white);\n",
       "                }\n",
       "\n",
       "                .geemap-colab .jupyter-button {\n",
       "                    --jp-layout-color3: var(--colab-primary-surface-color, white);\n",
       "                }\n",
       "            </style>\n",
       "            "
      ],
      "text/plain": [
       "<IPython.core.display.HTML object>"
      ]
     },
     "metadata": {},
     "output_type": "display_data"
    },
    {
     "data": {
      "text/html": [
       "<div><style>:root {\n",
       "  --font-color-primary: var(--jp-content-font-color0, rgba(0, 0, 0, 1));\n",
       "  --font-color-secondary: var(--jp-content-font-color2, rgba(0, 0, 0, 0.6));\n",
       "  --font-color-accent: rgba(123, 31, 162, 1);\n",
       "  --border-color: var(--jp-border-color2, #e0e0e0);\n",
       "  --background-color: var(--jp-layout-color0, white);\n",
       "  --background-color-row-even: var(--jp-layout-color1, white);\n",
       "  --background-color-row-odd: var(--jp-layout-color2, #eeeeee);\n",
       "}\n",
       "\n",
       "html[theme=\"dark\"],\n",
       "body[data-theme=\"dark\"],\n",
       "body.vscode-dark {\n",
       "  --font-color-primary: rgba(255, 255, 255, 1);\n",
       "  --font-color-secondary: rgba(255, 255, 255, 0.6);\n",
       "  --font-color-accent: rgb(173, 132, 190);\n",
       "  --border-color: #2e2e2e;\n",
       "  --background-color: #111111;\n",
       "  --background-color-row-even: #111111;\n",
       "  --background-color-row-odd: #313131;\n",
       "}\n",
       "\n",
       ".ee {\n",
       "  padding: 1em;\n",
       "  line-height: 1.5em;\n",
       "  min-width: 300px;\n",
       "  max-width: 1200px;\n",
       "  overflow-y: scroll;\n",
       "  max-height: 600px;\n",
       "  border: 1px solid var(--border-color);\n",
       "  font-family: monospace;\n",
       "}\n",
       "\n",
       ".ee li {\n",
       "  list-style-type: none;\n",
       "}\n",
       "\n",
       ".ee ul {\n",
       "  padding-left: 1.5em !important;\n",
       "  margin: 0;\n",
       "}\n",
       "\n",
       ".ee > ul {\n",
       "  padding-left: 0 !important;\n",
       "}\n",
       "\n",
       ".ee-open,\n",
       ".ee-shut {\n",
       "  color: var(--font-color-secondary);\n",
       "  cursor: pointer;\n",
       "  margin: 0;\n",
       "}\n",
       "\n",
       ".ee-open:hover,\n",
       ".ee-shut:hover {\n",
       "  color: var(--font-color-primary);\n",
       "}\n",
       "\n",
       ".ee-k {\n",
       "  color: var(--font-color-accent);\n",
       "  margin-right: 6px;\n",
       "}\n",
       "\n",
       ".ee-v {\n",
       "  color: var(--font-color-primary);\n",
       "}\n",
       "\n",
       ".ee-toggle {\n",
       "  display: none;\n",
       "}\n",
       "\n",
       ".ee-shut + ul {\n",
       "  display: none;\n",
       "}\n",
       "\n",
       ".ee-open + ul {\n",
       "  display: block;\n",
       "}\n",
       "\n",
       ".ee-shut::before {\n",
       "  display: inline-block;\n",
       "  content: \"▼\";\n",
       "  margin-right: 6px;\n",
       "  transform: rotate(-90deg);\n",
       "  transition: transform 0.2s;\n",
       "}\n",
       "\n",
       ".ee-open::before {\n",
       "  transform: rotate(0deg);\n",
       "  display: inline-block;\n",
       "  content: \"▼\";\n",
       "  margin-right: 6px;\n",
       "  transition: transform 0.2s;\n",
       "}\n",
       "</style><div class='ee'><ul><li><label class='ee-shut'>Image COPERNICUS/S1_GRD/S1A_IW_GRDH_1SDV_20230115T230704_20230115T230729_046801_059C7B_9AD9 (3 bands)<input type='checkbox' class='ee-toggle'></label><ul><li><span class='ee-k'>type:</span><span class='ee-v'>Image</span></li><li><span class='ee-k'>id:</span><span class='ee-v'>COPERNICUS/S1_GRD/S1A_IW_GRDH_1SDV_20230115T230704_20230115T230729_046801_059C7B_9AD9</span></li><li><span class='ee-k'>version:</span><span class='ee-v'>1738360916319771</span></li><li><label class='ee-shut'>bands: List (3 elements)<input type='checkbox' class='ee-toggle'></label><ul><li><label class='ee-shut'>0: \"VV\", double, EPSG:32618, 28998x21857 px<input type='checkbox' class='ee-toggle'></label><ul><li><span class='ee-k'>id:</span><span class='ee-v'>VV</span></li><li><span class='ee-k'>crs:</span><span class='ee-v'>EPSG:32618</span></li><li><label class='ee-shut'>crs_transform: List (6 elements)<input type='checkbox' class='ee-toggle'></label><ul><li><span class='ee-k'>0:</span><span class='ee-v'>10</span></li><li><span class='ee-k'>1:</span><span class='ee-v'>0</span></li><li><span class='ee-k'>2:</span><span class='ee-v'>156971.24364067893</span></li><li><span class='ee-k'>3:</span><span class='ee-v'>0</span></li><li><span class='ee-k'>4:</span><span class='ee-v'>-10</span></li><li><span class='ee-k'>5:</span><span class='ee-v'>4337738.417038545</span></li></ul></li><li><label class='ee-shut'>data_type: double<input type='checkbox' class='ee-toggle'></label><ul><li><span class='ee-k'>type:</span><span class='ee-v'>PixelType</span></li><li><span class='ee-k'>precision:</span><span class='ee-v'>double</span></li></ul></li><li><label class='ee-shut'>dimensions: [28998, 21857]<input type='checkbox' class='ee-toggle'></label><ul><li><span class='ee-k'>0:</span><span class='ee-v'>28998</span></li><li><span class='ee-k'>1:</span><span class='ee-v'>21857</span></li></ul></li></ul></li><li><label class='ee-shut'>1: \"VH\", double, EPSG:32618, 28998x21857 px<input type='checkbox' class='ee-toggle'></label><ul><li><span class='ee-k'>id:</span><span class='ee-v'>VH</span></li><li><span class='ee-k'>crs:</span><span class='ee-v'>EPSG:32618</span></li><li><label class='ee-shut'>crs_transform: List (6 elements)<input type='checkbox' class='ee-toggle'></label><ul><li><span class='ee-k'>0:</span><span class='ee-v'>10</span></li><li><span class='ee-k'>1:</span><span class='ee-v'>0</span></li><li><span class='ee-k'>2:</span><span class='ee-v'>156971.24364067893</span></li><li><span class='ee-k'>3:</span><span class='ee-v'>0</span></li><li><span class='ee-k'>4:</span><span class='ee-v'>-10</span></li><li><span class='ee-k'>5:</span><span class='ee-v'>4337738.417038545</span></li></ul></li><li><label class='ee-shut'>data_type: double<input type='checkbox' class='ee-toggle'></label><ul><li><span class='ee-k'>type:</span><span class='ee-v'>PixelType</span></li><li><span class='ee-k'>precision:</span><span class='ee-v'>double</span></li></ul></li><li><label class='ee-shut'>dimensions: [28998, 21857]<input type='checkbox' class='ee-toggle'></label><ul><li><span class='ee-k'>0:</span><span class='ee-v'>28998</span></li><li><span class='ee-k'>1:</span><span class='ee-v'>21857</span></li></ul></li></ul></li><li><label class='ee-shut'>2: \"angle\", float, EPSG:32618, 21x10 px<input type='checkbox' class='ee-toggle'></label><ul><li><span class='ee-k'>id:</span><span class='ee-v'>angle</span></li><li><span class='ee-k'>crs:</span><span class='ee-v'>EPSG:32618</span></li><li><label class='ee-shut'>crs_transform: List (6 elements)<input type='checkbox' class='ee-toggle'></label><ul><li><span class='ee-k'>0:</span><span class='ee-v'>12837.73750774737</span></li><li><span class='ee-k'>1:</span><span class='ee-v'>-3143.0257198005565</span></li><li><span class='ee-k'>2:</span><span class='ee-v'>189206.77554671047</span></li><li><span class='ee-k'>3:</span><span class='ee-v'>1974.425318656955</span></li><li><span class='ee-k'>4:</span><span class='ee-v'>20172.63981314795</span></li><li><span class='ee-k'>5:</span><span class='ee-v'>4124727.3890831238</span></li></ul></li><li><label class='ee-shut'>data_type: float<input type='checkbox' class='ee-toggle'></label><ul><li><span class='ee-k'>type:</span><span class='ee-v'>PixelType</span></li><li><span class='ee-k'>precision:</span><span class='ee-v'>float</span></li></ul></li><li><label class='ee-shut'>dimensions: [21, 10]<input type='checkbox' class='ee-toggle'></label><ul><li><span class='ee-k'>0:</span><span class='ee-v'>21</span></li><li><span class='ee-k'>1:</span><span class='ee-v'>10</span></li></ul></li></ul></li></ul></li><li><label class='ee-shut'>properties: Object (56 properties)<input type='checkbox' class='ee-toggle'></label><ul><li><span class='ee-k'>GRD_Post_Processing_facility_country:</span><span class='ee-v'>Italy</span></li><li><span class='ee-k'>GRD_Post_Processing_facility_name:</span><span class='ee-v'>Copernicus Ground Segment</span></li><li><span class='ee-k'>GRD_Post_Processing_facility_org:</span><span class='ee-v'>ESA</span></li><li><span class='ee-k'>GRD_Post_Processing_facility_site:</span><span class='ee-v'>Production Service-SERCO</span></li><li><span class='ee-k'>GRD_Post_Processing_software_name:</span><span class='ee-v'>Sentinel-1 IPF</span></li><li><span class='ee-k'>GRD_Post_Processing_software_version:</span><span class='ee-v'>003.52</span></li><li><span class='ee-k'>GRD_Post_Processing_start:</span><span class='ee-v'>1673858401295</span></li><li><span class='ee-k'>GRD_Post_Processing_stop:</span><span class='ee-v'>1673859043000</span></li><li><span class='ee-k'>S1TBX_Calibration_vers:</span><span class='ee-v'>8.0.3</span></li><li><span class='ee-k'>S1TBX_SAR_Processing_vers:</span><span class='ee-v'>8.0.3</span></li><li><span class='ee-k'>SLC_Processing_facility_country:</span><span class='ee-v'>Italy</span></li><li><span class='ee-k'>SLC_Processing_facility_name:</span><span class='ee-v'>Copernicus Ground Segment</span></li><li><span class='ee-k'>SLC_Processing_facility_org:</span><span class='ee-v'>ESA</span></li><li><span class='ee-k'>SLC_Processing_facility_site:</span><span class='ee-v'>Production Service-SERCO</span></li><li><span class='ee-k'>SLC_Processing_software_name:</span><span class='ee-v'>Sentinel-1 IPF</span></li><li><span class='ee-k'>SLC_Processing_software_version:</span><span class='ee-v'>003.52</span></li><li><span class='ee-k'>SLC_Processing_start:</span><span class='ee-v'>1673858601000</span></li><li><span class='ee-k'>SLC_Processing_stop:</span><span class='ee-v'>1673858937000</span></li><li><span class='ee-k'>SNAP_Graph_Processing_Framework_GPF_vers:</span><span class='ee-v'>8.0.3</span></li><li><span class='ee-k'>cycleNumber:</span><span class='ee-v'>282</span></li><li><span class='ee-k'>familyName:</span><span class='ee-v'>SENTINEL-1</span></li><li><span class='ee-k'>instrument:</span><span class='ee-v'>Synthetic Aperture Radar</span></li><li><span class='ee-k'>instrumentConfigurationID:</span><span class='ee-v'>7</span></li><li><span class='ee-k'>instrumentMode:</span><span class='ee-v'>IW</span></li><li><span class='ee-k'>instrumentSwath:</span><span class='ee-v'>IW</span></li><li><span class='ee-k'>missionDataTakeID:</span><span class='ee-v'>367739</span></li><li><span class='ee-k'>nssdcIdentifier:</span><span class='ee-v'>2014-016A</span></li><li><span class='ee-k'>orbitNumber_start:</span><span class='ee-v'>46801</span></li><li><span class='ee-k'>orbitNumber_stop:</span><span class='ee-v'>46801</span></li><li><span class='ee-k'>orbitProperties_ascendingNodeTime:</span><span class='ee-v'>1673823419719</span></li><li><span class='ee-k'>orbitProperties_pass:</span><span class='ee-v'>ASCENDING</span></li><li><span class='ee-k'>phaseIdentifier:</span><span class='ee-v'>1</span></li><li><span class='ee-k'>platformHeading:</span><span class='ee-v'>-13.27281169785324</span></li><li><span class='ee-k'>platform_number:</span><span class='ee-v'>A</span></li><li><span class='ee-k'>productClass:</span><span class='ee-v'>S</span></li><li><span class='ee-k'>productClassDescription:</span><span class='ee-v'>SAR Standard L1 Product</span></li><li><span class='ee-k'>productComposition:</span><span class='ee-v'>Slice</span></li><li><span class='ee-k'>productTimelinessCategory:</span><span class='ee-v'>Fast-24h</span></li><li><span class='ee-k'>productType:</span><span class='ee-v'>GRD</span></li><li><span class='ee-k'>relativeOrbitNumber_start:</span><span class='ee-v'>4</span></li><li><span class='ee-k'>relativeOrbitNumber_stop:</span><span class='ee-v'>4</span></li><li><span class='ee-k'>resolution:</span><span class='ee-v'>H</span></li><li><span class='ee-k'>resolution_meters:</span><span class='ee-v'>10</span></li><li><span class='ee-k'>segmentStartTime:</span><span class='ee-v'>1673823545947</span></li><li><span class='ee-k'>sliceNumber:</span><span class='ee-v'>20</span></li><li><span class='ee-k'>sliceProductFlag:</span><span class='ee-v'>true</span></li><li><span class='ee-k'>startTimeANX:</span><span class='ee-v'>604929.4</span></li><li><span class='ee-k'>stopTimeANX:</span><span class='ee-v'>629928.2</span></li><li><span class='ee-k'>system:asset_size:</span><span class='ee-v'>4057063567</span></li><li><label class='ee-shut'>system:footprint: LinearRing (19 vertices)<input type='checkbox' class='ee-toggle'></label><ul><li><span class='ee-k'>type:</span><span class='ee-v'>LinearRing</span></li><li><label class='ee-shut'>coordinates: List (19 elements)<input type='checkbox' class='ee-toggle'></label><ul><li><label class='ee-shut'>0: [-75.96501070114616, 39.085277599964016]<input type='checkbox' class='ee-toggle'></label><ul><li><span class='ee-k'>0:</span><span class='ee-v'>-75.96501070114616</span></li><li><span class='ee-k'>1:</span><span class='ee-v'>39.085277599964016</span></li></ul></li><li><label class='ee-shut'>1: [-75.9720449445169, 39.118805974959486]<input type='checkbox' class='ee-toggle'></label><ul><li><span class='ee-k'>0:</span><span class='ee-v'>-75.9720449445169</span></li><li><span class='ee-k'>1:</span><span class='ee-v'>39.118805974959486</span></li></ul></li><li><label class='ee-shut'>2: [-76.5486824323793, 39.045692571021576]<input type='checkbox' class='ee-toggle'></label><ul><li><span class='ee-k'>0:</span><span class='ee-v'>-76.5486824323793</span></li><li><span class='ee-k'>1:</span><span class='ee-v'>39.045692571021576</span></li></ul></li><li><label class='ee-shut'>3: [-77.51896995629878, 38.91588739512288]<input type='checkbox' class='ee-toggle'></label><ul><li><span class='ee-k'>0:</span><span class='ee-v'>-77.51896995629878</span></li><li><span class='ee-k'>1:</span><span class='ee-v'>38.91588739512288</span></li></ul></li><li><label class='ee-shut'>4: [-78.82377102176092, 38.727831285269424]<input type='checkbox' class='ee-toggle'></label><ul><li><span class='ee-k'>0:</span><span class='ee-v'>-78.82377102176092</span></li><li><span class='ee-k'>1:</span><span class='ee-v'>38.727831285269424</span></li></ul></li><li><label class='ee-shut'>5: [-78.81895019559764, 38.70364423036451]<input type='checkbox' class='ee-toggle'></label><ul><li><span class='ee-k'>0:</span><span class='ee-v'>-78.81895019559764</span></li><li><span class='ee-k'>1:</span><span class='ee-v'>38.70364423036451</span></li></ul></li><li><label class='ee-shut'>6: [-78.80122274262672, 38.62288375537869]<input type='checkbox' class='ee-toggle'></label><ul><li><span class='ee-k'>0:</span><span class='ee-v'>-78.80122274262672</span></li><li><span class='ee-k'>1:</span><span class='ee-v'>38.62288375537869</span></li></ul></li><li><label class='ee-shut'>7: [-78.74307442353545, 38.37533524704338]<input type='checkbox' class='ee-toggle'></label><ul><li><span class='ee-k'>0:</span><span class='ee-v'>-78.74307442353545</span></li><li><span class='ee-k'>1:</span><span class='ee-v'>38.37533524704338</span></li></ul></li><li><label class='ee-shut'>8: [-78.68538920589245, 38.127730171742584]<input type='checkbox' class='ee-toggle'></label><ul><li><span class='ee-k'>0:</span><span class='ee-v'>-78.68538920589245</span></li><li><span class='ee-k'>1:</span><span class='ee-v'>38.127730171742584</span></li></ul></li><li><label class='ee-shut'>9: [-78.67363565553758, 38.07756213641999]<input type='checkbox' class='ee-toggle'></label><ul><li><span class='ee-k'>0:</span><span class='ee-v'>-78.67363565553758</span></li><li><span class='ee-k'>1:</span><span class='ee-v'>38.07756213641999</span></li></ul></li><li><label class='ee-shut'>10: [-78.66453985610008, 38.0392003517076]<input type='checkbox' class='ee-toggle'></label><ul><li><span class='ee-k'>0:</span><span class='ee-v'>-78.66453985610008</span></li><li><span class='ee-k'>1:</span><span class='ee-v'>38.0392003517076</span></li></ul></li><li><label class='ee-shut'>11: [-78.59640544713326, 37.75645272127062]<input type='checkbox' class='ee-toggle'></label><ul><li><span class='ee-k'>0:</span><span class='ee-v'>-78.59640544713326</span></li><li><span class='ee-k'>1:</span><span class='ee-v'>37.75645272127062</span></li></ul></li><li><label class='ee-shut'>12: [-78.49202992300867, 37.330394111526914]<input type='checkbox' class='ee-toggle'></label><ul><li><span class='ee-k'>0:</span><span class='ee-v'>-78.49202992300867</span></li><li><span class='ee-k'>1:</span><span class='ee-v'>37.330394111526914</span></li></ul></li><li><label class='ee-shut'>13: [-78.478098841132, 37.27359831075621]<input type='checkbox' class='ee-toggle'></label><ul><li><span class='ee-k'>0:</span><span class='ee-v'>-78.478098841132</span></li><li><span class='ee-k'>1:</span><span class='ee-v'>37.27359831075621</span></li></ul></li><li><label class='ee-shut'>14: [-78.4646889997052, 37.223026593697185]<input type='checkbox' class='ee-toggle'></label><ul><li><span class='ee-k'>0:</span><span class='ee-v'>-78.4646889997052</span></li><li><span class='ee-k'>1:</span><span class='ee-v'>37.223026593697185</span></li></ul></li><li><label class='ee-shut'>15: [-75.66583023282661, 37.61638565148372]<input type='checkbox' class='ee-toggle'></label><ul><li><span class='ee-k'>0:</span><span class='ee-v'>-75.66583023282661</span></li><li><span class='ee-k'>1:</span><span class='ee-v'>37.61638565148372</span></li></ul></li><li><label class='ee-shut'>16: [-75.67268247819392, 37.65102901562427]<input type='checkbox' class='ee-toggle'></label><ul><li><span class='ee-k'>0:</span><span class='ee-v'>-75.67268247819392</span></li><li><span class='ee-k'>1:</span><span class='ee-v'>37.65102901562427</span></li></ul></li><li><label class='ee-shut'>17: [-75.81622999420955, 38.36284483133824]<input type='checkbox' class='ee-toggle'></label><ul><li><span class='ee-k'>0:</span><span class='ee-v'>-75.81622999420955</span></li><li><span class='ee-k'>1:</span><span class='ee-v'>38.36284483133824</span></li></ul></li><li><label class='ee-shut'>18: [-75.96501070114616, 39.085277599964016]<input type='checkbox' class='ee-toggle'></label><ul><li><span class='ee-k'>0:</span><span class='ee-v'>-75.96501070114616</span></li><li><span class='ee-k'>1:</span><span class='ee-v'>39.085277599964016</span></li></ul></li></ul></li></ul></li><li><span class='ee-k'>system:index:</span><span class='ee-v'>S1A_IW_GRDH_1SDV_20230115T230704_20230115T230729_046801_059C7B_9AD9</span></li><li><span class='ee-k'>system:time_end:</span><span class='ee-v'>1673824024000</span></li><li><span class='ee-k'>system:time_start:</span><span class='ee-v'>1673824024000</span></li><li><span class='ee-k'>time_diff:</span><span class='ee-v'>372015021</span></li><li><span class='ee-k'>totalSlices:</span><span class='ee-v'>28</span></li><li><label class='ee-shut'>transmitterReceiverPolarisation: ['VV', 'VH']<input type='checkbox' class='ee-toggle'></label><ul><li><span class='ee-k'>0:</span><span class='ee-v'>VV</span></li><li><span class='ee-k'>1:</span><span class='ee-v'>VH</span></li></ul></li></ul></li></ul></li></ul></div><script>function toggleHeader() {\n",
       "    const parent = this.parentElement;\n",
       "    parent.className = parent.className === \"ee-open\" ? \"ee-shut\" : \"ee-open\";\n",
       "}\n",
       "\n",
       "for (let c of document.getElementsByClassName(\"ee-toggle\")) {\n",
       "    c.onclick = toggleHeader;\n",
       "}</script></div>"
      ],
      "text/plain": [
       "<ee.computedobject.ComputedObject at 0x15be267e0>"
      ]
     },
     "execution_count": 25,
     "metadata": {},
     "output_type": "execute_result"
    }
   ],
   "source": [
    "ee.List(LandsatSentinel_near.first().get('matched_img')).get(0)"
   ]
  },
  {
   "cell_type": "markdown",
   "id": "5909058d-64fd-4876-8bbe-b832359b8ab9",
   "metadata": {},
   "source": [
    "## Helper Functions"
   ]
  },
  {
   "cell_type": "code",
   "execution_count": 34,
   "id": "9f09742c-51d6-4034-ace3-2709a517e924",
   "metadata": {},
   "outputs": [
    {
     "data": {
      "text/html": [
       "\n",
       "            <style>\n",
       "                .geemap-dark {\n",
       "                    --jp-widgets-color: white;\n",
       "                    --jp-widgets-label-color: white;\n",
       "                    --jp-ui-font-color1: white;\n",
       "                    --jp-layout-color2: #454545;\n",
       "                    background-color: #383838;\n",
       "                }\n",
       "\n",
       "                .geemap-dark .jupyter-button {\n",
       "                    --jp-layout-color3: #383838;\n",
       "                }\n",
       "\n",
       "                .geemap-colab {\n",
       "                    background-color: var(--colab-primary-surface-color, white);\n",
       "                }\n",
       "\n",
       "                .geemap-colab .jupyter-button {\n",
       "                    --jp-layout-color3: var(--colab-primary-surface-color, white);\n",
       "                }\n",
       "            </style>\n",
       "            "
      ],
      "text/plain": [
       "<IPython.core.display.HTML object>"
      ]
     },
     "metadata": {},
     "output_type": "display_data"
    }
   ],
   "source": [
    "# Applies scale and offset factors for Landsat bands\n",
    "def scale_and_offset_Landsat(image):\n",
    "    reflect_weight = 0.0000275\n",
    "    reflect_bias = -0.2\n",
    "    reflect_image = image.select(['SR_B2', 'SR_B3', 'SR_B4', 'SR_B5', 'SR_B6', 'SR_B7']).multiply(reflect_weight).add(reflect_bias)\n",
    "\n",
    "    LST_weight = 0.00341802\n",
    "    LST_bias = 149\n",
    "    LST_image = image.select('ST_B10').multiply(LST_weight).add(LST_bias)\n",
    "\n",
    "    return reflect_image.addBands(srcImg=LST_image, names=['ST_B10'])"
   ]
  },
  {
   "cell_type": "code",
   "execution_count": 95,
   "id": "f8f46bf6-eee9-47c2-8fd4-ed036e408297",
   "metadata": {},
   "outputs": [
    {
     "data": {
      "text/html": [
       "\n",
       "            <style>\n",
       "                .geemap-dark {\n",
       "                    --jp-widgets-color: white;\n",
       "                    --jp-widgets-label-color: white;\n",
       "                    --jp-ui-font-color1: white;\n",
       "                    --jp-layout-color2: #454545;\n",
       "                    background-color: #383838;\n",
       "                }\n",
       "\n",
       "                .geemap-dark .jupyter-button {\n",
       "                    --jp-layout-color3: #383838;\n",
       "                }\n",
       "\n",
       "                .geemap-colab {\n",
       "                    background-color: var(--colab-primary-surface-color, white);\n",
       "                }\n",
       "\n",
       "                .geemap-colab .jupyter-button {\n",
       "                    --jp-layout-color3: var(--colab-primary-surface-color, white);\n",
       "                }\n",
       "            </style>\n",
       "            "
      ],
      "text/plain": [
       "<IPython.core.display.HTML object>"
      ]
     },
     "metadata": {},
     "output_type": "display_data"
    }
   ],
   "source": [
    "# Applies scale and offset factors for GOES imagery\n",
    "# All scale and offset values were taken straight from GEE to save compute\n",
    "def scale_and_offset_GOES(image):\n",
    "    #reflectances = image.select(['CMI_C01', 'CMI_C02', 'CMI_C03', 'CMI_C05', 'CMI_C06']).multiply(0.0002442)\n",
    "    weight = 0.039316241\n",
    "    bias = 173.14999\n",
    "    brightness_temps = image.select(['CMI_C13', 'CMI_C14', 'CMI_C15', 'CMI_C16']).multiply(weight).add(bias)\n",
    "    \n",
    "    #return reflectances.addBands(srcImg=brightness_temps, names=['CMI_C14', 'CMI_C15'])\n",
    "    return brightness_temps"
   ]
  },
  {
   "cell_type": "code",
   "execution_count": 92,
   "id": "e29fded5-1b3f-486d-a5ad-99b26c2ccb87",
   "metadata": {},
   "outputs": [
    {
     "data": {
      "text/html": [
       "\n",
       "            <style>\n",
       "                .geemap-dark {\n",
       "                    --jp-widgets-color: white;\n",
       "                    --jp-widgets-label-color: white;\n",
       "                    --jp-ui-font-color1: white;\n",
       "                    --jp-layout-color2: #454545;\n",
       "                    background-color: #383838;\n",
       "                }\n",
       "\n",
       "                .geemap-dark .jupyter-button {\n",
       "                    --jp-layout-color3: #383838;\n",
       "                }\n",
       "\n",
       "                .geemap-colab {\n",
       "                    background-color: var(--colab-primary-surface-color, white);\n",
       "                }\n",
       "\n",
       "                .geemap-colab .jupyter-button {\n",
       "                    --jp-layout-color3: var(--colab-primary-surface-color, white);\n",
       "                }\n",
       "            </style>\n",
       "            "
      ],
      "text/plain": [
       "<IPython.core.display.HTML object>"
      ]
     },
     "metadata": {},
     "output_type": "display_data"
    }
   ],
   "source": [
    "# Preprocessing function\n",
    "def process_GOES(image):\n",
    "    ######################################\n",
    "    # GOES portion\n",
    "\n",
    "    # Scaling and offset\n",
    "    #image2 = ee.Image(feature.get('matched_img'))\n",
    "    GOES_image = scale_and_offset_GOES(image)\n",
    "\n",
    "    ######################################\n",
    "    # Timestamp portion\n",
    "    \n",
    "    # Function to get time from GOES image\\    \n",
    "    def get_GOES_time(f):\n",
    "        GOES_time = ee.Number(image.get('system:time_start'))       \n",
    "        return f.set('timestamp', GOES_time)\n",
    "\n",
    "    # Add timestamp back in\n",
    "    #landsat_image = get_GOES_time(landsat_image)\n",
    "    GOES_image = get_GOES_time(GOES_image)\n",
    "\n",
    "    ##########################################\n",
    "    \n",
    "    #image = landsat_image.addBands(srcImg=GOES_image, names=['CMI_C01', 'CMI_C02', 'CMI_C03', 'CMI_C05',\n",
    "    #                                                         'CMI_C06', 'CMI_C14', 'CMI_C15']).cast({'QA_PIXEL':'double'})\n",
    "    return GOES_image"
   ]
  },
  {
   "cell_type": "code",
   "execution_count": 93,
   "id": "0260cff2-aff6-44a1-b763-fbe91f3f0594",
   "metadata": {},
   "outputs": [
    {
     "data": {
      "text/html": [
       "\n",
       "            <style>\n",
       "                .geemap-dark {\n",
       "                    --jp-widgets-color: white;\n",
       "                    --jp-widgets-label-color: white;\n",
       "                    --jp-ui-font-color1: white;\n",
       "                    --jp-layout-color2: #454545;\n",
       "                    background-color: #383838;\n",
       "                }\n",
       "\n",
       "                .geemap-dark .jupyter-button {\n",
       "                    --jp-layout-color3: #383838;\n",
       "                }\n",
       "\n",
       "                .geemap-colab {\n",
       "                    background-color: var(--colab-primary-surface-color, white);\n",
       "                }\n",
       "\n",
       "                .geemap-colab .jupyter-button {\n",
       "                    --jp-layout-color3: var(--colab-primary-surface-color, white);\n",
       "                }\n",
       "            </style>\n",
       "            "
      ],
      "text/plain": [
       "<IPython.core.display.HTML object>"
      ]
     },
     "metadata": {},
     "output_type": "display_data"
    }
   ],
   "source": [
    "# Preprocessing function\n",
    "def process_Landsat_Sentinel(feature):\n",
    "    ######################################\n",
    "    # Sentinel portion\n",
    "\n",
    "    # Gather SAR image\n",
    "    if points[3] != 0:\n",
    "        sentinel_image = ee.Image(ee.ImageCollection(ee.List(feature.get('matched_img'))).median())\n",
    "    else:\n",
    "        sentinel_image = ee.Image(ee.List(feature.get('matched_img')).get(0))\n",
    "    \n",
    "    #####################################\n",
    "    # Landsat portion\n",
    "    \n",
    "    # Scaling and offset\n",
    "    feature = ee.Image(feature)\n",
    "    #image1 = ee.Image(feature.get('primary'))\n",
    "    landsat = scale_and_offset_Landsat(feature)\n",
    "    #landsat_image = scale_and_offset_Landsat(feature)\n",
    "    # Add cloud mask back in\n",
    "    landsat_image = landsat.addBands(srcImg=feature, names=['QA_PIXEL'])\n",
    "\n",
    "    ######################################\n",
    "    # Timestamp portion\n",
    "    \n",
    "    # Function to get time from Landsat image\n",
    "    def get_Landsat_time(f):\n",
    "        Landsat_time = ee.Number(feature.get('system:time_start'))       \n",
    "        return f.set('timestamp', Landsat_time)\n",
    "\n",
    "    # Add timestamp back in\n",
    "    landsat_image = get_Landsat_time(landsat_image)\n",
    "\n",
    "    ##########################################\n",
    "    \n",
    "    image = landsat_image.addBands(srcImg=sentinel_image).cast({'QA_PIXEL':'double', 'angle':'double'})\n",
    "    \n",
    "    return image"
   ]
  },
  {
   "cell_type": "markdown",
   "id": "9805a084-e66b-429b-9121-26d13ed4ad91",
   "metadata": {},
   "source": [
    "## Produce GOES geotiffs and their respective times"
   ]
  },
  {
   "cell_type": "code",
   "execution_count": 96,
   "id": "14635ff1-777b-430f-8157-1ea283aa7b2b",
   "metadata": {},
   "outputs": [
    {
     "data": {
      "text/html": [
       "\n",
       "            <style>\n",
       "                .geemap-dark {\n",
       "                    --jp-widgets-color: white;\n",
       "                    --jp-widgets-label-color: white;\n",
       "                    --jp-ui-font-color1: white;\n",
       "                    --jp-layout-color2: #454545;\n",
       "                    background-color: #383838;\n",
       "                }\n",
       "\n",
       "                .geemap-dark .jupyter-button {\n",
       "                    --jp-layout-color3: #383838;\n",
       "                }\n",
       "\n",
       "                .geemap-colab {\n",
       "                    background-color: var(--colab-primary-surface-color, white);\n",
       "                }\n",
       "\n",
       "                .geemap-colab .jupyter-button {\n",
       "                    --jp-layout-color3: var(--colab-primary-surface-color, white);\n",
       "                }\n",
       "            </style>\n",
       "            "
      ],
      "text/plain": [
       "<IPython.core.display.HTML object>"
      ]
     },
     "metadata": {},
     "output_type": "display_data"
    }
   ],
   "source": [
    "processed = GOES.map(process_GOES)"
   ]
  },
  {
   "cell_type": "code",
   "execution_count": 97,
   "id": "5b4d6ef0-8c53-4758-bda6-d9839106c05a",
   "metadata": {},
   "outputs": [
    {
     "data": {
      "text/html": [
       "\n",
       "            <style>\n",
       "                .geemap-dark {\n",
       "                    --jp-widgets-color: white;\n",
       "                    --jp-widgets-label-color: white;\n",
       "                    --jp-ui-font-color1: white;\n",
       "                    --jp-layout-color2: #454545;\n",
       "                    background-color: #383838;\n",
       "                }\n",
       "\n",
       "                .geemap-dark .jupyter-button {\n",
       "                    --jp-layout-color3: #383838;\n",
       "                }\n",
       "\n",
       "                .geemap-colab {\n",
       "                    background-color: var(--colab-primary-surface-color, white);\n",
       "                }\n",
       "\n",
       "                .geemap-colab .jupyter-button {\n",
       "                    --jp-layout-color3: var(--colab-primary-surface-color, white);\n",
       "                }\n",
       "            </style>\n",
       "            "
      ],
      "text/plain": [
       "<IPython.core.display.HTML object>"
      ]
     },
     "metadata": {},
     "output_type": "display_data"
    }
   ],
   "source": [
    "first = processed.first()"
   ]
  },
  {
   "cell_type": "code",
   "execution_count": 99,
   "id": "da51c1c1-5734-435e-9818-402813d827a3",
   "metadata": {},
   "outputs": [
    {
     "data": {
      "text/html": [
       "\n",
       "            <style>\n",
       "                .geemap-dark {\n",
       "                    --jp-widgets-color: white;\n",
       "                    --jp-widgets-label-color: white;\n",
       "                    --jp-ui-font-color1: white;\n",
       "                    --jp-layout-color2: #454545;\n",
       "                    background-color: #383838;\n",
       "                }\n",
       "\n",
       "                .geemap-dark .jupyter-button {\n",
       "                    --jp-layout-color3: #383838;\n",
       "                }\n",
       "\n",
       "                .geemap-colab {\n",
       "                    background-color: var(--colab-primary-surface-color, white);\n",
       "                }\n",
       "\n",
       "                .geemap-colab .jupyter-button {\n",
       "                    --jp-layout-color3: var(--colab-primary-surface-color, white);\n",
       "                }\n",
       "            </style>\n",
       "            "
      ],
      "text/plain": [
       "<IPython.core.display.HTML object>"
      ]
     },
     "metadata": {},
     "output_type": "display_data"
    },
    {
     "data": {
      "text/plain": [
       "{'type': 'Image',\n",
       " 'bands': [{'id': 'CMI_C13',\n",
       "   'data_type': {'type': 'PixelType',\n",
       "    'precision': 'double',\n",
       "    'min': -1115.1645950880002,\n",
       "    'max': 1461.425258847},\n",
       "   'dimensions': [5424, 5424],\n",
       "   'crs': 'PROJCS[\"unnamed\", \\n  GEOGCS[\"unknown\", \\n    DATUM[\"unknown\", \\n      SPHEROID[\"Spheroid\", 6378137.0, 298.2572221]], \\n    PRIMEM[\"Greenwich\", 0.0], \\n    UNIT[\"degree\", 0.017453292519943295], \\n    AXIS[\"Longitude\", EAST], \\n    AXIS[\"Latitude\", NORTH]], \\n  PROJECTION[\"GEOS\"], \\n  PARAMETER[\"central_meridian\", -75.0], \\n  PARAMETER[\"satellite_height\", 35786023.0], \\n  PARAMETER[\"false_easting\", 0.0], \\n  PARAMETER[\"false_northing\", 0.0], \\n  PARAMETER[\"sweep\", 0.0], \\n  PARAMETER[\"Option\", 0.0], \\n  UNIT[\"m\", 1.0], \\n  AXIS[\"x\", EAST], \\n  AXIS[\"y\", NORTH]]',\n",
       "   'crs_transform': [2004.017315487541,\n",
       "    0,\n",
       "    -5434894.700982174,\n",
       "    0,\n",
       "    2004.017315487541,\n",
       "    -5434895.218222249]},\n",
       "  {'id': 'CMI_C14',\n",
       "   'data_type': {'type': 'PixelType',\n",
       "    'precision': 'double',\n",
       "    'min': -1115.1645950880002,\n",
       "    'max': 1461.425258847},\n",
       "   'dimensions': [5424, 5424],\n",
       "   'crs': 'PROJCS[\"unnamed\", \\n  GEOGCS[\"unknown\", \\n    DATUM[\"unknown\", \\n      SPHEROID[\"Spheroid\", 6378137.0, 298.2572221]], \\n    PRIMEM[\"Greenwich\", 0.0], \\n    UNIT[\"degree\", 0.017453292519943295], \\n    AXIS[\"Longitude\", EAST], \\n    AXIS[\"Latitude\", NORTH]], \\n  PROJECTION[\"GEOS\"], \\n  PARAMETER[\"central_meridian\", -75.0], \\n  PARAMETER[\"satellite_height\", 35786023.0], \\n  PARAMETER[\"false_easting\", 0.0], \\n  PARAMETER[\"false_northing\", 0.0], \\n  PARAMETER[\"sweep\", 0.0], \\n  PARAMETER[\"Option\", 0.0], \\n  UNIT[\"m\", 1.0], \\n  AXIS[\"x\", EAST], \\n  AXIS[\"y\", NORTH]]',\n",
       "   'crs_transform': [2004.017315487541,\n",
       "    0,\n",
       "    -5434894.700982174,\n",
       "    0,\n",
       "    2004.017315487541,\n",
       "    -5434895.218222249]},\n",
       "  {'id': 'CMI_C15',\n",
       "   'data_type': {'type': 'PixelType',\n",
       "    'precision': 'double',\n",
       "    'min': -1115.1645950880002,\n",
       "    'max': 1461.425258847},\n",
       "   'dimensions': [5424, 5424],\n",
       "   'crs': 'PROJCS[\"unnamed\", \\n  GEOGCS[\"unknown\", \\n    DATUM[\"unknown\", \\n      SPHEROID[\"Spheroid\", 6378137.0, 298.2572221]], \\n    PRIMEM[\"Greenwich\", 0.0], \\n    UNIT[\"degree\", 0.017453292519943295], \\n    AXIS[\"Longitude\", EAST], \\n    AXIS[\"Latitude\", NORTH]], \\n  PROJECTION[\"GEOS\"], \\n  PARAMETER[\"central_meridian\", -75.0], \\n  PARAMETER[\"satellite_height\", 35786023.0], \\n  PARAMETER[\"false_easting\", 0.0], \\n  PARAMETER[\"false_northing\", 0.0], \\n  PARAMETER[\"sweep\", 0.0], \\n  PARAMETER[\"Option\", 0.0], \\n  UNIT[\"m\", 1.0], \\n  AXIS[\"x\", EAST], \\n  AXIS[\"y\", NORTH]]',\n",
       "   'crs_transform': [2004.017315487541,\n",
       "    0,\n",
       "    -5434894.700982174,\n",
       "    0,\n",
       "    2004.017315487541,\n",
       "    -5434895.218222249]},\n",
       "  {'id': 'CMI_C16',\n",
       "   'data_type': {'type': 'PixelType',\n",
       "    'precision': 'double',\n",
       "    'min': -1115.1645950880002,\n",
       "    'max': 1461.425258847},\n",
       "   'dimensions': [5424, 5424],\n",
       "   'crs': 'PROJCS[\"unnamed\", \\n  GEOGCS[\"unknown\", \\n    DATUM[\"unknown\", \\n      SPHEROID[\"Spheroid\", 6378137.0, 298.2572221]], \\n    PRIMEM[\"Greenwich\", 0.0], \\n    UNIT[\"degree\", 0.017453292519943295], \\n    AXIS[\"Longitude\", EAST], \\n    AXIS[\"Latitude\", NORTH]], \\n  PROJECTION[\"GEOS\"], \\n  PARAMETER[\"central_meridian\", -75.0], \\n  PARAMETER[\"satellite_height\", 35786023.0], \\n  PARAMETER[\"false_easting\", 0.0], \\n  PARAMETER[\"false_northing\", 0.0], \\n  PARAMETER[\"sweep\", 0.0], \\n  PARAMETER[\"Option\", 0.0], \\n  UNIT[\"m\", 1.0], \\n  AXIS[\"x\", EAST], \\n  AXIS[\"y\", NORTH]]',\n",
       "   'crs_transform': [2004.017315487541,\n",
       "    0,\n",
       "    -5434894.700982174,\n",
       "    0,\n",
       "    2004.017315487541,\n",
       "    -5434895.218222249]}],\n",
       " 'properties': {'timestamp': 1640995220500,\n",
       "  'system:index': '2022001000020500000'}}"
      ]
     },
     "execution_count": 99,
     "metadata": {},
     "output_type": "execute_result"
    }
   ],
   "source": [
    "first.getInfo()"
   ]
  },
  {
   "cell_type": "code",
   "execution_count": 26,
   "id": "9b59179f-2176-4c50-b386-5f066106f813",
   "metadata": {},
   "outputs": [
    {
     "data": {
      "text/html": [
       "\n",
       "            <style>\n",
       "                .geemap-dark {\n",
       "                    --jp-widgets-color: white;\n",
       "                    --jp-widgets-label-color: white;\n",
       "                    --jp-ui-font-color1: white;\n",
       "                    --jp-layout-color2: #454545;\n",
       "                    background-color: #383838;\n",
       "                }\n",
       "\n",
       "                .geemap-dark .jupyter-button {\n",
       "                    --jp-layout-color3: #383838;\n",
       "                }\n",
       "\n",
       "                .geemap-colab {\n",
       "                    background-color: var(--colab-primary-surface-color, white);\n",
       "                }\n",
       "\n",
       "                .geemap-colab .jupyter-button {\n",
       "                    --jp-layout-color3: var(--colab-primary-surface-color, white);\n",
       "                }\n",
       "            </style>\n",
       "            "
      ],
      "text/plain": [
       "<IPython.core.display.HTML object>"
      ]
     },
     "metadata": {},
     "output_type": "display_data"
    }
   ],
   "source": [
    "def times_to_features(num):\n",
    "    return ee.Feature(None, {'value': num})"
   ]
  },
  {
   "cell_type": "code",
   "execution_count": 46,
   "id": "d53e546f-7f4a-4cfd-802e-ec9a0c9e455b",
   "metadata": {},
   "outputs": [
    {
     "data": {
      "text/html": [
       "\n",
       "            <style>\n",
       "                .geemap-dark {\n",
       "                    --jp-widgets-color: white;\n",
       "                    --jp-widgets-label-color: white;\n",
       "                    --jp-ui-font-color1: white;\n",
       "                    --jp-layout-color2: #454545;\n",
       "                    background-color: #383838;\n",
       "                }\n",
       "\n",
       "                .geemap-dark .jupyter-button {\n",
       "                    --jp-layout-color3: #383838;\n",
       "                }\n",
       "\n",
       "                .geemap-colab {\n",
       "                    background-color: var(--colab-primary-surface-color, white);\n",
       "                }\n",
       "\n",
       "                .geemap-colab .jupyter-button {\n",
       "                    --jp-layout-color3: var(--colab-primary-surface-color, white);\n",
       "                }\n",
       "            </style>\n",
       "            "
      ],
      "text/plain": [
       "<IPython.core.display.HTML object>"
      ]
     },
     "metadata": {},
     "output_type": "display_data"
    }
   ],
   "source": [
    "times = processed.aggregate_array('timestamp')\n",
    "features = ee.FeatureCollection(times.map(times_to_features))"
   ]
  },
  {
   "cell_type": "code",
   "execution_count": 47,
   "id": "baa91e6e-e7ce-4249-b3e0-e2b5046e2b28",
   "metadata": {},
   "outputs": [
    {
     "data": {
      "text/html": [
       "\n",
       "            <style>\n",
       "                .geemap-dark {\n",
       "                    --jp-widgets-color: white;\n",
       "                    --jp-widgets-label-color: white;\n",
       "                    --jp-ui-font-color1: white;\n",
       "                    --jp-layout-color2: #454545;\n",
       "                    background-color: #383838;\n",
       "                }\n",
       "\n",
       "                .geemap-dark .jupyter-button {\n",
       "                    --jp-layout-color3: #383838;\n",
       "                }\n",
       "\n",
       "                .geemap-colab {\n",
       "                    background-color: var(--colab-primary-surface-color, white);\n",
       "                }\n",
       "\n",
       "                .geemap-colab .jupyter-button {\n",
       "                    --jp-layout-color3: var(--colab-primary-surface-color, white);\n",
       "                }\n",
       "            </style>\n",
       "            "
      ],
      "text/plain": [
       "<IPython.core.display.HTML object>"
      ]
     },
     "metadata": {},
     "output_type": "display_data"
    }
   ],
   "source": [
    "task = ee.batch.Export.table.toDrive(\n",
    "    collection=features,\n",
    "    description='GOES_times_DMV',\n",
    "    folder='GOES/GOES_DMV',\n",
    "    fileFormat='CSV',\n",
    ")\n",
    "task.start()"
   ]
  },
  {
   "cell_type": "markdown",
   "id": "20fcf32c-9555-4c44-860b-b48baae18efc",
   "metadata": {},
   "source": [
    "## Produce Landsat/Sentinel geotiffs and their respective times"
   ]
  },
  {
   "cell_type": "code",
   "execution_count": 37,
   "id": "02758c65-3458-4976-8a45-dfa7fe4fcd61",
   "metadata": {},
   "outputs": [
    {
     "data": {
      "text/html": [
       "\n",
       "            <style>\n",
       "                .geemap-dark {\n",
       "                    --jp-widgets-color: white;\n",
       "                    --jp-widgets-label-color: white;\n",
       "                    --jp-ui-font-color1: white;\n",
       "                    --jp-layout-color2: #454545;\n",
       "                    background-color: #383838;\n",
       "                }\n",
       "\n",
       "                .geemap-dark .jupyter-button {\n",
       "                    --jp-layout-color3: #383838;\n",
       "                }\n",
       "\n",
       "                .geemap-colab {\n",
       "                    background-color: var(--colab-primary-surface-color, white);\n",
       "                }\n",
       "\n",
       "                .geemap-colab .jupyter-button {\n",
       "                    --jp-layout-color3: var(--colab-primary-surface-color, white);\n",
       "                }\n",
       "            </style>\n",
       "            "
      ],
      "text/plain": [
       "<IPython.core.display.HTML object>"
      ]
     },
     "metadata": {},
     "output_type": "display_data"
    }
   ],
   "source": [
    "processed2 = LandsatSentinel_near.map(process_Landsat_Sentinel)"
   ]
  },
  {
   "cell_type": "code",
   "execution_count": 38,
   "id": "4e35b6e5-3abf-4142-9d19-6e7d69f5a8bf",
   "metadata": {},
   "outputs": [
    {
     "data": {
      "text/html": [
       "\n",
       "            <style>\n",
       "                .geemap-dark {\n",
       "                    --jp-widgets-color: white;\n",
       "                    --jp-widgets-label-color: white;\n",
       "                    --jp-ui-font-color1: white;\n",
       "                    --jp-layout-color2: #454545;\n",
       "                    background-color: #383838;\n",
       "                }\n",
       "\n",
       "                .geemap-dark .jupyter-button {\n",
       "                    --jp-layout-color3: #383838;\n",
       "                }\n",
       "\n",
       "                .geemap-colab {\n",
       "                    background-color: var(--colab-primary-surface-color, white);\n",
       "                }\n",
       "\n",
       "                .geemap-colab .jupyter-button {\n",
       "                    --jp-layout-color3: var(--colab-primary-surface-color, white);\n",
       "                }\n",
       "            </style>\n",
       "            "
      ],
      "text/plain": [
       "<IPython.core.display.HTML object>"
      ]
     },
     "metadata": {},
     "output_type": "display_data"
    }
   ],
   "source": [
    "first = ee.Image(processed2.first())"
   ]
  },
  {
   "cell_type": "code",
   "execution_count": 39,
   "id": "768c9b6d-f2c4-4d49-a5b0-6fe6370583ff",
   "metadata": {},
   "outputs": [
    {
     "data": {
      "text/html": [
       "\n",
       "            <style>\n",
       "                .geemap-dark {\n",
       "                    --jp-widgets-color: white;\n",
       "                    --jp-widgets-label-color: white;\n",
       "                    --jp-ui-font-color1: white;\n",
       "                    --jp-layout-color2: #454545;\n",
       "                    background-color: #383838;\n",
       "                }\n",
       "\n",
       "                .geemap-dark .jupyter-button {\n",
       "                    --jp-layout-color3: #383838;\n",
       "                }\n",
       "\n",
       "                .geemap-colab {\n",
       "                    background-color: var(--colab-primary-surface-color, white);\n",
       "                }\n",
       "\n",
       "                .geemap-colab .jupyter-button {\n",
       "                    --jp-layout-color3: var(--colab-primary-surface-color, white);\n",
       "                }\n",
       "            </style>\n",
       "            "
      ],
      "text/plain": [
       "<IPython.core.display.HTML object>"
      ]
     },
     "metadata": {},
     "output_type": "display_data"
    },
    {
     "data": {
      "text/plain": [
       "{'type': 'Image',\n",
       " 'bands': [{'id': 'SR_B2',\n",
       "   'data_type': {'type': 'PixelType',\n",
       "    'precision': 'double',\n",
       "    'min': -0.2,\n",
       "    'max': 1.6022125},\n",
       "   'dimensions': [7831, 7951],\n",
       "   'crs': 'EPSG:32618',\n",
       "   'crs_transform': [30, 0, 219285, 0, -30, 4426515]},\n",
       "  {'id': 'SR_B3',\n",
       "   'data_type': {'type': 'PixelType',\n",
       "    'precision': 'double',\n",
       "    'min': -0.2,\n",
       "    'max': 1.6022125},\n",
       "   'dimensions': [7831, 7951],\n",
       "   'crs': 'EPSG:32618',\n",
       "   'crs_transform': [30, 0, 219285, 0, -30, 4426515]},\n",
       "  {'id': 'SR_B4',\n",
       "   'data_type': {'type': 'PixelType',\n",
       "    'precision': 'double',\n",
       "    'min': -0.2,\n",
       "    'max': 1.6022125},\n",
       "   'dimensions': [7831, 7951],\n",
       "   'crs': 'EPSG:32618',\n",
       "   'crs_transform': [30, 0, 219285, 0, -30, 4426515]},\n",
       "  {'id': 'SR_B5',\n",
       "   'data_type': {'type': 'PixelType',\n",
       "    'precision': 'double',\n",
       "    'min': -0.2,\n",
       "    'max': 1.6022125},\n",
       "   'dimensions': [7831, 7951],\n",
       "   'crs': 'EPSG:32618',\n",
       "   'crs_transform': [30, 0, 219285, 0, -30, 4426515]},\n",
       "  {'id': 'SR_B6',\n",
       "   'data_type': {'type': 'PixelType',\n",
       "    'precision': 'double',\n",
       "    'min': -0.2,\n",
       "    'max': 1.6022125},\n",
       "   'dimensions': [7831, 7951],\n",
       "   'crs': 'EPSG:32618',\n",
       "   'crs_transform': [30, 0, 219285, 0, -30, 4426515]},\n",
       "  {'id': 'SR_B7',\n",
       "   'data_type': {'type': 'PixelType',\n",
       "    'precision': 'double',\n",
       "    'min': -0.2,\n",
       "    'max': 1.6022125},\n",
       "   'dimensions': [7831, 7951],\n",
       "   'crs': 'EPSG:32618',\n",
       "   'crs_transform': [30, 0, 219285, 0, -30, 4426515]},\n",
       "  {'id': 'ST_B10',\n",
       "   'data_type': {'type': 'PixelType',\n",
       "    'precision': 'double',\n",
       "    'min': 149,\n",
       "    'max': 372.9999407},\n",
       "   'dimensions': [7831, 7951],\n",
       "   'crs': 'EPSG:32618',\n",
       "   'crs_transform': [30, 0, 219285, 0, -30, 4426515]},\n",
       "  {'id': 'QA_PIXEL',\n",
       "   'data_type': {'type': 'PixelType', 'precision': 'double'},\n",
       "   'dimensions': [7831, 7951],\n",
       "   'crs': 'EPSG:32618',\n",
       "   'crs_transform': [30, 0, 219285, 0, -30, 4426515]},\n",
       "  {'id': 'VV',\n",
       "   'data_type': {'type': 'PixelType', 'precision': 'double'},\n",
       "   'crs': 'EPSG:4326',\n",
       "   'crs_transform': [1, 0, 0, 0, 1, 0]},\n",
       "  {'id': 'VH',\n",
       "   'data_type': {'type': 'PixelType', 'precision': 'double'},\n",
       "   'crs': 'EPSG:4326',\n",
       "   'crs_transform': [1, 0, 0, 0, 1, 0]},\n",
       "  {'id': 'angle',\n",
       "   'data_type': {'type': 'PixelType', 'precision': 'double'},\n",
       "   'crs': 'EPSG:4326',\n",
       "   'crs_transform': [1, 0, 0, 0, 1, 0]}],\n",
       " 'properties': {'system:footprint': {'type': 'LinearRing',\n",
       "   'coordinates': [[-78.18240996080833, 38.24717147478535],\n",
       "    [-78.18577306850636, 38.235205388737434],\n",
       "    [-78.18182982192472, 38.23443142020755],\n",
       "    [-77.74160627652172, 38.15419873795009],\n",
       "    [-76.6499828629105, 37.94724892145827],\n",
       "    [-76.12040081959063, 37.84273260221259],\n",
       "    [-76.11253270846014, 37.867547747308265],\n",
       "    [-76.08047282078464, 37.968774346024155],\n",
       "    [-76.03918021471078, 38.09880319701486],\n",
       "    [-75.97952302821759, 38.285918370429734],\n",
       "    [-75.92244628872159, 38.464164753887836],\n",
       "    [-75.86311723072117, 38.64886987629827],\n",
       "    [-75.80204325732839, 38.83808833362217],\n",
       "    [-75.7326558597533, 39.05195448880419],\n",
       "    [-75.65443917278414, 39.291660896328445],\n",
       "    [-75.62124274425189, 39.39294311225362],\n",
       "    [-75.56635193333413, 39.559844735455194],\n",
       "    [-75.60768460656035, 39.56796778561524],\n",
       "    [-76.07008134676835, 39.657614230065654],\n",
       "    [-77.68254938120641, 39.95400623873044],\n",
       "    [-77.93482518673815, 39.102048584806965],\n",
       "    [-78.18240996080833, 38.24717147478535]]},\n",
       "  'timestamp': 1673452008979,\n",
       "  'system:index': 'LC08_015033_20230111'}}"
      ]
     },
     "execution_count": 39,
     "metadata": {},
     "output_type": "execute_result"
    }
   ],
   "source": [
    "first.getInfo()"
   ]
  },
  {
   "cell_type": "code",
   "execution_count": 40,
   "id": "bceb1672-fb66-4ff0-bb3c-065aaea1cc87",
   "metadata": {},
   "outputs": [
    {
     "data": {
      "text/html": [
       "\n",
       "            <style>\n",
       "                .geemap-dark {\n",
       "                    --jp-widgets-color: white;\n",
       "                    --jp-widgets-label-color: white;\n",
       "                    --jp-ui-font-color1: white;\n",
       "                    --jp-layout-color2: #454545;\n",
       "                    background-color: #383838;\n",
       "                }\n",
       "\n",
       "                .geemap-dark .jupyter-button {\n",
       "                    --jp-layout-color3: #383838;\n",
       "                }\n",
       "\n",
       "                .geemap-colab {\n",
       "                    background-color: var(--colab-primary-surface-color, white);\n",
       "                }\n",
       "\n",
       "                .geemap-colab .jupyter-button {\n",
       "                    --jp-layout-color3: var(--colab-primary-surface-color, white);\n",
       "                }\n",
       "            </style>\n",
       "            "
      ],
      "text/plain": [
       "<IPython.core.display.HTML object>"
      ]
     },
     "metadata": {},
     "output_type": "display_data"
    }
   ],
   "source": [
    "times2 = processed2.aggregate_array('timestamp')\n",
    "features2 = ee.FeatureCollection(times2.map(times_to_features))"
   ]
  },
  {
   "cell_type": "code",
   "execution_count": 41,
   "id": "c5318457-c8c7-40af-ae30-98a547bca325",
   "metadata": {},
   "outputs": [
    {
     "data": {
      "text/html": [
       "\n",
       "            <style>\n",
       "                .geemap-dark {\n",
       "                    --jp-widgets-color: white;\n",
       "                    --jp-widgets-label-color: white;\n",
       "                    --jp-ui-font-color1: white;\n",
       "                    --jp-layout-color2: #454545;\n",
       "                    background-color: #383838;\n",
       "                }\n",
       "\n",
       "                .geemap-dark .jupyter-button {\n",
       "                    --jp-layout-color3: #383838;\n",
       "                }\n",
       "\n",
       "                .geemap-colab {\n",
       "                    background-color: var(--colab-primary-surface-color, white);\n",
       "                }\n",
       "\n",
       "                .geemap-colab .jupyter-button {\n",
       "                    --jp-layout-color3: var(--colab-primary-surface-color, white);\n",
       "                }\n",
       "            </style>\n",
       "            "
      ],
      "text/plain": [
       "<IPython.core.display.HTML object>"
      ]
     },
     "metadata": {},
     "output_type": "display_data"
    }
   ],
   "source": [
    "task = ee.batch.Export.table.toDrive(\n",
    "    collection=features2,\n",
    "    description='Landsat_times_DMV',\n",
    "    folder='Landsat_SAR_DMV',\n",
    "    fileFormat='CSV',\n",
    ")\n",
    "task.start()"
   ]
  },
  {
   "cell_type": "markdown",
   "id": "f2445ceb-19e9-464f-bebe-fc695eb7059c",
   "metadata": {},
   "source": [
    "## Export stuff"
   ]
  },
  {
   "cell_type": "code",
   "execution_count": 61,
   "id": "18977833-0a1a-4624-aea4-e76850046253",
   "metadata": {},
   "outputs": [
    {
     "data": {
      "text/html": [
       "\n",
       "            <style>\n",
       "                .geemap-dark {\n",
       "                    --jp-widgets-color: white;\n",
       "                    --jp-widgets-label-color: white;\n",
       "                    --jp-ui-font-color1: white;\n",
       "                    --jp-layout-color2: #454545;\n",
       "                    background-color: #383838;\n",
       "                }\n",
       "\n",
       "                .geemap-dark .jupyter-button {\n",
       "                    --jp-layout-color3: #383838;\n",
       "                }\n",
       "\n",
       "                .geemap-colab {\n",
       "                    background-color: var(--colab-primary-surface-color, white);\n",
       "                }\n",
       "\n",
       "                .geemap-colab .jupyter-button {\n",
       "                    --jp-layout-color3: var(--colab-primary-surface-color, white);\n",
       "                }\n",
       "            </style>\n",
       "            "
      ],
      "text/plain": [
       "<IPython.core.display.HTML object>"
      ]
     },
     "metadata": {},
     "output_type": "display_data"
    },
    {
     "data": {
      "text/plain": [
       "datetime.datetime(2022, 1, 1, 0, 5)"
      ]
     },
     "execution_count": 61,
     "metadata": {},
     "output_type": "execute_result"
    }
   ],
   "source": [
    "dt = datetime(year, month, day, hour, minute)\n",
    "dt"
   ]
  },
  {
   "cell_type": "code",
   "execution_count": 62,
   "id": "e2504676-dc1f-4a89-bc79-d8e39d81e54a",
   "metadata": {},
   "outputs": [
    {
     "data": {
      "text/html": [
       "\n",
       "            <style>\n",
       "                .geemap-dark {\n",
       "                    --jp-widgets-color: white;\n",
       "                    --jp-widgets-label-color: white;\n",
       "                    --jp-ui-font-color1: white;\n",
       "                    --jp-layout-color2: #454545;\n",
       "                    background-color: #383838;\n",
       "                }\n",
       "\n",
       "                .geemap-dark .jupyter-button {\n",
       "                    --jp-layout-color3: #383838;\n",
       "                }\n",
       "\n",
       "                .geemap-colab {\n",
       "                    background-color: var(--colab-primary-surface-color, white);\n",
       "                }\n",
       "\n",
       "                .geemap-colab .jupyter-button {\n",
       "                    --jp-layout-color3: var(--colab-primary-surface-color, white);\n",
       "                }\n",
       "            </style>\n",
       "            "
      ],
      "text/plain": [
       "<IPython.core.display.HTML object>"
      ]
     },
     "metadata": {},
     "output_type": "display_data"
    },
    {
     "data": {
      "text/plain": [
       "'202201010005'"
      ]
     },
     "execution_count": 62,
     "metadata": {},
     "output_type": "execute_result"
    }
   ],
   "source": [
    "dt.strftime('%Y%m%d%H%M')"
   ]
  },
  {
   "cell_type": "code",
   "execution_count": null,
   "id": "f07f2d73-af91-43cd-92a0-b9e8afdebbb3",
   "metadata": {},
   "outputs": [],
   "source": [
    "month = 1\n",
    "day = 1\n",
    "year = 2022\n",
    "hour = -1\n",
    "minute = 0\n",
    "for i in range(50):\n",
    "    if i % 12 == 0:\n",
    "        hour += 1\n",
    "        minute = 0\n",
    "    dt = datetime(year, month, day, hour, minute)\n",
    "    print(dt.strftime('%Y%m%d%H%M'))\n",
    "    minute += 5"
   ]
  },
  {
   "cell_type": "code",
   "execution_count": 40,
   "id": "ef28e4ca-f5ea-4317-aed7-0bc8d0ba1dc9",
   "metadata": {},
   "outputs": [
    {
     "data": {
      "text/html": [
       "\n",
       "            <style>\n",
       "                .geemap-dark {\n",
       "                    --jp-widgets-color: white;\n",
       "                    --jp-widgets-label-color: white;\n",
       "                    --jp-ui-font-color1: white;\n",
       "                    --jp-layout-color2: #454545;\n",
       "                    background-color: #383838;\n",
       "                }\n",
       "\n",
       "                .geemap-dark .jupyter-button {\n",
       "                    --jp-layout-color3: #383838;\n",
       "                }\n",
       "\n",
       "                .geemap-colab {\n",
       "                    background-color: var(--colab-primary-surface-color, white);\n",
       "                }\n",
       "\n",
       "                .geemap-colab .jupyter-button {\n",
       "                    --jp-layout-color3: var(--colab-primary-surface-color, white);\n",
       "                }\n",
       "            </style>\n",
       "            "
      ],
      "text/plain": [
       "<IPython.core.display.HTML object>"
      ]
     },
     "metadata": {},
     "output_type": "display_data"
    },
    {
     "name": "stdout",
     "output_type": "stream",
     "text": [
      "202201010000\n",
      "202201010005\n",
      "202201010010\n",
      "202201010015\n",
      "202201010020\n",
      "202201010025\n",
      "202201010030\n",
      "202201010035\n",
      "202201010040\n",
      "202201010045\n",
      "202201010050\n",
      "202201010055\n",
      "202201010100\n",
      "202201010105\n",
      "202201010110\n",
      "202201010115\n",
      "202201010120\n",
      "202201010125\n",
      "202201010130\n",
      "202201010135\n",
      "202201010140\n",
      "202201010145\n",
      "202201010150\n",
      "202201010155\n",
      "202201010200\n",
      "202201010205\n",
      "202201010210\n",
      "202201010215\n",
      "202201010220\n",
      "202201010225\n",
      "202201010230\n",
      "202201010235\n",
      "202201010240\n",
      "202201010245\n",
      "202201010250\n",
      "202201010255\n",
      "202201010300\n",
      "202201010305\n",
      "202201010310\n",
      "202201010315\n",
      "202201010320\n",
      "202201010325\n",
      "202201010330\n",
      "202201010335\n",
      "202201010340\n",
      "202201010345\n",
      "202201010350\n",
      "202201010355\n",
      "202201010400\n",
      "202201010405\n"
     ]
    }
   ],
   "source": [
    "month = 1\n",
    "day = 1\n",
    "year = 2022\n",
    "hour = -1\n",
    "minute = 0\n",
    "for i in range(50):\n",
    "    if i % 12 == 0:\n",
    "        hour += 1\n",
    "        minute = 0\n",
    "    dt = datetime(year, month, day, hour, minute)\n",
    "    print(dt.strftime('%Y%m%d%H%M'))\n",
    "    minute += 5"
   ]
  },
  {
   "cell_type": "code",
   "execution_count": 101,
   "id": "d663f113-ad2c-4d76-b541-a5878ee5a2a6",
   "metadata": {},
   "outputs": [
    {
     "data": {
      "text/html": [
       "\n",
       "            <style>\n",
       "                .geemap-dark {\n",
       "                    --jp-widgets-color: white;\n",
       "                    --jp-widgets-label-color: white;\n",
       "                    --jp-ui-font-color1: white;\n",
       "                    --jp-layout-color2: #454545;\n",
       "                    background-color: #383838;\n",
       "                }\n",
       "\n",
       "                .geemap-dark .jupyter-button {\n",
       "                    --jp-layout-color3: #383838;\n",
       "                }\n",
       "\n",
       "                .geemap-colab {\n",
       "                    background-color: var(--colab-primary-surface-color, white);\n",
       "                }\n",
       "\n",
       "                .geemap-colab .jupyter-button {\n",
       "                    --jp-layout-color3: var(--colab-primary-surface-color, white);\n",
       "                }\n",
       "            </style>\n",
       "            "
      ],
      "text/plain": [
       "<IPython.core.display.HTML object>"
      ]
     },
     "metadata": {},
     "output_type": "display_data"
    }
   ],
   "source": [
    "\"\"\"\n",
    "Export coordinates for each urban area\n",
    "KEY: [utm zone, utm x, utm y]\n",
    "\"\"\"\n",
    "export_coords = {\n",
    "    'DMV':[18, 292000, 4372200],\n",
    "    'NYC':[18, 562680, 4550000],\n",
    "    'Phoenix':[12, 350000, 3749000],\n",
    "    'Miami':[17, 503991, 2915332],\n",
    "    'Denver':[13, 466349, 4442816]\n",
    "}"
   ]
  },
  {
   "cell_type": "code",
   "execution_count": 102,
   "id": "bb520107-2c8d-4de3-afd6-ff06d0f97bfa",
   "metadata": {},
   "outputs": [
    {
     "data": {
      "text/html": [
       "\n",
       "            <style>\n",
       "                .geemap-dark {\n",
       "                    --jp-widgets-color: white;\n",
       "                    --jp-widgets-label-color: white;\n",
       "                    --jp-ui-font-color1: white;\n",
       "                    --jp-layout-color2: #454545;\n",
       "                    background-color: #383838;\n",
       "                }\n",
       "\n",
       "                .geemap-dark .jupyter-button {\n",
       "                    --jp-layout-color3: #383838;\n",
       "                }\n",
       "\n",
       "                .geemap-colab {\n",
       "                    background-color: var(--colab-primary-surface-color, white);\n",
       "                }\n",
       "\n",
       "                .geemap-colab .jupyter-button {\n",
       "                    --jp-layout-color3: var(--colab-primary-surface-color, white);\n",
       "                }\n",
       "            </style>\n",
       "            "
      ],
      "text/plain": [
       "<IPython.core.display.HTML object>"
      ]
     },
     "metadata": {},
     "output_type": "display_data"
    }
   ],
   "source": [
    "city_export = export_coords[city]"
   ]
  },
  {
   "cell_type": "code",
   "execution_count": 21,
   "id": "8e3a1b68-eee2-4cfc-9b92-a584a0e5fe93",
   "metadata": {},
   "outputs": [
    {
     "data": {
      "text/html": [
       "\n",
       "            <style>\n",
       "                .geemap-dark {\n",
       "                    --jp-widgets-color: white;\n",
       "                    --jp-widgets-label-color: white;\n",
       "                    --jp-ui-font-color1: white;\n",
       "                    --jp-layout-color2: #454545;\n",
       "                    background-color: #383838;\n",
       "                }\n",
       "\n",
       "                .geemap-dark .jupyter-button {\n",
       "                    --jp-layout-color3: #383838;\n",
       "                }\n",
       "\n",
       "                .geemap-colab {\n",
       "                    background-color: var(--colab-primary-surface-color, white);\n",
       "                }\n",
       "\n",
       "                .geemap-colab .jupyter-button {\n",
       "                    --jp-layout-color3: var(--colab-primary-surface-color, white);\n",
       "                }\n",
       "            </style>\n",
       "            "
      ],
      "text/plain": [
       "<IPython.core.display.HTML object>"
      ]
     },
     "metadata": {},
     "output_type": "display_data"
    }
   ],
   "source": [
    "# Export GOES images\n",
    "num = processed.size().getInfo()\n",
    "#num = 1\n",
    "img_list = processed.toList(num)\n",
    "\n",
    "for i in list(range(num)):\n",
    "    img = ee.Image(img_list.get(i))\n",
    "    \n",
    "    task = ee.batch.Export.image.toDrive(\n",
    "        img, description=f'GOES_image_{i}', fileFormat='GeoTIFF', folder='GOES_DMV_2km',\n",
    "                dimensions='45x45', crs=f'EPSG:326{city_export[0]}', crsTransform=[2000, 0, city_export[1], 0, -2000, city_export[2]])\n",
    "    task.start()"
   ]
  },
  {
   "cell_type": "code",
   "execution_count": 41,
   "id": "671f465f-cfe8-4f8d-97f8-b23cff270eac",
   "metadata": {},
   "outputs": [
    {
     "data": {
      "text/html": [
       "\n",
       "            <style>\n",
       "                .geemap-dark {\n",
       "                    --jp-widgets-color: white;\n",
       "                    --jp-widgets-label-color: white;\n",
       "                    --jp-ui-font-color1: white;\n",
       "                    --jp-layout-color2: #454545;\n",
       "                    background-color: #383838;\n",
       "                }\n",
       "\n",
       "                .geemap-dark .jupyter-button {\n",
       "                    --jp-layout-color3: #383838;\n",
       "                }\n",
       "\n",
       "                .geemap-colab {\n",
       "                    background-color: var(--colab-primary-surface-color, white);\n",
       "                }\n",
       "\n",
       "                .geemap-colab .jupyter-button {\n",
       "                    --jp-layout-color3: var(--colab-primary-surface-color, white);\n",
       "                }\n",
       "            </style>\n",
       "            "
      ],
      "text/plain": [
       "<IPython.core.display.HTML object>"
      ]
     },
     "metadata": {},
     "output_type": "display_data"
    }
   ],
   "source": [
    "# Export Landsat/Sentinel images\n",
    "#num = processed2.size().getInfo()\n",
    "num = 1\n",
    "img_list = processed2.toList(num)\n",
    "\n",
    "for i in list(range(num)):\n",
    "    img = ee.Image(img_list.get(i))\n",
    "    \n",
    "    task = ee.batch.Export.image.toDrive(\n",
    "        img, description=f'Landsat_Sentinel_image_{i}', fileFormat='GeoTIFF', folder='Landsat_SAR_DMV_new',\n",
    "                dimensions='3000x3000', crs=f'EPSG:326{city_export[0]}', crsTransform=[30, 0, city_export[1], 0, -30, city_export[2]])\n",
    "    task.start()"
   ]
  },
  {
   "cell_type": "code",
   "execution_count": 104,
   "id": "0c2148bb-5ed7-40f5-898f-87d64460f396",
   "metadata": {},
   "outputs": [
    {
     "data": {
      "text/html": [
       "\n",
       "            <style>\n",
       "                .geemap-dark {\n",
       "                    --jp-widgets-color: white;\n",
       "                    --jp-widgets-label-color: white;\n",
       "                    --jp-ui-font-color1: white;\n",
       "                    --jp-layout-color2: #454545;\n",
       "                    background-color: #383838;\n",
       "                }\n",
       "\n",
       "                .geemap-dark .jupyter-button {\n",
       "                    --jp-layout-color3: #383838;\n",
       "                }\n",
       "\n",
       "                .geemap-colab {\n",
       "                    background-color: var(--colab-primary-surface-color, white);\n",
       "                }\n",
       "\n",
       "                .geemap-colab .jupyter-button {\n",
       "                    --jp-layout-color3: var(--colab-primary-surface-color, white);\n",
       "                }\n",
       "            </style>\n",
       "            "
      ],
      "text/plain": [
       "<IPython.core.display.HTML object>"
      ]
     },
     "metadata": {},
     "output_type": "display_data"
    }
   ],
   "source": [
    "# Export GOES images for export to GEE asset for visualizing\n",
    "num = 1\n",
    "img_list = processed.toList(num)\n",
    "\n",
    "for i in list(range(num)):\n",
    "    img = ee.Image(img_list.get(i))\n",
    "    \n",
    "    task = ee.batch.Export.image.toAsset(\n",
    "        img, description=f'GOES_image_{i}', assetId=f'projects/ee-jonstar/assets/{city}_test',\n",
    "                dimensions='45x45', crs=f'EPSG:326{city_export[0]}', crsTransform=[2000, 0, city_export[1], 0, -2000, city_export[2]])\n",
    "    task.start()"
   ]
  },
  {
   "cell_type": "markdown",
   "id": "83f27e41-ecf0-4cec-8573-3e1008b88600",
   "metadata": {},
   "source": [
    "## Try from gee code"
   ]
  },
  {
   "cell_type": "code",
   "execution_count": 28,
   "id": "a728aedc-46e8-4d2a-a60a-c407b7ce8896",
   "metadata": {},
   "outputs": [
    {
     "data": {
      "text/html": [
       "\n",
       "            <style>\n",
       "                .geemap-dark {\n",
       "                    --jp-widgets-color: white;\n",
       "                    --jp-widgets-label-color: white;\n",
       "                    --jp-ui-font-color1: white;\n",
       "                    --jp-layout-color2: #454545;\n",
       "                    background-color: #383838;\n",
       "                }\n",
       "\n",
       "                .geemap-dark .jupyter-button {\n",
       "                    --jp-layout-color3: #383838;\n",
       "                }\n",
       "\n",
       "                .geemap-colab {\n",
       "                    background-color: var(--colab-primary-surface-color, white);\n",
       "                }\n",
       "\n",
       "                .geemap-colab .jupyter-button {\n",
       "                    --jp-layout-color3: var(--colab-primary-surface-color, white);\n",
       "                }\n",
       "            </style>\n",
       "            "
      ],
      "text/plain": [
       "<IPython.core.display.HTML object>"
      ]
     },
     "metadata": {},
     "output_type": "display_data"
    }
   ],
   "source": [
    "geo = sample.select('ST_B10').geometry()"
   ]
  },
  {
   "cell_type": "code",
   "execution_count": 29,
   "id": "ec90505a-a018-4280-9590-d69ba4594092",
   "metadata": {},
   "outputs": [
    {
     "data": {
      "text/html": [
       "\n",
       "            <style>\n",
       "                .geemap-dark {\n",
       "                    --jp-widgets-color: white;\n",
       "                    --jp-widgets-label-color: white;\n",
       "                    --jp-ui-font-color1: white;\n",
       "                    --jp-layout-color2: #454545;\n",
       "                    background-color: #383838;\n",
       "                }\n",
       "\n",
       "                .geemap-dark .jupyter-button {\n",
       "                    --jp-layout-color3: #383838;\n",
       "                }\n",
       "\n",
       "                .geemap-colab {\n",
       "                    background-color: var(--colab-primary-surface-color, white);\n",
       "                }\n",
       "\n",
       "                .geemap-colab .jupyter-button {\n",
       "                    --jp-layout-color3: var(--colab-primary-surface-color, white);\n",
       "                }\n",
       "            </style>\n",
       "            "
      ],
      "text/plain": [
       "<IPython.core.display.HTML object>"
      ]
     },
     "metadata": {},
     "output_type": "display_data"
    }
   ],
   "source": [
    "Map = geemap.Map(center=[u_lat, u_lon], zoom=4)\n",
    "Map.add_basemap(\"HYBRID\")\n",
    "\n",
    "Map.addLayer(sample.select('ST_B10'), {'min':250, 'max':325,\n",
    "    'palette':['#fef0d9', '#fdcc8a', '#fc8d59', '#e34a33', '#b30000']}, 'LST')\n",
    "Map.addLayer(sample.select('CMI_C14').clip(geo), {'min':96, 'max':342,\n",
    "    'palette':['#f7f7f7', '#cccccc', '#969696', '#636363', '#252525']}, 'GOES14')"
   ]
  },
  {
   "cell_type": "code",
   "execution_count": 30,
   "id": "d82f9113-2727-47cd-8611-b06de3858dc8",
   "metadata": {},
   "outputs": [
    {
     "data": {
      "text/html": [
       "\n",
       "            <style>\n",
       "                .geemap-dark {\n",
       "                    --jp-widgets-color: white;\n",
       "                    --jp-widgets-label-color: white;\n",
       "                    --jp-ui-font-color1: white;\n",
       "                    --jp-layout-color2: #454545;\n",
       "                    background-color: #383838;\n",
       "                }\n",
       "\n",
       "                .geemap-dark .jupyter-button {\n",
       "                    --jp-layout-color3: #383838;\n",
       "                }\n",
       "\n",
       "                .geemap-colab {\n",
       "                    background-color: var(--colab-primary-surface-color, white);\n",
       "                }\n",
       "\n",
       "                .geemap-colab .jupyter-button {\n",
       "                    --jp-layout-color3: var(--colab-primary-surface-color, white);\n",
       "                }\n",
       "            </style>\n",
       "            "
      ],
      "text/plain": [
       "<IPython.core.display.HTML object>"
      ]
     },
     "metadata": {},
     "output_type": "display_data"
    },
    {
     "data": {
      "application/vnd.jupyter.widget-view+json": {
       "model_id": "28f023e45c904301a2ffc5cf97a6be8d",
       "version_major": 2,
       "version_minor": 0
      },
      "text/plain": [
       "Map(center=[39.2904, -76.6122], controls=(WidgetControl(options=['position', 'transparent_bg'], widget=SearchD…"
      ]
     },
     "execution_count": 30,
     "metadata": {},
     "output_type": "execute_result"
    }
   ],
   "source": [
    "Map"
   ]
  },
  {
   "cell_type": "code",
   "execution_count": null,
   "id": "78465290-4444-4b79-b6b0-95aeaf2b0a9d",
   "metadata": {},
   "outputs": [],
   "source": []
  }
 ],
 "metadata": {
  "kernelspec": {
   "display_name": "Python 3 (ipykernel)",
   "language": "python",
   "name": "python3"
  },
  "language_info": {
   "codemirror_mode": {
    "name": "ipython",
    "version": 3
   },
   "file_extension": ".py",
   "mimetype": "text/x-python",
   "name": "python",
   "nbconvert_exporter": "python",
   "pygments_lexer": "ipython3",
   "version": "3.12.3"
  }
 },
 "nbformat": 4,
 "nbformat_minor": 5
}
